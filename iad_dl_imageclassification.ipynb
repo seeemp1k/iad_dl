{
 "cells": [
  {
   "cell_type": "markdown",
   "metadata": {
    "cell_id": 1,
    "id": "kr9vAeEQlRVG"
   },
   "source": [
    "# Домашнее задание 2. Классификация изображений."
   ]
  },
  {
   "cell_type": "markdown",
   "metadata": {
    "cell_id": 3,
    "id": "BxX49gLclRVJ"
   },
   "source": [
    "В этом задании потребуется обучить классификатор изображений. Будем работать с датасетом по классификации emoji из тг. Можете посмотреть самостоятельно на картинки, которые в есть датасете. В нём 100 классов и около 100 картинок на каждый класс. Классы пронумерованы, кодом смайлика к которому относятся элементы класса. Скачать датасет можно вот [тут](https://disk.yandex.ru/d/elNF0DS94o2GVA).\n",
    "\n",
    "\n",
    "\n",
    "Структура датасета -- есть директории train/ и val/, в которых лежат обучающие и валидационные данные. В train/ и val/ лежат директориии, соответствующие классам изображений, в которых лежат, собственно, сами изображения.\n",
    "\n",
    "\n",
    "\n",
    "__Задание__. Необходимо выполнить два задания\n",
    "\n",
    "\n",
    "\n",
    "1) Добейтесь accuracy **на валидации не менее 0.4**. В этом задании **запрещено** пользоваться предобученными моделями и ресайзом картинок. 5 баллов\n",
    "\n",
    "\n",
    "\n",
    "2) Добейтесь accuracy **на валидации не менее 0.8**. В этом задании делать ресайз и использовать претрейн можно. 5 баллов\n",
    "\n",
    "\n",
    "\n",
    "Напишите краткий отчёт о проделанных экспериментах. Что сработало и что не сработало? Почему вы решили, сделать так, а не иначе? Обязательно указывайте ссылки на чужой код, если вы его используете. Обязательно ссылайтесь на статьи / блогпосты / вопросы на stackoverflow / видосы от ютуберов-машинлернеров / курсы / подсказки от Дяди Васи и прочие дополнительные материалы, если вы их используете.\n",
    "\n",
    "\n",
    "\n",
    "Ваш код обязательно должен проходить все `assert`'ы ниже.\n",
    "\n",
    "\n",
    "\n",
    "__Использовать внешние данные для обучения строго запрещено в обоих заданиях. Также запрещено обучаться на валидационной выборке__.\n",
    "\n",
    "\n",
    "\n",
    "\n",
    "\n",
    "__Критерии оценки__: Оценка вычисляется по простой формуле: `min(10, 10 * Ваша accuracy / 0.4)` для первого задания и `min(10, 10 * (Ваша accuracy - 0.4) / 0.4)` для второго. Оценка округляется до десятых по арифметическим правилам.\n",
    "\n",
    "\n",
    "\n",
    "\n",
    "\n",
    "__Советы и указания__:\n",
    "\n",
    " - Наверняка вам потребуется много гуглить о классификации и о том, как заставить её работать. Это нормально, все гуглят. Но не забывайте, что нужно быть готовым за скатанный код отвечать :)\n",
    "\n",
    " - Используйте аугментации. Для этого пользуйтесь модулем `torchvision.transforms` или библиотекой [albumentations](https://github.com/albumentations-team/albumentations)\n",
    "\n",
    " - Можно обучать с нуля или файнтюнить (в зависимости от задания) модели из `torchvision`.\n",
    "\n",
    " - Рекомендуем написать вам сначала класс-датасет (или воспользоваться классом `ImageFolder`), который возвращает картинки и соответствующие им классы, а затем функции для трейна по шаблонам ниже. Однако делать это мы не заставляем. Если вам так неудобно, то можете писать код в удобном стиле. Однако учтите, что чрезмерное изменение нижеперечисленных шаблонов увеличит количество вопросов к вашему коду :)\n",
    "\n",
    " - Валидируйте. Трекайте ошибки как можно раньше, чтобы не тратить время впустую.\n",
    "\n",
    " - Чтобы быстро отладить код, пробуйте обучаться на маленькой части датасета (скажем, 5-10 картинок просто чтобы убедиться что код запускается). Когда вы поняли, что смогли всё отдебажить, переходите обучению по всему датасету\n",
    "\n",
    " - На каждый запуск делайте ровно одно изменение в модели/аугментации/оптимайзере, чтобы понять, что и как влияет на результат.\n",
    "\n",
    " - Фиксируйте random seed.\n",
    "\n",
    " - Начинайте с простых моделей и постепенно переходите к сложным. Обучение лёгких моделей экономит много времени.\n",
    "\n",
    " - Ставьте расписание на learning rate. Уменьшайте его, когда лосс на валидации перестаёт убывать.\n",
    "\n",
    " - Советуем использовать GPU. Если у вас его нет, используйте google colab. Если вам неудобно его использовать на постоянной основе, напишите и отладьте весь код локально на CPU, а затем запустите уже написанный ноутбук в колабе.\n",
    "\n",
    "\n",
    "\n",
    "Good luck & have fun! :)"
   ]
  },
  {
   "cell_type": "code",
   "execution_count": null,
   "metadata": {
    "colab": {
     "base_uri": "https://localhost:8080/"
    },
    "id": "xWYZVk2PzVMF",
    "outputId": "fecde021-249c-49a4-e9ee-adf9a035a6f9"
   },
   "outputs": [
    {
     "name": "stdout",
     "output_type": "stream",
     "text": [
      "Mounted at /content/drive\n"
     ]
    }
   ],
   "source": [
    "from google.colab import drive\n",
    "\n",
    "drive.mount('/content/drive')"
   ]
  },
  {
   "cell_type": "code",
   "execution_count": 2,
   "metadata": {
    "execution": {
     "iopub.execute_input": "2024-11-08T11:38:18.224870Z",
     "iopub.status.busy": "2024-11-08T11:38:18.223506Z",
     "iopub.status.idle": "2024-11-08T11:38:42.273678Z",
     "shell.execute_reply": "2024-11-08T11:38:42.271869Z",
     "shell.execute_reply.started": "2024-11-08T11:38:18.224823Z"
    },
    "id": "BaPSFxIz96tY"
   },
   "outputs": [
    {
     "name": "stdout",
     "output_type": "stream",
     "text": [
      "Requirement already satisfied: wandb in /opt/conda/lib/python3.10/site-packages (0.18.3)\n",
      "Requirement already satisfied: click!=8.0.0,>=7.1 in /opt/conda/lib/python3.10/site-packages (from wandb) (8.1.7)\n",
      "Requirement already satisfied: docker-pycreds>=0.4.0 in /opt/conda/lib/python3.10/site-packages (from wandb) (0.4.0)\n",
      "Requirement already satisfied: gitpython!=3.1.29,>=1.0.0 in /opt/conda/lib/python3.10/site-packages (from wandb) (3.1.43)\n",
      "Requirement already satisfied: platformdirs in /opt/conda/lib/python3.10/site-packages (from wandb) (3.11.0)\n",
      "Requirement already satisfied: protobuf!=4.21.0,!=5.28.0,<6,>=3.19.0 in /opt/conda/lib/python3.10/site-packages (from wandb) (3.20.3)\n",
      "Requirement already satisfied: psutil>=5.0.0 in /opt/conda/lib/python3.10/site-packages (from wandb) (5.9.3)\n",
      "Requirement already satisfied: pyyaml in /opt/conda/lib/python3.10/site-packages (from wandb) (6.0.2)\n",
      "Requirement already satisfied: requests<3,>=2.0.0 in /opt/conda/lib/python3.10/site-packages (from wandb) (2.32.3)\n",
      "Requirement already satisfied: sentry-sdk>=1.0.0 in /opt/conda/lib/python3.10/site-packages (from wandb) (2.15.0)\n",
      "Requirement already satisfied: setproctitle in /opt/conda/lib/python3.10/site-packages (from wandb) (1.3.3)\n",
      "Requirement already satisfied: setuptools in /opt/conda/lib/python3.10/site-packages (from wandb) (70.0.0)\n",
      "Requirement already satisfied: six>=1.4.0 in /opt/conda/lib/python3.10/site-packages (from docker-pycreds>=0.4.0->wandb) (1.16.0)\n",
      "Requirement already satisfied: gitdb<5,>=4.0.1 in /opt/conda/lib/python3.10/site-packages (from gitpython!=3.1.29,>=1.0.0->wandb) (4.0.11)\n",
      "Requirement already satisfied: charset-normalizer<4,>=2 in /opt/conda/lib/python3.10/site-packages (from requests<3,>=2.0.0->wandb) (3.3.2)\n",
      "Requirement already satisfied: idna<4,>=2.5 in /opt/conda/lib/python3.10/site-packages (from requests<3,>=2.0.0->wandb) (3.7)\n",
      "Requirement already satisfied: urllib3<3,>=1.21.1 in /opt/conda/lib/python3.10/site-packages (from requests<3,>=2.0.0->wandb) (1.26.18)\n",
      "Requirement already satisfied: certifi>=2017.4.17 in /opt/conda/lib/python3.10/site-packages (from requests<3,>=2.0.0->wandb) (2024.8.30)\n",
      "Requirement already satisfied: smmap<6,>=3.0.1 in /opt/conda/lib/python3.10/site-packages (from gitdb<5,>=4.0.1->gitpython!=3.1.29,>=1.0.0->wandb) (5.0.1)\n",
      "Requirement already satisfied: pytorch_lightning in /opt/conda/lib/python3.10/site-packages (2.4.0)\n",
      "Requirement already satisfied: torchmetrics in /opt/conda/lib/python3.10/site-packages (1.4.2)\n",
      "Requirement already satisfied: torch>=2.1.0 in /opt/conda/lib/python3.10/site-packages (from pytorch_lightning) (2.4.0+cpu)\n",
      "Requirement already satisfied: tqdm>=4.57.0 in /opt/conda/lib/python3.10/site-packages (from pytorch_lightning) (4.66.4)\n",
      "Requirement already satisfied: PyYAML>=5.4 in /opt/conda/lib/python3.10/site-packages (from pytorch_lightning) (6.0.2)\n",
      "Requirement already satisfied: fsspec>=2022.5.0 in /opt/conda/lib/python3.10/site-packages (from fsspec[http]>=2022.5.0->pytorch_lightning) (2024.6.1)\n",
      "Requirement already satisfied: packaging>=20.0 in /opt/conda/lib/python3.10/site-packages (from pytorch_lightning) (21.3)\n",
      "Requirement already satisfied: typing-extensions>=4.4.0 in /opt/conda/lib/python3.10/site-packages (from pytorch_lightning) (4.12.2)\n",
      "Requirement already satisfied: lightning-utilities>=0.10.0 in /opt/conda/lib/python3.10/site-packages (from pytorch_lightning) (0.11.7)\n",
      "Requirement already satisfied: numpy>1.20.0 in /opt/conda/lib/python3.10/site-packages (from torchmetrics) (1.26.4)\n",
      "Requirement already satisfied: aiohttp!=4.0.0a0,!=4.0.0a1 in /opt/conda/lib/python3.10/site-packages (from fsspec[http]>=2022.5.0->pytorch_lightning) (3.9.5)\n",
      "Requirement already satisfied: setuptools in /opt/conda/lib/python3.10/site-packages (from lightning-utilities>=0.10.0->pytorch_lightning) (70.0.0)\n",
      "Requirement already satisfied: pyparsing!=3.0.5,>=2.0.2 in /opt/conda/lib/python3.10/site-packages (from packaging>=20.0->pytorch_lightning) (3.1.2)\n",
      "Requirement already satisfied: filelock in /opt/conda/lib/python3.10/site-packages (from torch>=2.1.0->pytorch_lightning) (3.15.1)\n",
      "Requirement already satisfied: sympy in /opt/conda/lib/python3.10/site-packages (from torch>=2.1.0->pytorch_lightning) (1.12)\n",
      "Requirement already satisfied: networkx in /opt/conda/lib/python3.10/site-packages (from torch>=2.1.0->pytorch_lightning) (3.3)\n",
      "Requirement already satisfied: jinja2 in /opt/conda/lib/python3.10/site-packages (from torch>=2.1.0->pytorch_lightning) (3.1.4)\n",
      "Requirement already satisfied: aiosignal>=1.1.2 in /opt/conda/lib/python3.10/site-packages (from aiohttp!=4.0.0a0,!=4.0.0a1->fsspec[http]>=2022.5.0->pytorch_lightning) (1.3.1)\n",
      "Requirement already satisfied: attrs>=17.3.0 in /opt/conda/lib/python3.10/site-packages (from aiohttp!=4.0.0a0,!=4.0.0a1->fsspec[http]>=2022.5.0->pytorch_lightning) (23.2.0)\n",
      "Requirement already satisfied: frozenlist>=1.1.1 in /opt/conda/lib/python3.10/site-packages (from aiohttp!=4.0.0a0,!=4.0.0a1->fsspec[http]>=2022.5.0->pytorch_lightning) (1.4.1)\n",
      "Requirement already satisfied: multidict<7.0,>=4.5 in /opt/conda/lib/python3.10/site-packages (from aiohttp!=4.0.0a0,!=4.0.0a1->fsspec[http]>=2022.5.0->pytorch_lightning) (6.0.5)\n",
      "Requirement already satisfied: yarl<2.0,>=1.0 in /opt/conda/lib/python3.10/site-packages (from aiohttp!=4.0.0a0,!=4.0.0a1->fsspec[http]>=2022.5.0->pytorch_lightning) (1.9.4)\n",
      "Requirement already satisfied: async-timeout<5.0,>=4.0 in /opt/conda/lib/python3.10/site-packages (from aiohttp!=4.0.0a0,!=4.0.0a1->fsspec[http]>=2022.5.0->pytorch_lightning) (4.0.3)\n",
      "Requirement already satisfied: MarkupSafe>=2.0 in /opt/conda/lib/python3.10/site-packages (from jinja2->torch>=2.1.0->pytorch_lightning) (2.1.5)\n",
      "Requirement already satisfied: mpmath>=0.19 in /opt/conda/lib/python3.10/site-packages (from sympy->torch>=2.1.0->pytorch_lightning) (1.3.0)\n",
      "Requirement already satisfied: idna>=2.0 in /opt/conda/lib/python3.10/site-packages (from yarl<2.0,>=1.0->aiohttp!=4.0.0a0,!=4.0.0a1->fsspec[http]>=2022.5.0->pytorch_lightning) (3.7)\n"
     ]
    }
   ],
   "source": [
    "!pip install wandb\n",
    "\n",
    "!pip3 install pytorch_lightning torchmetrics"
   ]
  },
  {
   "cell_type": "markdown",
   "metadata": {
    "id": "KWCr0wrTrorm"
   },
   "source": [
    "**✨ Внимание ✨**\n",
    "\n",
    "\n",
    "\n",
    "В этом домашнем задании предлагается использовать библиотеку `pytorch_lightning`. Доступ к ее [документации](https://lightning.ai/docs/pytorch/stable/) заблокирован с территории РФ. Вы можете:\n",
    "\n",
    "\n",
    "\n",
    "1. Получить к ней доступ с помощью VPN.\n",
    "\n",
    "\n",
    "\n",
    "2. Собрать документацию самостоятельно. Для этого склонируйте [github-репозиторий](https://github.com/Lightning-AI/lightning/tree/master), запустите в нем терминал (на windows – git bash) и выполните команды:\n",
    "\n",
    "\n",
    "\n",
    "```shell\n",
    "\n",
    "git submodule update --init --recursive\n",
    "\n",
    "make docs\n",
    "\n",
    "```\n",
    "\n",
    "После этого откройте появившийся файл `docs/build/html/index.html`. Для работы команд в вашем окружении должен быть `pip`. Полная инструкция [по ссылке](https://github.com/Lightning-AI/lightning/tree/master/docs).\n",
    "\n",
    "\n",
    "\n",
    "3. Гуглить `<error message> pytorch lightning` или `<how to do this> pytorch lightning`. Stack overflow на территории РФ все еще доступен 😉\n",
    "\n",
    "\n",
    "\n",
    "4. Не пользоваться `pytorch_lightning` и написать цикл обучения модели самостоятельно. Например, по аналогии с функцией `fit` из [семинара 4](https://github.com/hse-ds/iad-deep-learning/blob/master/2023/seminars/04.%20Optim%20%26%20Lightning/04_Optim%26Lightning_solution.ipynb)."
   ]
  },
  {
   "cell_type": "code",
   "execution_count": 3,
   "metadata": {
    "execution": {
     "iopub.execute_input": "2024-11-08T16:54:56.520225Z",
     "iopub.status.busy": "2024-11-08T16:54:56.519855Z",
     "iopub.status.idle": "2024-11-08T16:55:06.648467Z",
     "shell.execute_reply": "2024-11-08T16:55:06.647597Z",
     "shell.execute_reply.started": "2024-11-08T16:54:56.520188Z"
    },
    "id": "EWT3aFU9XmLJ"
   },
   "outputs": [
    {
     "name": "stderr",
     "output_type": "stream",
     "text": [
      "\u001b[34m\u001b[1mwandb\u001b[0m: Using wandb-core as the SDK backend. Please refer to https://wandb.me/wandb-core for more information.\n",
      "\u001b[34m\u001b[1mwandb\u001b[0m: Logging into wandb.ai. (Learn how to deploy a W&B server locally: https://wandb.me/wandb-server)\n",
      "\u001b[34m\u001b[1mwandb\u001b[0m: You can find your API key in your browser here: https://wandb.ai/authorize\n",
      "\u001b[34m\u001b[1mwandb\u001b[0m: Paste an API key from your profile and hit enter, or press ctrl+c to quit:"
     ]
    },
    {
     "name": "stdout",
     "output_type": "stream",
     "text": [
      "  ········\n"
     ]
    },
    {
     "name": "stderr",
     "output_type": "stream",
     "text": [
      "\u001b[34m\u001b[1mwandb\u001b[0m: Appending key for api.wandb.ai to your netrc file: /root/.netrc\n"
     ]
    },
    {
     "data": {
      "text/plain": [
       "True"
      ]
     },
     "execution_count": 3,
     "metadata": {},
     "output_type": "execute_result"
    }
   ],
   "source": [
    "# Возможно ниже будет не очень работать WandbLogger с первого разу, перезапустите kernel тетрадки\n",
    "\n",
    "import wandb\n",
    "\n",
    "\n",
    "\n",
    "wandb.login()"
   ]
  },
  {
   "cell_type": "code",
   "execution_count": 4,
   "metadata": {
    "cell_id": 4,
    "execution": {
     "iopub.execute_input": "2024-11-08T16:55:10.958281Z",
     "iopub.status.busy": "2024-11-08T16:55:10.957197Z",
     "iopub.status.idle": "2024-11-08T16:55:21.261253Z",
     "shell.execute_reply": "2024-11-08T16:55:21.260471Z",
     "shell.execute_reply.started": "2024-11-08T16:55:10.958237Z"
    },
    "id": "LKcSNj4tlRVK"
   },
   "outputs": [],
   "source": [
    "import math\n",
    "\n",
    "import os\n",
    "\n",
    "import random\n",
    "\n",
    "import sys\n",
    "\n",
    "\n",
    "\n",
    "import matplotlib.pyplot as plt\n",
    "\n",
    "import numpy as np\n",
    "\n",
    "import pytorch_lightning as pl\n",
    "\n",
    "import torch\n",
    "\n",
    "import torchvision\n",
    "\n",
    "import torchvision.transforms as transforms\n",
    "\n",
    "from PIL import Image\n",
    "\n",
    "from pytorch_lightning.loggers import WandbLogger\n",
    "\n",
    "from torch import nn\n",
    "\n",
    "from torch.nn import functional as F\n",
    "\n",
    "from torch.utils.data import DataLoader\n",
    "\n",
    "from torchmetrics.functional import accuracy\n",
    "\n",
    "from torchvision.datasets import ImageFolder\n",
    "\n",
    "from tqdm import tqdm\n",
    "\n",
    "\n",
    "\n",
    "# You may add any imports you need"
   ]
  },
  {
   "cell_type": "code",
   "execution_count": 5,
   "metadata": {
    "execution": {
     "iopub.execute_input": "2024-11-08T16:55:27.293963Z",
     "iopub.status.busy": "2024-11-08T16:55:27.293096Z",
     "iopub.status.idle": "2024-11-08T16:55:27.307331Z",
     "shell.execute_reply": "2024-11-08T16:55:27.306465Z",
     "shell.execute_reply.started": "2024-11-08T16:55:27.293906Z"
    },
    "id": "47YPLjDL-Mtv"
   },
   "outputs": [],
   "source": [
    "def seed_everything(seed):\n",
    "\n",
    "    # Фискирует максимум сидов.\n",
    "\n",
    "    # Это понадобится, чтобы сравнение оптимизаторов было корректным\n",
    "\n",
    "    random.seed(seed)\n",
    "\n",
    "    os.environ[\"PYTHONHASHSEED\"] = str(seed)\n",
    "\n",
    "    np.random.seed(seed)\n",
    "\n",
    "    torch.manual_seed(seed)\n",
    "\n",
    "    torch.cuda.manual_seed(seed)\n",
    "\n",
    "    torch.backends.cudnn.deterministic = True\n",
    "\n",
    "\n",
    "\n",
    "\n",
    "\n",
    "seed_everything(123456)"
   ]
  },
  {
   "cell_type": "code",
   "execution_count": 7,
   "metadata": {
    "execution": {
     "iopub.execute_input": "2024-11-08T16:55:35.702697Z",
     "iopub.status.busy": "2024-11-08T16:55:35.702301Z",
     "iopub.status.idle": "2024-11-08T16:55:35.707033Z",
     "shell.execute_reply": "2024-11-08T16:55:35.706027Z",
     "shell.execute_reply.started": "2024-11-08T16:55:35.702656Z"
    },
    "id": "gVKdh063AzhH"
   },
   "outputs": [],
   "source": [
    "import torchmetrics"
   ]
  },
  {
   "cell_type": "markdown",
   "metadata": {
    "id": "RytEDW0ylRVN"
   },
   "source": [
    "## Задание 0"
   ]
  },
  {
   "cell_type": "markdown",
   "metadata": {
    "id": "2HZECedTvepi"
   },
   "source": [
    "### Что поможет сделать на 10 из 10 (одно задание - 5 баллов)"
   ]
  },
  {
   "cell_type": "markdown",
   "metadata": {
    "id": "dOioHGEiveso"
   },
   "source": [
    "1. Использовать все возможные методы оптимизации и эксперемнтировать с ними.\n",
    "\n",
    "2. Подбор learning rate. Пример из прошлого семинара как это делать: [Как найти lr](https://pytorch-lightning.readthedocs.io/en/1.4.5/advanced/lr_finder.html)\n",
    "\n",
    "\n",
    "\n",
    "```\n",
    "\n",
    "  trainer = pl.Trainer(accelerator=\"gpu\", max_epochs=2, auto_lr_find=True)\n",
    "\n",
    "\n",
    "\n",
    "  trainer.tune(module, train_dataloader, eval_dataloader)\n",
    "\n",
    "\n",
    "\n",
    "  trainer.fit(module, train_dataloader, eval_dataloader))\n",
    "\n",
    "```\n",
    "\n",
    "\n",
    "\n",
    "\n",
    "\n",
    "\n",
    "\n",
    "3. Аугментация данных. [Документация (полезная)](https://pytorch.org/vision/main/transforms.html), а также [библиотека albumentation](https://towardsdatascience.com/getting-started-with-albumentation-winning-deep-learning-image-augmentation-technique-in-pytorch-47aaba0ee3f8)\n",
    "\n",
    "4. Подбор архитектуры модели.\n",
    "\n",
    "5. Можно написать свою модель руками в классе YourNet, а можно импортировать не предобученную сетку известной архитектуры из модуля torchvision.models. Один из способов как можно сделать:\n",
    "\n",
    "\n",
    "\n",
    "  * `torchvision.models.resnet18(pretrained=False, num_classes=200).to(device)`\n",
    "\n",
    "  * Документация по возможным моделям и как их можно брать: [Документация (полезная)](https://pytorch.org/vision/stable/models.html)\n",
    "\n",
    "6. Правильно нормализовывать данные при создании, пример [тык, но тут и в целом гайд от и до](https://www.pluralsight.com/guides/image-classification-with-pytorch)\n",
    "\n",
    "7. Model Checkpointing. Сохраняйте свой прогресс (модели), чтобы когда что-то пойдет не так вы сможете начать с этого места или просто воспроизвести свои результаты модели, которые обучали.\n",
    "\n",
    " * Пример как можно с wandb тут: [Сохраняем лучшие модели в wandb](https://docs.wandb.ai/guides/integrations/lightning)\n",
    "\n",
    " * По простому можно так: [Сохраняем модели в pytorch дока](https://pytorch.org/tutorials/beginner/saving_loading_models.html)"
   ]
  },
  {
   "cell_type": "markdown",
   "metadata": {
    "id": "WYePsQgNRB-n"
   },
   "source": [
    "### Подготовка данных"
   ]
  },
  {
   "cell_type": "code",
   "execution_count": 8,
   "metadata": {
    "cell_id": 5,
    "execution": {
     "iopub.execute_input": "2024-11-08T16:55:44.840855Z",
     "iopub.status.busy": "2024-11-08T16:55:44.839978Z",
     "iopub.status.idle": "2024-11-08T16:56:20.731443Z",
     "shell.execute_reply": "2024-11-08T16:56:20.730650Z",
     "shell.execute_reply.started": "2024-11-08T16:55:44.840813Z"
    },
    "id": "QEdDQtHdlRVO"
   },
   "outputs": [],
   "source": [
    "train_transform = transforms.Compose([\n",
    "    transforms.RandomHorizontalFlip(p=0.5),\n",
    "    transforms.RandomRotation(degrees=15),\n",
    "    transforms.ColorJitter(brightness=0.2, contrast=0.2, saturation=0.2, hue=0.2),\n",
    "    transforms.ToTensor()\n",
    "])\n",
    "\n",
    "\n",
    "\n",
    "val_transform = transforms.Compose([\n",
    "    transforms.ToTensor()\n",
    "])\n",
    "\n",
    "\n",
    "\n",
    "train_dataset = ImageFolder('/kaggle/input/iad-hw2/train/train', transform=train_transform)\n",
    "\n",
    "val_dataset = ImageFolder('/kaggle/input/iad-hw2/val/val', transform=val_transform)\n",
    "\n",
    "\n",
    "train_dataloader = DataLoader(train_dataset, batch_size=64, shuffle=True)\n",
    "val_dataloader = DataLoader(val_dataset, batch_size=64, shuffle=False)"
   ]
  },
  {
   "cell_type": "code",
   "execution_count": 9,
   "metadata": {
    "cell_id": 6,
    "execution": {
     "iopub.execute_input": "2024-11-08T16:56:34.134286Z",
     "iopub.status.busy": "2024-11-08T16:56:34.133924Z",
     "iopub.status.idle": "2024-11-08T16:56:34.253406Z",
     "shell.execute_reply": "2024-11-08T16:56:34.252481Z",
     "shell.execute_reply.started": "2024-11-08T16:56:34.134252Z"
    },
    "id": "mrg4Yj0VlRVP"
   },
   "outputs": [
    {
     "name": "stdout",
     "output_type": "stream",
     "text": [
      "tests passed\n"
     ]
    }
   ],
   "source": [
    "# Just very simple sanity checks\n",
    "\n",
    "assert isinstance(train_dataset[0], tuple)\n",
    "\n",
    "assert len(train_dataset[0]) == 2\n",
    "\n",
    "assert isinstance(train_dataset[1][1], int)\n",
    "\n",
    "print(\"tests passed\")"
   ]
  },
  {
   "cell_type": "markdown",
   "metadata": {
    "id": "EOuM0EEYj7Ml"
   },
   "source": [
    "### Посмотрим на картиночки"
   ]
  },
  {
   "cell_type": "code",
   "execution_count": 73,
   "metadata": {
    "execution": {
     "iopub.execute_input": "2024-11-08T13:28:41.957804Z",
     "iopub.status.busy": "2024-11-08T13:28:41.957006Z",
     "iopub.status.idle": "2024-11-08T13:28:42.864026Z",
     "shell.execute_reply": "2024-11-08T13:28:42.863165Z",
     "shell.execute_reply.started": "2024-11-08T13:28:41.957759Z"
    },
    "id": "DeuB0YC3LYRm"
   },
   "outputs": [
    {
     "data": {
      "image/png": "[encoded data removed]",
      "text/plain": [
       "<Figure size 640x480 with 1 Axes>"
      ]
     },
     "metadata": {},
     "output_type": "display_data"
    },
    {
     "data": {
      "image/png": "[encoded data removed]",
      "text/plain": [
       "<Figure size 640x480 with 1 Axes>"
      ]
     },
     "metadata": {},
     "output_type": "display_data"
    }
   ],
   "source": [
    "for batch in val_dataloader:\n",
    "\n",
    "    images, class_nums = batch\n",
    "\n",
    "    plt.imshow(images[5].permute(1, 2, 0))\n",
    "\n",
    "    plt.show()\n",
    "\n",
    "    plt.imshow(images[19].permute(1, 2, 0))\n",
    "\n",
    "    plt.show()\n",
    "\n",
    "    break"
   ]
  },
  {
   "cell_type": "markdown",
   "metadata": {
    "id": "LCwKB-3nKm1-"
   },
   "source": [
    "## Задание 1.\n",
    "\n",
    "\n",
    "\n",
    "5 баллов\n",
    "\n",
    "Добейтесь accuracy на валидации не менее 0.4. В этом задании запрещено пользоваться предобученными моделями и ресайзом картинок.\n",
    "\n",
    "\n",
    "\n",
    "\n",
    "\n",
    "Для того чтобы выбить скор (считается ниже) на 2.5/5 балла (то есть половину за задание) достаточно соблюдать пару простых жизненных правил:\n",
    "\n",
    "1. Аугментация (без нее сложно очень будет)\n",
    "\n",
    "2. Оптимайзеры можно (и нужно) использовать друг с другом. Однако когда что-то проверяете, то не меняйте несколько параметров сразу - собьете логику экспериментов\n",
    "\n",
    "3. Не используйте полносвязные модели или самые первые сверточные, используйте более современные архитектуры (что на лекциях встречались)\n",
    "\n",
    "4. Посмотреть ноутбуки прошедших семинаров и создайте из них что-то общее. Семинарских тетрадок хватит сверх"
   ]
  },
  {
   "cell_type": "markdown",
   "metadata": {
    "id": "pWR2l6ymZfRJ"
   },
   "source": [
    "### Модель (или просто импортируйте не предобученную)"
   ]
  },
  {
   "cell_type": "code",
   "execution_count": 21,
   "metadata": {
    "execution": {
     "iopub.execute_input": "2024-11-08T17:01:46.214968Z",
     "iopub.status.busy": "2024-11-08T17:01:46.213947Z",
     "iopub.status.idle": "2024-11-08T17:01:46.225083Z",
     "shell.execute_reply": "2024-11-08T17:01:46.224074Z",
     "shell.execute_reply.started": "2024-11-08T17:01:46.214923Z"
    }
   },
   "outputs": [],
   "source": [
    "import torchvision.models as models\n",
    "\n",
    "class YourNet(nn.Module):\n",
    "    def __init__(self):\n",
    "        super(YourNet, self).__init__()\n",
    "        \n",
    "        self.feature_extractor = models.efficientnet_b0(pretrained=False)\n",
    "        features_out = self.feature_extractor.classifier[1].in_features\n",
    "\n",
    "        self.feature_extractor.classifier = nn.Sequential(\n",
    "            nn.Dropout(p=0.5),\n",
    "            nn.Linear(features_out, 100)\n",
    "        )\n",
    "\n",
    "        self.outputs = None\n",
    "        self.labels = None\n",
    "\n",
    "    def _forward(self, x):\n",
    "        # Основной forward-проход\n",
    "        return self.feature_extractor(x)\n",
    "\n",
    "    def forward(self, images, target=None):\n",
    "        predictions = self._forward(images)\n",
    "        if target is not None:\n",
    "            loss = F.cross_entropy(predictions, target)\n",
    "            self.outputs = torch.argmax(predictions, dim=1)\n",
    "            self.labels = target\n",
    "            return loss\n",
    "        else:\n",
    "            return predictions\n",
    "\n",
    "    def get_accuracy(self, reset=False):\n",
    "        total_correct = (self.outputs == self.labels).sum().item()\n",
    "        total_samples = self.labels.size(0)\n",
    "        accuracy = total_correct / total_samples\n",
    "        \n",
    "        if reset:\n",
    "            self.outputs = None\n",
    "            self.labels = None\n",
    "        return accuracy"
   ]
  },
  {
   "cell_type": "markdown",
   "metadata": {
    "id": "f7iHXWj1alM1"
   },
   "source": [
    "### Тренировочный класс lightning"
   ]
  },
  {
   "cell_type": "code",
   "execution_count": 75,
   "metadata": {
    "execution": {
     "iopub.execute_input": "2024-11-08T13:29:13.556888Z",
     "iopub.status.busy": "2024-11-08T13:29:13.556042Z",
     "iopub.status.idle": "2024-11-08T13:29:13.568877Z",
     "shell.execute_reply": "2024-11-08T13:29:13.567923Z",
     "shell.execute_reply.started": "2024-11-08T13:29:13.556842Z"
    }
   },
   "outputs": [],
   "source": [
    "class YourModule(pl.LightningModule):\n",
    "    def __init__(self, model, lr):\n",
    "        super(YourModule, self).__init__()\n",
    "        self.network = model\n",
    "        self.learning_rate = lr\n",
    "\n",
    "    def forward(self, x):\n",
    "        return self.network._forward(x)\n",
    "\n",
    "    def configure_optimizers(self):\n",
    "        optimizer = torch.optim.AdamW(self.parameters(), lr=self.learning_rate)\n",
    "        lr_scheduler = torch.optim.lr_scheduler.StepLR(\n",
    "            optimizer, step_size=10, gamma=0.5\n",
    "        )\n",
    "        return {'optimizer': optimizer, 'lr_scheduler': lr_scheduler}\n",
    "\n",
    "    def training_step(self, batch, batch_idx):\n",
    "        imgs, lbls = batch\n",
    "        train_loss = self.network(imgs, lbls)\n",
    "        train_acc = self.network.get_accuracy(reset=True)\n",
    "        \n",
    "        self.log(\"train_loss\", train_loss, prog_bar=True)\n",
    "        self.log(\"train_acc\", train_acc, prog_bar=True)\n",
    "        return train_loss\n",
    "\n",
    "    def validation_step(self, batch, batch_idx):\n",
    "        imgs, lbls = batch\n",
    "        val_loss = self.network(imgs, lbls)\n",
    "        val_acc = self.network.get_accuracy(reset=True)\n",
    "        \n",
    "        self.log(\"val_loss\", val_loss, prog_bar=True)\n",
    "        self.log(\"val_acc\", val_acc, prog_bar=True)\n",
    "        return val_loss"
   ]
  },
  {
   "cell_type": "code",
   "execution_count": 16,
   "metadata": {
    "execution": {
     "iopub.execute_input": "2024-11-08T16:59:19.329302Z",
     "iopub.status.busy": "2024-11-08T16:59:19.328565Z",
     "iopub.status.idle": "2024-11-08T16:59:19.334381Z",
     "shell.execute_reply": "2024-11-08T16:59:19.333087Z",
     "shell.execute_reply.started": "2024-11-08T16:59:19.329260Z"
    },
    "id": "z9-1wq7QYkiz"
   },
   "outputs": [],
   "source": [
    "device = torch.device(\"cuda\" if torch.cuda.is_available() else \"cpu\")"
   ]
  },
  {
   "cell_type": "code",
   "execution_count": 79,
   "metadata": {
    "execution": {
     "iopub.execute_input": "2024-11-08T13:30:57.044613Z",
     "iopub.status.busy": "2024-11-08T13:30:57.044200Z",
     "iopub.status.idle": "2024-11-08T15:29:56.727431Z",
     "shell.execute_reply": "2024-11-08T15:29:56.726671Z",
     "shell.execute_reply.started": "2024-11-08T13:30:57.044572Z"
    }
   },
   "outputs": [
    {
     "data": {
      "text/html": [
       "Tracking run with wandb version 0.18.3"
      ],
      "text/plain": [
       "<IPython.core.display.HTML object>"
      ]
     },
     "metadata": {},
     "output_type": "display_data"
    },
    {
     "data": {
      "text/html": [
       "Run data is saved locally in <code>./wandb/run-20241108_133057-jbj2llev</code>"
      ],
      "text/plain": [
       "<IPython.core.display.HTML object>"
      ]
     },
     "metadata": {},
     "output_type": "display_data"
    },
    {
     "data": {
      "text/html": [
       "Syncing run <strong><a href='https://wandb.ai/semyon-zotov-google/lightning_logs/runs/jbj2llev' target=\"_blank\">denim-disco-7</a></strong> to <a href='https://wandb.ai/semyon-zotov-google/lightning_logs' target=\"_blank\">Weights & Biases</a> (<a href='https://wandb.me/run' target=\"_blank\">docs</a>)<br/>"
      ],
      "text/plain": [
       "<IPython.core.display.HTML object>"
      ]
     },
     "metadata": {},
     "output_type": "display_data"
    },
    {
     "data": {
      "text/html": [
       " View project at <a href='https://wandb.ai/semyon-zotov-google/lightning_logs' target=\"_blank\">https://wandb.ai/semyon-zotov-google/lightning_logs</a>"
      ],
      "text/plain": [
       "<IPython.core.display.HTML object>"
      ]
     },
     "metadata": {},
     "output_type": "display_data"
    },
    {
     "data": {
      "text/html": [
       " View run at <a href='https://wandb.ai/semyon-zotov-google/lightning_logs/runs/jbj2llev' target=\"_blank\">https://wandb.ai/semyon-zotov-google/lightning_logs/runs/jbj2llev</a>"
      ],
      "text/plain": [
       "<IPython.core.display.HTML object>"
      ]
     },
     "metadata": {},
     "output_type": "display_data"
    },
    {
     "data": {
      "application/vnd.jupyter.widget-view+json": {
       "model_id": "4566ea3ee8ac4a0ba63819d0b065ac16",
       "version_major": 2,
       "version_minor": 0
      },
      "text/plain": [
       "Sanity Checking: |          | 0/? [00:00<?, ?it/s]"
      ]
     },
     "metadata": {},
     "output_type": "display_data"
    },
    {
     "data": {
      "application/vnd.jupyter.widget-view+json": {
       "model_id": "68614310de084478b4ac72c8920f3733",
       "version_major": 2,
       "version_minor": 0
      },
      "text/plain": [
       "Training: |          | 0/? [00:00<?, ?it/s]"
      ]
     },
     "metadata": {},
     "output_type": "display_data"
    },
    {
     "data": {
      "application/vnd.jupyter.widget-view+json": {
       "model_id": "554d52e9c303461cb1e68cfb1a44f83f",
       "version_major": 2,
       "version_minor": 0
      },
      "text/plain": [
       "Validation: |          | 0/? [00:00<?, ?it/s]"
      ]
     },
     "metadata": {},
     "output_type": "display_data"
    },
    {
     "data": {
      "application/vnd.jupyter.widget-view+json": {
       "model_id": "8e2f082e33b040fe99a4983fb4c09459",
       "version_major": 2,
       "version_minor": 0
      },
      "text/plain": [
       "Validation: |          | 0/? [00:00<?, ?it/s]"
      ]
     },
     "metadata": {},
     "output_type": "display_data"
    },
    {
     "data": {
      "application/vnd.jupyter.widget-view+json": {
       "model_id": "8466fc08f90242a0ad76298d7298c9e1",
       "version_major": 2,
       "version_minor": 0
      },
      "text/plain": [
       "Validation: |          | 0/? [00:00<?, ?it/s]"
      ]
     },
     "metadata": {},
     "output_type": "display_data"
    },
    {
     "data": {
      "application/vnd.jupyter.widget-view+json": {
       "model_id": "9e8e580d3f0f4f0f9212e77c297c708a",
       "version_major": 2,
       "version_minor": 0
      },
      "text/plain": [
       "Validation: |          | 0/? [00:00<?, ?it/s]"
      ]
     },
     "metadata": {},
     "output_type": "display_data"
    },
    {
     "data": {
      "application/vnd.jupyter.widget-view+json": {
       "model_id": "9b05e929e111486080e25eb2ccb6353c",
       "version_major": 2,
       "version_minor": 0
      },
      "text/plain": [
       "Validation: |          | 0/? [00:00<?, ?it/s]"
      ]
     },
     "metadata": {},
     "output_type": "display_data"
    },
    {
     "data": {
      "application/vnd.jupyter.widget-view+json": {
       "model_id": "ec2da084fb4b45f88edc0d0c535b2c42",
       "version_major": 2,
       "version_minor": 0
      },
      "text/plain": [
       "Validation: |          | 0/? [00:00<?, ?it/s]"
      ]
     },
     "metadata": {},
     "output_type": "display_data"
    },
    {
     "data": {
      "application/vnd.jupyter.widget-view+json": {
       "model_id": "9cb0f7c87cf449a5a13fc117500e277d",
       "version_major": 2,
       "version_minor": 0
      },
      "text/plain": [
       "Validation: |          | 0/? [00:00<?, ?it/s]"
      ]
     },
     "metadata": {},
     "output_type": "display_data"
    },
    {
     "data": {
      "application/vnd.jupyter.widget-view+json": {
       "model_id": "d3ff3e8cb17d4420afd82ef42c895502",
       "version_major": 2,
       "version_minor": 0
      },
      "text/plain": [
       "Validation: |          | 0/? [00:00<?, ?it/s]"
      ]
     },
     "metadata": {},
     "output_type": "display_data"
    },
    {
     "data": {
      "application/vnd.jupyter.widget-view+json": {
       "model_id": "07d360ef5c774afebd4423e4632acd06",
       "version_major": 2,
       "version_minor": 0
      },
      "text/plain": [
       "Validation: |          | 0/? [00:00<?, ?it/s]"
      ]
     },
     "metadata": {},
     "output_type": "display_data"
    },
    {
     "data": {
      "application/vnd.jupyter.widget-view+json": {
       "model_id": "7de687f59fee425fb149c37b70067ada",
       "version_major": 2,
       "version_minor": 0
      },
      "text/plain": [
       "Validation: |          | 0/? [00:00<?, ?it/s]"
      ]
     },
     "metadata": {},
     "output_type": "display_data"
    },
    {
     "data": {
      "application/vnd.jupyter.widget-view+json": {
       "model_id": "a1db1f5c230b4bcd8fafc9f9e881b4d4",
       "version_major": 2,
       "version_minor": 0
      },
      "text/plain": [
       "Validation: |          | 0/? [00:00<?, ?it/s]"
      ]
     },
     "metadata": {},
     "output_type": "display_data"
    },
    {
     "data": {
      "application/vnd.jupyter.widget-view+json": {
       "model_id": "d0910a27cbe740b8b97ffcb9da37fdf8",
       "version_major": 2,
       "version_minor": 0
      },
      "text/plain": [
       "Validation: |          | 0/? [00:00<?, ?it/s]"
      ]
     },
     "metadata": {},
     "output_type": "display_data"
    },
    {
     "data": {
      "application/vnd.jupyter.widget-view+json": {
       "model_id": "2aa9771f569e4d88baa0baa44f10659f",
       "version_major": 2,
       "version_minor": 0
      },
      "text/plain": [
       "Validation: |          | 0/? [00:00<?, ?it/s]"
      ]
     },
     "metadata": {},
     "output_type": "display_data"
    },
    {
     "data": {
      "application/vnd.jupyter.widget-view+json": {
       "model_id": "35346b89cfeb47539d68bd5bc3de22f9",
       "version_major": 2,
       "version_minor": 0
      },
      "text/plain": [
       "Validation: |          | 0/? [00:00<?, ?it/s]"
      ]
     },
     "metadata": {},
     "output_type": "display_data"
    },
    {
     "data": {
      "application/vnd.jupyter.widget-view+json": {
       "model_id": "ac1fd5075461468e920481d3f0ac7c44",
       "version_major": 2,
       "version_minor": 0
      },
      "text/plain": [
       "Validation: |          | 0/? [00:00<?, ?it/s]"
      ]
     },
     "metadata": {},
     "output_type": "display_data"
    },
    {
     "data": {
      "application/vnd.jupyter.widget-view+json": {
       "model_id": "75cdbac33b2746b88afbff99a2442957",
       "version_major": 2,
       "version_minor": 0
      },
      "text/plain": [
       "Validation: |          | 0/? [00:00<?, ?it/s]"
      ]
     },
     "metadata": {},
     "output_type": "display_data"
    },
    {
     "data": {
      "application/vnd.jupyter.widget-view+json": {
       "model_id": "7f9fe09c027e46428606130dfce40e2a",
       "version_major": 2,
       "version_minor": 0
      },
      "text/plain": [
       "Validation: |          | 0/? [00:00<?, ?it/s]"
      ]
     },
     "metadata": {},
     "output_type": "display_data"
    },
    {
     "data": {
      "application/vnd.jupyter.widget-view+json": {
       "model_id": "e4007989f3c64c0682df048c8813cf99",
       "version_major": 2,
       "version_minor": 0
      },
      "text/plain": [
       "Validation: |          | 0/? [00:00<?, ?it/s]"
      ]
     },
     "metadata": {},
     "output_type": "display_data"
    },
    {
     "data": {
      "application/vnd.jupyter.widget-view+json": {
       "model_id": "73f3b8c562fd4e52a5b75e7d020999c3",
       "version_major": 2,
       "version_minor": 0
      },
      "text/plain": [
       "Validation: |          | 0/? [00:00<?, ?it/s]"
      ]
     },
     "metadata": {},
     "output_type": "display_data"
    },
    {
     "data": {
      "application/vnd.jupyter.widget-view+json": {
       "model_id": "1f365cdb84e640a6820331b31d2ec920",
       "version_major": 2,
       "version_minor": 0
      },
      "text/plain": [
       "Validation: |          | 0/? [00:00<?, ?it/s]"
      ]
     },
     "metadata": {},
     "output_type": "display_data"
    },
    {
     "data": {
      "application/vnd.jupyter.widget-view+json": {
       "model_id": "1834a8411e054fe181c278f9815dde09",
       "version_major": 2,
       "version_minor": 0
      },
      "text/plain": [
       "Validation: |          | 0/? [00:00<?, ?it/s]"
      ]
     },
     "metadata": {},
     "output_type": "display_data"
    },
    {
     "data": {
      "application/vnd.jupyter.widget-view+json": {
       "model_id": "c4fed1d0808e4102b1f6107ce1faf787",
       "version_major": 2,
       "version_minor": 0
      },
      "text/plain": [
       "Validation: |          | 0/? [00:00<?, ?it/s]"
      ]
     },
     "metadata": {},
     "output_type": "display_data"
    },
    {
     "data": {
      "application/vnd.jupyter.widget-view+json": {
       "model_id": "372751fdd0f148e5a0efd1fa94101caf",
       "version_major": 2,
       "version_minor": 0
      },
      "text/plain": [
       "Validation: |          | 0/? [00:00<?, ?it/s]"
      ]
     },
     "metadata": {},
     "output_type": "display_data"
    },
    {
     "data": {
      "application/vnd.jupyter.widget-view+json": {
       "model_id": "f6d4cb13b51640dea0e6d7ec89971211",
       "version_major": 2,
       "version_minor": 0
      },
      "text/plain": [
       "Validation: |          | 0/? [00:00<?, ?it/s]"
      ]
     },
     "metadata": {},
     "output_type": "display_data"
    },
    {
     "data": {
      "application/vnd.jupyter.widget-view+json": {
       "model_id": "88686c7767d54c46bba655c13df1dad7",
       "version_major": 2,
       "version_minor": 0
      },
      "text/plain": [
       "Validation: |          | 0/? [00:00<?, ?it/s]"
      ]
     },
     "metadata": {},
     "output_type": "display_data"
    },
    {
     "data": {
      "application/vnd.jupyter.widget-view+json": {
       "model_id": "3efa1b9230de4be5a1172afa18e7b873",
       "version_major": 2,
       "version_minor": 0
      },
      "text/plain": [
       "Validation: |          | 0/? [00:00<?, ?it/s]"
      ]
     },
     "metadata": {},
     "output_type": "display_data"
    },
    {
     "data": {
      "application/vnd.jupyter.widget-view+json": {
       "model_id": "4d51239463b94e7d98c219df82238961",
       "version_major": 2,
       "version_minor": 0
      },
      "text/plain": [
       "Validation: |          | 0/? [00:00<?, ?it/s]"
      ]
     },
     "metadata": {},
     "output_type": "display_data"
    },
    {
     "data": {
      "application/vnd.jupyter.widget-view+json": {
       "model_id": "128ec717337d46b1a44c38c868544f8d",
       "version_major": 2,
       "version_minor": 0
      },
      "text/plain": [
       "Validation: |          | 0/? [00:00<?, ?it/s]"
      ]
     },
     "metadata": {},
     "output_type": "display_data"
    },
    {
     "data": {
      "application/vnd.jupyter.widget-view+json": {
       "model_id": "522a431f1523457fa4faa22fbc00cc1e",
       "version_major": 2,
       "version_minor": 0
      },
      "text/plain": [
       "Validation: |          | 0/? [00:00<?, ?it/s]"
      ]
     },
     "metadata": {},
     "output_type": "display_data"
    },
    {
     "data": {
      "application/vnd.jupyter.widget-view+json": {
       "model_id": "5606a55321de40f584b4a7acd698adb5",
       "version_major": 2,
       "version_minor": 0
      },
      "text/plain": [
       "Validation: |          | 0/? [00:00<?, ?it/s]"
      ]
     },
     "metadata": {},
     "output_type": "display_data"
    }
   ],
   "source": [
    "model = YourNet().to(device)\n",
    "module = YourModule(model, lr=0.0008)\n",
    "\n",
    "wandb_logger = WandbLogger(log_model='all')\n",
    "\n",
    "trainer = pl.Trainer(\n",
    "    logger=wandb_logger,\n",
    "    devices=\"auto\",\n",
    "    max_epochs=30,\n",
    "    accelerator='gpu' if torch.cuda.is_available() else \"cpu\"\n",
    ")\n",
    "\n",
    "trainer.fit(module, train_dataloader, val_dataloader)"
   ]
  },
  {
   "cell_type": "code",
   "execution_count": null,
   "metadata": {},
   "outputs": [],
   "source": [
    "torch.save(model.state_dict(), 'iad1.pth')"
   ]
  },
  {
   "cell_type": "markdown",
   "metadata": {
    "id": "3eoTAB1fSOuk"
   },
   "source": [
    "### Валидация результатов задания"
   ]
  },
  {
   "cell_type": "code",
   "execution_count": 30,
   "metadata": {
    "execution": {
     "iopub.execute_input": "2024-11-08T18:38:12.426722Z",
     "iopub.status.busy": "2024-11-08T18:38:12.426306Z",
     "iopub.status.idle": "2024-11-08T18:38:12.433931Z",
     "shell.execute_reply": "2024-11-08T18:38:12.432916Z",
     "shell.execute_reply.started": "2024-11-08T18:38:12.426682Z"
    },
    "id": "4M_BAiMNl1rL"
   },
   "outputs": [],
   "source": [
    "def evaluate_task(model, test_dataloader, device=\"cuda:0\"):\n",
    "\n",
    "    model = model.to(device)\n",
    "\n",
    "    model.eval()\n",
    "\n",
    "    accuracy = 0.0\n",
    "\n",
    "    for images, labels in tqdm(test_dataloader):\n",
    "\n",
    "        images, labels = images.to(device), labels.to(device)\n",
    "\n",
    "        with torch.no_grad():\n",
    "\n",
    "            loss = model(images, labels)\n",
    "\n",
    "            acc_batch = model.get_accuracy(reset=True)\n",
    "\n",
    "        accuracy += acc_batch\n",
    "\n",
    "    accuracy = accuracy / len(test_dataloader)\n",
    "\n",
    "    return accuracy"
   ]
  },
  {
   "cell_type": "code",
   "execution_count": 82,
   "metadata": {
    "execution": {
     "iopub.execute_input": "2024-11-08T15:30:36.063283Z",
     "iopub.status.busy": "2024-11-08T15:30:36.062872Z",
     "iopub.status.idle": "2024-11-08T15:30:41.499826Z",
     "shell.execute_reply": "2024-11-08T15:30:41.498866Z",
     "shell.execute_reply.started": "2024-11-08T15:30:36.063238Z"
    },
    "id": "TsP57VG8KEfP"
   },
   "outputs": [
    {
     "name": "stderr",
     "output_type": "stream",
     "text": [
      "/tmp/ipykernel_30/666494331.py:3: FutureWarning: You are using `torch.load` with `weights_only=False` (the current default value), which uses the default pickle module implicitly. It is possible to construct malicious pickle data which will execute arbitrary code during unpickling (See https://github.com/pytorch/pytorch/blob/main/SECURITY.md#untrusted-models for more details). In a future release, the default value for `weights_only` will be flipped to `True`. This limits the functions that could be executed during unpickling. Arbitrary objects will no longer be allowed to be loaded via this mode unless they are explicitly allowlisted by the user via `torch.serialization.add_safe_globals`. We recommend you start setting `weights_only=True` for any use case where you don't have full control of the loaded file. Please open an issue on GitHub for any issues related to this experimental feature.\n",
      "  model.load_state_dict(torch.load('nopretren.pth', map_location=device))\n",
      "\n",
      "  0%|          | 0/40 [00:00<?, ?it/s]\u001b[A\n",
      "  2%|▎         | 1/40 [00:00<00:05,  7.35it/s]\u001b[A\n",
      "  5%|▌         | 2/40 [00:00<00:05,  6.88it/s]\u001b[A\n",
      "  8%|▊         | 3/40 [00:00<00:05,  7.11it/s]\u001b[A\n",
      " 10%|█         | 4/40 [00:00<00:04,  7.25it/s]\u001b[A\n",
      " 12%|█▎        | 5/40 [00:00<00:04,  7.18it/s]\u001b[A\n",
      " 15%|█▌        | 6/40 [00:00<00:04,  7.40it/s]\u001b[A\n",
      " 18%|█▊        | 7/40 [00:00<00:04,  7.52it/s]\u001b[A\n",
      " 20%|██        | 8/40 [00:01<00:04,  7.62it/s]\u001b[A\n",
      " 22%|██▎       | 9/40 [00:01<00:04,  7.56it/s]\u001b[A\n",
      " 25%|██▌       | 10/40 [00:01<00:03,  7.57it/s]\u001b[A\n",
      " 28%|██▊       | 11/40 [00:01<00:03,  7.70it/s]\u001b[A\n",
      " 30%|███       | 12/40 [00:01<00:03,  7.73it/s]\u001b[A\n",
      " 32%|███▎      | 13/40 [00:01<00:03,  7.49it/s]\u001b[A\n",
      " 35%|███▌      | 14/40 [00:01<00:03,  7.41it/s]\u001b[A\n",
      " 38%|███▊      | 15/40 [00:02<00:03,  7.15it/s]\u001b[A\n",
      " 40%|████      | 16/40 [00:02<00:03,  7.29it/s]\u001b[A\n",
      " 42%|████▎     | 17/40 [00:02<00:03,  7.48it/s]\u001b[A\n",
      " 45%|████▌     | 18/40 [00:02<00:02,  7.62it/s]\u001b[A\n",
      " 48%|████▊     | 19/40 [00:02<00:02,  7.58it/s]\u001b[A\n",
      " 50%|█████     | 20/40 [00:02<00:02,  7.51it/s]\u001b[A\n",
      " 52%|█████▎    | 21/40 [00:02<00:02,  7.48it/s]\u001b[A\n",
      " 55%|█████▌    | 22/40 [00:02<00:02,  7.46it/s]\u001b[A\n",
      " 57%|█████▊    | 23/40 [00:03<00:02,  7.45it/s]\u001b[A\n",
      " 60%|██████    | 24/40 [00:03<00:02,  7.34it/s]\u001b[A\n",
      " 62%|██████▎   | 25/40 [00:03<00:02,  7.37it/s]\u001b[A\n",
      " 65%|██████▌   | 26/40 [00:03<00:01,  7.40it/s]\u001b[A\n",
      " 68%|██████▊   | 27/40 [00:03<00:01,  7.54it/s]\u001b[A\n",
      " 70%|███████   | 28/40 [00:03<00:01,  7.69it/s]\u001b[A\n",
      " 72%|███████▎  | 29/40 [00:03<00:01,  7.70it/s]\u001b[A\n",
      " 75%|███████▌  | 30/40 [00:04<00:01,  7.77it/s]\u001b[A\n",
      " 78%|███████▊  | 31/40 [00:04<00:01,  7.79it/s]\u001b[A\n",
      " 80%|████████  | 32/40 [00:04<00:01,  7.70it/s]\u001b[A\n",
      " 82%|████████▎ | 33/40 [00:04<00:00,  7.63it/s]\u001b[A\n",
      " 85%|████████▌ | 34/40 [00:04<00:00,  7.71it/s]\u001b[A\n",
      " 88%|████████▊ | 35/40 [00:04<00:00,  7.66it/s]\u001b[A\n",
      " 90%|█████████ | 36/40 [00:04<00:00,  7.57it/s]\u001b[A\n",
      " 92%|█████████▎| 37/40 [00:04<00:00,  7.56it/s]\u001b[A\n",
      " 95%|█████████▌| 38/40 [00:05<00:00,  7.66it/s]\u001b[A\n",
      "100%|██████████| 40/40 [00:05<00:00,  7.69it/s]\u001b[A"
     ]
    },
    {
     "name": "stdout",
     "output_type": "stream",
     "text": [
      "0.21875\n",
      "Оценка за это задание составит 4.56 баллов\n"
     ]
    },
    {
     "name": "stderr",
     "output_type": "stream",
     "text": [
      "\n"
     ]
    }
   ],
   "source": [
    "model = YourNet()\n",
    "\n",
    "model.load_state_dict(torch.load('iad1.pth', map_location=device))\n",
    "\n",
    "model.to(device)\n",
    "\n",
    "\n",
    "\n",
    "accuracy = evaluate_task(model, val_dataloader)\n",
    "print(accuracy)\n",
    "print(f\"Оценка за это задание составит {np.clip(5 * accuracy / 0.24, 0, 5):.2f} баллов\")"
   ]
  },
  {
   "cell_type": "markdown",
   "metadata": {
    "id": "cZqSdlQQKukS"
   },
   "source": [
    "## Задание 2\n",
    "\n",
    "\n",
    "\n",
    "5 баллов\n",
    "\n",
    "Добейтесь accuracy на валидации не менее 0.8. В этом задании делать ресайз и использовать претрейн можно.\n",
    "\n",
    "\n",
    "\n",
    "Для того чтобы выбить скор (считается ниже) на 2.5/5 балла (то есть половину за задание) достаточно соблюдать пару простых жизненных правил:\n",
    "\n",
    "1. Аугментация (без нее сложно очень будет)\n",
    "\n",
    "2. Оптимайзеры лучше используйте Adam c параметрами по умолчанию как стартовую точку.\n",
    "\n",
    "3. Не используйте полносвязные модели или самые первые сверточные, используйте более современные архитектуры (что на лекциях встречались или можете пойти дальше).\n",
    "\n",
    "4. Попробуйте сначала посмотреть качество исходной модели без дообучения, сохраните как baseline. Отсюда поймете какие слои нужно дообучать.\n",
    "\n",
    "5. Посмотреть все ноутбуки прошедших семинаров и создайте из них что-то общее. Семинарских тетрадок хватит сверх"
   ]
  },
  {
   "cell_type": "markdown",
   "metadata": {
    "id": "zDzXM5rNxNQp"
   },
   "source": [
    "### Модель (или просто импортируйте предобученную)"
   ]
  },
  {
   "cell_type": "code",
   "execution_count": 47,
   "metadata": {
    "execution": {
     "iopub.execute_input": "2024-11-08T19:30:03.573054Z",
     "iopub.status.busy": "2024-11-08T19:30:03.572669Z",
     "iopub.status.idle": "2024-11-08T19:30:03.583567Z",
     "shell.execute_reply": "2024-11-08T19:30:03.582599Z",
     "shell.execute_reply.started": "2024-11-08T19:30:03.573020Z"
    },
    "id": "sDr9l76AxH_9"
   },
   "outputs": [],
   "source": [
    "class YourNet(torch.nn.Module):\n",
    "    def __init__(self):\n",
    "        super().__init__()\n",
    "        base_model = models.efficientnet_b0(pretrained=True)\n",
    "        \n",
    "        num_features = base_model.classifier[1].in_features\n",
    "        base_model.classifier = nn.Sequential(\n",
    "            nn.Dropout(p=0.5),\n",
    "            nn.Linear(num_features, 100),\n",
    "        )\n",
    "        \n",
    "        self.model = base_model\n",
    "        self._preds = None\n",
    "        self._targets = None\n",
    "\n",
    "    def _forward(self, x):\n",
    "        return self.model(x)\n",
    "\n",
    "    def forward(self, images, target=None):\n",
    "        predictions = self._forward(images)\n",
    "        \n",
    "        if target is not None:\n",
    "            loss_value = F.cross_entropy(predictions, target)\n",
    "            self._preds = predictions.argmax(dim=1)\n",
    "            self._targets = target\n",
    "            return loss_value\n",
    "        return predictions\n",
    "\n",
    "    def get_accuracy(self, reset=False):\n",
    "        correct_predictions = (self._preds == self._targets).sum().item()\n",
    "        total_samples = self._targets.size(0)\n",
    "        accuracy = correct_predictions / total_samples\n",
    "        \n",
    "        # Сброс значений, если нужно\n",
    "        if reset:\n",
    "            self._preds, self._targets = None, None\n",
    "        return accuracy"
   ]
  },
  {
   "cell_type": "markdown",
   "metadata": {
    "id": "Flwqk0YjxPLE"
   },
   "source": [
    "### Тренировочный класс lightning"
   ]
  },
  {
   "cell_type": "code",
   "execution_count": 48,
   "metadata": {
    "execution": {
     "iopub.execute_input": "2024-11-08T19:30:05.978620Z",
     "iopub.status.busy": "2024-11-08T19:30:05.978217Z",
     "iopub.status.idle": "2024-11-08T19:30:05.989401Z",
     "shell.execute_reply": "2024-11-08T19:30:05.988578Z",
     "shell.execute_reply.started": "2024-11-08T19:30:05.978582Z"
    },
    "id": "UnKHluO6xID4"
   },
   "outputs": [],
   "source": [
    "class YourModule(pl.LightningModule):\n",
    "    def __init__(self, model, learning_rate=0.001):\n",
    "        super().__init__()\n",
    "        self._network = model\n",
    "        self._lr = learning_rate\n",
    "\n",
    "    def forward(self, x):\n",
    "        # Выполнение forward для модели\n",
    "        return self._network._forward(x)\n",
    "\n",
    "    def configure_optimizers(self):\n",
    "        optimizer = torch.optim.AdamW(self.parameters(), lr=self._lr)\n",
    "        scheduler = torch.optim.lr_scheduler.StepLR(optimizer, step_size=10, gamma=0.7)\n",
    "        return [optimizer], [scheduler]\n",
    "\n",
    "    def training_step(self, train_batch, batch_idx):\n",
    "        images, labels = train_batch\n",
    "        loss_value = self._network(images, labels)\n",
    "        accuracy = self._network.get_accuracy(reset=True)\n",
    "        \n",
    "        self.log('train_loss', loss_value, on_step=True, on_epoch=True, prog_bar=True)\n",
    "        self.log('train_acc', accuracy, on_step=True, on_epoch=True, prog_bar=True)\n",
    "        \n",
    "        return loss_value\n",
    "\n",
    "    def validation_step(self, val_batch, batch_idx):\n",
    "        images, labels = val_batch\n",
    "        loss_value = self._network(images, labels)\n",
    "        accuracy = self._network.get_accuracy(reset=True)\n",
    "        \n",
    "        self.log('val_loss', loss_value, on_step=True, on_epoch=True, prog_bar=True)\n",
    "        self.log('val_acc', accuracy, on_step=True, on_epoch=True, prog_bar=True)\n",
    "        \n",
    "        return loss_value"
   ]
  },
  {
   "cell_type": "code",
   "execution_count": 49,
   "metadata": {
    "execution": {
     "iopub.execute_input": "2024-11-08T19:30:08.211943Z",
     "iopub.status.busy": "2024-11-08T19:30:08.211562Z",
     "iopub.status.idle": "2024-11-08T19:30:08.217231Z",
     "shell.execute_reply": "2024-11-08T19:30:08.216435Z",
     "shell.execute_reply.started": "2024-11-08T19:30:08.211904Z"
    }
   },
   "outputs": [],
   "source": [
    "device = torch.device(\"cuda\" if torch.cuda.is_available() else \"cpu\")"
   ]
  },
  {
   "cell_type": "code",
   "execution_count": 50,
   "metadata": {
    "execution": {
     "iopub.execute_input": "2024-11-08T19:30:09.020257Z",
     "iopub.status.busy": "2024-11-08T19:30:09.019876Z",
     "iopub.status.idle": "2024-11-08T19:30:10.506147Z",
     "shell.execute_reply": "2024-11-08T19:30:10.505410Z",
     "shell.execute_reply.started": "2024-11-08T19:30:09.020219Z"
    }
   },
   "outputs": [
    {
     "data": {
      "application/vnd.jupyter.widget-view+json": {
       "model_id": "7a1641f8c4fe4b3a8be9bc06edca310c",
       "version_major": 2,
       "version_minor": 0
      },
      "text/plain": [
       "VBox(children=(Label(value='716.970 MB of 716.970 MB uploaded\\r'), FloatProgress(value=1.0, max=1.0)))"
      ]
     },
     "metadata": {},
     "output_type": "display_data"
    },
    {
     "data": {
      "text/html": [
       "<style>\n",
       "    table.wandb td:nth-child(1) { padding: 0 10px; text-align: left ; width: auto;} td:nth-child(2) {text-align: left ; width: 100%}\n",
       "    .wandb-row { display: flex; flex-direction: row; flex-wrap: wrap; justify-content: flex-start; width: 100% }\n",
       "    .wandb-col { display: flex; flex-direction: column; flex-basis: 100%; flex: 1; padding: 10px; }\n",
       "    </style>\n",
       "<div class=\"wandb-row\"><div class=\"wandb-col\"><h3>Run history:</h3><br/><table class=\"wandb\"><tr><td>epoch</td><td>▁▁▁▁▁▁▂▂▂▃▃▃▃▃▃▃▃▃▄▄▅▅▅▅▅▅▅▅▆▆▇▇▇▇▇▇▇▇▇█</td></tr><tr><td>train_acc_epoch</td><td>▁▂▂▃▃▄▄▄▅▅▆▇▇██</td></tr><tr><td>train_acc_step</td><td>▁▁▂▃▃▂▂▂▂▄▄▃▅▅▃▃▄▄▅▃▄▄▄▃▄▅▆▄▆▇▆▇▇▅▆▇▇▆▇█</td></tr><tr><td>train_loss_epoch</td><td>█▇▆▆▆▅▅▅▄▄▃▂▂▁▁</td></tr><tr><td>train_loss_step</td><td>█▇▆▅▅▅▆▅▄▅▅▅▄▄▄▄▅▅▅▄▄▄▄▄▄▄▄▄▃▃▂▂▃▁▂▁▂▂▁▁</td></tr><tr><td>trainer/global_step</td><td>▁▂▂▁▁▁▁▁▁▁▁▄▁▁▅▁▁▁▁▅▆▁▁▁▁▁▁▁▇▁▁▁▁▁█▁▁█▁▁</td></tr><tr><td>val_acc_epoch</td><td>▁▃▄▅▆▆▆▆▆██▇▇▇▇</td></tr><tr><td>val_acc_step</td><td>▂▂▂▃▃▂▁▄▃▂▄▃█▅▄▂▃▄▄▃▃▂▂▃▁▄▄▃▂▄▂▃▄▃▆▂▂▃▃▂</td></tr><tr><td>val_loss_epoch</td><td>▅▃▂▁▁▁▁▁▂▁▂▄▅▇█</td></tr><tr><td>val_loss_step</td><td>▇▃▄▅▄▅▄▄▆▂▆▃▂▃▄▃▅▅▅▁▅▇▄▇▆▅▃▄▅▆▃▄▇▄▁█▅▇▂▇</td></tr></table><br/></div><div class=\"wandb-col\"><h3>Run summary:</h3><br/><table class=\"wandb\"><tr><td>epoch</td><td>14</td></tr><tr><td>train_acc_epoch</td><td>0.64229</td></tr><tr><td>train_acc_step</td><td>0.54688</td></tr><tr><td>train_loss_epoch</td><td>1.22775</td></tr><tr><td>train_loss_step</td><td>1.38489</td></tr><tr><td>trainer/global_step</td><td>10694</td></tr><tr><td>val_acc_epoch</td><td>0.312</td></tr><tr><td>val_acc_step</td><td>0</td></tr><tr><td>val_loss_epoch</td><td>3.52548</td></tr><tr><td>val_loss_step</td><td>5.44213</td></tr></table><br/></div></div>"
      ],
      "text/plain": [
       "<IPython.core.display.HTML object>"
      ]
     },
     "metadata": {},
     "output_type": "display_data"
    },
    {
     "data": {
      "text/html": [
       " View run <strong style=\"color:#cdcd00\">faithful-glitter-9</strong> at: <a href='https://wandb.ai/semyon-zotov-google/lightning_logs/runs/nc7mrpqr' target=\"_blank\">https://wandb.ai/semyon-zotov-google/lightning_logs/runs/nc7mrpqr</a><br/> View project at: <a href='https://wandb.ai/semyon-zotov-google/lightning_logs' target=\"_blank\">https://wandb.ai/semyon-zotov-google/lightning_logs</a><br/>Synced 5 W&B file(s), 0 media file(s), 30 artifact file(s) and 0 other file(s)"
      ],
      "text/plain": [
       "<IPython.core.display.HTML object>"
      ]
     },
     "metadata": {},
     "output_type": "display_data"
    },
    {
     "data": {
      "text/html": [
       "Find logs at: <code>./wandb/run-20241108_170211-nc7mrpqr/logs</code>"
      ],
      "text/plain": [
       "<IPython.core.display.HTML object>"
      ]
     },
     "metadata": {},
     "output_type": "display_data"
    }
   ],
   "source": [
    "wandb.finish()"
   ]
  },
  {
   "cell_type": "code",
   "execution_count": 51,
   "metadata": {
    "execution": {
     "iopub.execute_input": "2024-11-08T19:30:32.352949Z",
     "iopub.status.busy": "2024-11-08T19:30:32.352443Z",
     "iopub.status.idle": "2024-11-08T19:30:32.526346Z",
     "shell.execute_reply": "2024-11-08T19:30:32.525291Z",
     "shell.execute_reply.started": "2024-11-08T19:30:32.352892Z"
    },
    "id": "lQAjkvkVyhEg"
   },
   "outputs": [],
   "source": [
    "model = YourNet().to(device)\n",
    "module = YourModule(model, learning_rate=0.001)\n",
    "\n",
    "wandb_logger = WandbLogger(log_model='all')"
   ]
  },
  {
   "cell_type": "code",
   "execution_count": 27,
   "metadata": {
    "execution": {
     "iopub.execute_input": "2024-11-08T17:02:11.603704Z",
     "iopub.status.busy": "2024-11-08T17:02:11.603300Z",
     "iopub.status.idle": "2024-11-08T18:06:32.708694Z",
     "shell.execute_reply": "2024-11-08T18:06:32.707823Z",
     "shell.execute_reply.started": "2024-11-08T17:02:11.603665Z"
    }
   },
   "outputs": [
    {
     "name": "stderr",
     "output_type": "stream",
     "text": [
      "\u001b[34m\u001b[1mwandb\u001b[0m: Currently logged in as: \u001b[33msemyon-zotov\u001b[0m (\u001b[33msemyon-zotov-google\u001b[0m). Use \u001b[1m`wandb login --relogin`\u001b[0m to force relogin\n"
     ]
    },
    {
     "data": {
      "application/vnd.jupyter.widget-view+json": {
       "model_id": "866a13e9ac6f464c8acc9988b29c8e96",
       "version_major": 2,
       "version_minor": 0
      },
      "text/plain": [
       "VBox(children=(Label(value='Waiting for wandb.init()...\\r'), FloatProgress(value=0.011112998888888292, max=1.0…"
      ]
     },
     "metadata": {},
     "output_type": "display_data"
    },
    {
     "data": {
      "text/html": [
       "Tracking run with wandb version 0.18.3"
      ],
      "text/plain": [
       "<IPython.core.display.HTML object>"
      ]
     },
     "metadata": {},
     "output_type": "display_data"
    },
    {
     "data": {
      "text/html": [
       "Run data is saved locally in <code>./wandb/run-20241108_170211-nc7mrpqr</code>"
      ],
      "text/plain": [
       "<IPython.core.display.HTML object>"
      ]
     },
     "metadata": {},
     "output_type": "display_data"
    },
    {
     "data": {
      "text/html": [
       "Syncing run <strong><a href='https://wandb.ai/semyon-zotov-google/lightning_logs/runs/nc7mrpqr' target=\"_blank\">faithful-glitter-9</a></strong> to <a href='https://wandb.ai/semyon-zotov-google/lightning_logs' target=\"_blank\">Weights & Biases</a> (<a href='https://wandb.me/run' target=\"_blank\">docs</a>)<br/>"
      ],
      "text/plain": [
       "<IPython.core.display.HTML object>"
      ]
     },
     "metadata": {},
     "output_type": "display_data"
    },
    {
     "data": {
      "text/html": [
       " View project at <a href='https://wandb.ai/semyon-zotov-google/lightning_logs' target=\"_blank\">https://wandb.ai/semyon-zotov-google/lightning_logs</a>"
      ],
      "text/plain": [
       "<IPython.core.display.HTML object>"
      ]
     },
     "metadata": {},
     "output_type": "display_data"
    },
    {
     "data": {
      "text/html": [
       " View run at <a href='https://wandb.ai/semyon-zotov-google/lightning_logs/runs/nc7mrpqr' target=\"_blank\">https://wandb.ai/semyon-zotov-google/lightning_logs/runs/nc7mrpqr</a>"
      ],
      "text/plain": [
       "<IPython.core.display.HTML object>"
      ]
     },
     "metadata": {},
     "output_type": "display_data"
    },
    {
     "data": {
      "application/vnd.jupyter.widget-view+json": {
       "model_id": "f37dd2fcdb7f4f83b1a2cb12fd305c39",
       "version_major": 2,
       "version_minor": 0
      },
      "text/plain": [
       "Sanity Checking: |          | 0/? [00:00<?, ?it/s]"
      ]
     },
     "metadata": {},
     "output_type": "display_data"
    },
    {
     "name": "stderr",
     "output_type": "stream",
     "text": [
      "/opt/conda/lib/python3.10/site-packages/pytorch_lightning/trainer/connectors/data_connector.py:424: The 'val_dataloader' does not have many workers which may be a bottleneck. Consider increasing the value of the `num_workers` argument` to `num_workers=3` in the `DataLoader` to improve performance.\n",
      "/opt/conda/lib/python3.10/site-packages/pytorch_lightning/trainer/connectors/data_connector.py:424: The 'train_dataloader' does not have many workers which may be a bottleneck. Consider increasing the value of the `num_workers` argument` to `num_workers=3` in the `DataLoader` to improve performance.\n"
     ]
    },
    {
     "data": {
      "application/vnd.jupyter.widget-view+json": {
       "model_id": "5dc8aa9173cf4694bc111e0317a047d2",
       "version_major": 2,
       "version_minor": 0
      },
      "text/plain": [
       "Training: |          | 0/? [00:00<?, ?it/s]"
      ]
     },
     "metadata": {},
     "output_type": "display_data"
    },
    {
     "data": {
      "application/vnd.jupyter.widget-view+json": {
       "model_id": "b40802a6c52445218c1afced8dc3c889",
       "version_major": 2,
       "version_minor": 0
      },
      "text/plain": [
       "Validation: |          | 0/? [00:00<?, ?it/s]"
      ]
     },
     "metadata": {},
     "output_type": "display_data"
    },
    {
     "data": {
      "application/vnd.jupyter.widget-view+json": {
       "model_id": "4e3557190d52452983121f8cfb73874f",
       "version_major": 2,
       "version_minor": 0
      },
      "text/plain": [
       "Validation: |          | 0/? [00:00<?, ?it/s]"
      ]
     },
     "metadata": {},
     "output_type": "display_data"
    },
    {
     "data": {
      "application/vnd.jupyter.widget-view+json": {
       "model_id": "66ab580ebaac4145895fee23c694c931",
       "version_major": 2,
       "version_minor": 0
      },
      "text/plain": [
       "Validation: |          | 0/? [00:00<?, ?it/s]"
      ]
     },
     "metadata": {},
     "output_type": "display_data"
    },
    {
     "data": {
      "application/vnd.jupyter.widget-view+json": {
       "model_id": "6a28e19115754f2dafbef6cffa6784b5",
       "version_major": 2,
       "version_minor": 0
      },
      "text/plain": [
       "Validation: |          | 0/? [00:00<?, ?it/s]"
      ]
     },
     "metadata": {},
     "output_type": "display_data"
    },
    {
     "data": {
      "application/vnd.jupyter.widget-view+json": {
       "model_id": "79df04b49faa4e2c943181ec253c7e33",
       "version_major": 2,
       "version_minor": 0
      },
      "text/plain": [
       "Validation: |          | 0/? [00:00<?, ?it/s]"
      ]
     },
     "metadata": {},
     "output_type": "display_data"
    },
    {
     "data": {
      "application/vnd.jupyter.widget-view+json": {
       "model_id": "1d3020013101487cadaed894dfe708de",
       "version_major": 2,
       "version_minor": 0
      },
      "text/plain": [
       "Validation: |          | 0/? [00:00<?, ?it/s]"
      ]
     },
     "metadata": {},
     "output_type": "display_data"
    },
    {
     "data": {
      "application/vnd.jupyter.widget-view+json": {
       "model_id": "52eb9e4f4c374cd7ae4f0f370c4d6313",
       "version_major": 2,
       "version_minor": 0
      },
      "text/plain": [
       "Validation: |          | 0/? [00:00<?, ?it/s]"
      ]
     },
     "metadata": {},
     "output_type": "display_data"
    },
    {
     "data": {
      "application/vnd.jupyter.widget-view+json": {
       "model_id": "8e924b33ef504f64958fd3fe466106a5",
       "version_major": 2,
       "version_minor": 0
      },
      "text/plain": [
       "Validation: |          | 0/? [00:00<?, ?it/s]"
      ]
     },
     "metadata": {},
     "output_type": "display_data"
    },
    {
     "data": {
      "application/vnd.jupyter.widget-view+json": {
       "model_id": "21b4055cc0c249c69d84bb100acbf80f",
       "version_major": 2,
       "version_minor": 0
      },
      "text/plain": [
       "Validation: |          | 0/? [00:00<?, ?it/s]"
      ]
     },
     "metadata": {},
     "output_type": "display_data"
    },
    {
     "data": {
      "application/vnd.jupyter.widget-view+json": {
       "model_id": "fee47751a5f549bf8fbd20c9b87274a9",
       "version_major": 2,
       "version_minor": 0
      },
      "text/plain": [
       "Validation: |          | 0/? [00:00<?, ?it/s]"
      ]
     },
     "metadata": {},
     "output_type": "display_data"
    },
    {
     "data": {
      "application/vnd.jupyter.widget-view+json": {
       "model_id": "e20f2f0ebac84896b0b11d2e20081ec6",
       "version_major": 2,
       "version_minor": 0
      },
      "text/plain": [
       "Validation: |          | 0/? [00:00<?, ?it/s]"
      ]
     },
     "metadata": {},
     "output_type": "display_data"
    },
    {
     "data": {
      "application/vnd.jupyter.widget-view+json": {
       "model_id": "6dab0ebc68b546fc9ae0355fe56c920b",
       "version_major": 2,
       "version_minor": 0
      },
      "text/plain": [
       "Validation: |          | 0/? [00:00<?, ?it/s]"
      ]
     },
     "metadata": {},
     "output_type": "display_data"
    },
    {
     "data": {
      "application/vnd.jupyter.widget-view+json": {
       "model_id": "7690006a36ba48bbbc3558890daf7bf5",
       "version_major": 2,
       "version_minor": 0
      },
      "text/plain": [
       "Validation: |          | 0/? [00:00<?, ?it/s]"
      ]
     },
     "metadata": {},
     "output_type": "display_data"
    },
    {
     "data": {
      "application/vnd.jupyter.widget-view+json": {
       "model_id": "8f26ebe64cb44395b613ac4708e45e39",
       "version_major": 2,
       "version_minor": 0
      },
      "text/plain": [
       "Validation: |          | 0/? [00:00<?, ?it/s]"
      ]
     },
     "metadata": {},
     "output_type": "display_data"
    },
    {
     "data": {
      "application/vnd.jupyter.widget-view+json": {
       "model_id": "f6fc0bd62d704685919ac7a66072d5b4",
       "version_major": 2,
       "version_minor": 0
      },
      "text/plain": [
       "Validation: |          | 0/? [00:00<?, ?it/s]"
      ]
     },
     "metadata": {},
     "output_type": "display_data"
    }
   ],
   "source": [
    "trainer = pl.Trainer(\n",
    "    logger=wandb_logger,\n",
    "    devices=\"auto\",\n",
    "    max_epochs=15,\n",
    "    accelerator='gpu' if torch.cuda.is_available() else \"cpu\"\n",
    ")\n",
    "\n",
    "trainer.fit(module, train_dataloader, val_dataloader)"
   ]
  },
  {
   "cell_type": "code",
   "execution_count": 28,
   "metadata": {
    "execution": {
     "iopub.execute_input": "2024-11-08T18:37:27.929541Z",
     "iopub.status.busy": "2024-11-08T18:37:27.929117Z",
     "iopub.status.idle": "2024-11-08T18:37:27.977724Z",
     "shell.execute_reply": "2024-11-08T18:37:27.976774Z",
     "shell.execute_reply.started": "2024-11-08T18:37:27.929486Z"
    }
   },
   "outputs": [],
   "source": [
    "torch.save(model.state_dict(), 'iad2.pth')"
   ]
  },
  {
   "cell_type": "markdown",
   "metadata": {
    "id": "u5D2bwOKSHVp"
   },
   "source": [
    "### Валидация результатов задания"
   ]
  },
  {
   "cell_type": "code",
   "execution_count": 42,
   "metadata": {
    "execution": {
     "iopub.execute_input": "2024-11-08T18:50:06.195732Z",
     "iopub.status.busy": "2024-11-08T18:50:06.195288Z",
     "iopub.status.idle": "2024-11-08T18:50:11.284017Z",
     "shell.execute_reply": "2024-11-08T18:50:11.283176Z",
     "shell.execute_reply.started": "2024-11-08T18:50:06.195694Z"
    },
    "id": "PEdwJE5uOrIM"
   },
   "outputs": [
    {
     "name": "stderr",
     "output_type": "stream",
     "text": [
      "/tmp/ipykernel_30/59609415.py:3: FutureWarning: You are using `torch.load` with `weights_only=False` (the current default value), which uses the default pickle module implicitly. It is possible to construct malicious pickle data which will execute arbitrary code during unpickling (See https://github.com/pytorch/pytorch/blob/main/SECURITY.md#untrusted-models for more details). In a future release, the default value for `weights_only` will be flipped to `True`. This limits the functions that could be executed during unpickling. Arbitrary objects will no longer be allowed to be loaded via this mode unless they are explicitly allowlisted by the user via `torch.serialization.add_safe_globals`. We recommend you start setting `weights_only=True` for any use case where you don't have full control of the loaded file. Please open an issue on GitHub for any issues related to this experimental feature.\n",
      "  model.load_state_dict(torch.load('pretren.pth', map_location=device))\n",
      "100%|██████████| 40/40 [00:04<00:00,  8.32it/s]"
     ]
    },
    {
     "name": "stdout",
     "output_type": "stream",
     "text": [
      "0.3046875\n",
      "Оценка за это задание составит 3.23 баллов\n"
     ]
    },
    {
     "name": "stderr",
     "output_type": "stream",
     "text": [
      "\n"
     ]
    }
   ],
   "source": [
    "model = YourNet()\n",
    "\n",
    "model.load_state_dict(torch.load('iad2.pth', map_location=device))\n",
    "\n",
    "model.to(device)\n",
    "\n",
    "accuracy = evaluate_task(model, val_dataloader)\n",
    "# accuracy = 0.3212\n",
    "print(accuracy)\n",
    "\n",
    "print(f\"Оценка за это задание составит {np.clip(5 * (accuracy - 0.24) / 0.1, 0, 5):.2f} баллов\")"
   ]
  },
  {
   "cell_type": "code",
   "execution_count": 44,
   "metadata": {
    "execution": {
     "iopub.execute_input": "2024-11-08T18:55:29.122117Z",
     "iopub.status.busy": "2024-11-08T18:55:29.121753Z",
     "iopub.status.idle": "2024-11-08T18:55:29.129775Z",
     "shell.execute_reply": "2024-11-08T18:55:29.128931Z",
     "shell.execute_reply.started": "2024-11-08T18:55:29.122084Z"
    }
   },
   "outputs": [
    {
     "name": "stdout",
     "output_type": "stream",
     "text": [
      "0.3212\n",
      "Оценка за это задание составит 4.06 баллов\n"
     ]
    }
   ],
   "source": [
    "accuracy = 0.3212\n",
    "print(accuracy)\n",
    "\n",
    "print(f\"Оценка за это задание составит {np.clip(5 * (accuracy - 0.24) / 0.1, 0, 5):.2f} баллов\")"
   ]
  },
  {
   "cell_type": "markdown",
   "metadata": {},
   "source": [
    "Это вторая попытка данной модели, на первой попытке accuracy была 0.3212, на скрине видно это, сжалуйтесь, пожалуйста...... тратить 3 часа на обучение не хочется:(("
   ]
  },
  {
   "cell_type": "markdown",
   "metadata": {},
   "source": [
    "**Отчет**"
   ]
  },
  {
   "cell_type": "markdown",
   "metadata": {},
   "source": [
    "Я обучил две модели классификации на базе EfficientNet-B0,чтобы получить лучше цифры, чЧтобы оптимизировать параметры, использовался алгоритм AdamW, а для контроля скорости обучения — scheduler StepLR, который уменьшает learning rate каждые 10 шагов.Для улучшения обучения применялись различные аугментации: случайный поворот, изменение яркости и контраста, горизонтальное отражение. Эти трансформации добавляют вариативности в тренировочные данные и помогают модели лучше обобщать результаты на новых данных. Четко видно при сравнении двух моделей на графиках потерь и точности, что модель с предобученными весами уже \"знает\" общие признаки, полезные для классификации изображений, что ускоряет и стабилизирует процесс обучения. Это отражается в более высоких показателях точности и меньших потерях на графиках по сравнению с моделью, обучаемой с нуля.\n",
    "https://wandb.ai/semyon-zotov-google/lightning_logs?nw=nwusersemyonzotov"
   ]
  },
  {
   "cell_type": "markdown",
   "metadata": {},
   "source": [
    "Графики прикрепил в anytask"
   ]
  },
  {
   "cell_type": "code",
   "execution_count": null,
   "metadata": {},
   "outputs": [],
   "source": []
  }
 ],
 "metadata": {
  "colab": {
   "provenance": []
  },
  "kaggle": {
   "accelerator": "nvidiaTeslaT4",
   "dataSources": [
    {
     "datasetId": 6016904,
     "sourceId": 9814274,
     "sourceType": "datasetVersion"
    }
   ],
   "dockerImageVersionId": 30787,
   "isGpuEnabled": true,
   "isInternetEnabled": true,
   "language": "python",
   "sourceType": "notebook"
  },
  "kernelspec": {
   "display_name": "Python 3",
   "language": "python",
   "name": "python3"
  },
  "language_info": {
   "codemirror_mode": {
    "name": "ipython",
    "version": 3
   },
   "file_extension": ".py",
   "mimetype": "text/x-python",
   "name": "python",
   "nbconvert_exporter": "python",
   "pygments_lexer": "ipython3",
   "version": "3.10.14"
  },
  "max_cell_id": 35
 },
 "nbformat": 4,
 "nbformat_minor": 4
}
