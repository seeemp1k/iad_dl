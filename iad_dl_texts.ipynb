{
 "cells": [
  {
   "cell_type": "markdown",
   "metadata": {
    "id": "N0MMALtdLU6F"
   },
   "source": [
    "<center>\n",
    "<img src=\"https://raw.githubusercontent.com/dvgodoy/PyTorch101_ODSC_Europe2020/master/images/linear_dogs.jpg\" width=\"800\">\n",
    "\n",
    "# Основы глубинного обучения: домашнее задание 4\n",
    "</center>"
   ]
  },
  {
   "cell_type": "markdown",
   "metadata": {
    "id": "Lp2Uf8PGM_zP"
   },
   "source": [
    "**ФИО:** Зотов Семён Вячеславович\n",
    "\n",
    "**Забавный факт о себе:**"
   ]
  },
  {
   "cell_type": "markdown",
   "metadata": {
    "id": "W2LjTioKM_zP"
   },
   "source": [
    "## Общая информация\n",
    "\n",
    "__Дата выдачи:__ 26.11.2024\n",
    "\n",
    "__Мягкий дедлайн:__ 23:59MSK 10.12.2024\n",
    "\n",
    "__Жесткий дедлайн:__ 23:59MSK 13.12.2024"
   ]
  },
  {
   "cell_type": "markdown",
   "metadata": {
    "id": "pGGDD519LWaa"
   },
   "source": [
    "## Оценивание и штрафы\n",
    "\n",
    "Каждая из задач имеет определенную «стоимость» (указана в скобках около задачи). Максимально допустимая оценка за работу — 10 баллов + 2 бонусных балла.\n",
    "\n",
    "**Дисклеймер:** Задание выполняется самостоятельно. «Похожие» решения считаются плагиатом и все задействованные студенты (в том числе те, у кого списали) не могут получить за него больше 0 баллов. Если вы нашли решение какого-то из заданий (или его часть) в открытом источнике, необходимо указать ссылку на этот источник (скорее всего вы будете не единственным, кто это нашел, поэтому чтобы исключить подозрение в плагиате, необходима ссылка на источник). Также помните, что простое копирование чужого кода не является самостоятельной работой."
   ]
  },
  {
   "cell_type": "code",
   "execution_count": 2,
   "metadata": {
    "execution": {
     "iopub.execute_input": "2024-12-12T14:58:59.861360Z",
     "iopub.status.busy": "2024-12-12T14:58:59.861052Z",
     "iopub.status.idle": "2024-12-12T14:58:59.865551Z",
     "shell.execute_reply": "2024-12-12T14:58:59.864531Z",
     "shell.execute_reply.started": "2024-12-12T14:58:59.861332Z"
    },
    "id": "e88B7C_7M_zQ"
   },
   "outputs": [],
   "source": [
    "import pandas as pd\n",
    "import numpy as np\n",
    "\n",
    "import matplotlib.pyplot as plt\n",
    "import seaborn as sns\n",
    "\n",
    "from tqdm.notebook import tqdm"
   ]
  },
  {
   "cell_type": "code",
   "execution_count": 3,
   "metadata": {
    "colab": {
     "base_uri": "https://localhost:8080/"
    },
    "execution": {
     "iopub.execute_input": "2024-12-12T14:59:01.060936Z",
     "iopub.status.busy": "2024-12-12T14:59:01.060257Z",
     "iopub.status.idle": "2024-12-12T14:59:04.152617Z",
     "shell.execute_reply": "2024-12-12T14:59:04.151718Z",
     "shell.execute_reply.started": "2024-12-12T14:59:01.060899Z"
    },
    "id": "nqB7HlFIM_zR",
    "outputId": "33c24d3f-f51d-453d-8a21-cb6a1891a181"
   },
   "outputs": [
    {
     "data": {
      "text/plain": [
       "device(type='cuda', index=0)"
      ]
     },
     "execution_count": 3,
     "metadata": {},
     "output_type": "execute_result"
    }
   ],
   "source": [
    "import torch\n",
    "device = torch.device('cuda:0' if torch.cuda.is_available() else 'cpu')\n",
    "device"
   ]
  },
  {
   "cell_type": "markdown",
   "metadata": {
    "id": "GkjGmtWoM_zR"
   },
   "source": [
    "# Описание данных\n",
    "\n",
    "Данные можно [скачать с гугл-диска.](https://drive.google.com/drive/folders/11oCcLplWtp_qm-WuEbfCFP_Mz5K_z3ps?usp=sharing) Если вы делаете задание в колабе, то строчки ниже сами скачают вам данные.\n",
    "\n"
   ]
  },
  {
   "cell_type": "code",
   "execution_count": 5,
   "metadata": {
    "colab": {
     "base_uri": "https://localhost:8080/"
    },
    "execution": {
     "iopub.execute_input": "2024-12-11T20:21:03.655106Z",
     "iopub.status.busy": "2024-12-11T20:21:03.654733Z",
     "iopub.status.idle": "2024-12-11T20:21:03.804694Z",
     "shell.execute_reply": "2024-12-11T20:21:03.803475Z",
     "shell.execute_reply.started": "2024-12-11T20:21:03.655079Z"
    },
    "id": "axuNZI0WnQZA",
    "outputId": "4bebc3ff-dfaf-4dc3-e4f3-91b8588bcd99"
   },
   "outputs": [
    {
     "ename": "ModuleNotFoundError",
     "evalue": "No module named 'google.colab'",
     "output_type": "error",
     "traceback": [
      "\u001b[0;31m---------------------------------------------------------------------------\u001b[0m",
      "\u001b[0;31mModuleNotFoundError\u001b[0m                       Traceback (most recent call last)",
      "Cell \u001b[0;32mIn[5], line 1\u001b[0m\n\u001b[0;32m----> 1\u001b[0m \u001b[38;5;28;01mfrom\u001b[39;00m \u001b[38;5;21;01mgoogle\u001b[39;00m\u001b[38;5;21;01m.\u001b[39;00m\u001b[38;5;21;01mcolab\u001b[39;00m \u001b[38;5;28;01mimport\u001b[39;00m drive\n\u001b[1;32m      2\u001b[0m drive\u001b[38;5;241m.\u001b[39mmount(\u001b[38;5;124m'\u001b[39m\u001b[38;5;124m/content/drive\u001b[39m\u001b[38;5;124m'\u001b[39m)\n",
      "\u001b[0;31mModuleNotFoundError\u001b[0m: No module named 'google.colab'"
     ]
    }
   ],
   "source": [
    "from google.colab import drive\n",
    "drive.mount('/content/drive')"
   ]
  },
  {
   "cell_type": "markdown",
   "metadata": {
    "id": "fNAzGcglM_zS"
   },
   "source": [
    "В таблице `ria_news.tsv`  лежат данные о новостях, вышедших на сайте РИА-НОВОСТИ с 15 марта 2018 года по 31 декабря 2018 года.\n",
    "\n",
    "- `href` - уникальный идентификатор новости (ссылка на неё)\n",
    "- `date` - дата публикации новости\n",
    "- `time` - время публикации новости\n",
    "- `title` - заголовок новости\n",
    "- `snippet` - краткое описание новости\n",
    "- `text` - текст новости\n",
    "- `category` - категория новости\n",
    "- `keywords` - ключевые слова (подкатегории новости)\n",
    "- `shows` - счётчик с числом просмотров новости на сайте (на момент парсинга)"
   ]
  },
  {
   "cell_type": "code",
   "execution_count": 4,
   "metadata": {
    "colab": {
     "base_uri": "https://localhost:8080/",
     "height": 374
    },
    "execution": {
     "iopub.execute_input": "2024-12-12T14:59:07.616230Z",
     "iopub.status.busy": "2024-12-12T14:59:07.615255Z",
     "iopub.status.idle": "2024-12-12T14:59:30.054345Z",
     "shell.execute_reply": "2024-12-12T14:59:30.053525Z",
     "shell.execute_reply.started": "2024-12-12T14:59:07.616190Z"
    },
    "id": "U0-iSeRLM_zS",
    "outputId": "26e9b489-f879-4ccd-fd71-be554a72f550"
   },
   "outputs": [
    {
     "name": "stdout",
     "output_type": "stream",
     "text": [
      "(201708, 9)\n"
     ]
    },
    {
     "data": {
      "text/html": [
       "<div>\n",
       "<style scoped>\n",
       "    .dataframe tbody tr th:only-of-type {\n",
       "        vertical-align: middle;\n",
       "    }\n",
       "\n",
       "    .dataframe tbody tr th {\n",
       "        vertical-align: top;\n",
       "    }\n",
       "\n",
       "    .dataframe thead th {\n",
       "        text-align: right;\n",
       "    }\n",
       "</style>\n",
       "<table border=\"1\" class=\"dataframe\">\n",
       "  <thead>\n",
       "    <tr style=\"text-align: right;\">\n",
       "      <th></th>\n",
       "      <th>href</th>\n",
       "      <th>date</th>\n",
       "      <th>time</th>\n",
       "      <th>title</th>\n",
       "      <th>snippet</th>\n",
       "      <th>text</th>\n",
       "      <th>category</th>\n",
       "      <th>tags</th>\n",
       "      <th>shows</th>\n",
       "    </tr>\n",
       "  </thead>\n",
       "  <tbody>\n",
       "    <tr>\n",
       "      <th>0</th>\n",
       "      <td>/20181231/1548961410.html</td>\n",
       "      <td>2018-12-31</td>\n",
       "      <td>31 декабря 2018, 23:52</td>\n",
       "      <td>Нетаньяху не собирается в отставку в случае пр...</td>\n",
       "      <td>Премьер-министр Израиля Биньямин Нетаньяху не ...</td>\n",
       "      <td>МОСКВА, 31 дек - РИА Новости. Премьер-министр ...</td>\n",
       "      <td>В мире</td>\n",
       "      <td>Биньямин Нетаньяху, Израиль, В мире</td>\n",
       "      <td>728.0</td>\n",
       "    </tr>\n",
       "    <tr>\n",
       "      <th>1</th>\n",
       "      <td>/20181231/1548961364.html</td>\n",
       "      <td>2018-12-31</td>\n",
       "      <td>31 декабря 2018, 23:19</td>\n",
       "      <td>Макрон в новогоднем обращении затронул тему ре...</td>\n",
       "      <td>Результат реформ не может быть мгновенным, зая...</td>\n",
       "      <td>ПАРИЖ, 31 дек – РИА Новости. Результат реформ ...</td>\n",
       "      <td>В мире</td>\n",
       "      <td>Эммануэль Макрон, Франция, В мире</td>\n",
       "      <td>3086.0</td>\n",
       "    </tr>\n",
       "    <tr>\n",
       "      <th>2</th>\n",
       "      <td>/20181231/1548961337.html</td>\n",
       "      <td>2018-12-31</td>\n",
       "      <td>31 декабря 2018, 23:12</td>\n",
       "      <td>Аарон Рэмзи проведет переговоры с пятью топ-кл...</td>\n",
       "      <td>Полузащитник лондонского \"Арсенала\" Аарон Рэмз...</td>\n",
       "      <td>МОСКВА, 31 дек - РИА Новости. Полузащитник лон...</td>\n",
       "      <td>NaN</td>\n",
       "      <td>ФК Арсенал (Лондон)</td>\n",
       "      <td>183.0</td>\n",
       "    </tr>\n",
       "    <tr>\n",
       "      <th>3</th>\n",
       "      <td>/20181231/1548961304.html</td>\n",
       "      <td>2018-12-31</td>\n",
       "      <td>31 декабря 2018, 23:09</td>\n",
       "      <td>Гол Азмуна принес сборной Ирана победу над кат...</td>\n",
       "      <td>Футболисты сборной Ирана одержали победу над к...</td>\n",
       "      <td>МОСКВА, 31 дек - РИА Новости. Футболисты сборн...</td>\n",
       "      <td>NaN</td>\n",
       "      <td>Сердар Азмун, Сборная Ирана по футболу</td>\n",
       "      <td>78.0</td>\n",
       "    </tr>\n",
       "    <tr>\n",
       "      <th>4</th>\n",
       "      <td>/20181231/1548961265.html</td>\n",
       "      <td>2018-12-31</td>\n",
       "      <td>31 декабря 2018, 23:07</td>\n",
       "      <td>Пятая ракетка мира дель Потро пропустит Открыт...</td>\n",
       "      <td>Аргентинский теннисист Хуан Мартин дель Потро ...</td>\n",
       "      <td>МОСКВА, 31 дек - РИА Новости. Аргентинский тен...</td>\n",
       "      <td>NaN</td>\n",
       "      <td>Теннис</td>\n",
       "      <td>79.0</td>\n",
       "    </tr>\n",
       "  </tbody>\n",
       "</table>\n",
       "</div>"
      ],
      "text/plain": [
       "                        href        date                    time  \\\n",
       "0  /20181231/1548961410.html  2018-12-31  31 декабря 2018, 23:52   \n",
       "1  /20181231/1548961364.html  2018-12-31  31 декабря 2018, 23:19   \n",
       "2  /20181231/1548961337.html  2018-12-31  31 декабря 2018, 23:12   \n",
       "3  /20181231/1548961304.html  2018-12-31  31 декабря 2018, 23:09   \n",
       "4  /20181231/1548961265.html  2018-12-31  31 декабря 2018, 23:07   \n",
       "\n",
       "                                               title  \\\n",
       "0  Нетаньяху не собирается в отставку в случае пр...   \n",
       "1  Макрон в новогоднем обращении затронул тему ре...   \n",
       "2  Аарон Рэмзи проведет переговоры с пятью топ-кл...   \n",
       "3  Гол Азмуна принес сборной Ирана победу над кат...   \n",
       "4  Пятая ракетка мира дель Потро пропустит Открыт...   \n",
       "\n",
       "                                             snippet  \\\n",
       "0  Премьер-министр Израиля Биньямин Нетаньяху не ...   \n",
       "1  Результат реформ не может быть мгновенным, зая...   \n",
       "2  Полузащитник лондонского \"Арсенала\" Аарон Рэмз...   \n",
       "3  Футболисты сборной Ирана одержали победу над к...   \n",
       "4  Аргентинский теннисист Хуан Мартин дель Потро ...   \n",
       "\n",
       "                                                text category  \\\n",
       "0  МОСКВА, 31 дек - РИА Новости. Премьер-министр ...   В мире   \n",
       "1  ПАРИЖ, 31 дек – РИА Новости. Результат реформ ...   В мире   \n",
       "2  МОСКВА, 31 дек - РИА Новости. Полузащитник лон...      NaN   \n",
       "3  МОСКВА, 31 дек - РИА Новости. Футболисты сборн...      NaN   \n",
       "4  МОСКВА, 31 дек - РИА Новости. Аргентинский тен...      NaN   \n",
       "\n",
       "                                     tags   shows  \n",
       "0     Биньямин Нетаньяху, Израиль, В мире   728.0  \n",
       "1       Эммануэль Макрон, Франция, В мире  3086.0  \n",
       "2                     ФК Арсенал (Лондон)   183.0  \n",
       "3  Сердар Азмун, Сборная Ирана по футболу    78.0  \n",
       "4                                  Теннис    79.0  "
      ]
     },
     "execution_count": 4,
     "metadata": {},
     "output_type": "execute_result"
    }
   ],
   "source": [
    "# df_ria = pd.read_csv('/content/drive/MyDrive/IAD/ria_news.tsv', sep='\\t')\n",
    "df_ria = pd.read_csv('/kaggle/input/iad-4-dataset/ria_news.tsv', sep='\\t')\n",
    "df_ria = df_ria[~df_ria.tags.isnull()]\n",
    "print(df_ria.shape)\n",
    "df_ria.head()"
   ]
  },
  {
   "cell_type": "markdown",
   "metadata": {
    "id": "smOrAVujM_zS"
   },
   "source": [
    "Многие новостные агенства поддерживают странички в социальных сетях. Они постят туда самые сочные сюжеты. В таблице `vk_news.tsv` лежат данные о новостях, которые РИА запостили ВКонтакте в период времени с  `2017-09-29 01:28:55` по `2019-02-01 23:13:17`.\n",
    "\n",
    "- `id` - уникальный идентификатор поста\n",
    "- `href` - ссылка на сайт (если она была указана в посте)\n",
    "- `datetime` - дата и время публикации новости\n",
    "- `title` - заголовок новости\n",
    "- `text` - текст новости в социальной сети\n",
    "- `likes` - число лайков под постом\n",
    "- `comments` - число комментариев под постом"
   ]
  },
  {
   "cell_type": "code",
   "execution_count": 5,
   "metadata": {
    "colab": {
     "base_uri": "https://localhost:8080/",
     "height": 221
    },
    "execution": {
     "iopub.execute_input": "2024-12-12T14:59:32.656365Z",
     "iopub.status.busy": "2024-12-12T14:59:32.655681Z",
     "iopub.status.idle": "2024-12-12T14:59:32.880027Z",
     "shell.execute_reply": "2024-12-12T14:59:32.879199Z",
     "shell.execute_reply.started": "2024-12-12T14:59:32.656332Z"
    },
    "id": "FFZHXKukM_zS",
    "outputId": "ef917b94-6512-4a03-ec67-8eae39f411f4"
   },
   "outputs": [
    {
     "name": "stdout",
     "output_type": "stream",
     "text": [
      "(19928, 7)\n"
     ]
    },
    {
     "data": {
      "text/html": [
       "<div>\n",
       "<style scoped>\n",
       "    .dataframe tbody tr th:only-of-type {\n",
       "        vertical-align: middle;\n",
       "    }\n",
       "\n",
       "    .dataframe tbody tr th {\n",
       "        vertical-align: top;\n",
       "    }\n",
       "\n",
       "    .dataframe thead th {\n",
       "        text-align: right;\n",
       "    }\n",
       "</style>\n",
       "<table border=\"1\" class=\"dataframe\">\n",
       "  <thead>\n",
       "    <tr style=\"text-align: right;\">\n",
       "      <th></th>\n",
       "      <th>id</th>\n",
       "      <th>href</th>\n",
       "      <th>datetime</th>\n",
       "      <th>title</th>\n",
       "      <th>likes</th>\n",
       "      <th>comments</th>\n",
       "      <th>snippet</th>\n",
       "    </tr>\n",
       "  </thead>\n",
       "  <tbody>\n",
       "    <tr>\n",
       "      <th>0</th>\n",
       "      <td>24006362</td>\n",
       "      <td>/20190201/1550280358.html</td>\n",
       "      <td>2019-02-01 23:13:17</td>\n",
       "      <td>В ДНР заявили о задержании диверсантов, причас...</td>\n",
       "      <td>15</td>\n",
       "      <td>28</td>\n",
       "      <td>NaN</td>\n",
       "    </tr>\n",
       "    <tr>\n",
       "      <th>1</th>\n",
       "      <td>24006240</td>\n",
       "      <td>/20190201/1550268781.html</td>\n",
       "      <td>2019-02-01 22:38:41</td>\n",
       "      <td>Житель Урала \"заминировал\" ТЦ из-за снятия  со...</td>\n",
       "      <td>32</td>\n",
       "      <td>42</td>\n",
       "      <td>NaN</td>\n",
       "    </tr>\n",
       "    <tr>\n",
       "      <th>2</th>\n",
       "      <td>24006100</td>\n",
       "      <td>/20190201/1550282212.html</td>\n",
       "      <td>2019-02-01 21:58:52</td>\n",
       "      <td>В Черном море нашли \"потерянный флот Гитлера\"</td>\n",
       "      <td>84</td>\n",
       "      <td>23</td>\n",
       "      <td>NaN</td>\n",
       "    </tr>\n",
       "    <tr>\n",
       "      <th>3</th>\n",
       "      <td>24005972</td>\n",
       "      <td>/20190202/1550283179.html</td>\n",
       "      <td>2019-02-01 21:27:06</td>\n",
       "      <td>В США освободили задержанную российскую актрис...</td>\n",
       "      <td>58</td>\n",
       "      <td>35</td>\n",
       "      <td>NaN</td>\n",
       "    </tr>\n",
       "    <tr>\n",
       "      <th>4</th>\n",
       "      <td>24005764</td>\n",
       "      <td>/20190201/1550262848.html</td>\n",
       "      <td>2019-02-01 20:55:54</td>\n",
       "      <td>Толкнувший Скабееву депутат Рады заявил о гроз...</td>\n",
       "      <td>45</td>\n",
       "      <td>145</td>\n",
       "      <td>NaN</td>\n",
       "    </tr>\n",
       "  </tbody>\n",
       "</table>\n",
       "</div>"
      ],
      "text/plain": [
       "         id                       href             datetime  \\\n",
       "0  24006362  /20190201/1550280358.html  2019-02-01 23:13:17   \n",
       "1  24006240  /20190201/1550268781.html  2019-02-01 22:38:41   \n",
       "2  24006100  /20190201/1550282212.html  2019-02-01 21:58:52   \n",
       "3  24005972  /20190202/1550283179.html  2019-02-01 21:27:06   \n",
       "4  24005764  /20190201/1550262848.html  2019-02-01 20:55:54   \n",
       "\n",
       "                                               title  likes  comments snippet  \n",
       "0  В ДНР заявили о задержании диверсантов, причас...     15        28     NaN  \n",
       "1  Житель Урала \"заминировал\" ТЦ из-за снятия  со...     32        42     NaN  \n",
       "2      В Черном море нашли \"потерянный флот Гитлера\"     84        23     NaN  \n",
       "3  В США освободили задержанную российскую актрис...     58        35     NaN  \n",
       "4  Толкнувший Скабееву депутат Рады заявил о гроз...     45       145     NaN  "
      ]
     },
     "execution_count": 5,
     "metadata": {},
     "output_type": "execute_result"
    }
   ],
   "source": [
    "# df_vk = pd.read_csv('/content/drive/MyDrive/IAD/vk_news.tsv', sep='\\t')\n",
    "df_vk = pd.read_csv('/kaggle/input/iad-4-dataset/vk_news.tsv', sep='\\t')\n",
    "df_vk['snippet'] = df_vk['text']\n",
    "df_vk.drop('text', axis=1, inplace=True)\n",
    "print(df_vk.shape)\n",
    "df_vk.head()"
   ]
  },
  {
   "cell_type": "markdown",
   "metadata": {
    "id": "HFaQtcOVM_zT"
   },
   "source": [
    "В таблице `vk_comments.tsv` лежат комментарии к новостям.\n",
    "\n",
    "- `id` - уникальный идентификатор комментария\n",
    "- `post_id` - идентификатор новости, под которой был оставлен комментарий\n",
    "- `datetime` - дата и время, когда был оставлен комментарий\n",
    "- `text` - текст комментария\n",
    "- `likes` - число лайков под комментарием"
   ]
  },
  {
   "cell_type": "code",
   "execution_count": 96,
   "metadata": {
    "colab": {
     "base_uri": "https://localhost:8080/",
     "height": 255
    },
    "execution": {
     "iopub.execute_input": "2024-12-12T16:34:19.521143Z",
     "iopub.status.busy": "2024-12-12T16:34:19.520369Z",
     "iopub.status.idle": "2024-12-12T16:34:32.614785Z",
     "shell.execute_reply": "2024-12-12T16:34:32.613860Z",
     "shell.execute_reply.started": "2024-12-12T16:34:19.521086Z"
    },
    "id": "HBJvrG6wM_zT",
    "outputId": "ebd66c81-1392-4867-ec50-a65d9bcfd17c"
   },
   "outputs": [
    {
     "name": "stderr",
     "output_type": "stream",
     "text": [
      "/tmp/ipykernel_23/1883075177.py:2: DtypeWarning: Columns (0) have mixed types. Specify dtype option on import or set low_memory=False.\n",
      "  df_comments = pd.read_csv('/kaggle/input/iad-4-dataset/vk_comments.tsv', sep='\\t')\n"
     ]
    },
    {
     "name": "stdout",
     "output_type": "stream",
     "text": [
      "(2612629, 5)\n"
     ]
    },
    {
     "data": {
      "text/html": [
       "<div>\n",
       "<style scoped>\n",
       "    .dataframe tbody tr th:only-of-type {\n",
       "        vertical-align: middle;\n",
       "    }\n",
       "\n",
       "    .dataframe tbody tr th {\n",
       "        vertical-align: top;\n",
       "    }\n",
       "\n",
       "    .dataframe thead th {\n",
       "        text-align: right;\n",
       "    }\n",
       "</style>\n",
       "<table border=\"1\" class=\"dataframe\">\n",
       "  <thead>\n",
       "    <tr style=\"text-align: right;\">\n",
       "      <th></th>\n",
       "      <th>id</th>\n",
       "      <th>post_id</th>\n",
       "      <th>datetime</th>\n",
       "      <th>text</th>\n",
       "      <th>likes</th>\n",
       "    </tr>\n",
       "  </thead>\n",
       "  <tbody>\n",
       "    <tr>\n",
       "      <th>0</th>\n",
       "      <td>24006366.0</td>\n",
       "      <td>24006362.0</td>\n",
       "      <td>2019-02-01 23:14:14</td>\n",
       "      <td>ЧВК Вагнера?</td>\n",
       "      <td>5.0</td>\n",
       "    </tr>\n",
       "    <tr>\n",
       "      <th>1</th>\n",
       "      <td>24006370.0</td>\n",
       "      <td>24006362.0</td>\n",
       "      <td>2019-02-01 23:15:23</td>\n",
       "      <td>[id4710641|Евгений], выздоравливай.</td>\n",
       "      <td>3.0</td>\n",
       "    </tr>\n",
       "    <tr>\n",
       "      <th>2</th>\n",
       "      <td>24006371.0</td>\n",
       "      <td>24006362.0</td>\n",
       "      <td>2019-02-01 23:16:21</td>\n",
       "      <td>[id442655034|Андрей], искренне желаю этого все...</td>\n",
       "      <td>4.0</td>\n",
       "    </tr>\n",
       "    <tr>\n",
       "      <th>3</th>\n",
       "      <td>24006374.0</td>\n",
       "      <td>24006362.0</td>\n",
       "      <td>2019-02-01 23:16:38</td>\n",
       "      <td>Опять про Украину новости?</td>\n",
       "      <td>1.0</td>\n",
       "    </tr>\n",
       "    <tr>\n",
       "      <th>4</th>\n",
       "      <td>24006375.0</td>\n",
       "      <td>24006362.0</td>\n",
       "      <td>2019-02-01 23:16:40</td>\n",
       "      <td>Че такое ДНР?</td>\n",
       "      <td>2.0</td>\n",
       "    </tr>\n",
       "  </tbody>\n",
       "</table>\n",
       "</div>"
      ],
      "text/plain": [
       "           id     post_id             datetime  \\\n",
       "0  24006366.0  24006362.0  2019-02-01 23:14:14   \n",
       "1  24006370.0  24006362.0  2019-02-01 23:15:23   \n",
       "2  24006371.0  24006362.0  2019-02-01 23:16:21   \n",
       "3  24006374.0  24006362.0  2019-02-01 23:16:38   \n",
       "4  24006375.0  24006362.0  2019-02-01 23:16:40   \n",
       "\n",
       "                                                text  likes  \n",
       "0                                       ЧВК Вагнера?    5.0  \n",
       "1                [id4710641|Евгений], выздоравливай.    3.0  \n",
       "2  [id442655034|Андрей], искренне желаю этого все...    4.0  \n",
       "3                         Опять про Украину новости?    1.0  \n",
       "4                                      Че такое ДНР?    2.0  "
      ]
     },
     "execution_count": 96,
     "metadata": {},
     "output_type": "execute_result"
    }
   ],
   "source": [
    "# df_comments = pd.read_csv('/content/drive/MyDrive/IAD/vk_comments.tsv', sep='\\t')\n",
    "df_comments = pd.read_csv('/kaggle/input/iad-4-dataset/vk_comments.tsv', sep='\\t')\n",
    "df_comments = df_comments[~df_comments.text.isnull()]\n",
    "print(df_comments.shape)\n",
    "df_comments.head()"
   ]
  },
  {
   "cell_type": "markdown",
   "metadata": {
    "id": "58hpgVLvM_zT"
   },
   "source": [
    "# А что надо сделать то?\n",
    "\n",
    "В тетрадке вам предстоит сделать следующие шаги:\n",
    "\n",
    "1. Обучить нейросеть предсказывать категорию новости\n",
    "2. Построить предсказания для тех новостей, где мы ничего не знаем о категории\n",
    "3. Использовать уже обученный для сентимент-анализа классификатор из библиотеки `hugging face` чтобы предсказать эмоциональную окраску каждого комментария\n",
    "4. Провести аналитику по новостям, а именно построите топы из самых позитивных и негативных категорий и новостей\n",
    "\n",
    "Для первого шага вам будет дан бэйзлайн. Если вы его прогоните, у вас получится базовая модель, которая даст некоторое качество решения задачи. Вам надо будет выяснить, насколько это качество оказалось хорошим, а затем внести в код некоторые улучшения.\n",
    "\n"
   ]
  },
  {
   "cell_type": "markdown",
   "metadata": {
    "id": "hdb5XYa_M_zT"
   },
   "source": [
    "## Часть 1: категоризация новостей (5 баллов + 1.8 бонусных)\n",
    "\n",
    "Каждой новости в соотвествие поставлены ключевые слова. Будем считать, что эти ключевые слова — тематики новости. Нужно научиться предсказывать тематики по тексту новости. Готовые тематики у нас есть только по новостям с сайта. Они за 2018 год. По новостям из ВКонтакте у нас тематик нет. Мы собираемся их предсказать.\n",
    "\n",
    "Новости, опубликованные ВКонтакте, отличаются от новостей с сайта тем, что у них есть только титул и короткое описание. Странно будет обучать нейросеть на длинных текстах, а потом использовать её на коротких описаниях. Мы не будем так делать. Мы попробуем обучить базовый вариант нейронной сети только на заголовках новостей. Все, кто захочет получить бонусные баллы, смогут попробовать добавить в нейросеть сниппеты (так назыают короткие описания новостей)."
   ]
  },
  {
   "cell_type": "markdown",
   "metadata": {
    "id": "NmGxSLP-M_zT"
   },
   "source": [
    "## 1.1 Подготовка таргета\n",
    "\n",
    "Поработаем с таргетом. Мы будем предсказывать переменную `tags`. Давайте выясним скоько уникальных тегов существует."
   ]
  },
  {
   "cell_type": "code",
   "execution_count": 7,
   "metadata": {
    "colab": {
     "base_uri": "https://localhost:8080/"
    },
    "execution": {
     "iopub.execute_input": "2024-12-12T15:00:05.612270Z",
     "iopub.status.busy": "2024-12-12T15:00:05.611453Z",
     "iopub.status.idle": "2024-12-12T15:00:06.190428Z",
     "shell.execute_reply": "2024-12-12T15:00:06.189653Z",
     "shell.execute_reply.started": "2024-12-12T15:00:05.612234Z"
    },
    "id": "NZDxrSvkM_zT",
    "outputId": "b704969a-4795-4d12-b952-498c4cdb7243"
   },
   "outputs": [
    {
     "name": "stdout",
     "output_type": "stream",
     "text": [
      "13344\n"
     ]
    },
    {
     "data": {
      "text/plain": [
       "[('блог анны завершинской об автоспорте - блоги', 1),\n",
       " ('министерство транспорта рб', 1),\n",
       " ('министерство здравоохранения грузии', 1),\n",
       " ('палех', 1),\n",
       " ('юрий посохов (хореограф)', 1),\n",
       " ('мария александрова', 1),\n",
       " ('том бенсон', 1),\n",
       " ('абдул каюм кочай', 1),\n",
       " ('нуман куртулмуш', 1),\n",
       " ('mipim', 1),\n",
       " ('владимир попов', 1),\n",
       " ('брюно женезио', 1),\n",
       " ('роберт фицо', 1),\n",
       " ('сергей пашинский', 1),\n",
       " ('валерия гонтарева', 1),\n",
       " ('нововоронеж', 1),\n",
       " ('императорское православное палестинское общество', 1),\n",
       " ('event_poslanie_prezidenta_rf_federalnomu_sobraniju', 1),\n",
       " ('фхтр', 1),\n",
       " ('игорь честин', 1)]"
      ]
     },
     "execution_count": 7,
     "metadata": {},
     "output_type": "execute_result"
    }
   ],
   "source": [
    "from collections import Counter\n",
    "\n",
    "# удалим все лишние пробелы и сделаем lowercase\n",
    "df_ria['tags'] = (\n",
    "    df_ria.tags.\n",
    "    apply(lambda w: ','.join([item.strip() for item in  w.lower().split(',')]))\n",
    ")\n",
    "\n",
    "tags = ','.join(list(df_ria.tags.values))\n",
    "tags_cnt = Counter(tags.split(','))\n",
    "\n",
    "print(len(tags_cnt))\n",
    "tags_cnt.most_common()[-20:]"
   ]
  },
  {
   "cell_type": "markdown",
   "metadata": {
    "id": "5Wv68z36M_zT"
   },
   "source": [
    "Всего в выборке есть порядка 13 000 тэгов. Многие встречаются всего по разу. Давайте оставим в выборке только те тэги, которые встречаются более 30 раз."
   ]
  },
  {
   "cell_type": "code",
   "execution_count": 8,
   "metadata": {
    "colab": {
     "base_uri": "https://localhost:8080/"
    },
    "execution": {
     "iopub.execute_input": "2024-12-12T15:00:12.122948Z",
     "iopub.status.busy": "2024-12-12T15:00:12.122636Z",
     "iopub.status.idle": "2024-12-12T15:00:12.135715Z",
     "shell.execute_reply": "2024-12-12T15:00:12.134840Z",
     "shell.execute_reply.started": "2024-12-12T15:00:12.122920Z"
    },
    "id": "eA6H34iKM_zU",
    "outputId": "9df85ad2-12af-4f61-9783-826802d53b27"
   },
   "outputs": [
    {
     "data": {
      "text/plain": [
       "1583"
      ]
     },
     "execution_count": 8,
     "metadata": {},
     "output_type": "execute_result"
    }
   ],
   "source": [
    "target_tags = {tag for tag,cnt in tags_cnt.most_common() if cnt > 30}\n",
    "len(target_tags)"
   ]
  },
  {
   "cell_type": "markdown",
   "metadata": {
    "id": "RLrQSyCDM_zU"
   },
   "source": [
    "Закодируем теги для OHE."
   ]
  },
  {
   "cell_type": "code",
   "execution_count": 9,
   "metadata": {
    "execution": {
     "iopub.execute_input": "2024-12-12T15:00:14.979039Z",
     "iopub.status.busy": "2024-12-12T15:00:14.978727Z",
     "iopub.status.idle": "2024-12-12T15:00:14.984380Z",
     "shell.execute_reply": "2024-12-12T15:00:14.983319Z",
     "shell.execute_reply.started": "2024-12-12T15:00:14.979013Z"
    },
    "id": "J2fKnLmTM_zU"
   },
   "outputs": [],
   "source": [
    "tag2idx = dict(zip(target_tags, range(len(target_tags))))\n",
    "idx2tag = {jtem: item for item,jtem in tag2idx.items()}"
   ]
  },
  {
   "cell_type": "markdown",
   "metadata": {
    "id": "8QDNftQqM_zU"
   },
   "source": [
    "Почистим таргет от лишних тэгов."
   ]
  },
  {
   "cell_type": "code",
   "execution_count": 10,
   "metadata": {
    "colab": {
     "base_uri": "https://localhost:8080/"
    },
    "execution": {
     "iopub.execute_input": "2024-12-12T15:00:17.049676Z",
     "iopub.status.busy": "2024-12-12T15:00:17.049313Z",
     "iopub.status.idle": "2024-12-12T15:00:17.635485Z",
     "shell.execute_reply": "2024-12-12T15:00:17.634573Z",
     "shell.execute_reply.started": "2024-12-12T15:00:17.049643Z"
    },
    "id": "9pqA60YiM_zU",
    "outputId": "e97c3706-0b11-4578-fe51-39b32d842172"
   },
   "outputs": [
    {
     "data": {
      "text/plain": [
       "(201437, 10)"
      ]
     },
     "execution_count": 10,
     "metadata": {},
     "output_type": "execute_result"
    }
   ],
   "source": [
    "df_ria['target_tags'] = (\n",
    "    df_ria.tags.\n",
    "    apply(lambda w: [tag2idx.get(item) for item in  w.split(',') if item in target_tags])\n",
    ")\n",
    "\n",
    "df_ria = df_ria[df_ria.target_tags.apply(len) > 0]\n",
    "df_ria.shape"
   ]
  },
  {
   "cell_type": "code",
   "execution_count": 11,
   "metadata": {
    "colab": {
     "base_uri": "https://localhost:8080/"
    },
    "execution": {
     "iopub.execute_input": "2024-12-12T15:00:18.978052Z",
     "iopub.status.busy": "2024-12-12T15:00:18.977390Z",
     "iopub.status.idle": "2024-12-12T15:00:18.983845Z",
     "shell.execute_reply": "2024-12-12T15:00:18.982958Z",
     "shell.execute_reply.started": "2024-12-12T15:00:18.978015Z"
    },
    "id": "y0KaYfuQM_zU",
    "outputId": "39d87243-c376-43cb-9320-6731ca0ea8a4"
   },
   "outputs": [
    {
     "data": {
      "text/plain": [
       "array([list([1514, 660, 1368]), list([1268, 1045, 1368]), list([748])],\n",
       "      dtype=object)"
      ]
     },
     "execution_count": 11,
     "metadata": {},
     "output_type": "execute_result"
    }
   ],
   "source": [
    "df_ria.target_tags.values[:3]"
   ]
  },
  {
   "cell_type": "markdown",
   "metadata": {
    "id": "Y-hjLFKRM_zU"
   },
   "source": [
    "## 1.2 Подготовка текстов\n",
    "\n",
    "Теперь займёмся предобработкой текстов. Приведём все слова к нижнему регистру и выбросим мусорные символы. В качестве токенов будем рассматривать отдельные слова.\n",
    "\n",
    "Напомню, что мы пока что решили работать только с названиями статей. Поэтому вся предобработка применяется исключительно к ним. **Спойлер:** предобработку для сниппетов вы сделаете сами в первом же задании."
   ]
  },
  {
   "cell_type": "code",
   "execution_count": 12,
   "metadata": {
    "colab": {
     "base_uri": "https://localhost:8080/"
    },
    "execution": {
     "iopub.execute_input": "2024-12-12T15:00:20.561751Z",
     "iopub.status.busy": "2024-12-12T15:00:20.560852Z",
     "iopub.status.idle": "2024-12-12T15:00:21.508197Z",
     "shell.execute_reply": "2024-12-12T15:00:21.507345Z",
     "shell.execute_reply.started": "2024-12-12T15:00:20.561712Z"
    },
    "id": "DUEWRZWTQsHy",
    "outputId": "2c6498e1-c52e-4ee2-ddd1-9cbf6abb395f"
   },
   "outputs": [
    {
     "name": "stdout",
     "output_type": "stream",
     "text": [
      "[nltk_data] Downloading package punkt to /usr/share/nltk_data...\n",
      "[nltk_data]   Package punkt is already up-to-date!\n",
      "[nltk_data] Downloading package punkt_tab to /usr/share/nltk_data...\n",
      "[nltk_data]   Unzipping tokenizers/punkt_tab.zip.\n",
      "[nltk_data] Downloading package stopwords to /usr/share/nltk_data...\n",
      "[nltk_data]   Package stopwords is already up-to-date!\n"
     ]
    },
    {
     "data": {
      "text/plain": [
       "True"
      ]
     },
     "execution_count": 12,
     "metadata": {},
     "output_type": "execute_result"
    }
   ],
   "source": [
    "import nltk\n",
    "nltk.download('punkt')\n",
    "nltk.download('punkt_tab')\n",
    "nltk.download('stopwords')"
   ]
  },
  {
   "cell_type": "code",
   "execution_count": 13,
   "metadata": {
    "colab": {
     "base_uri": "https://localhost:8080/"
    },
    "execution": {
     "iopub.execute_input": "2024-12-12T15:00:23.404916Z",
     "iopub.status.busy": "2024-12-12T15:00:23.404533Z",
     "iopub.status.idle": "2024-12-12T15:00:31.077632Z",
     "shell.execute_reply": "2024-12-12T15:00:31.076720Z",
     "shell.execute_reply.started": "2024-12-12T15:00:23.404885Z"
    },
    "id": "bLHWjtkoM_zU",
    "outputId": "46f3c8ba-774b-4f84-bf18-66fac03937e2"
   },
   "outputs": [
    {
     "data": {
      "text/plain": [
       "112178"
      ]
     },
     "execution_count": 13,
     "metadata": {},
     "output_type": "execute_result"
    }
   ],
   "source": [
    "import re\n",
    "from nltk.tokenize import word_tokenize\n",
    "\n",
    "def normalise_text(text):\n",
    "    text = text.lower()\n",
    "\n",
    "    # сурово регулярками выкидываем мусорные символы\n",
    "    text = re.sub('[^а-яa-z0-9 ]', '', text)\n",
    "    return text.strip()\n",
    "\n",
    "df_ria['title_clean'] = df_ria.title.apply(normalise_text)\n",
    "\n",
    "word_cnt = Counter(word_tokenize(' '.join(df_ria.title_clean.values)))\n",
    "len(word_cnt)"
   ]
  },
  {
   "cell_type": "code",
   "execution_count": 14,
   "metadata": {
    "colab": {
     "base_uri": "https://localhost:8080/"
    },
    "execution": {
     "iopub.execute_input": "2024-12-12T15:00:31.079206Z",
     "iopub.status.busy": "2024-12-12T15:00:31.078959Z",
     "iopub.status.idle": "2024-12-12T15:00:31.116017Z",
     "shell.execute_reply": "2024-12-12T15:00:31.115126Z",
     "shell.execute_reply.started": "2024-12-12T15:00:31.079181Z"
    },
    "id": "-OGzgIx-M_zV",
    "outputId": "49667465-9533-4ab8-c3d3-39ef9212a5c6"
   },
   "outputs": [
    {
     "data": {
      "text/plain": [
       "[('в', 127323),\n",
       " ('на', 44386),\n",
       " ('с', 26150),\n",
       " ('и', 21771),\n",
       " ('о', 19948),\n",
       " ('по', 17014),\n",
       " ('россии', 13494),\n",
       " ('не', 13483),\n",
       " ('сша', 9942),\n",
       " ('за', 9881)]"
      ]
     },
     "execution_count": 14,
     "metadata": {},
     "output_type": "execute_result"
    }
   ],
   "source": [
    "word_cnt.most_common()[:10]"
   ]
  },
  {
   "cell_type": "markdown",
   "metadata": {
    "id": "ydRq2i-fM_zV"
   },
   "source": [
    "Давайте почистим словарь от стоп-слов и подготовим его к использованию внутри датасета. Мы будем с помощью словаря заменять слова на индексы. Добавим в словарь несколько специальных токенов для неизвестных слов и паддингов."
   ]
  },
  {
   "cell_type": "code",
   "execution_count": 15,
   "metadata": {
    "colab": {
     "base_uri": "https://localhost:8080/"
    },
    "execution": {
     "iopub.execute_input": "2024-12-12T15:00:43.127817Z",
     "iopub.status.busy": "2024-12-12T15:00:43.127452Z",
     "iopub.status.idle": "2024-12-12T15:00:43.135022Z",
     "shell.execute_reply": "2024-12-12T15:00:43.134344Z",
     "shell.execute_reply.started": "2024-12-12T15:00:43.127783Z"
    },
    "id": "7W5X3hM2M_zV",
    "outputId": "a609590d-2eba-4115-bd78-7050de6291f2"
   },
   "outputs": [
    {
     "data": {
      "text/plain": [
       "151"
      ]
     },
     "execution_count": 15,
     "metadata": {},
     "output_type": "execute_result"
    }
   ],
   "source": [
    "from nltk.corpus import stopwords\n",
    "\n",
    "stops_ru = set(stopwords.words('russian'))\n",
    "len(stops_ru)"
   ]
  },
  {
   "cell_type": "code",
   "execution_count": 16,
   "metadata": {
    "execution": {
     "iopub.execute_input": "2024-12-12T15:00:43.954783Z",
     "iopub.status.busy": "2024-12-12T15:00:43.953940Z",
     "iopub.status.idle": "2024-12-12T15:00:44.047329Z",
     "shell.execute_reply": "2024-12-12T15:00:44.046440Z",
     "shell.execute_reply.started": "2024-12-12T15:00:43.954750Z"
    },
    "id": "0h0Eq-fkM_zV"
   },
   "outputs": [],
   "source": [
    "vocabulary = {\n",
    "    \"#PAD#\": 0, \"#UNK#\": 1\n",
    "}\n",
    "\n",
    "k = 2\n",
    "for word, _ in word_cnt.most_common():\n",
    "    if word not in stops_ru:\n",
    "        vocabulary[word] = k\n",
    "        k += 1"
   ]
  },
  {
   "cell_type": "code",
   "execution_count": 17,
   "metadata": {
    "colab": {
     "base_uri": "https://localhost:8080/"
    },
    "execution": {
     "iopub.execute_input": "2024-12-12T15:00:44.555964Z",
     "iopub.status.busy": "2024-12-12T15:00:44.555643Z",
     "iopub.status.idle": "2024-12-12T15:00:44.561369Z",
     "shell.execute_reply": "2024-12-12T15:00:44.560542Z",
     "shell.execute_reply.started": "2024-12-12T15:00:44.555933Z"
    },
    "id": "xL0VgZT6M_zV",
    "outputId": "e8a5c035-202e-45fb-bcc0-0b28a49b775c"
   },
   "outputs": [
    {
     "data": {
      "text/plain": [
       "112030"
      ]
     },
     "execution_count": 17,
     "metadata": {},
     "output_type": "execute_result"
    }
   ],
   "source": [
    "len(vocabulary)"
   ]
  },
  {
   "cell_type": "markdown",
   "metadata": {
    "id": "U9NQcllLM_zV"
   },
   "source": [
    "Завернём код для создания словаря в функцию."
   ]
  },
  {
   "cell_type": "code",
   "execution_count": 18,
   "metadata": {
    "execution": {
     "iopub.execute_input": "2024-12-12T15:00:45.419990Z",
     "iopub.status.busy": "2024-12-12T15:00:45.419691Z",
     "iopub.status.idle": "2024-12-12T15:00:45.424835Z",
     "shell.execute_reply": "2024-12-12T15:00:45.423906Z",
     "shell.execute_reply.started": "2024-12-12T15:00:45.419961Z"
    },
    "id": "VAMLLbXxM_zV"
   },
   "outputs": [],
   "source": [
    "def create_vocab(text, stops_ru=stops_ru):\n",
    "\n",
    "    word_cnt = Counter(word_tokenize(text))\n",
    "    vocabulary = {\n",
    "        \"#PAD#\": 0, \"#UNK#\": 1\n",
    "    }\n",
    "\n",
    "    k = 2\n",
    "    for word, _ in word_cnt.most_common():\n",
    "        if word not in stops_ru:\n",
    "            vocabulary[word] = k\n",
    "            k += 1\n",
    "    return vocabulary"
   ]
  },
  {
   "cell_type": "markdown",
   "metadata": {
    "id": "lnYJT9BXM_zV"
   },
   "source": [
    "__[0.5 балла] Задание 1:__\n",
    "\n",
    "- Cделайте аналогичную предобработку титулов из таблички `df_vk`. Запишите получившийся результат в столбец `title_clean` по аналогии с таблицей `df_ria`.\n",
    "- Сделайте для обеих таблиц предобработку колонок со сниппетами `snippet` и запишите получившийся результат в столбец `snippet_clean`. Все пропуски заполните токеном `\"#UNKN\"`."
   ]
  },
  {
   "cell_type": "code",
   "execution_count": 19,
   "metadata": {
    "colab": {
     "base_uri": "https://localhost:8080/",
     "height": 289
    },
    "execution": {
     "iopub.execute_input": "2024-12-12T15:00:46.127240Z",
     "iopub.status.busy": "2024-12-12T15:00:46.126973Z",
     "iopub.status.idle": "2024-12-12T15:00:54.215255Z",
     "shell.execute_reply": "2024-12-12T15:00:54.214307Z",
     "shell.execute_reply.started": "2024-12-12T15:00:46.127213Z"
    },
    "id": "FTlZA9amM_zV",
    "outputId": "58d85873-95fe-41c3-8ea1-f7468c58a9db"
   },
   "outputs": [
    {
     "data": {
      "text/html": [
       "<div>\n",
       "<style scoped>\n",
       "    .dataframe tbody tr th:only-of-type {\n",
       "        vertical-align: middle;\n",
       "    }\n",
       "\n",
       "    .dataframe tbody tr th {\n",
       "        vertical-align: top;\n",
       "    }\n",
       "\n",
       "    .dataframe thead th {\n",
       "        text-align: right;\n",
       "    }\n",
       "</style>\n",
       "<table border=\"1\" class=\"dataframe\">\n",
       "  <thead>\n",
       "    <tr style=\"text-align: right;\">\n",
       "      <th></th>\n",
       "      <th>title</th>\n",
       "      <th>title_clean</th>\n",
       "      <th>snippet</th>\n",
       "      <th>snippet_clean</th>\n",
       "    </tr>\n",
       "  </thead>\n",
       "  <tbody>\n",
       "    <tr>\n",
       "      <th>0</th>\n",
       "      <td>Нетаньяху не собирается в отставку в случае пр...</td>\n",
       "      <td>нетаньяху не собирается в отставку в случае пр...</td>\n",
       "      <td>Премьер-министр Израиля Биньямин Нетаньяху не ...</td>\n",
       "      <td>премьерминистр израиля биньямин нетаньяху не н...</td>\n",
       "    </tr>\n",
       "    <tr>\n",
       "      <th>1</th>\n",
       "      <td>Макрон в новогоднем обращении затронул тему ре...</td>\n",
       "      <td>макрон в новогоднем обращении затронул тему ре...</td>\n",
       "      <td>Результат реформ не может быть мгновенным, зая...</td>\n",
       "      <td>результат реформ не может быть мгновенным заяв...</td>\n",
       "    </tr>\n",
       "    <tr>\n",
       "      <th>4</th>\n",
       "      <td>Пятая ракетка мира дель Потро пропустит Открыт...</td>\n",
       "      <td>пятая ракетка мира дель потро пропустит открыт...</td>\n",
       "      <td>Аргентинский теннисист Хуан Мартин дель Потро ...</td>\n",
       "      <td>аргентинский теннисист хуан мартин дель потро ...</td>\n",
       "    </tr>\n",
       "    <tr>\n",
       "      <th>5</th>\n",
       "      <td>СМИ: Кевину Спейси не разрешили отсутствовать ...</td>\n",
       "      <td>сми кевину спейси не разрешили отсутствовать н...</td>\n",
       "      <td>Суд в американском штате Массачусетс отверг хо...</td>\n",
       "      <td>суд в американском штате массачусетс отверг хо...</td>\n",
       "    </tr>\n",
       "    <tr>\n",
       "      <th>6</th>\n",
       "      <td>\"Зимняя классика\" НХЛ в 2020 году пройдет в Да...</td>\n",
       "      <td>зимняя классика нхл в 2020 году пройдет в далл...</td>\n",
       "      <td>\"Зимняя классика\" - матч регулярного чемпионат...</td>\n",
       "      <td>зимняя классика  матч регулярного чемпионата н...</td>\n",
       "    </tr>\n",
       "  </tbody>\n",
       "</table>\n",
       "</div>"
      ],
      "text/plain": [
       "                                               title  \\\n",
       "0  Нетаньяху не собирается в отставку в случае пр...   \n",
       "1  Макрон в новогоднем обращении затронул тему ре...   \n",
       "4  Пятая ракетка мира дель Потро пропустит Открыт...   \n",
       "5  СМИ: Кевину Спейси не разрешили отсутствовать ...   \n",
       "6  \"Зимняя классика\" НХЛ в 2020 году пройдет в Да...   \n",
       "\n",
       "                                         title_clean  \\\n",
       "0  нетаньяху не собирается в отставку в случае пр...   \n",
       "1  макрон в новогоднем обращении затронул тему ре...   \n",
       "4  пятая ракетка мира дель потро пропустит открыт...   \n",
       "5  сми кевину спейси не разрешили отсутствовать н...   \n",
       "6  зимняя классика нхл в 2020 году пройдет в далл...   \n",
       "\n",
       "                                             snippet  \\\n",
       "0  Премьер-министр Израиля Биньямин Нетаньяху не ...   \n",
       "1  Результат реформ не может быть мгновенным, зая...   \n",
       "4  Аргентинский теннисист Хуан Мартин дель Потро ...   \n",
       "5  Суд в американском штате Массачусетс отверг хо...   \n",
       "6  \"Зимняя классика\" - матч регулярного чемпионат...   \n",
       "\n",
       "                                       snippet_clean  \n",
       "0  премьерминистр израиля биньямин нетаньяху не н...  \n",
       "1  результат реформ не может быть мгновенным заяв...  \n",
       "4  аргентинский теннисист хуан мартин дель потро ...  \n",
       "5  суд в американском штате массачусетс отверг хо...  \n",
       "6  зимняя классика  матч регулярного чемпионата н...  "
      ]
     },
     "execution_count": 19,
     "metadata": {},
     "output_type": "execute_result"
    }
   ],
   "source": [
    "df_vk['title_clean'] = df_vk['title'].apply(normalise_text)\n",
    "\n",
    "df_vk['snippet_clean'] = df_vk['snippet'].apply(lambda x: normalise_text(x) if not pd.isnull(x) else \"#UNKN\")\n",
    "\n",
    "df_ria['snippet_clean'] = df_ria['snippet'].apply(lambda x: normalise_text(x) if not pd.isnull(x) else \"#UNKN\")\n",
    "\n",
    "df_ria[['title', 'title_clean', 'snippet', 'snippet_clean']].head()"
   ]
  },
  {
   "cell_type": "markdown",
   "metadata": {
    "id": "WrRKg_QHM_zV"
   },
   "source": [
    "## 1.3 Поставка данных"
   ]
  },
  {
   "cell_type": "markdown",
   "metadata": {
    "id": "S2vPPWsEM_zV"
   },
   "source": [
    "Пересечение сайта и ВК по опубликованным новостям довольно маленькое. Мы обучаем модель на данных с сайта. Предсказания мы будем строить на данных из ВК. У этих данных разная природа. В ВК описание статей и заголовки короче. Модель может хорошо показать себя на данных с новостного сайта, но сильно просесть в качестве на данных из ВК.\n",
    "\n",
    "Давайте сохраним пересечение в отдельную табличку, чтобы на нём можно было понять, насколько сильно деградирует модель."
   ]
  },
  {
   "cell_type": "code",
   "execution_count": 22,
   "metadata": {
    "colab": {
     "base_uri": "https://localhost:8080/"
    },
    "execution": {
     "iopub.execute_input": "2024-12-12T15:01:41.677823Z",
     "iopub.status.busy": "2024-12-12T15:01:41.676836Z",
     "iopub.status.idle": "2024-12-12T15:01:41.805496Z",
     "shell.execute_reply": "2024-12-12T15:01:41.804628Z",
     "shell.execute_reply.started": "2024-12-12T15:01:41.677785Z"
    },
    "id": "8KjCNaTLM_zW",
    "outputId": "cbdbbbfe-f779-4b6e-f51f-9bcee4412fdf"
   },
   "outputs": [
    {
     "name": "stdout",
     "output_type": "stream",
     "text": [
      "Размер отложенной выборки: 1128\n"
     ]
    }
   ],
   "source": [
    "ria_hrefs = set(df_ria.href.values)\n",
    "vk_hrefs = set(df_vk.href.values)\n",
    "test_hrefs = (vk_hrefs & ria_hrefs)\n",
    "\n",
    "print('Размер отложенной выборки:', len(test_hrefs))\n",
    "\n",
    "df = df_ria[~df_ria.href.isin(test_hrefs)]"
   ]
  },
  {
   "cell_type": "markdown",
   "metadata": {
    "id": "FVutzHbPM_zg"
   },
   "source": [
    "По странному совпадению (я правда не знаю почему) пересечение лежит в декабре. Мы будем его использовать как тестовую выборку."
   ]
  },
  {
   "cell_type": "code",
   "execution_count": 23,
   "metadata": {
    "colab": {
     "base_uri": "https://localhost:8080/"
    },
    "execution": {
     "iopub.execute_input": "2024-12-12T15:01:42.958888Z",
     "iopub.status.busy": "2024-12-12T15:01:42.958535Z",
     "iopub.status.idle": "2024-12-12T15:01:42.988987Z",
     "shell.execute_reply": "2024-12-12T15:01:42.988100Z",
     "shell.execute_reply.started": "2024-12-12T15:01:42.958858Z"
    },
    "id": "1fGs6y6PM_zg",
    "outputId": "cfa465cd-f61f-4809-87e5-950eb99b2108"
   },
   "outputs": [
    {
     "data": {
      "text/plain": [
       "('2018-12-06', '2018-12-31')"
      ]
     },
     "execution_count": 23,
     "metadata": {},
     "output_type": "execute_result"
    }
   ],
   "source": [
    "df_ria[df_ria.href.isin(test_hrefs)].date.min(), df_ria[df_ria.href.isin(test_hrefs)].date.max()"
   ]
  },
  {
   "cell_type": "markdown",
   "metadata": {
    "id": "VJ_7VGvnM_zg"
   },
   "source": [
    "Предположим, что мы делим выборку на обучающую и тестовую случайно. За один и тот же промежуток времени может выйти довольно большое число новостей с одинаковым заголовком. Давайте представим себе, что в тесте и трэйне есть много статей про одно и то же событие. Модель научилась на обучающей выборке хорошо его тегировать. Остальные события модель тегирует намного хуже. Метрики на тестовой выборке высокие. В следующем месяце СМИ перестают освещать это событие, в потоке новостей совершенно другие новости. Качество модели резко проседает.\n",
    "\n",
    "Чтобы не напороться на завышенные метрики, обычно выборку дробят на обучающую и тестовую по времени. Тогда статьи из теста будут имитировать поток новых новостей, освещающих новые события."
   ]
  },
  {
   "cell_type": "code",
   "execution_count": 24,
   "metadata": {
    "colab": {
     "base_uri": "https://localhost:8080/"
    },
    "execution": {
     "iopub.execute_input": "2024-12-12T15:01:44.819320Z",
     "iopub.status.busy": "2024-12-12T15:01:44.819014Z",
     "iopub.status.idle": "2024-12-12T15:01:44.848886Z",
     "shell.execute_reply": "2024-12-12T15:01:44.848096Z",
     "shell.execute_reply.started": "2024-12-12T15:01:44.819293Z"
    },
    "id": "WscwQXAuM_zg",
    "outputId": "bdcdb759-623c-4052-ae8f-32fbc43d252b"
   },
   "outputs": [
    {
     "data": {
      "text/plain": [
       "('2018-03-15', '2018-12-31')"
      ]
     },
     "execution_count": 24,
     "metadata": {},
     "output_type": "execute_result"
    }
   ],
   "source": [
    "df.date.min(), df.date.max()"
   ]
  },
  {
   "cell_type": "markdown",
   "metadata": {
    "id": "bzM_6-ntM_zg"
   },
   "source": [
    "__[0.5 балла] Задание 2:__ Разбейте выборку на обучающую, валидационную и тестовую. В тест возьмите весь декабрь. В валидацию октябрь и ноябрь."
   ]
  },
  {
   "cell_type": "code",
   "execution_count": 25,
   "metadata": {
    "execution": {
     "iopub.execute_input": "2024-12-12T15:01:46.030092Z",
     "iopub.status.busy": "2024-12-12T15:01:46.029011Z",
     "iopub.status.idle": "2024-12-12T15:01:46.150983Z",
     "shell.execute_reply": "2024-12-12T15:01:46.150039Z",
     "shell.execute_reply.started": "2024-12-12T15:01:46.030041Z"
    },
    "id": "Yzr5nNIvM_zg"
   },
   "outputs": [],
   "source": [
    "# your code here\n",
    "# ♡ (´｡• ω •｡`)\n",
    "\n",
    "df_test = df_ria[(df_ria['date'] >= '2018-12-01') & (df_ria['date'] <= '2018-12-31')]\n",
    "\n",
    "df_val = df_ria[(df_ria['date'] >= '2018-10-01') & (df_ria['date'] <= '2018-11-30')]\n",
    "\n",
    "df_train = df_ria[(df_ria['date'] >= '2018-03-15') & (df_ria['date'] < '2018-10-01')]"
   ]
  },
  {
   "cell_type": "markdown",
   "metadata": {
    "id": "AlG-87v8M_zh"
   },
   "source": [
    "Сформируем отложенную выборку (пересечение ВКонтакте и РИА)."
   ]
  },
  {
   "cell_type": "code",
   "execution_count": 26,
   "metadata": {
    "colab": {
     "base_uri": "https://localhost:8080/",
     "height": 204
    },
    "execution": {
     "iopub.execute_input": "2024-12-12T15:01:54.583381Z",
     "iopub.status.busy": "2024-12-12T15:01:54.583042Z",
     "iopub.status.idle": "2024-12-12T15:01:54.635761Z",
     "shell.execute_reply": "2024-12-12T15:01:54.634838Z",
     "shell.execute_reply.started": "2024-12-12T15:01:54.583346Z"
    },
    "id": "KmBZjIx4M_zh",
    "outputId": "b5f464ac-95ec-4751-ca32-c7fc32d5b34b"
   },
   "outputs": [
    {
     "data": {
      "text/html": [
       "<div>\n",
       "<style scoped>\n",
       "    .dataframe tbody tr th:only-of-type {\n",
       "        vertical-align: middle;\n",
       "    }\n",
       "\n",
       "    .dataframe tbody tr th {\n",
       "        vertical-align: top;\n",
       "    }\n",
       "\n",
       "    .dataframe thead th {\n",
       "        text-align: right;\n",
       "    }\n",
       "</style>\n",
       "<table border=\"1\" class=\"dataframe\">\n",
       "  <thead>\n",
       "    <tr style=\"text-align: right;\">\n",
       "      <th></th>\n",
       "      <th>href</th>\n",
       "      <th>title_clean</th>\n",
       "      <th>target_tags</th>\n",
       "    </tr>\n",
       "  </thead>\n",
       "  <tbody>\n",
       "    <tr>\n",
       "      <th>0</th>\n",
       "      <td>/20181231/1548960744.html</td>\n",
       "      <td>митрополит рязанский раскритиковал иронию судьбы</td>\n",
       "      <td>[145]</td>\n",
       "    </tr>\n",
       "    <tr>\n",
       "      <th>1</th>\n",
       "      <td>/20181231/1548958617.html</td>\n",
       "      <td>на украине позавидовали стене на границе с крымом</td>\n",
       "      <td>[1269, 1368]</td>\n",
       "    </tr>\n",
       "    <tr>\n",
       "      <th>2</th>\n",
       "      <td>/20181231/1548957394.html</td>\n",
       "      <td>в госдуме предложили отказаться от газа в жилы...</td>\n",
       "      <td>[896, 896, 874, 537, 1582]</td>\n",
       "    </tr>\n",
       "    <tr>\n",
       "      <th>3</th>\n",
       "      <td>/20181231/1548954909.html</td>\n",
       "      <td>названы лучшие средства от похмелья</td>\n",
       "      <td>[145]</td>\n",
       "    </tr>\n",
       "    <tr>\n",
       "      <th>4</th>\n",
       "      <td>/20181231/1548957120.html</td>\n",
       "      <td>новогоднее поздравление порошенко разозлило по...</td>\n",
       "      <td>[1269, 1368]</td>\n",
       "    </tr>\n",
       "  </tbody>\n",
       "</table>\n",
       "</div>"
      ],
      "text/plain": [
       "                        href  \\\n",
       "0  /20181231/1548960744.html   \n",
       "1  /20181231/1548958617.html   \n",
       "2  /20181231/1548957394.html   \n",
       "3  /20181231/1548954909.html   \n",
       "4  /20181231/1548957120.html   \n",
       "\n",
       "                                         title_clean  \\\n",
       "0   митрополит рязанский раскритиковал иронию судьбы   \n",
       "1  на украине позавидовали стене на границе с крымом   \n",
       "2  в госдуме предложили отказаться от газа в жилы...   \n",
       "3                названы лучшие средства от похмелья   \n",
       "4  новогоднее поздравление порошенко разозлило по...   \n",
       "\n",
       "                  target_tags  \n",
       "0                       [145]  \n",
       "1                [1269, 1368]  \n",
       "2  [896, 896, 874, 537, 1582]  \n",
       "3                       [145]  \n",
       "4                [1269, 1368]  "
      ]
     },
     "execution_count": 26,
     "metadata": {},
     "output_type": "execute_result"
    }
   ],
   "source": [
    "df_oob = df_vk[df_vk.href.isin(test_hrefs)][['href', 'title_clean']]\n",
    "\n",
    "df_ria_oob = df_ria[df_ria.href.isin(test_hrefs)][['href', 'target_tags']]\n",
    "df_oob = df_oob.set_index('href').join(df_ria_oob.set_index('href')).reset_index()\n",
    "df_oob.head()"
   ]
  },
  {
   "cell_type": "markdown",
   "metadata": {
    "id": "laZ8tkFjM_zh"
   },
   "source": [
    "Напишем датасет для поставки данных в нейросеть.\n"
   ]
  },
  {
   "cell_type": "code",
   "execution_count": 27,
   "metadata": {
    "execution": {
     "iopub.execute_input": "2024-12-12T15:01:56.408163Z",
     "iopub.status.busy": "2024-12-12T15:01:56.407833Z",
     "iopub.status.idle": "2024-12-12T15:01:56.416834Z",
     "shell.execute_reply": "2024-12-12T15:01:56.415853Z",
     "shell.execute_reply.started": "2024-12-12T15:01:56.408131Z"
    },
    "id": "0if_RkA_M_zh"
   },
   "outputs": [],
   "source": [
    "from torch.utils.data import Dataset\n",
    "from torch.utils.data import DataLoader\n",
    "\n",
    "class NewsDataset(Dataset):\n",
    "\n",
    "    def __init__(self, target, title, vocab, vocab_size, max_title_len, max_classes, snippet=None, max_snippet_len=None):\n",
    "\n",
    "       self.vocab = {word: idx  for word,idx in vocab.items() if idx < vocab_size}\n",
    "       self.max_classes = max_classes\n",
    "       self.y=self.target_ohe(target)\n",
    "       self.X_title = self.create_text(title, max_title_len)\n",
    "\n",
    "    def target_ohe(self, target):\n",
    "        y = torch.zeros((len(target), self.max_classes))\n",
    "        for i, t in enumerate(target):\n",
    "            y[[i]*len(t), t] = 1.0\n",
    "        return y\n",
    "\n",
    "    def create_text(self, texts, max_len):\n",
    "        result = [ ]\n",
    "        for sent in texts:\n",
    "            # {#PAD: 0, #UNKN: 1}\n",
    "            sent_tokenize = [self.vocab.get(item, 1) for item in word_tokenize(sent)]\n",
    "\n",
    "            # приводим все тексты к max_len\n",
    "            if len(sent_tokenize) >= max_len:\n",
    "                sent_tokenize = sent_tokenize[:max_len]\n",
    "            else:\n",
    "                sent_tokenize += [0] * (max_len - len(sent_tokenize))\n",
    "            result.append(sent_tokenize)\n",
    "        return torch.tensor(result, dtype=torch.int)\n",
    "\n",
    "    def __len__(self):\n",
    "        return len(self.X_title)\n",
    "\n",
    "    def __getitem__(self, idx):\n",
    "        return (self.X_title[idx, :], self.y[idx])\n"
   ]
  },
  {
   "cell_type": "markdown",
   "metadata": {
    "id": "xQMfQ1ZkM_zh"
   },
   "source": [
    "__[0.5 балла] Задание 3:__ Сейчас датасет умеет работать только с полем `title_clean`. Давайте сделаем этот датасет более многофукнциональным и добавим в него возможность добавить в обработку данных сниппет.\n",
    "\n",
    "1. Внутри датасета `snippet` надо обработать точно также как и `title`.\n",
    "2. Если `snippet=None`, датасет должен вернуть два объекта: `X_title, y`. В обратном случае датасет должен вернуть три объекта.\n",
    "\n",
    "**Важно:** Весь код ниже работает сейчас без сниппета. Он не должен развалиться от того, что сниппет в нём нигде не указан."
   ]
  },
  {
   "cell_type": "code",
   "execution_count": 28,
   "metadata": {
    "execution": {
     "iopub.execute_input": "2024-12-12T15:01:58.414959Z",
     "iopub.status.busy": "2024-12-12T15:01:58.414608Z",
     "iopub.status.idle": "2024-12-12T15:01:58.422640Z",
     "shell.execute_reply": "2024-12-12T15:01:58.421727Z",
     "shell.execute_reply.started": "2024-12-12T15:01:58.414928Z"
    },
    "id": "1ekPnlTlM_zh"
   },
   "outputs": [],
   "source": [
    "class NewsDataset(Dataset):\n",
    "\n",
    "    def __init__(self, target, title, vocab, vocab_size, max_title_len, max_classes, snippet=None, max_snippet_len=None):\n",
    "        self.vocab = {word: idx for word, idx in vocab.items() if idx < vocab_size}\n",
    "        self.max_classes = max_classes\n",
    "        self.y = self.target_ohe(target)\n",
    "        self.X_title = self.create_text(title, max_title_len)\n",
    "        if snippet is not None:\n",
    "            self.X_snippet = self.create_text(snippet, max_snippet_len)\n",
    "        else:\n",
    "            self.X_snippet = None\n",
    "\n",
    "    def target_ohe(self, target):\n",
    "        y = torch.zeros((len(target), self.max_classes))\n",
    "        for i, t in enumerate(target):\n",
    "            y[i, t] = 1.0\n",
    "        return y\n",
    "\n",
    "    def create_text(self, texts, max_len):\n",
    "        result = []\n",
    "        for sent in texts:\n",
    "            # {#PAD: 0, #UNK: 1}\n",
    "            sent_tokenize = [self.vocab.get(item, 1) for item in word_tokenize(sent)]\n",
    "\n",
    "            # приводим все тексты к max_len\n",
    "            if len(sent_tokenize) >= max_len:\n",
    "                sent_tokenize = sent_tokenize[:max_len]\n",
    "            else:\n",
    "                sent_tokenize += [0] * (max_len - len(sent_tokenize))\n",
    "            result.append(sent_tokenize)\n",
    "        return torch.tensor(result, dtype=torch.int)\n",
    "\n",
    "    def __len__(self):\n",
    "        return len(self.X_title)\n",
    "\n",
    "    def __getitem__(self, idx):\n",
    "        return (self.X_title[idx, :], self.y[idx])\n"
   ]
  },
  {
   "cell_type": "markdown",
   "metadata": {
    "id": "gqgA6Fnmc8oj"
   },
   "source": [
    "добавили сниппет в первоначальный класс. если сниппет передан, он обрабатывается так же, как и титул, и добавляется в возвращаемые данные. иначе работаем только с титулом"
   ]
  },
  {
   "cell_type": "markdown",
   "metadata": {
    "id": "1v_Rgi_DM_zh"
   },
   "source": [
    "Объявим датасеты, оставим в словаре 30 000 самых частотных слов. Будем смотреть на титулы максимальной длины 20."
   ]
  },
  {
   "cell_type": "code",
   "execution_count": 29,
   "metadata": {
    "execution": {
     "iopub.execute_input": "2024-12-12T15:02:29.198936Z",
     "iopub.status.busy": "2024-12-12T15:02:29.198558Z",
     "iopub.status.idle": "2024-12-12T15:02:57.635266Z",
     "shell.execute_reply": "2024-12-12T15:02:57.634592Z",
     "shell.execute_reply.started": "2024-12-12T15:02:29.198904Z"
    },
    "id": "2zjgEiWWM_zh"
   },
   "outputs": [],
   "source": [
    "CLASSES_NUM = len(idx2tag)\n",
    "VOCAB_SIZE = 10000\n",
    "MAX_TITLE_LEN = 20\n",
    "\n",
    "# словарь создаем по всей выборке\n",
    "vocabulary = create_vocab(' '.join(df_ria.title_clean.values))\n",
    "\n",
    "# объявляем датасеты\n",
    "train_dataset = NewsDataset(df_train.target_tags.values, df_train.title_clean.values, vocabulary, VOCAB_SIZE, MAX_TITLE_LEN, CLASSES_NUM )\n",
    "val_dataset = NewsDataset(df_val.target_tags.values, df_val.title_clean.values, vocabulary, VOCAB_SIZE, MAX_TITLE_LEN, CLASSES_NUM )\n",
    "test_dataset = NewsDataset(df_test.target_tags.values, df_test.title_clean.values, vocabulary, VOCAB_SIZE, MAX_TITLE_LEN, CLASSES_NUM )"
   ]
  },
  {
   "cell_type": "code",
   "execution_count": 30,
   "metadata": {
    "colab": {
     "base_uri": "https://localhost:8080/"
    },
    "execution": {
     "iopub.execute_input": "2024-12-12T15:04:39.705288Z",
     "iopub.status.busy": "2024-12-12T15:04:39.704955Z",
     "iopub.status.idle": "2024-12-12T15:04:39.711692Z",
     "shell.execute_reply": "2024-12-12T15:04:39.710647Z",
     "shell.execute_reply.started": "2024-12-12T15:04:39.705260Z"
    },
    "id": "kNdo56v0M_zh",
    "outputId": "eea429b6-8abe-4fc8-a441-7e4ab0a0faa5"
   },
   "outputs": [],
   "source": [
    "train_dataloader = DataLoader(train_dataset, shuffle=True, batch_size=64, num_workers=4)\n",
    "val_dataloader = DataLoader(val_dataset, shuffle=False, batch_size=4096, num_workers=4)"
   ]
  },
  {
   "cell_type": "markdown",
   "metadata": {
    "id": "WvQXMtISM_zh"
   },
   "source": [
    "## 1.4 Архитектуры\n",
    "\n",
    "Соберём базовую архитектуру для обучения."
   ]
  },
  {
   "cell_type": "code",
   "execution_count": 31,
   "metadata": {
    "execution": {
     "iopub.execute_input": "2024-12-12T15:04:41.217825Z",
     "iopub.status.busy": "2024-12-12T15:04:41.217505Z",
     "iopub.status.idle": "2024-12-12T15:04:41.223018Z",
     "shell.execute_reply": "2024-12-12T15:04:41.222133Z",
     "shell.execute_reply.started": "2024-12-12T15:04:41.217796Z"
    },
    "id": "dN8DAIIkM_zh"
   },
   "outputs": [],
   "source": [
    "from torch import nn\n",
    "import torch.nn.functional as F\n",
    "\n",
    "class SimpleClassifier(nn.Module):\n",
    "\n",
    "    def __init__(self, vocab_size, embedding_dim, output_dim):\n",
    "        super().__init__()\n",
    "        self.embedding = nn.Embedding(vocab_size, embedding_dim)\n",
    "        self.fc = nn.Linear(embedding_dim, output_dim)\n",
    "\n",
    "    def forward(self, title):\n",
    "        embedded = self.embedding(title)\n",
    "        embedded = embedded.mean(dim=1)\n",
    "        return self.fc(embedded)"
   ]
  },
  {
   "cell_type": "markdown",
   "metadata": {
    "id": "slQEltBQM_zh"
   },
   "source": [
    "Соберём в `pytorch_lightning` модуль для обучения нейронки."
   ]
  },
  {
   "cell_type": "code",
   "execution_count": 32,
   "metadata": {
    "colab": {
     "base_uri": "https://localhost:8080/"
    },
    "execution": {
     "iopub.execute_input": "2024-12-12T15:04:42.763854Z",
     "iopub.status.busy": "2024-12-12T15:04:42.763504Z",
     "iopub.status.idle": "2024-12-12T15:04:52.025713Z",
     "shell.execute_reply": "2024-12-12T15:04:52.024556Z",
     "shell.execute_reply.started": "2024-12-12T15:04:42.763822Z"
    },
    "id": "GqKIxEyoM_zi",
    "outputId": "602e6125-6ae0-476d-a8c7-ea7c4be40ddc"
   },
   "outputs": [
    {
     "name": "stdout",
     "output_type": "stream",
     "text": [
      "Requirement already satisfied: pytorch_lightning in /opt/conda/lib/python3.10/site-packages (2.4.0)\n",
      "Requirement already satisfied: torch>=2.1.0 in /opt/conda/lib/python3.10/site-packages (from pytorch_lightning) (2.4.0)\n",
      "Requirement already satisfied: tqdm>=4.57.0 in /opt/conda/lib/python3.10/site-packages (from pytorch_lightning) (4.66.4)\n",
      "Requirement already satisfied: PyYAML>=5.4 in /opt/conda/lib/python3.10/site-packages (from pytorch_lightning) (6.0.2)\n",
      "Requirement already satisfied: fsspec>=2022.5.0 in /opt/conda/lib/python3.10/site-packages (from fsspec[http]>=2022.5.0->pytorch_lightning) (2024.6.0)\n",
      "Requirement already satisfied: torchmetrics>=0.7.0 in /opt/conda/lib/python3.10/site-packages (from pytorch_lightning) (1.6.0)\n",
      "Requirement already satisfied: packaging>=20.0 in /opt/conda/lib/python3.10/site-packages (from pytorch_lightning) (21.3)\n",
      "Requirement already satisfied: typing-extensions>=4.4.0 in /opt/conda/lib/python3.10/site-packages (from pytorch_lightning) (4.12.2)\n",
      "Requirement already satisfied: lightning-utilities>=0.10.0 in /opt/conda/lib/python3.10/site-packages (from pytorch_lightning) (0.11.9)\n",
      "Requirement already satisfied: aiohttp!=4.0.0a0,!=4.0.0a1 in /opt/conda/lib/python3.10/site-packages (from fsspec[http]>=2022.5.0->pytorch_lightning) (3.9.5)\n",
      "Requirement already satisfied: setuptools in /opt/conda/lib/python3.10/site-packages (from lightning-utilities>=0.10.0->pytorch_lightning) (70.0.0)\n",
      "Requirement already satisfied: pyparsing!=3.0.5,>=2.0.2 in /opt/conda/lib/python3.10/site-packages (from packaging>=20.0->pytorch_lightning) (3.1.2)\n",
      "Requirement already satisfied: filelock in /opt/conda/lib/python3.10/site-packages (from torch>=2.1.0->pytorch_lightning) (3.15.1)\n",
      "Requirement already satisfied: sympy in /opt/conda/lib/python3.10/site-packages (from torch>=2.1.0->pytorch_lightning) (1.13.3)\n",
      "Requirement already satisfied: networkx in /opt/conda/lib/python3.10/site-packages (from torch>=2.1.0->pytorch_lightning) (3.3)\n",
      "Requirement already satisfied: jinja2 in /opt/conda/lib/python3.10/site-packages (from torch>=2.1.0->pytorch_lightning) (3.1.4)\n",
      "Requirement already satisfied: numpy>1.20.0 in /opt/conda/lib/python3.10/site-packages (from torchmetrics>=0.7.0->pytorch_lightning) (1.26.4)\n",
      "Requirement already satisfied: aiosignal>=1.1.2 in /opt/conda/lib/python3.10/site-packages (from aiohttp!=4.0.0a0,!=4.0.0a1->fsspec[http]>=2022.5.0->pytorch_lightning) (1.3.1)\n",
      "Requirement already satisfied: attrs>=17.3.0 in /opt/conda/lib/python3.10/site-packages (from aiohttp!=4.0.0a0,!=4.0.0a1->fsspec[http]>=2022.5.0->pytorch_lightning) (23.2.0)\n",
      "Requirement already satisfied: frozenlist>=1.1.1 in /opt/conda/lib/python3.10/site-packages (from aiohttp!=4.0.0a0,!=4.0.0a1->fsspec[http]>=2022.5.0->pytorch_lightning) (1.4.1)\n",
      "Requirement already satisfied: multidict<7.0,>=4.5 in /opt/conda/lib/python3.10/site-packages (from aiohttp!=4.0.0a0,!=4.0.0a1->fsspec[http]>=2022.5.0->pytorch_lightning) (6.0.5)\n",
      "Requirement already satisfied: yarl<2.0,>=1.0 in /opt/conda/lib/python3.10/site-packages (from aiohttp!=4.0.0a0,!=4.0.0a1->fsspec[http]>=2022.5.0->pytorch_lightning) (1.9.4)\n",
      "Requirement already satisfied: async-timeout<5.0,>=4.0 in /opt/conda/lib/python3.10/site-packages (from aiohttp!=4.0.0a0,!=4.0.0a1->fsspec[http]>=2022.5.0->pytorch_lightning) (4.0.3)\n",
      "Requirement already satisfied: MarkupSafe>=2.0 in /opt/conda/lib/python3.10/site-packages (from jinja2->torch>=2.1.0->pytorch_lightning) (2.1.5)\n",
      "Requirement already satisfied: mpmath<1.4,>=1.1.0 in /opt/conda/lib/python3.10/site-packages (from sympy->torch>=2.1.0->pytorch_lightning) (1.3.0)\n",
      "Requirement already satisfied: idna>=2.0 in /opt/conda/lib/python3.10/site-packages (from yarl<2.0,>=1.0->aiohttp!=4.0.0a0,!=4.0.0a1->fsspec[http]>=2022.5.0->pytorch_lightning) (3.7)\n"
     ]
    }
   ],
   "source": [
    "!pip3 install pytorch_lightning"
   ]
  },
  {
   "cell_type": "code",
   "execution_count": 33,
   "metadata": {
    "execution": {
     "iopub.execute_input": "2024-12-12T15:05:04.905923Z",
     "iopub.status.busy": "2024-12-12T15:05:04.905011Z",
     "iopub.status.idle": "2024-12-12T15:05:08.211049Z",
     "shell.execute_reply": "2024-12-12T15:05:08.210346Z",
     "shell.execute_reply.started": "2024-12-12T15:05:04.905882Z"
    },
    "id": "5E6J3of9M_zi"
   },
   "outputs": [],
   "source": [
    "import pytorch_lightning as pl\n",
    "\n",
    "class TrainLightningModule(pl.LightningModule):\n",
    "    def __init__(self, model, learning_rate, criterion):\n",
    "        super().__init__()\n",
    "        self.model = model\n",
    "        self.criterion = criterion\n",
    "        self.learning_rate = learning_rate\n",
    "\n",
    "    def forward(self, title):\n",
    "        result = self.model(title)\n",
    "        return result\n",
    "\n",
    "    def configure_optimizers(self):\n",
    "        optimizer = torch.optim.Adam(self.parameters(), lr=self.learning_rate)\n",
    "        return optimizer\n",
    "\n",
    "    def training_step(self, train_batch, batch_idx):\n",
    "        title, target = train_batch\n",
    "        logits = self.model(title)\n",
    "        loss = self.criterion(logits, target)\n",
    "        self.log(\n",
    "            \"train_loss\", loss, prog_bar=True\n",
    "        )\n",
    "        return loss\n",
    "\n",
    "    def validation_step(self, val_batch, batch_idx):\n",
    "        title, target = val_batch\n",
    "        logits = self.model(title)\n",
    "        loss = self.criterion(logits, target)\n",
    "        self.log(\n",
    "            \"val_loss\", loss, prog_bar=True\n",
    "        )\n",
    "        return loss"
   ]
  },
  {
   "cell_type": "markdown",
   "metadata": {
    "id": "6BirneLfM_zi"
   },
   "source": [
    "Обучим модель."
   ]
  },
  {
   "cell_type": "code",
   "execution_count": 34,
   "metadata": {
    "colab": {
     "base_uri": "https://localhost:8080/",
     "height": 338,
     "referenced_widgets": [
      "c69232aff3594ba7bade00888701e703",
      "ce50be405846479a8539ca3af032eaa9",
      "f8f9bdd0a43b4341a05bd851f8520d7a",
      "5494c05b137e4fb596a3b4035773765a",
      "70299e8321474fa196a363715e7c1a08",
      "7d480b4b74a44510852da8d46ca3195b",
      "4d0295fb51f44797b3f736348ef524e1",
      "73b1bfbd31494433b8eafc9a017daeb3",
      "581331db6398487cbf786f871c72fb2f",
      "3ec295b6c4924e51ab955aeaa9210bc5",
      "23f1f2d1b78445da9c6abdf5588954c1",
      "42019450ef904f8db840c24a2c2521e0",
      "76b21706ccfb464c813081e809916f41",
      "54634b7865764fd6a3a920f0f1b61e8f",
      "8904b1808d004f4ca8fb4c684537cf90",
      "b8e87ca7939348768cc0158867a53744",
      "edd13473d92644ca8dd9b9a99c72535a",
      "0a226c5730d2418b92c8b8280cb72f65",
      "59f66fb345474b94bff7966b7f249f3a",
      "f6cde647a13d4f3a96c7817981aa7875",
      "53078e5103a2472e87884f8d09b0596a",
      "a72e5c5e237d4b3aba22c5d34910e587",
      "acd4d0d86d60459eab088cd3079dea05",
      "a9c403114dea41eb81a3c07cef23ef6d",
      "9d1eccf964014924aab8d03cd4a7ad69",
      "71c94a430e504d1a9b0d4eac86fc8fe6",
      "a776e3bc6247409481ba5da17650d296",
      "2e15fc2e2d234485bde9dc887dbedf70",
      "9d8a11ee7d434567bb9a1aeb4a5db468",
      "e9304aa595f14455809256ef37bfd74a",
      "99d24630954146889e7716427ca1aec6",
      "f9021d24692444df91d19d48f667bf2d",
      "b8dfade8be2446efb82bba2771883957",
      "da2a71157044483d852b53a1998df9b6",
      "4fd20e6f302648fdbf1a4fecd43f644d",
      "91ac6de87c10462499d965c4740409d4",
      "d93bebd5298e464c929c00152cfda57f",
      "bddec686549a488cb43692df2fb0b93d",
      "5ce68029328045369e1b06887106ce33",
      "005eb96513e248449c51fb11ba8d980a",
      "1dd90012e06949cabb36bb2c6e738be7",
      "6436ed9b087a43d996c1da71b62eb866",
      "d6e412318c9f45b0bfcfb6dca8ee3403",
      "b729c2b37b244d3e87bcef97be603946",
      "5c2944142fd44560971b3ca585e5081d",
      "19fc6ad9a8664d2eb27e6d93244e31a0",
      "c70b746050044fc6985702e203827386",
      "2e409154e6ac4f6384ea35ae53bfd7f2",
      "032c047603e24b4a8d64fdb1b051b840",
      "8f300d5768ae45108deabd748f2570a2",
      "51e6e5b5460e4328aa0702c498b02299",
      "708045da1cdd456eab2de093b0191101",
      "3156214399c94332b00caf95c6246124",
      "37975fb1a50c4b18bb4b52a75531af11",
      "0ccf456406bc47c68a9ed7881d58a864",
      "325d0d79740a47a5817c9e1b0468b712",
      "d0ef8e0e177a4e1690efadd10a423216",
      "23fad048e63140798ba2e393f74d09c3",
      "4fa530c8b5e942ed85ed6366fd4745f7",
      "241d72082e2a4632840db0ca81d2b249",
      "4f1502872ad14951ab5b15998b3e9e37",
      "c22c3ad5c52a47feb69f6a19ec9569ab",
      "fce38fd2c3dc4db7bfb2e1f814003722",
      "d4e3d7edb77340ff8fdf233ebf432850",
      "710a00b8cffa4f3fa74dbe65960b45ab",
      "6c725404f5c846dc9e6fdf0288d63475",
      "37cff6ab349d4b2ab968a70dce376dff",
      "107ba4c6923543959e19a638fabcd126",
      "e416dd8a758a4719bbe844a5f6c8ec34",
      "1fab4367bc9b4a5f970cc5f45ccb936d",
      "70f8d7332aff40ccab2a642c11702a68",
      "5a77e4b396be4ee9a8880fac85312795",
      "27c2aa806482414db7db2d83aa08604a",
      "2ab8e7ba514044d282b2d595787161e4",
      "38d9dbd8dc9246a7a41331a72a1d2fe4",
      "5e4e926fbcbe4b33bae959ae3d079e8e",
      "ee087d12039c4e8f91ce39ebc2c4b527"
     ]
    },
    "execution": {
     "iopub.execute_input": "2024-12-12T15:05:08.212817Z",
     "iopub.status.busy": "2024-12-12T15:05:08.212368Z",
     "iopub.status.idle": "2024-12-12T15:06:45.721367Z",
     "shell.execute_reply": "2024-12-12T15:06:45.720616Z",
     "shell.execute_reply.started": "2024-12-12T15:05:08.212787Z"
    },
    "id": "5ShTLAStM_zi",
    "outputId": "85dc0f2d-4cb7-4eec-8d13-be58058303dc"
   },
   "outputs": [
    {
     "data": {
      "application/vnd.jupyter.widget-view+json": {
       "model_id": "",
       "version_major": 2,
       "version_minor": 0
      },
      "text/plain": [
       "Sanity Checking: |          | 0/? [00:00<?, ?it/s]"
      ]
     },
     "metadata": {},
     "output_type": "display_data"
    },
    {
     "name": "stderr",
     "output_type": "stream",
     "text": [
      "/opt/conda/lib/python3.10/multiprocessing/popen_fork.py:66: RuntimeWarning: os.fork() was called. os.fork() is incompatible with multithreaded code, and JAX is multithreaded, so this will likely lead to a deadlock.\n",
      "  self.pid = os.fork()\n"
     ]
    },
    {
     "data": {
      "application/vnd.jupyter.widget-view+json": {
       "model_id": "5a59490ab40448aabc32e94a98f553a4",
       "version_major": 2,
       "version_minor": 0
      },
      "text/plain": [
       "Training: |          | 0/? [00:00<?, ?it/s]"
      ]
     },
     "metadata": {},
     "output_type": "display_data"
    },
    {
     "name": "stderr",
     "output_type": "stream",
     "text": [
      "/opt/conda/lib/python3.10/multiprocessing/popen_fork.py:66: RuntimeWarning: os.fork() was called. os.fork() is incompatible with multithreaded code, and JAX is multithreaded, so this will likely lead to a deadlock.\n",
      "  self.pid = os.fork()\n"
     ]
    },
    {
     "data": {
      "application/vnd.jupyter.widget-view+json": {
       "model_id": "",
       "version_major": 2,
       "version_minor": 0
      },
      "text/plain": [
       "Validation: |          | 0/? [00:00<?, ?it/s]"
      ]
     },
     "metadata": {},
     "output_type": "display_data"
    },
    {
     "data": {
      "application/vnd.jupyter.widget-view+json": {
       "model_id": "",
       "version_major": 2,
       "version_minor": 0
      },
      "text/plain": [
       "Validation: |          | 0/? [00:00<?, ?it/s]"
      ]
     },
     "metadata": {},
     "output_type": "display_data"
    },
    {
     "data": {
      "application/vnd.jupyter.widget-view+json": {
       "model_id": "",
       "version_major": 2,
       "version_minor": 0
      },
      "text/plain": [
       "Validation: |          | 0/? [00:00<?, ?it/s]"
      ]
     },
     "metadata": {},
     "output_type": "display_data"
    },
    {
     "data": {
      "application/vnd.jupyter.widget-view+json": {
       "model_id": "",
       "version_major": 2,
       "version_minor": 0
      },
      "text/plain": [
       "Validation: |          | 0/? [00:00<?, ?it/s]"
      ]
     },
     "metadata": {},
     "output_type": "display_data"
    },
    {
     "data": {
      "application/vnd.jupyter.widget-view+json": {
       "model_id": "",
       "version_major": 2,
       "version_minor": 0
      },
      "text/plain": [
       "Validation: |          | 0/? [00:00<?, ?it/s]"
      ]
     },
     "metadata": {},
     "output_type": "display_data"
    }
   ],
   "source": [
    "EMBEDDING_DIM = 300\n",
    "EPOCHS = 5\n",
    "LR = 1e-3\n",
    "\n",
    "model_baseline = SimpleClassifier(VOCAB_SIZE, EMBEDDING_DIM, CLASSES_NUM)\n",
    "criterion = torch.nn.CrossEntropyLoss()\n",
    "\n",
    "train_module =TrainLightningModule(model_baseline, LR, criterion)\n",
    "\n",
    "trainer = pl.Trainer(max_epochs=EPOCHS)\n",
    "trainer.fit(train_module, train_dataloader, val_dataloader)"
   ]
  },
  {
   "cell_type": "markdown",
   "metadata": {
    "id": "Qj9QJ-xEM_zi"
   },
   "source": [
    "__[1 балл] Задание 4:__  Модель выше работает только с титулом.\n",
    "\n",
    "- Залоггируйте её обучение на [WandB](https://wandb.ai/).\n",
    "- Соберите архитектуру, которая будет принимать на вход не только титул, но ещё и сниппет. В этой архитектуре должно происходить следующее:\n",
    "\n",
    "1. Общий слой `nn.Embedding` применяется к сниппету и титулу параллельно.\n",
    "2. Происходит усреднее по текстам.\n",
    "3. Вектора конкатятся в один длины 600\n",
    "4. Линейный слой делает классификацию\n",
    "\n",
    "Обучите эту модель. Сравните траектории обучения на WandB. Прикрепите ссылку на дашборд либо скришот к тетрадке.\n",
    "\n",
    "Даталоадеры придётся объявить заново с учётом сниппетов. Правда ли, что она бьёт на валидационной выборке модель, обученную только на титулах статей?"
   ]
  },
  {
   "cell_type": "code",
   "execution_count": 35,
   "metadata": {
    "colab": {
     "base_uri": "https://localhost:8080/"
    },
    "execution": {
     "iopub.execute_input": "2024-12-12T15:07:01.553350Z",
     "iopub.status.busy": "2024-12-12T15:07:01.552647Z",
     "iopub.status.idle": "2024-12-12T15:07:09.704050Z",
     "shell.execute_reply": "2024-12-12T15:07:09.702895Z",
     "shell.execute_reply.started": "2024-12-12T15:07:01.553314Z"
    },
    "id": "mMzmDNnvWH7j",
    "outputId": "65d5ee0f-797d-4735-8354-4d126793a103"
   },
   "outputs": [
    {
     "name": "stderr",
     "output_type": "stream",
     "text": [
      "/opt/conda/lib/python3.10/pty.py:89: RuntimeWarning: os.fork() was called. os.fork() is incompatible with multithreaded code, and JAX is multithreaded, so this will likely lead to a deadlock.\n",
      "  pid, fd = os.forkpty()\n"
     ]
    },
    {
     "name": "stdout",
     "output_type": "stream",
     "text": [
      "Requirement already satisfied: wandb in /opt/conda/lib/python3.10/site-packages (0.18.7)\n",
      "Requirement already satisfied: click!=8.0.0,>=7.1 in /opt/conda/lib/python3.10/site-packages (from wandb) (8.1.7)\n",
      "Requirement already satisfied: docker-pycreds>=0.4.0 in /opt/conda/lib/python3.10/site-packages (from wandb) (0.4.0)\n",
      "Requirement already satisfied: gitpython!=3.1.29,>=1.0.0 in /opt/conda/lib/python3.10/site-packages (from wandb) (3.1.43)\n",
      "Requirement already satisfied: platformdirs in /opt/conda/lib/python3.10/site-packages (from wandb) (3.11.0)\n",
      "Requirement already satisfied: protobuf!=4.21.0,!=5.28.0,<6,>=3.19.0 in /opt/conda/lib/python3.10/site-packages (from wandb) (3.20.3)\n",
      "Requirement already satisfied: psutil>=5.0.0 in /opt/conda/lib/python3.10/site-packages (from wandb) (5.9.3)\n",
      "Requirement already satisfied: pyyaml in /opt/conda/lib/python3.10/site-packages (from wandb) (6.0.2)\n",
      "Requirement already satisfied: requests<3,>=2.0.0 in /opt/conda/lib/python3.10/site-packages (from wandb) (2.32.3)\n",
      "Requirement already satisfied: sentry-sdk>=2.0.0 in /opt/conda/lib/python3.10/site-packages (from wandb) (2.19.0)\n",
      "Requirement already satisfied: setproctitle in /opt/conda/lib/python3.10/site-packages (from wandb) (1.3.4)\n",
      "Requirement already satisfied: setuptools in /opt/conda/lib/python3.10/site-packages (from wandb) (70.0.0)\n",
      "Requirement already satisfied: typing-extensions<5,>=4.4 in /opt/conda/lib/python3.10/site-packages (from wandb) (4.12.2)\n",
      "Requirement already satisfied: six>=1.4.0 in /opt/conda/lib/python3.10/site-packages (from docker-pycreds>=0.4.0->wandb) (1.16.0)\n",
      "Requirement already satisfied: gitdb<5,>=4.0.1 in /opt/conda/lib/python3.10/site-packages (from gitpython!=3.1.29,>=1.0.0->wandb) (4.0.11)\n",
      "Requirement already satisfied: charset-normalizer<4,>=2 in /opt/conda/lib/python3.10/site-packages (from requests<3,>=2.0.0->wandb) (3.3.2)\n",
      "Requirement already satisfied: idna<4,>=2.5 in /opt/conda/lib/python3.10/site-packages (from requests<3,>=2.0.0->wandb) (3.7)\n",
      "Requirement already satisfied: urllib3<3,>=1.21.1 in /opt/conda/lib/python3.10/site-packages (from requests<3,>=2.0.0->wandb) (1.26.18)\n",
      "Requirement already satisfied: certifi>=2017.4.17 in /opt/conda/lib/python3.10/site-packages (from requests<3,>=2.0.0->wandb) (2024.6.2)\n",
      "Requirement already satisfied: smmap<6,>=3.0.1 in /opt/conda/lib/python3.10/site-packages (from gitdb<5,>=4.0.1->gitpython!=3.1.29,>=1.0.0->wandb) (5.0.1)\n",
      "Note: you may need to restart the kernel to use updated packages.\n"
     ]
    }
   ],
   "source": [
    "pip install wandb"
   ]
  },
  {
   "cell_type": "code",
   "execution_count": 37,
   "metadata": {
    "colab": {
     "base_uri": "https://localhost:8080/"
    },
    "execution": {
     "iopub.execute_input": "2024-12-12T15:07:57.680523Z",
     "iopub.status.busy": "2024-12-12T15:07:57.679307Z",
     "iopub.status.idle": "2024-12-12T15:07:57.691648Z",
     "shell.execute_reply": "2024-12-12T15:07:57.690849Z",
     "shell.execute_reply.started": "2024-12-12T15:07:57.680466Z"
    },
    "id": "pqZMsnMsIvGC",
    "outputId": "0169b1b4-b66f-4399-d29e-daa3a430c2cb"
   },
   "outputs": [
    {
     "name": "stderr",
     "output_type": "stream",
     "text": [
      "\u001b[34m\u001b[1mwandb\u001b[0m: Currently logged in as: \u001b[33msemyon-zotov13\u001b[0m (\u001b[33msemyon-zotov13-hse-university\u001b[0m). Use \u001b[1m`wandb login --relogin`\u001b[0m to force relogin\n"
     ]
    },
    {
     "data": {
      "text/plain": [
       "True"
      ]
     },
     "execution_count": 37,
     "metadata": {},
     "output_type": "execute_result"
    }
   ],
   "source": [
    "import wandb\n",
    "\n",
    "wandb.login()"
   ]
  },
  {
   "cell_type": "code",
   "execution_count": 38,
   "metadata": {
    "execution": {
     "iopub.execute_input": "2024-12-12T15:07:57.979795Z",
     "iopub.status.busy": "2024-12-12T15:07:57.979514Z",
     "iopub.status.idle": "2024-12-12T15:07:57.984909Z",
     "shell.execute_reply": "2024-12-12T15:07:57.984041Z",
     "shell.execute_reply.started": "2024-12-12T15:07:57.979769Z"
    },
    "id": "JWqN7hbrekd4"
   },
   "outputs": [],
   "source": [
    "class SnippetSimpleClassifier(nn.Module):\n",
    "\n",
    "    def __init__(self, vocab_size, embedding_dim, output_dim):\n",
    "        super().__init__()\n",
    "        self.embedding = nn.Embedding(vocab_size, embedding_dim)\n",
    "        self.fc = nn.Linear(embedding_dim * 2, output_dim)\n",
    "\n",
    "    def forward(self, title, snippet):\n",
    "        embedded_title = self.embedding(title).mean(dim=1)\n",
    "        embedded_snippet = self.embedding(snippet).mean(dim=1)\n",
    "\n",
    "        concatenated = torch.cat((embedded_title, embedded_snippet), dim=1)\n",
    "        return self.fc(concatenated)"
   ]
  },
  {
   "cell_type": "code",
   "execution_count": 39,
   "metadata": {
    "execution": {
     "iopub.execute_input": "2024-12-12T15:07:58.729268Z",
     "iopub.status.busy": "2024-12-12T15:07:58.728995Z",
     "iopub.status.idle": "2024-12-12T15:07:58.735517Z",
     "shell.execute_reply": "2024-12-12T15:07:58.734637Z",
     "shell.execute_reply.started": "2024-12-12T15:07:58.729240Z"
    },
    "id": "CwJVU8l0e4ko"
   },
   "outputs": [],
   "source": [
    "class SnippetTrainLightningModule(pl.LightningModule):\n",
    "    def __init__(self, model, learning_rate, criterion):\n",
    "        super().__init__()\n",
    "        self.model = model\n",
    "        self.criterion = criterion\n",
    "        self.learning_rate = learning_rate\n",
    "\n",
    "    def forward(self, title):\n",
    "        result = self.model(title,snippet)\n",
    "        return result\n",
    "\n",
    "    def configure_optimizers(self):\n",
    "        optimizer = torch.optim.Adam(self.parameters(), lr=self.learning_rate)\n",
    "        return optimizer\n",
    "\n",
    "    def training_step(self, train_batch, batch_idx):\n",
    "        title,snippet, target = train_batch\n",
    "        logits = self.model(title, snippet)\n",
    "        loss = self.criterion(logits, target)\n",
    "        self.log(\n",
    "            \"train_loss\", loss, prog_bar=True\n",
    "        )\n",
    "        return loss\n",
    "\n",
    "    def validation_step(self, val_batch, batch_idx):\n",
    "        title,snippet, target = val_batch\n",
    "        logits = self.model(title, snippet)\n",
    "        loss = self.criterion(logits, target)\n",
    "        self.log(\n",
    "            \"val_loss\", loss, prog_bar=True\n",
    "        )\n",
    "        return loss"
   ]
  },
  {
   "cell_type": "code",
   "execution_count": 40,
   "metadata": {
    "execution": {
     "iopub.execute_input": "2024-12-12T15:08:00.049565Z",
     "iopub.status.busy": "2024-12-12T15:08:00.049277Z",
     "iopub.status.idle": "2024-12-12T15:08:00.057935Z",
     "shell.execute_reply": "2024-12-12T15:08:00.056978Z",
     "shell.execute_reply.started": "2024-12-12T15:08:00.049537Z"
    },
    "id": "5o9sxrT-wHek"
   },
   "outputs": [],
   "source": [
    "class SnippetNewsDataset(Dataset):\n",
    "    def __init__(self, target, title, snippet, vocab, vocab_size, max_title_len, max_snippet_len, max_classes):\n",
    "        self.vocab = {word: idx for word, idx in vocab.items() if idx < vocab_size}\n",
    "        self.max_classes = max_classes\n",
    "        self.y = self.target_ohe(target)\n",
    "        self.X_title = self.create_text(title, max_title_len)\n",
    "        self.snippet = None\n",
    "        if snippet is not None:\n",
    "            self.X_snippet = self.create_text(snippet, max_snippet_len)\n",
    "            self.snippet = True\n",
    "\n",
    "    def target_ohe(self, target):\n",
    "        y = torch.zeros((len(target), self.max_classes))\n",
    "        for i, t in enumerate(target):\n",
    "            y[[i] * len(t), t] = 1.0\n",
    "        return y\n",
    "\n",
    "    def create_text(self, texts, max_len):\n",
    "        result = []\n",
    "        for sent in texts:\n",
    "            sent_tokenize = [self.vocab.get(item, 1) for item in word_tokenize(sent)]\n",
    "            if len(sent_tokenize) >= max_len:\n",
    "                sent_tokenize = sent_tokenize[:max_len]\n",
    "            else:\n",
    "                sent_tokenize += [0] * (max_len - len(sent_tokenize))\n",
    "            result.append(sent_tokenize)\n",
    "        return torch.tensor(result, dtype=torch.int)\n",
    "\n",
    "    def __len__(self):\n",
    "        return len(self.X_title)\n",
    "\n",
    "    def __getitem__(self, idx):\n",
    "        if self.snippet:\n",
    "            return (self.X_title[idx, :], self.X_snippet[idx, :], self.y[idx])\n",
    "        return (self.X_title[idx, :], self.y[idx])"
   ]
  },
  {
   "cell_type": "code",
   "execution_count": 41,
   "metadata": {
    "execution": {
     "iopub.execute_input": "2024-12-12T15:08:00.883961Z",
     "iopub.status.busy": "2024-12-12T15:08:00.883691Z",
     "iopub.status.idle": "2024-12-12T15:08:00.887857Z",
     "shell.execute_reply": "2024-12-12T15:08:00.887036Z",
     "shell.execute_reply.started": "2024-12-12T15:08:00.883935Z"
    },
    "id": "WtcSwBCzx4yj"
   },
   "outputs": [],
   "source": [
    "from pytorch_lightning.loggers import WandbLogger"
   ]
  },
  {
   "cell_type": "code",
   "execution_count": 42,
   "metadata": {
    "colab": {
     "base_uri": "https://localhost:8080/",
     "height": 423,
     "referenced_widgets": [
      "448eb3b031fb48fda211732522f669b8",
      "e80f2d2f554e4130969e1c8e3ce649e6",
      "949b7a8ed4194fb6b851dbe64bd77b33",
      "1c12b149ca7244a2b1162f00ec4121c4",
      "db1798d01367417c8e093d036a6ca4e4",
      "1290f72e5bd34bd794ff0e4c7a9f4a1b",
      "bff4bd71afa34bfdacf14f78f0ca67c8",
      "8496aa96ca914cf0bde5c6211a38ebd2",
      "26c52ad8f89541bc87c2f2cacd888691",
      "caaaedd80fc0416ca472f0421a0cc270",
      "52807f963d38438d856e2c0d7cf813c1",
      "a40b8a470263479abc60e7af7667a974",
      "abfb7b6227f14c51bf2211f3041766fd",
      "3178985e0dfd426c9066e8b707556f6c",
      "067e8f2a052b4770b292f7929d439944",
      "a3fe92d8066a48cd8f09bdbb2b68ef9e",
      "0c5b04b41f624e32a34112d1b9448089",
      "3d5b1bc6585940a1a31bf6edc0a226f5",
      "90080b96e3774c8d990d8ef37a15d9a2",
      "1c6dfc25b65748499e098c0bc2a3f272",
      "84430f61b9b84f8ca1ed9acb19bb3780",
      "6957571ce3e54bb6bbcaad11b01bfdc3",
      "4c56da79646343a5a7ab6ff3f7f69aac",
      "14788be403c64c2b83176a3ebb814185",
      "8861938704854ff4b776a511d4be0183",
      "1ab50a3326d44dba8b307aab6eaf6bc5",
      "b720063ca4e44aec813409ccea3d809a",
      "a9e268a649584fed97a469f9b5d8e9e4",
      "162beecaec614d8aba9e7b40290c3950",
      "0948e22a98c94ea885817b11f37ba07f",
      "9c102e9bf6124c088d9deb892d24e121",
      "48c181a200864645b4a747d2b771b668",
      "fe3c136be1144401bb413b1d828e795d",
      "d4d6fadb85474c35ab183e239d81eb1a",
      "aea7b991a8a14ae389bda571e1633a4e",
      "91b98fed40824513b05f5744e5a2ea0e",
      "27481c7608d747b198ae410d574bb0c8",
      "b7639f74280c4e22976cbac65b6f3929",
      "5478440fba9e4edeb7e70f0cca250674",
      "fff44263c51e47a9b123f2ce94c65b85",
      "86ad675b91604eee80f05d11694d5553",
      "c93d5c4a5e484fec8aefd2cd92017521",
      "bb8321632151480dac9a1dbdf5fe2d42",
      "2f3d9672fc7e432a9c72e29b50f3ddf6",
      "cfa195d1bb5e4475932ce03526f4c4bc",
      "73f746ec6f0141aaa6868c43579f7157",
      "c3ef361ef44b4c6cac60efb9e3bb4307",
      "540f238b06914ae393e0c28a43a68049",
      "093808f609a64ab7a0ecd2b9b8eb5ea7",
      "bea4b5260a3b4eb7b638b7b3e9fb0339",
      "4578eb020b364be1834cf884fa9998c2",
      "18ffec9b445e4195b71b6c54c73ce5ea",
      "077dcdde9d814c2b8fbb926296a78773",
      "de90edcbd8d5457da6ac9afd9c89a137",
      "3d415904901f425e99b9ed047dc87789",
      "914c328059b74c7c965720529f9530f5",
      "c094c9bee127459bab6316a5a834b703",
      "c6e300a889ef45ef876c16bca667598b",
      "a4978ebd082b4d8393475549a63bf2aa",
      "adddcdebb44d429b827cb007ab2cdf8f",
      "fbc527f7f26e46ba8d4c6a323e475db9",
      "02ca561957a042a6979cb884575b8e2b",
      "feb6ff4f570740789be146d9f6b99e63",
      "63a3335f3af04e4b92903f974f772c06",
      "0f756a02621b4a65a7721dbf1d78f79b",
      "fb7f5d9c99e94f4db33e4a418d2c2c38",
      "153b48c8fcca48c0ab0345df5c1c541b",
      "4f0ec27e4df14a5fb44fce0dfed84fdf",
      "18a7258afe5a408bb8426b53844470cb",
      "1e3a693a4f9e4208a6094590c19ae5c7",
      "41c6e408ee934a5ab94adac56d5933d1",
      "bdb0a12a8a0647d2a9b2ceb491db07c1",
      "54ef373476104060a423967fb0430210",
      "ab7b3ec8c0714c0c9b3496bfd7ddf666",
      "ea51b8b03b4c492ca96e383300ffe821",
      "2696e72706f444eca725763811d5bd8b",
      "55ffd35f21d94d0eafbeee6a98c1fca5"
     ]
    },
    "execution": {
     "iopub.execute_input": "2024-12-12T15:08:02.102109Z",
     "iopub.status.busy": "2024-12-12T15:08:02.101801Z",
     "iopub.status.idle": "2024-12-12T15:10:25.338529Z",
     "shell.execute_reply": "2024-12-12T15:10:25.337801Z",
     "shell.execute_reply.started": "2024-12-12T15:08:02.102080Z"
    },
    "id": "jn8or_4L3RAq",
    "outputId": "b3002020-8cea-4c19-e5b4-054889531e2e"
   },
   "outputs": [],
   "source": [
    "EMBEDDING_DIM = 300\n",
    "EPOCHS = 5\n",
    "LR = 1e-3\n",
    "MAX_SNIPPET_LEN = 50\n",
    "\n",
    "train_dataset_snippet = SnippetNewsDataset(\n",
    "    df_train.target_tags.values, df_train.title_clean.values, df_train.snippet_clean.values,\n",
    "    vocabulary, VOCAB_SIZE, MAX_TITLE_LEN, MAX_SNIPPET_LEN, CLASSES_NUM\n",
    ")\n",
    "val_dataset_snippet = SnippetNewsDataset(\n",
    "    df_val.target_tags.values, df_val.title_clean.values, df_val.snippet_clean.values,\n",
    "    vocabulary, VOCAB_SIZE, MAX_TITLE_LEN, MAX_SNIPPET_LEN, CLASSES_NUM\n",
    ")\n",
    "\n",
    "\n",
    "train_dataloader_snippet = DataLoader(train_dataset_snippet, shuffle=True, batch_size=64, num_workers=4)\n",
    "val_dataloader_snippet = DataLoader(val_dataset_snippet, shuffle=False, batch_size=4096, num_workers=4)"
   ]
  },
  {
   "cell_type": "code",
   "execution_count": 43,
   "metadata": {
    "execution": {
     "iopub.execute_input": "2024-12-12T15:10:25.340254Z",
     "iopub.status.busy": "2024-12-12T15:10:25.339985Z",
     "iopub.status.idle": "2024-12-12T15:10:30.697446Z",
     "shell.execute_reply": "2024-12-12T15:10:30.696740Z",
     "shell.execute_reply.started": "2024-12-12T15:10:25.340226Z"
    }
   },
   "outputs": [],
   "source": [
    "test_dataset_snippet = SnippetNewsDataset(\n",
    "    df_test.target_tags.values, df_test.title_clean.values, df_test.snippet_clean.values,\n",
    "    vocabulary, VOCAB_SIZE, MAX_TITLE_LEN, MAX_SNIPPET_LEN, CLASSES_NUM\n",
    ")"
   ]
  },
  {
   "cell_type": "code",
   "execution_count": 44,
   "metadata": {
    "execution": {
     "iopub.execute_input": "2024-12-12T15:11:02.700739Z",
     "iopub.status.busy": "2024-12-12T15:11:02.699986Z",
     "iopub.status.idle": "2024-12-12T15:12:46.954647Z",
     "shell.execute_reply": "2024-12-12T15:12:46.953491Z",
     "shell.execute_reply.started": "2024-12-12T15:11:02.700697Z"
    }
   },
   "outputs": [
    {
     "data": {
      "text/html": [
       "Tracking run with wandb version 0.18.7"
      ],
      "text/plain": [
       "<IPython.core.display.HTML object>"
      ]
     },
     "metadata": {},
     "output_type": "display_data"
    },
    {
     "data": {
      "text/html": [
       "Run data is saved locally in <code>./wandb/run-20241212_151102-dgydt6tb</code>"
      ],
      "text/plain": [
       "<IPython.core.display.HTML object>"
      ]
     },
     "metadata": {},
     "output_type": "display_data"
    },
    {
     "data": {
      "text/html": [
       "Syncing run <strong><a href='https://wandb.ai/semyon-zotov13-hse-university/lightning_logs/runs/dgydt6tb' target=\"_blank\">morning-monkey-9</a></strong> to <a href='https://wandb.ai/semyon-zotov13-hse-university/lightning_logs' target=\"_blank\">Weights & Biases</a> (<a href='https://wandb.me/developer-guide' target=\"_blank\">docs</a>)<br/>"
      ],
      "text/plain": [
       "<IPython.core.display.HTML object>"
      ]
     },
     "metadata": {},
     "output_type": "display_data"
    },
    {
     "data": {
      "text/html": [
       " View project at <a href='https://wandb.ai/semyon-zotov13-hse-university/lightning_logs' target=\"_blank\">https://wandb.ai/semyon-zotov13-hse-university/lightning_logs</a>"
      ],
      "text/plain": [
       "<IPython.core.display.HTML object>"
      ]
     },
     "metadata": {},
     "output_type": "display_data"
    },
    {
     "data": {
      "text/html": [
       " View run at <a href='https://wandb.ai/semyon-zotov13-hse-university/lightning_logs/runs/dgydt6tb' target=\"_blank\">https://wandb.ai/semyon-zotov13-hse-university/lightning_logs/runs/dgydt6tb</a>"
      ],
      "text/plain": [
       "<IPython.core.display.HTML object>"
      ]
     },
     "metadata": {},
     "output_type": "display_data"
    },
    {
     "data": {
      "application/vnd.jupyter.widget-view+json": {
       "model_id": "",
       "version_major": 2,
       "version_minor": 0
      },
      "text/plain": [
       "Sanity Checking: |          | 0/? [00:00<?, ?it/s]"
      ]
     },
     "metadata": {},
     "output_type": "display_data"
    },
    {
     "name": "stderr",
     "output_type": "stream",
     "text": [
      "/opt/conda/lib/python3.10/multiprocessing/popen_fork.py:66: RuntimeWarning: os.fork() was called. os.fork() is incompatible with multithreaded code, and JAX is multithreaded, so this will likely lead to a deadlock.\n",
      "  self.pid = os.fork()\n"
     ]
    },
    {
     "data": {
      "application/vnd.jupyter.widget-view+json": {
       "model_id": "6245789674e3435196e9d89c82299a1d",
       "version_major": 2,
       "version_minor": 0
      },
      "text/plain": [
       "Training: |          | 0/? [00:00<?, ?it/s]"
      ]
     },
     "metadata": {},
     "output_type": "display_data"
    },
    {
     "name": "stderr",
     "output_type": "stream",
     "text": [
      "/opt/conda/lib/python3.10/multiprocessing/popen_fork.py:66: RuntimeWarning: os.fork() was called. os.fork() is incompatible with multithreaded code, and JAX is multithreaded, so this will likely lead to a deadlock.\n",
      "  self.pid = os.fork()\n"
     ]
    },
    {
     "data": {
      "application/vnd.jupyter.widget-view+json": {
       "model_id": "",
       "version_major": 2,
       "version_minor": 0
      },
      "text/plain": [
       "Validation: |          | 0/? [00:00<?, ?it/s]"
      ]
     },
     "metadata": {},
     "output_type": "display_data"
    },
    {
     "data": {
      "application/vnd.jupyter.widget-view+json": {
       "model_id": "",
       "version_major": 2,
       "version_minor": 0
      },
      "text/plain": [
       "Validation: |          | 0/? [00:00<?, ?it/s]"
      ]
     },
     "metadata": {},
     "output_type": "display_data"
    },
    {
     "data": {
      "application/vnd.jupyter.widget-view+json": {
       "model_id": "",
       "version_major": 2,
       "version_minor": 0
      },
      "text/plain": [
       "Validation: |          | 0/? [00:00<?, ?it/s]"
      ]
     },
     "metadata": {},
     "output_type": "display_data"
    },
    {
     "data": {
      "application/vnd.jupyter.widget-view+json": {
       "model_id": "",
       "version_major": 2,
       "version_minor": 0
      },
      "text/plain": [
       "Validation: |          | 0/? [00:00<?, ?it/s]"
      ]
     },
     "metadata": {},
     "output_type": "display_data"
    },
    {
     "data": {
      "application/vnd.jupyter.widget-view+json": {
       "model_id": "",
       "version_major": 2,
       "version_minor": 0
      },
      "text/plain": [
       "Validation: |          | 0/? [00:00<?, ?it/s]"
      ]
     },
     "metadata": {},
     "output_type": "display_data"
    },
    {
     "data": {
      "text/html": [
       "\n",
       "    <style>\n",
       "        .wandb-row {\n",
       "            display: flex;\n",
       "            flex-direction: row;\n",
       "            flex-wrap: wrap;\n",
       "            justify-content: flex-start;\n",
       "            width: 100%;\n",
       "        }\n",
       "        .wandb-col {\n",
       "            display: flex;\n",
       "            flex-direction: column;\n",
       "            flex-basis: 100%;\n",
       "            flex: 1;\n",
       "            padding: 10px;\n",
       "        }\n",
       "    </style>\n",
       "<div class=\"wandb-row\"><div class=\"wandb-col\"><h3>Run history:</h3><br/><table class=\"wandb\"><tr><td>epoch</td><td>▁▁▁▁▁▁▁▁▁▁▃▃▃▃▃▅▅▅▅▅▅▅▅▅▅▆▆▆▆▆▆▆▆███████</td></tr><tr><td>train_loss</td><td>██▆▆▅▅▅▄▄▅▄▄▃▃▃▄▃▃▃▄▃▂▂▂▂▃▂▂▁▂▂▂▁▂▂▂▂▂▂▁</td></tr><tr><td>trainer/global_step</td><td>▁▁▁▂▂▂▂▂▂▂▃▃▃▃▃▃▃▃▃▃▄▄▄▄▅▅▅▅▅▅▆▆▆▆▇▇▇▇▇█</td></tr><tr><td>val_loss</td><td>█▄▂▁▁</td></tr></table><br/></div><div class=\"wandb-col\"><h3>Run summary:</h3><br/><table class=\"wandb\"><tr><td>epoch</td><td>4</td></tr><tr><td>train_loss</td><td>6.57018</td></tr><tr><td>trainer/global_step</td><td>10694</td></tr><tr><td>val_loss</td><td>10.73641</td></tr></table><br/></div></div>"
      ],
      "text/plain": [
       "<IPython.core.display.HTML object>"
      ]
     },
     "metadata": {},
     "output_type": "display_data"
    },
    {
     "data": {
      "text/html": [
       " View run <strong style=\"color:#cdcd00\">morning-monkey-9</strong> at: <a href='https://wandb.ai/semyon-zotov13-hse-university/lightning_logs/runs/dgydt6tb' target=\"_blank\">https://wandb.ai/semyon-zotov13-hse-university/lightning_logs/runs/dgydt6tb</a><br/> View project at: <a href='https://wandb.ai/semyon-zotov13-hse-university/lightning_logs' target=\"_blank\">https://wandb.ai/semyon-zotov13-hse-university/lightning_logs</a><br/>Synced 5 W&B file(s), 0 media file(s), 10 artifact file(s) and 0 other file(s)"
      ],
      "text/plain": [
       "<IPython.core.display.HTML object>"
      ]
     },
     "metadata": {},
     "output_type": "display_data"
    },
    {
     "data": {
      "text/html": [
       "Find logs at: <code>./wandb/run-20241212_151102-dgydt6tb/logs</code>"
      ],
      "text/plain": [
       "<IPython.core.display.HTML object>"
      ]
     },
     "metadata": {},
     "output_type": "display_data"
    }
   ],
   "source": [
    "model_with_snippet = SnippetSimpleClassifier(VOCAB_SIZE, EMBEDDING_DIM, CLASSES_NUM)\n",
    "criterion = torch.nn.CrossEntropyLoss()\n",
    "wandb_logger = WandbLogger(log_model='all')\n",
    "\n",
    "train_module_with_snippet = SnippetTrainLightningModule(model_with_snippet, LR, criterion)\n",
    "\n",
    "trainer = pl.Trainer(logger=wandb_logger, accelerator=\"gpu\", max_epochs=EPOCHS)\n",
    "trainer.fit(train_module_with_snippet, train_dataloader_snippet, val_dataloader_snippet)\n",
    "\n",
    "wandb.finish()"
   ]
  },
  {
   "cell_type": "markdown",
   "metadata": {
    "id": "qKdBptFbM_zi"
   },
   "source": [
    "## 1.5 Инференс и оценка качества моделей\n",
    "\n",
    "Для каждой новости нам надо предсказывать несколько тэгов. То есть в нашем случае настоящее значение таргета это множество из тэгов $y_i = [tag1, tag2, tag3]$. Прогноз модели также множество из тэгов $\\hat y_i = [tag1, tag4]$.\n",
    "\n",
    "Будем считать метрики качества следующим образом (под $|A|$ имеется в виду мощность множества, то есть число элементов в нём):\n",
    "\n",
    "$$\n",
    "Precision = \\frac{1}{n} \\sum_{i = 1}^n \\frac{|y_i \\cap \\hat{y}_i|}{|\\hat{y}_i|}\n",
    "$$\n",
    "\n",
    "$$\n",
    "Recall = \\frac{1}{n} \\sum_{i = 1}^n \\frac{|y_i \\cap \\hat{y}_i|}{|y_i|}\n",
    "$$\n",
    "\n",
    "Также можно считать аналог Accuracy, но это не самая удачная идея, так как у нас в выборке огромное число нулей и эта метрика при любом разумном пороге для принятия решения будет очень высокой.\n",
    "\n",
    "$$\n",
    "Exact Match = \\frac{1}{n} \\cdot \\frac{1}{k} \\sum_{i = 1}^n \\sum_{k=1}^K [y_{ij} = \\hat{y}_{ij}]\n",
    "$$"
   ]
  },
  {
   "cell_type": "code",
   "execution_count": 45,
   "metadata": {
    "execution": {
     "iopub.execute_input": "2024-12-12T15:13:48.092763Z",
     "iopub.status.busy": "2024-12-12T15:13:48.091705Z",
     "iopub.status.idle": "2024-12-12T15:13:48.098589Z",
     "shell.execute_reply": "2024-12-12T15:13:48.097627Z",
     "shell.execute_reply.started": "2024-12-12T15:13:48.092719Z"
    },
    "id": "tgBsB48FM_zi"
   },
   "outputs": [],
   "source": [
    "def precision(target, y_pred):\n",
    "    num = ((y_pred == 1) & (target == 1)).sum(dim=1)\n",
    "    denum = (y_pred == 1).sum(dim=1)\n",
    "    return (num/(denum + 1e-5)).mean().item()\n",
    "\n",
    "def recall(target, y_pred):\n",
    "    num = ((y_pred == 1) & (target == 1)).sum(dim=1)\n",
    "    denum = (target == 1).sum(dim=1)\n",
    "    return (num/(denum + 1e-5)).mean().item()\n",
    "\n",
    "def exact_match(target, y_pred):\n",
    "    return (1.*(y_pred == target)).mean().item()"
   ]
  },
  {
   "cell_type": "markdown",
   "metadata": {
    "id": "eD9UeFECM_zi"
   },
   "source": [
    "Построим прогноз на тестовой выборке."
   ]
  },
  {
   "cell_type": "code",
   "execution_count": 46,
   "metadata": {
    "execution": {
     "iopub.execute_input": "2024-12-12T15:13:49.721230Z",
     "iopub.status.busy": "2024-12-12T15:13:49.720603Z",
     "iopub.status.idle": "2024-12-12T15:13:51.010683Z",
     "shell.execute_reply": "2024-12-12T15:13:51.009730Z",
     "shell.execute_reply.started": "2024-12-12T15:13:49.721197Z"
    },
    "id": "JHHDcGUDM_zi"
   },
   "outputs": [],
   "source": [
    "test_dataloader = DataLoader(test_dataset, shuffle=False, batch_size=test_dataset.__len__())\n",
    "\n",
    "for title, target in test_dataloader:\n",
    "    logit = model_baseline(title)\n",
    "    pred_prob = F.softmax(logit, dim=1)\n",
    "\n",
    "assert pred_prob.shape[0] == test_dataset.__len__()"
   ]
  },
  {
   "cell_type": "markdown",
   "metadata": {
    "id": "mzbiK9llM_zi"
   },
   "source": [
    "Теперь выбирая различное значение порога, мы можем получать разные предсказания. Если взять очень большое значение порога, то метрики сильно просядут, так как во многих документах никакого прогноза не будет построено вообще."
   ]
  },
  {
   "cell_type": "code",
   "execution_count": 47,
   "metadata": {
    "colab": {
     "base_uri": "https://localhost:8080/"
    },
    "execution": {
     "iopub.execute_input": "2024-12-12T15:13:52.289767Z",
     "iopub.status.busy": "2024-12-12T15:13:52.289158Z",
     "iopub.status.idle": "2024-12-12T15:13:53.642633Z",
     "shell.execute_reply": "2024-12-12T15:13:53.641726Z",
     "shell.execute_reply.started": "2024-12-12T15:13:52.289730Z"
    },
    "id": "v2UI7GKqM_zj",
    "outputId": "9a4699bb-15b2-4b88-f046-ba5b6539beb9"
   },
   "outputs": [
    {
     "name": "stdout",
     "output_type": "stream",
     "text": [
      "Exact Match: 0.9954721927642822\n",
      "Precision: 0.28817930817604065\n",
      "Recall: 0.7648704648017883\n"
     ]
    }
   ],
   "source": [
    "TRESHOLD = 0.01\n",
    "y_pred = 1*(pred_prob > TRESHOLD)\n",
    "\n",
    "print('Exact Match:', exact_match(target, y_pred))\n",
    "print('Precision:', precision(target, y_pred))\n",
    "print('Recall:', recall(target, y_pred))"
   ]
  },
  {
   "cell_type": "code",
   "execution_count": 48,
   "metadata": {
    "colab": {
     "base_uri": "https://localhost:8080/"
    },
    "execution": {
     "iopub.execute_input": "2024-12-12T15:13:53.644361Z",
     "iopub.status.busy": "2024-12-12T15:13:53.644077Z",
     "iopub.status.idle": "2024-12-12T15:13:55.035506Z",
     "shell.execute_reply": "2024-12-12T15:13:55.034618Z",
     "shell.execute_reply.started": "2024-12-12T15:13:53.644325Z"
    },
    "id": "6v3CTYheM_zj",
    "outputId": "42d7391c-7e5e-43ca-eb12-73ac4ec56606"
   },
   "outputs": [
    {
     "name": "stdout",
     "output_type": "stream",
     "text": [
      "Exact Match: 0.9983243942260742\n",
      "Precision: 0.5192195773124695\n",
      "Recall: 0.6176608204841614\n"
     ]
    }
   ],
   "source": [
    "TRESHOLD = 0.05\n",
    "y_pred = 1*(pred_prob > TRESHOLD)\n",
    "print('Exact Match:', exact_match(target, y_pred))\n",
    "print('Precision:', precision(target, y_pred))\n",
    "print('Recall:', recall(target, y_pred))"
   ]
  },
  {
   "cell_type": "code",
   "execution_count": 49,
   "metadata": {
    "colab": {
     "base_uri": "https://localhost:8080/"
    },
    "execution": {
     "iopub.execute_input": "2024-12-12T15:13:55.036873Z",
     "iopub.status.busy": "2024-12-12T15:13:55.036576Z",
     "iopub.status.idle": "2024-12-12T15:13:56.397333Z",
     "shell.execute_reply": "2024-12-12T15:13:56.396407Z",
     "shell.execute_reply.started": "2024-12-12T15:13:55.036845Z"
    },
    "id": "7mokX9IVM_zj",
    "outputId": "a51f2210-0ab9-404e-ff4e-16188a5076b0"
   },
   "outputs": [
    {
     "name": "stdout",
     "output_type": "stream",
     "text": [
      "Exact Match: 0.998320996761322\n",
      "Precision: 0.005491870921105146\n",
      "Recall: 0.004862107802182436\n"
     ]
    }
   ],
   "source": [
    "TRESHOLD = 0.9\n",
    "y_pred = 1*(pred_prob > TRESHOLD)\n",
    "\n",
    "print('Exact Match:', exact_match(target, y_pred))\n",
    "print('Precision:', precision(target, y_pred))\n",
    "print('Recall:', recall(target, y_pred))"
   ]
  },
  {
   "cell_type": "markdown",
   "metadata": {
    "id": "IUWFt7jjM_zj"
   },
   "source": [
    "Дальше мы будем строить довольно много прогнозов. Давайте напишем код для их строительства в виде функции. Обратите внимание, что на модели со снипетом она упадёт. Когда вы доберётесь до строительства прогнозов, функцию придётся немного модернизировать."
   ]
  },
  {
   "cell_type": "code",
   "execution_count": 50,
   "metadata": {
    "execution": {
     "iopub.execute_input": "2024-12-12T15:13:56.399206Z",
     "iopub.status.busy": "2024-12-12T15:13:56.398932Z",
     "iopub.status.idle": "2024-12-12T15:13:56.404247Z",
     "shell.execute_reply": "2024-12-12T15:13:56.403401Z",
     "shell.execute_reply.started": "2024-12-12T15:13:56.399178Z"
    },
    "id": "B3YFX4d2M_zk"
   },
   "outputs": [],
   "source": [
    "def get_predict(model, dataset):\n",
    "    dataloader = DataLoader(dataset, shuffle=False, batch_size=dataset.__len__())\n",
    "\n",
    "    for title, target in dataloader:\n",
    "        logit = model(title)\n",
    "        pred_prob = F.softmax(logit, dim=1)\n",
    "\n",
    "    assert pred_prob.shape[0] == dataset.__len__()\n",
    "    return pred_prob, target"
   ]
  },
  {
   "cell_type": "markdown",
   "metadata": {
    "id": "g0n493n_M_zk"
   },
   "source": [
    "__[0.5 балла] Задание 5:__ Какая метрика для нас в этой задаче важнее? Точность или полнота? Почему?\n",
    "\n",
    "__ваш ответ:__Полнота, так как полнота показывает, сколько из всех истинных правильных классов модель смогла правильно классифицировать. Для задачи классификации новостей важно, чтобы все релевантные новости были правильно отнесены к своей категории."
   ]
  },
  {
   "cell_type": "markdown",
   "metadata": {
    "id": "6TFEvxI6M_zk"
   },
   "source": [
    "- Напишите функцию, которая будет подбирать оптимальное значение порога, оптимизирующее выбранную вами метрику.\n",
    "- Подберите значение порога на валидационной выборке.\n",
    "- Сравните модель со сниппетами и без сниппетов, используя выбранную вами метрику при оптимальном значении порога на тестовой выборке.\n",
    "- Какая из них оказалась лучше?"
   ]
  },
  {
   "cell_type": "code",
   "execution_count": 51,
   "metadata": {
    "execution": {
     "iopub.execute_input": "2024-12-12T15:13:58.409395Z",
     "iopub.status.busy": "2024-12-12T15:13:58.409050Z",
     "iopub.status.idle": "2024-12-12T15:13:58.414481Z",
     "shell.execute_reply": "2024-12-12T15:13:58.413656Z",
     "shell.execute_reply.started": "2024-12-12T15:13:58.409362Z"
    },
    "id": "kBIDnhtRzmNM"
   },
   "outputs": [],
   "source": [
    "def find_best_threshold(pred_prob, target, metric_function):\n",
    "    best_threshold = 0\n",
    "    best_score = -float('inf')\n",
    "\n",
    "    for threshold in torch.linspace(0.01, 1.0, 10):\n",
    "        y_pred = (pred_prob > threshold).int()\n",
    "        score = metric_function(target, y_pred)\n",
    "        if score > best_score:\n",
    "            best_score = score\n",
    "            best_threshold = threshold.item()\n",
    "\n",
    "    return best_threshold, best_score"
   ]
  },
  {
   "cell_type": "code",
   "execution_count": 52,
   "metadata": {
    "execution": {
     "iopub.execute_input": "2024-12-12T15:13:59.818871Z",
     "iopub.status.busy": "2024-12-12T15:13:59.818501Z",
     "iopub.status.idle": "2024-12-12T15:13:59.823988Z",
     "shell.execute_reply": "2024-12-12T15:13:59.823022Z",
     "shell.execute_reply.started": "2024-12-12T15:13:59.818839Z"
    },
    "id": "MF1ogOa2zrZw"
   },
   "outputs": [],
   "source": [
    "def get_predict(model, dataloader, snippet=True):\n",
    "\n",
    "    if not snippet:\n",
    "        for title, target in dataloader:\n",
    "            logit = model(title)\n",
    "            pred_prob = F.softmax(logit, dim=1)\n",
    "        return pred_prob, target\n",
    "    else:\n",
    "        for title, snippet, target in dataloader:\n",
    "            logit = model(title, snippet)\n",
    "            pred_prob = F.softmax(logit, dim=1)\n",
    "        return pred_prob, target"
   ]
  },
  {
   "cell_type": "code",
   "execution_count": 53,
   "metadata": {
    "execution": {
     "iopub.execute_input": "2024-12-12T15:14:07.386401Z",
     "iopub.status.busy": "2024-12-12T15:14:07.385533Z",
     "iopub.status.idle": "2024-12-12T15:14:09.671877Z",
     "shell.execute_reply": "2024-12-12T15:14:09.670649Z",
     "shell.execute_reply.started": "2024-12-12T15:14:07.386367Z"
    }
   },
   "outputs": [
    {
     "name": "stdout",
     "output_type": "stream",
     "text": [
      "Best Recall:  0.8296436667442322\n",
      "Best Threshold:  0.009999999776482582\n"
     ]
    }
   ],
   "source": [
    "val_pred_probs, val_targets = get_predict(model_baseline, val_dataloader, snippet=False)\n",
    "best_threshold, best_recall = find_best_threshold(val_pred_probs, val_targets, recall)\n",
    "print(\"Best Recall: \", best_recall)\n",
    "print(\"Best Threshold: \", best_threshold)"
   ]
  },
  {
   "cell_type": "code",
   "execution_count": 54,
   "metadata": {
    "execution": {
     "iopub.execute_input": "2024-12-12T15:14:15.927862Z",
     "iopub.status.busy": "2024-12-12T15:14:15.927467Z",
     "iopub.status.idle": "2024-12-12T15:14:15.932910Z",
     "shell.execute_reply": "2024-12-12T15:14:15.931939Z",
     "shell.execute_reply.started": "2024-12-12T15:14:15.927828Z"
    }
   },
   "outputs": [],
   "source": [
    "test_dataloader_snippet = DataLoader(test_dataset_snippet, shuffle=False, batch_size=4096, num_workers=4)"
   ]
  },
  {
   "cell_type": "code",
   "execution_count": 55,
   "metadata": {
    "execution": {
     "iopub.execute_input": "2024-12-12T15:14:18.183765Z",
     "iopub.status.busy": "2024-12-12T15:14:18.183402Z",
     "iopub.status.idle": "2024-12-12T15:14:23.511886Z",
     "shell.execute_reply": "2024-12-12T15:14:23.510781Z",
     "shell.execute_reply.started": "2024-12-12T15:14:18.183731Z"
    },
    "id": "p4SpOPEs1BMd"
   },
   "outputs": [
    {
     "name": "stdout",
     "output_type": "stream",
     "text": [
      "No snippets:\n",
      "Precision: 0.28817930817604065\n",
      "Recall: 0.7648704648017883\n",
      "With snippets:\n",
      "Precision: 0.2948385775089264\n",
      "Recall: 0.7297466397285461\n"
     ]
    }
   ],
   "source": [
    "test_pred_probs, test_targets = get_predict(model_baseline, test_dataloader, False)\n",
    "print(\"No snippets:\")\n",
    "print(\"Precision:\", precision(test_targets, (test_pred_probs > best_threshold).int()))\n",
    "print(\"Recall:\", recall(test_targets, (test_pred_probs > best_threshold).int()))\n",
    "\n",
    "test_pred_probs_snippet, test_targets_snippet = get_predict(model_with_snippet, test_dataloader_snippet, True)\n",
    "print(\"With snippets:\")\n",
    "print(\"Precision:\", precision(test_targets_snippet, (test_pred_probs_snippet > best_threshold).int()))\n",
    "print(\"Recall:\", recall(test_targets_snippet, (test_pred_probs_snippet > best_threshold).int()))"
   ]
  },
  {
   "cell_type": "markdown",
   "metadata": {
    "id": "o-QRc-UXM_zl"
   },
   "source": [
    "__[0.5 балла] Задание 6:__  Постройте прогнозы для отложенной выборки, которая представляет из себя пересечение сайта РИА-новостей и ВКонтакте. Проседает ли на ней качество модели? Насколько сильно?"
   ]
  },
  {
   "cell_type": "code",
   "execution_count": 56,
   "metadata": {
    "colab": {
     "base_uri": "https://localhost:8080/",
     "height": 204
    },
    "execution": {
     "iopub.execute_input": "2024-12-12T15:14:29.373977Z",
     "iopub.status.busy": "2024-12-12T15:14:29.373603Z",
     "iopub.status.idle": "2024-12-12T15:14:29.386489Z",
     "shell.execute_reply": "2024-12-12T15:14:29.385748Z",
     "shell.execute_reply.started": "2024-12-12T15:14:29.373942Z"
    },
    "id": "3Tc02SgLM_zl",
    "outputId": "6ba0f073-d410-4329-b855-9d92d51fa2a0"
   },
   "outputs": [
    {
     "data": {
      "text/html": [
       "<div>\n",
       "<style scoped>\n",
       "    .dataframe tbody tr th:only-of-type {\n",
       "        vertical-align: middle;\n",
       "    }\n",
       "\n",
       "    .dataframe tbody tr th {\n",
       "        vertical-align: top;\n",
       "    }\n",
       "\n",
       "    .dataframe thead th {\n",
       "        text-align: right;\n",
       "    }\n",
       "</style>\n",
       "<table border=\"1\" class=\"dataframe\">\n",
       "  <thead>\n",
       "    <tr style=\"text-align: right;\">\n",
       "      <th></th>\n",
       "      <th>href</th>\n",
       "      <th>title_clean</th>\n",
       "      <th>target_tags</th>\n",
       "    </tr>\n",
       "  </thead>\n",
       "  <tbody>\n",
       "    <tr>\n",
       "      <th>0</th>\n",
       "      <td>/20181231/1548960744.html</td>\n",
       "      <td>митрополит рязанский раскритиковал иронию судьбы</td>\n",
       "      <td>[145]</td>\n",
       "    </tr>\n",
       "    <tr>\n",
       "      <th>1</th>\n",
       "      <td>/20181231/1548958617.html</td>\n",
       "      <td>на украине позавидовали стене на границе с крымом</td>\n",
       "      <td>[1269, 1368]</td>\n",
       "    </tr>\n",
       "    <tr>\n",
       "      <th>2</th>\n",
       "      <td>/20181231/1548957394.html</td>\n",
       "      <td>в госдуме предложили отказаться от газа в жилы...</td>\n",
       "      <td>[896, 896, 874, 537, 1582]</td>\n",
       "    </tr>\n",
       "    <tr>\n",
       "      <th>3</th>\n",
       "      <td>/20181231/1548954909.html</td>\n",
       "      <td>названы лучшие средства от похмелья</td>\n",
       "      <td>[145]</td>\n",
       "    </tr>\n",
       "    <tr>\n",
       "      <th>4</th>\n",
       "      <td>/20181231/1548957120.html</td>\n",
       "      <td>новогоднее поздравление порошенко разозлило по...</td>\n",
       "      <td>[1269, 1368]</td>\n",
       "    </tr>\n",
       "  </tbody>\n",
       "</table>\n",
       "</div>"
      ],
      "text/plain": [
       "                        href  \\\n",
       "0  /20181231/1548960744.html   \n",
       "1  /20181231/1548958617.html   \n",
       "2  /20181231/1548957394.html   \n",
       "3  /20181231/1548954909.html   \n",
       "4  /20181231/1548957120.html   \n",
       "\n",
       "                                         title_clean  \\\n",
       "0   митрополит рязанский раскритиковал иронию судьбы   \n",
       "1  на украине позавидовали стене на границе с крымом   \n",
       "2  в госдуме предложили отказаться от газа в жилы...   \n",
       "3                названы лучшие средства от похмелья   \n",
       "4  новогоднее поздравление порошенко разозлило по...   \n",
       "\n",
       "                  target_tags  \n",
       "0                       [145]  \n",
       "1                [1269, 1368]  \n",
       "2  [896, 896, 874, 537, 1582]  \n",
       "3                       [145]  \n",
       "4                [1269, 1368]  "
      ]
     },
     "execution_count": 56,
     "metadata": {},
     "output_type": "execute_result"
    }
   ],
   "source": [
    "df_oob.head()"
   ]
  },
  {
   "cell_type": "code",
   "execution_count": 57,
   "metadata": {
    "execution": {
     "iopub.execute_input": "2024-12-12T15:14:30.248069Z",
     "iopub.status.busy": "2024-12-12T15:14:30.247757Z",
     "iopub.status.idle": "2024-12-12T15:14:30.443804Z",
     "shell.execute_reply": "2024-12-12T15:14:30.442908Z",
     "shell.execute_reply.started": "2024-12-12T15:14:30.248042Z"
    },
    "id": "YLJY5Utw2tVK"
   },
   "outputs": [],
   "source": [
    "oob_dataset = NewsDataset(df_oob.target_tags.values, df_oob.title_clean.values, vocabulary, VOCAB_SIZE, MAX_TITLE_LEN, CLASSES_NUM )\n",
    "oob_dataloader = DataLoader(oob_dataset, shuffle=False, batch_size=4096, num_workers=4)"
   ]
  },
  {
   "cell_type": "code",
   "execution_count": 58,
   "metadata": {
    "execution": {
     "iopub.execute_input": "2024-12-12T15:14:31.986226Z",
     "iopub.status.busy": "2024-12-12T15:14:31.985668Z",
     "iopub.status.idle": "2024-12-12T15:14:32.733985Z",
     "shell.execute_reply": "2024-12-12T15:14:32.732978Z",
     "shell.execute_reply.started": "2024-12-12T15:14:31.986191Z"
    }
   },
   "outputs": [
    {
     "name": "stderr",
     "output_type": "stream",
     "text": [
      "/opt/conda/lib/python3.10/multiprocessing/popen_fork.py:66: RuntimeWarning: os.fork() was called. os.fork() is incompatible with multithreaded code, and JAX is multithreaded, so this will likely lead to a deadlock.\n",
      "  self.pid = os.fork()\n",
      "/opt/conda/lib/python3.10/multiprocessing/popen_fork.py:66: RuntimeWarning: os.fork() was called. os.fork() is incompatible with multithreaded code, and JAX is multithreaded, so this will likely lead to a deadlock.\n",
      "  self.pid = os.fork()\n"
     ]
    }
   ],
   "source": [
    "oob_pred_probs, oob_targets = get_predict(model_baseline, oob_dataloader, False)"
   ]
  },
  {
   "cell_type": "code",
   "execution_count": 59,
   "metadata": {
    "colab": {
     "base_uri": "https://localhost:8080/",
     "height": 207
    },
    "execution": {
     "iopub.execute_input": "2024-12-12T15:14:34.353718Z",
     "iopub.status.busy": "2024-12-12T15:14:34.352699Z",
     "iopub.status.idle": "2024-12-12T15:14:34.397088Z",
     "shell.execute_reply": "2024-12-12T15:14:34.396163Z",
     "shell.execute_reply.started": "2024-12-12T15:14:34.353678Z"
    },
    "id": "1Z5AvLtcM_zl",
    "outputId": "3b6e9c59-a690-4dee-8a3e-f19049e20e97"
   },
   "outputs": [
    {
     "name": "stdout",
     "output_type": "stream",
     "text": [
      "Out-of-Bag Dataset:\n",
      "Precision: 0.2473091185092926\n",
      "Recall: 0.7856505513191223\n",
      "Exact Match: 0.9949825406074524\n"
     ]
    }
   ],
   "source": [
    "def preprocess_snippet(snippet):\n",
    "    return normalise_text(snippet) if pd.notnull(snippet) else \"#UNKN\"\n",
    "\n",
    "df_oob['snippet_clean'] = df_oob.get('snippet', pd.Series(\"#UNKN\", index=df_oob.index)).apply(preprocess_snippet)\n",
    "\n",
    "oob_y_pred = (oob_pred_probs > best_threshold).int()\n",
    "\n",
    "print(\"Out-of-Bag Dataset:\")\n",
    "print(\"Precision:\", precision(oob_targets, (oob_pred_probs > best_threshold).int()))\n",
    "print(\"Recall:\", recall(oob_targets, (oob_pred_probs > best_threshold).int()))\n",
    "print(\"Exact Match:\", exact_match(oob_targets, (oob_pred_probs > best_threshold).int()))"
   ]
  },
  {
   "cell_type": "markdown",
   "metadata": {
    "id": "EmFzWAHtM_zl"
   },
   "source": [
    "Давайте модернизируем наши архитектуры настолько, насколько это возможно.\n",
    "\n",
    "__[0.9 балла] Бонусное задание 1:__ Попробуйте собрать более большую архитектуру. Например, сразу после слоя эмбеддингов вы можете попробовать добавить свёрточные слои (`Conv1D` свёртки). Поиграйте с оптимизатором и тп.\n",
    "\n",
    "Опишите результаты своих экспериментов ниже. Расскажите, что конкретно вы делали и удалось ли вам улучшить качество модели. Все траектории обучения залоггируйте на WandB.   "
   ]
  },
  {
   "cell_type": "markdown",
   "metadata": {
    "id": "obvk588CM_zl"
   },
   "source": [
    "я использовал параметры, указанные в коде: размер эмбеддинга 300, количество фильтров 128, размер фильтров [3, 5, 7], dropout 0.4, и оптимизатор AdamW с learning rate = 1e-3. в качестве метрики на тренировке и валидации использовался только CrossEntropyLoss. Качество конкретно улучшилось, что можно увидеть на графиках."
   ]
  },
  {
   "cell_type": "code",
   "execution_count": 60,
   "metadata": {
    "colab": {
     "base_uri": "https://localhost:8080/",
     "height": 1000,
     "referenced_widgets": [
      "9f880271ad39455983e1cf597142501a",
      "0973209e337a4f7088c89ac2b75d0eba",
      "556bd7a366ea426980a9dffd44fc02f7",
      "bc9795d056d9450d936143f65d013d48",
      "9e2323de19234eb6a374b4791a5c780d",
      "ec16b197bf324930a5b4360994dca1f9",
      "5b528f6b98a044f1a6449457c7f73ebb",
      "4c0ad9d5c34a41979fd065243c630955",
      "4739f7917b874ba294ab63c61d47c7a4",
      "60611bf1044447a5a4766a2990480439",
      "cc5aa53e6c7e4be9bc704570df715b3d",
      "7610e08726a6475b9a2d9b83eb10f282",
      "891353bca5fd46519b2203ef4f73461b",
      "6ce7826060504328930de85c2ad44e04",
      "beca30efbed24ca2ba7702984259b224",
      "b04c91abd2c746c69ccf4bb83efbcbdd",
      "9b041ad22a784805b17b419c55ca4b18",
      "f7c671af8e7c4a9789f1455320749b6a",
      "93eabcc301fa4242820a0cf2e82d3fee",
      "a1ed8ceec6394bccb8cb31f0e86a9b15",
      "6f9e6be3b326437b9f8ca6fb20e61b99",
      "59f82c4c318d45e18d171b7b26157af8",
      "cf1b291fed0d4100b3ecf92cb3a17557",
      "07d39640737f45c798e44324ff142bbd",
      "2ed1f8cb866d43ee8b101b631006a3d9",
      "16050df033654530886c403d42fd8e65",
      "86a67a270083434c8fc78113e7b3d282",
      "385132137dd8467b90f6116fd1d11f35",
      "3832713ad33b4a00b2bafaa402295132",
      "47ab5ab51a6044eb94585438266d7198",
      "912c0b2512cb4b799a6987810b52a49a",
      "9e86c9db2cba4390a867cfd3a995f767",
      "2403e62a2cf94299aca7cc8203f84aba",
      "5122ba4d836e497fa18d1bca58124d6e",
      "cfbde66000c84911b1f4f480cc867214",
      "56126100a6af4bddbcc8540ff8d9058c",
      "6f3aaeada7ce491cb93a4b8df2a466ae",
      "c2aa30f947f6420ba48bb31008a0b0c6",
      "ab2506dad400417ea684275a45895625",
      "dfa5669b617f47e99b9fafa2b4f306ed",
      "fbb49380fe934d49ab82b727209906f3",
      "a093169baaef4de7a9961cf98445c701",
      "75adac4cd13343efa1ae6fca5a81a277",
      "5cabebe1a04f48749177de8a96e2ec35",
      "a77850a351df4315ac75d269c879a480",
      "7c7bfa732e4e4696acea0eca46b38ff9",
      "e28277fca3eb4d76a41b39f09b105426",
      "7b792bb7c3e44d079d050e48b0b88b30",
      "12a02f01ee1e4458b4c3ef932dd868aa",
      "177660f0155c422d9642b989c3aa5dfb",
      "60abcc00c9a14b48910bc26097146352",
      "a22a9b9e623e48f5a208b74299475f63",
      "7f09abac50b84846b5f1904503978905",
      "f6b8deefd9b645ce88042a98b2a18e50",
      "96a1f2adaea34f8d802946b335d7f4a8",
      "a0360376084845d8a056a2d4b325ae31",
      "81a63ec1f357433b83011750c21b381a",
      "1945866564b04334917e944f81aefda3",
      "0ca1b132e2764adc91586b478ea3ede2",
      "09c7f7a44d274b6581fc92ab3d8c9db4",
      "2b8451f84f654563b63f492990b9708a",
      "c76418485610439cbc354d38396bb457",
      "af03c81739a248fc960e24f6fab7025f",
      "c32dc4390dca4c74a2f6e9b08c4996d8",
      "cb9af7bc5ddd4f6fb7706ae98e67baec",
      "51a3bde8240b4ea48258efb94235d8e7",
      "bc8a2a4ad04b41d8aa964a4e482b92a7",
      "66f9d64aa96f4c71bf5463d10473e332",
      "770dd211f30b43df90a8a4c48bf2bbae",
      "1080e82c8a664f2d927516d048aae265",
      "8ac7b93efc0047e1bb243fb5d908cf0d",
      "1823b9fe9e604334a08102e75d34a220",
      "692de535ff294ff985715b944bbe5950",
      "55c4c2b848264c2497fba68f6502d0ac",
      "2ace0307305c4e16b5d823a4f3f55593",
      "2b62bff5c20e4ea2aa8b6b47c7cc1fe3",
      "819014dde5824384b5aadabdf1d9a3fc"
     ]
    },
    "execution": {
     "iopub.execute_input": "2024-12-12T15:14:58.670169Z",
     "iopub.status.busy": "2024-12-12T15:14:58.669600Z",
     "iopub.status.idle": "2024-12-12T15:14:58.680431Z",
     "shell.execute_reply": "2024-12-12T15:14:58.679650Z",
     "shell.execute_reply.started": "2024-12-12T15:14:58.670133Z"
    },
    "id": "mII3wWHOM_zl",
    "outputId": "a9e01f85-edda-4d0a-e306-157dca874e4e"
   },
   "outputs": [],
   "source": [
    "from torch.optim import AdamW\n",
    "\n",
    "class AdvancedTextClassifier(nn.Module):\n",
    "    def __init__(self, vocab_size, embed_dim, num_classes, num_kernels, filter_sizes, dropout_rate):\n",
    "        super().__init__()\n",
    "        self.embedding_layer = nn.Embedding(vocab_size, embed_dim)\n",
    "        self.convolutions = nn.ModuleList([\n",
    "            nn.Conv1d(in_channels=embed_dim, out_channels=num_kernels, kernel_size=f)\n",
    "            for f in filter_sizes\n",
    "        ])\n",
    "        self.dropout = nn.Dropout(dropout_rate)\n",
    "        self.fc_layer = nn.Linear(num_kernels * len(filter_sizes), num_classes)\n",
    "\n",
    "    def forward(self, text_input, additional_input=None):\n",
    "        embeddings = self.embedding_layer(text_input).permute(0, 2, 1)\n",
    "        conv_results = [\n",
    "            nn.functional.relu(conv(embeddings)).max(dim=2).values for conv in self.convolutions\n",
    "        ]\n",
    "        feature_vector = torch.cat(conv_results, dim=1)\n",
    "        dropped_features = self.dropout(feature_vector)\n",
    "        output = self.fc_layer(dropped_features)\n",
    "        return output\n",
    "\n",
    "class CustomLightningModule(pl.LightningModule):\n",
    "    def __init__(self, model, lr, loss_fn):\n",
    "        super().__init__()\n",
    "        self.text_model = model\n",
    "        self.learning_rate = lr\n",
    "        self.loss_function = loss_fn\n",
    "\n",
    "    def forward(self, text_input, additional_input=None):\n",
    "        return self.text_model(text_input, additional_input)\n",
    "\n",
    "    def configure_optimizers(self):\n",
    "        optimizer = AdamW(self.parameters(), lr=self.learning_rate)\n",
    "        return optimizer\n",
    "\n",
    "    def training_step(self, batch, batch_idx):\n",
    "        text_data, targets = batch[:2] if len(batch) == 2 else batch[:3:2]\n",
    "        predictions = self.text_model(text_data)\n",
    "        loss = self.loss_function(predictions, targets)\n",
    "        self.log(\"train_loss\", loss, on_step=False, on_epoch=True, prog_bar=True)\n",
    "        return loss\n",
    "\n",
    "    def validation_step(self, batch, batch_idx):\n",
    "        text_data, targets = batch[:2] if len(batch) == 2 else batch[:3:2]\n",
    "        predictions = self.text_model(text_data)\n",
    "        val_loss = self.loss_function(predictions, targets)\n",
    "        self.log(\"val_loss\", val_loss, on_step=False, on_epoch=True, prog_bar=True)\n",
    "        return val_loss"
   ]
  },
  {
   "cell_type": "code",
   "execution_count": 61,
   "metadata": {
    "execution": {
     "iopub.execute_input": "2024-12-12T15:14:59.294389Z",
     "iopub.status.busy": "2024-12-12T15:14:59.294093Z",
     "iopub.status.idle": "2024-12-12T15:16:42.998368Z",
     "shell.execute_reply": "2024-12-12T15:16:42.997423Z",
     "shell.execute_reply.started": "2024-12-12T15:14:59.294360Z"
    }
   },
   "outputs": [
    {
     "data": {
      "text/html": [
       "Tracking run with wandb version 0.18.7"
      ],
      "text/plain": [
       "<IPython.core.display.HTML object>"
      ]
     },
     "metadata": {},
     "output_type": "display_data"
    },
    {
     "data": {
      "text/html": [
       "Run data is saved locally in <code>./wandb/run-20241212_151459-wwat2imc</code>"
      ],
      "text/plain": [
       "<IPython.core.display.HTML object>"
      ]
     },
     "metadata": {},
     "output_type": "display_data"
    },
    {
     "data": {
      "text/html": [
       "Syncing run <strong><a href='https://wandb.ai/semyon-zotov13-hse-university/lightning_logs/runs/wwat2imc' target=\"_blank\">glowing-dragon-10</a></strong> to <a href='https://wandb.ai/semyon-zotov13-hse-university/lightning_logs' target=\"_blank\">Weights & Biases</a> (<a href='https://wandb.me/developer-guide' target=\"_blank\">docs</a>)<br/>"
      ],
      "text/plain": [
       "<IPython.core.display.HTML object>"
      ]
     },
     "metadata": {},
     "output_type": "display_data"
    },
    {
     "data": {
      "text/html": [
       " View project at <a href='https://wandb.ai/semyon-zotov13-hse-university/lightning_logs' target=\"_blank\">https://wandb.ai/semyon-zotov13-hse-university/lightning_logs</a>"
      ],
      "text/plain": [
       "<IPython.core.display.HTML object>"
      ]
     },
     "metadata": {},
     "output_type": "display_data"
    },
    {
     "data": {
      "text/html": [
       " View run at <a href='https://wandb.ai/semyon-zotov13-hse-university/lightning_logs/runs/wwat2imc' target=\"_blank\">https://wandb.ai/semyon-zotov13-hse-university/lightning_logs/runs/wwat2imc</a>"
      ],
      "text/plain": [
       "<IPython.core.display.HTML object>"
      ]
     },
     "metadata": {},
     "output_type": "display_data"
    },
    {
     "data": {
      "application/vnd.jupyter.widget-view+json": {
       "model_id": "",
       "version_major": 2,
       "version_minor": 0
      },
      "text/plain": [
       "Sanity Checking: |          | 0/? [00:00<?, ?it/s]"
      ]
     },
     "metadata": {},
     "output_type": "display_data"
    },
    {
     "name": "stderr",
     "output_type": "stream",
     "text": [
      "/opt/conda/lib/python3.10/multiprocessing/popen_fork.py:66: RuntimeWarning: os.fork() was called. os.fork() is incompatible with multithreaded code, and JAX is multithreaded, so this will likely lead to a deadlock.\n",
      "  self.pid = os.fork()\n"
     ]
    },
    {
     "data": {
      "application/vnd.jupyter.widget-view+json": {
       "model_id": "76b7b404b37d439c9cb03e7cdcf1629a",
       "version_major": 2,
       "version_minor": 0
      },
      "text/plain": [
       "Training: |          | 0/? [00:00<?, ?it/s]"
      ]
     },
     "metadata": {},
     "output_type": "display_data"
    },
    {
     "name": "stderr",
     "output_type": "stream",
     "text": [
      "/opt/conda/lib/python3.10/multiprocessing/popen_fork.py:66: RuntimeWarning: os.fork() was called. os.fork() is incompatible with multithreaded code, and JAX is multithreaded, so this will likely lead to a deadlock.\n",
      "  self.pid = os.fork()\n"
     ]
    },
    {
     "data": {
      "application/vnd.jupyter.widget-view+json": {
       "model_id": "",
       "version_major": 2,
       "version_minor": 0
      },
      "text/plain": [
       "Validation: |          | 0/? [00:00<?, ?it/s]"
      ]
     },
     "metadata": {},
     "output_type": "display_data"
    },
    {
     "data": {
      "application/vnd.jupyter.widget-view+json": {
       "model_id": "",
       "version_major": 2,
       "version_minor": 0
      },
      "text/plain": [
       "Validation: |          | 0/? [00:00<?, ?it/s]"
      ]
     },
     "metadata": {},
     "output_type": "display_data"
    },
    {
     "data": {
      "application/vnd.jupyter.widget-view+json": {
       "model_id": "",
       "version_major": 2,
       "version_minor": 0
      },
      "text/plain": [
       "Validation: |          | 0/? [00:00<?, ?it/s]"
      ]
     },
     "metadata": {},
     "output_type": "display_data"
    },
    {
     "data": {
      "application/vnd.jupyter.widget-view+json": {
       "model_id": "",
       "version_major": 2,
       "version_minor": 0
      },
      "text/plain": [
       "Validation: |          | 0/? [00:00<?, ?it/s]"
      ]
     },
     "metadata": {},
     "output_type": "display_data"
    },
    {
     "data": {
      "application/vnd.jupyter.widget-view+json": {
       "model_id": "",
       "version_major": 2,
       "version_minor": 0
      },
      "text/plain": [
       "Validation: |          | 0/? [00:00<?, ?it/s]"
      ]
     },
     "metadata": {},
     "output_type": "display_data"
    }
   ],
   "source": [
    "EMBED_DIM = 300\n",
    "NUM_KERNELS = 128\n",
    "FILTER_SIZES = [3, 5, 7]\n",
    "DROPOUT_RATE = 0.4\n",
    "LEARNING_RATE = 1e-3\n",
    "NUM_CLASSES = CLASSES_NUM\n",
    "EPOCHS = 5\n",
    "\n",
    "classifier_model = AdvancedTextClassifier(\n",
    "    vocab_size=VOCAB_SIZE,\n",
    "    embed_dim=EMBED_DIM,\n",
    "    num_classes=NUM_CLASSES,\n",
    "    num_kernels=NUM_KERNELS,\n",
    "    filter_sizes=FILTER_SIZES,\n",
    "    dropout_rate=DROPOUT_RATE\n",
    ")\n",
    "\n",
    "loss_fn = nn.CrossEntropyLoss()\n",
    "wandb_logger = WandbLogger(log_model='all')\n",
    "lightning_wrapper = CustomLightningModule(\n",
    "    model=classifier_model,\n",
    "    lr=LEARNING_RATE,\n",
    "    loss_fn=loss_fn\n",
    ")\n",
    "\n",
    "from pytorch_lightning import Trainer\n",
    "trainer = Trainer(logger=wandb_logger, accelerator=\"gpu\", max_epochs=EPOCHS)\n",
    "trainer.fit(lightning_wrapper, train_dataloader, val_dataloader)"
   ]
  },
  {
   "cell_type": "markdown",
   "metadata": {
    "id": "7kMKmn72M_zl"
   },
   "source": [
    "__[0.9 балла] Бонусное задание 2:__ Скачайте с сайта [Rusvectores](https://rusvectores.org/ru/models/) любые новостные word2vec эмбединги. Возьмите из модели эмбеддинги для всех слов, которые встречаются вв вашем словаре и добавьте их в модель первым слоем. Заморозьте этот слой и не обновляйте в нём веса. Если у вас в словаре есть слово, но его нет среди предобученных эмбеддингов, замените его на токен `#UNKN`."
   ]
  },
  {
   "cell_type": "markdown",
   "metadata": {
    "id": "k9ldlZ5gM_zl"
   },
   "source": [
    "__Ваш лог экспериментов:__\n",
    "\n",
    "-\n",
    "-\n",
    "-"
   ]
  },
  {
   "cell_type": "code",
   "execution_count": null,
   "metadata": {
    "id": "XoIlDPe0M_zl"
   },
   "outputs": [],
   "source": [
    "# your code here\n",
    "# =^･ｪ･^="
   ]
  },
  {
   "cell_type": "markdown",
   "metadata": {
    "id": "w8ziz2ATM_zl"
   },
   "source": [
    "__[1.5 балла] Задание 7:__ Зафайнтьюньте трансформер для решения задачи с помощью библиотеки `hugging face`. Выбор предобученной модели кратко обоснуйте."
   ]
  },
  {
   "cell_type": "markdown",
   "metadata": {
    "id": "GoVv-AS4M_zl"
   },
   "source": [
    "__Ваш лог экспериментов:__\n",
    "\n",
    "-\n",
    "-\n",
    "-"
   ]
  },
  {
   "cell_type": "code",
   "execution_count": null,
   "metadata": {
    "id": "Dg02xRLrM_zl"
   },
   "outputs": [],
   "source": [
    "# your code here\n",
    "# ٩(ˊ〇ˋ*)و\n"
   ]
  },
  {
   "cell_type": "markdown",
   "metadata": {
    "id": "vt8mcUllUmM8"
   },
   "source": [
    "Сравните все обученные модели между собой на тестовой выборке."
   ]
  },
  {
   "cell_type": "code",
   "execution_count": null,
   "metadata": {
    "id": "Kq-sVD7HUkz3"
   },
   "outputs": [],
   "source": [
    "# your code here\n",
    "# (⌐■_■)"
   ]
  },
  {
   "cell_type": "markdown",
   "metadata": {
    "id": "SoCALHfJM_zm"
   },
   "source": [
    "## Часть 2: предсказание категорий (0.5 балла)\n",
    "\n",
    "**[0.5 балла] Задание 8:** Возьмите датасет `df_vk` и для всех новостей из него предскажите категории с помощью лучшей, получившейся у вас модели."
   ]
  },
  {
   "cell_type": "code",
   "execution_count": 62,
   "metadata": {
    "execution": {
     "iopub.execute_input": "2024-12-12T15:28:05.673005Z",
     "iopub.status.busy": "2024-12-12T15:28:05.672628Z",
     "iopub.status.idle": "2024-12-12T15:28:07.839839Z",
     "shell.execute_reply": "2024-12-12T15:28:07.838886Z",
     "shell.execute_reply.started": "2024-12-12T15:28:05.672969Z"
    },
    "id": "99fmOzZUM_zm"
   },
   "outputs": [],
   "source": [
    "df_vk['target_tags'] = [[0]]*df_vk.shape[0]\n",
    "\n",
    "df_vk_dataset = NewsDataset(df_vk.target_tags.values, df_vk.title_clean.values, vocabulary, VOCAB_SIZE, MAX_TITLE_LEN, CLASSES_NUM )\n",
    "df_vk_dataloader = DataLoader(df_vk_dataset, shuffle=False, batch_size=4096, num_workers=4)"
   ]
  },
  {
   "cell_type": "markdown",
   "metadata": {
    "id": "qpw07S0UM_zm"
   },
   "source": [
    "На всякий случай сохраните табличку с получившимися у вас предсказаниями. Мало ли, вы не доделаете последнее задание, а потом захотите вернуться к нему. Не прогонять же обучение нейросети и инференс по второму кругу..."
   ]
  },
  {
   "cell_type": "code",
   "execution_count": 63,
   "metadata": {
    "execution": {
     "iopub.execute_input": "2024-12-12T15:28:49.540522Z",
     "iopub.status.busy": "2024-12-12T15:28:49.539813Z",
     "iopub.status.idle": "2024-12-12T15:28:51.046972Z",
     "shell.execute_reply": "2024-12-12T15:28:51.045901Z",
     "shell.execute_reply.started": "2024-12-12T15:28:49.540488Z"
    },
    "id": "alIF9U2tM_zm"
   },
   "outputs": [
    {
     "name": "stderr",
     "output_type": "stream",
     "text": [
      "/opt/conda/lib/python3.10/multiprocessing/popen_fork.py:66: RuntimeWarning: os.fork() was called. os.fork() is incompatible with multithreaded code, and JAX is multithreaded, so this will likely lead to a deadlock.\n",
      "  self.pid = os.fork()\n",
      "/opt/conda/lib/python3.10/multiprocessing/popen_fork.py:66: RuntimeWarning: os.fork() was called. os.fork() is incompatible with multithreaded code, and JAX is multithreaded, so this will likely lead to a deadlock.\n",
      "  self.pid = os.fork()\n"
     ]
    }
   ],
   "source": [
    "df_vk_probs, df_vk_targets = get_predict(model_baseline, df_vk_dataloader, False)\n",
    "df_vk_pred = (df_vk_probs > best_threshold).int()"
   ]
  },
  {
   "cell_type": "markdown",
   "metadata": {
    "id": "H_jo72yzM_zm"
   },
   "source": [
    "## Часть 3: сентимент-классификатор (1.5 балла)"
   ]
  },
  {
   "cell_type": "markdown",
   "metadata": {
    "id": "uI33vB5bM_zm"
   },
   "source": [
    "В этой части тетрадки нам предстоит прогнать все комментарии из ВК через сентимент-классификатор. Мы будем делать это с помощью библиотеки HuggingFace. В ней есть удобная [функциональность pipline,](https://huggingface.co/docs/transformers/pipeline_tutorial) чтобы прогонять на своих данных уже обученные модели. 🤗🤗🤗"
   ]
  },
  {
   "cell_type": "code",
   "execution_count": 64,
   "metadata": {
    "execution": {
     "iopub.execute_input": "2024-12-12T15:29:51.053491Z",
     "iopub.status.busy": "2024-12-12T15:29:51.053152Z",
     "iopub.status.idle": "2024-12-12T15:29:51.068299Z",
     "shell.execute_reply": "2024-12-12T15:29:51.067500Z",
     "shell.execute_reply.started": "2024-12-12T15:29:51.053463Z"
    },
    "id": "4VEwMUYxM_zm"
   },
   "outputs": [
    {
     "data": {
      "text/html": [
       "<div>\n",
       "<style scoped>\n",
       "    .dataframe tbody tr th:only-of-type {\n",
       "        vertical-align: middle;\n",
       "    }\n",
       "\n",
       "    .dataframe tbody tr th {\n",
       "        vertical-align: top;\n",
       "    }\n",
       "\n",
       "    .dataframe thead th {\n",
       "        text-align: right;\n",
       "    }\n",
       "</style>\n",
       "<table border=\"1\" class=\"dataframe\">\n",
       "  <thead>\n",
       "    <tr style=\"text-align: right;\">\n",
       "      <th></th>\n",
       "      <th>id</th>\n",
       "      <th>post_id</th>\n",
       "      <th>datetime</th>\n",
       "      <th>text</th>\n",
       "      <th>likes</th>\n",
       "    </tr>\n",
       "  </thead>\n",
       "  <tbody>\n",
       "    <tr>\n",
       "      <th>0</th>\n",
       "      <td>24006366.0</td>\n",
       "      <td>24006362.0</td>\n",
       "      <td>2019-02-01 23:14:14</td>\n",
       "      <td>ЧВК Вагнера?</td>\n",
       "      <td>5.0</td>\n",
       "    </tr>\n",
       "    <tr>\n",
       "      <th>1</th>\n",
       "      <td>24006370.0</td>\n",
       "      <td>24006362.0</td>\n",
       "      <td>2019-02-01 23:15:23</td>\n",
       "      <td>[id4710641|Евгений], выздоравливай.</td>\n",
       "      <td>3.0</td>\n",
       "    </tr>\n",
       "    <tr>\n",
       "      <th>2</th>\n",
       "      <td>24006371.0</td>\n",
       "      <td>24006362.0</td>\n",
       "      <td>2019-02-01 23:16:21</td>\n",
       "      <td>[id442655034|Андрей], искренне желаю этого все...</td>\n",
       "      <td>4.0</td>\n",
       "    </tr>\n",
       "    <tr>\n",
       "      <th>3</th>\n",
       "      <td>24006374.0</td>\n",
       "      <td>24006362.0</td>\n",
       "      <td>2019-02-01 23:16:38</td>\n",
       "      <td>Опять про Украину новости?</td>\n",
       "      <td>1.0</td>\n",
       "    </tr>\n",
       "    <tr>\n",
       "      <th>4</th>\n",
       "      <td>24006375.0</td>\n",
       "      <td>24006362.0</td>\n",
       "      <td>2019-02-01 23:16:40</td>\n",
       "      <td>Че такое ДНР?</td>\n",
       "      <td>2.0</td>\n",
       "    </tr>\n",
       "  </tbody>\n",
       "</table>\n",
       "</div>"
      ],
      "text/plain": [
       "           id     post_id             datetime  \\\n",
       "0  24006366.0  24006362.0  2019-02-01 23:14:14   \n",
       "1  24006370.0  24006362.0  2019-02-01 23:15:23   \n",
       "2  24006371.0  24006362.0  2019-02-01 23:16:21   \n",
       "3  24006374.0  24006362.0  2019-02-01 23:16:38   \n",
       "4  24006375.0  24006362.0  2019-02-01 23:16:40   \n",
       "\n",
       "                                                text  likes  \n",
       "0                                       ЧВК Вагнера?    5.0  \n",
       "1                [id4710641|Евгений], выздоравливай.    3.0  \n",
       "2  [id442655034|Андрей], искренне желаю этого все...    4.0  \n",
       "3                         Опять про Украину новости?    1.0  \n",
       "4                                      Че такое ДНР?    2.0  "
      ]
     },
     "execution_count": 64,
     "metadata": {},
     "output_type": "execute_result"
    }
   ],
   "source": [
    "df_comments.head()"
   ]
  },
  {
   "cell_type": "markdown",
   "metadata": {
    "id": "3gVL29D3M_zm"
   },
   "source": [
    "**[1.5 балла] Задание 9:** Для классификации комментариев на позитивные, негативные и нейтральные будем использовать [модель, о которой можно почитать по ссылке](https://huggingface.co/seara/rubert-tiny2-russian-sentiment)\n",
    "\n",
    "Ответьте на следующие вопросы:\n",
    "\n",
    "1. Как зовут автора модели? - seara\n",
    "2. Как выглядит архитектура модели? Насколько модель большая? - RuBERT-tiny. Это уменьшенная версия RuBERT, которая меньше, быстрее в обработке, сохраняя основные принципы работы больших языковых моделей\n",
    "3. На каких данных обучена модель? Адекватно ли использовать её для классификации комментариев ВК? -  Модель обучена на русскоязычных текстах, таких как новостные статьи, посты, комментарии и прочие текстовые данные из открытых источников. Адекватно, так как комменты всегда примерно одинаковые\n",
    "\n"
   ]
  },
  {
   "cell_type": "markdown",
   "metadata": {
    "id": "hedd3_EAM_zm"
   },
   "source": [
    "Установим библиотеку. 🤗🤗🤗"
   ]
  },
  {
   "cell_type": "code",
   "execution_count": 65,
   "metadata": {
    "execution": {
     "iopub.execute_input": "2024-12-12T15:29:54.323705Z",
     "iopub.status.busy": "2024-12-12T15:29:54.323332Z",
     "iopub.status.idle": "2024-12-12T15:30:02.628854Z",
     "shell.execute_reply": "2024-12-12T15:30:02.628030Z",
     "shell.execute_reply.started": "2024-12-12T15:29:54.323673Z"
    },
    "id": "-ZCfZ0ZfM_zm"
   },
   "outputs": [
    {
     "name": "stderr",
     "output_type": "stream",
     "text": [
      "/opt/conda/lib/python3.10/pty.py:89: RuntimeWarning: os.fork() was called. os.fork() is incompatible with multithreaded code, and JAX is multithreaded, so this will likely lead to a deadlock.\n",
      "  pid, fd = os.forkpty()\n"
     ]
    },
    {
     "name": "stdout",
     "output_type": "stream",
     "text": [
      "Requirement already satisfied: transformers in /opt/conda/lib/python3.10/site-packages (4.46.3)\n",
      "Requirement already satisfied: filelock in /opt/conda/lib/python3.10/site-packages (from transformers) (3.15.1)\n",
      "Requirement already satisfied: huggingface-hub<1.0,>=0.23.2 in /opt/conda/lib/python3.10/site-packages (from transformers) (0.26.2)\n",
      "Requirement already satisfied: numpy>=1.17 in /opt/conda/lib/python3.10/site-packages (from transformers) (1.26.4)\n",
      "Requirement already satisfied: packaging>=20.0 in /opt/conda/lib/python3.10/site-packages (from transformers) (21.3)\n",
      "Requirement already satisfied: pyyaml>=5.1 in /opt/conda/lib/python3.10/site-packages (from transformers) (6.0.2)\n",
      "Requirement already satisfied: regex!=2019.12.17 in /opt/conda/lib/python3.10/site-packages (from transformers) (2024.5.15)\n",
      "Requirement already satisfied: requests in /opt/conda/lib/python3.10/site-packages (from transformers) (2.32.3)\n",
      "Requirement already satisfied: tokenizers<0.21,>=0.20 in /opt/conda/lib/python3.10/site-packages (from transformers) (0.20.3)\n",
      "Requirement already satisfied: safetensors>=0.4.1 in /opt/conda/lib/python3.10/site-packages (from transformers) (0.4.5)\n",
      "Requirement already satisfied: tqdm>=4.27 in /opt/conda/lib/python3.10/site-packages (from transformers) (4.66.4)\n",
      "Requirement already satisfied: fsspec>=2023.5.0 in /opt/conda/lib/python3.10/site-packages (from huggingface-hub<1.0,>=0.23.2->transformers) (2024.6.0)\n",
      "Requirement already satisfied: typing-extensions>=3.7.4.3 in /opt/conda/lib/python3.10/site-packages (from huggingface-hub<1.0,>=0.23.2->transformers) (4.12.2)\n",
      "Requirement already satisfied: pyparsing!=3.0.5,>=2.0.2 in /opt/conda/lib/python3.10/site-packages (from packaging>=20.0->transformers) (3.1.2)\n",
      "Requirement already satisfied: charset-normalizer<4,>=2 in /opt/conda/lib/python3.10/site-packages (from requests->transformers) (3.3.2)\n",
      "Requirement already satisfied: idna<4,>=2.5 in /opt/conda/lib/python3.10/site-packages (from requests->transformers) (3.7)\n",
      "Requirement already satisfied: urllib3<3,>=1.21.1 in /opt/conda/lib/python3.10/site-packages (from requests->transformers) (1.26.18)\n",
      "Requirement already satisfied: certifi>=2017.4.17 in /opt/conda/lib/python3.10/site-packages (from requests->transformers) (2024.6.2)\n"
     ]
    }
   ],
   "source": [
    "!pip3 install transformers"
   ]
  },
  {
   "cell_type": "markdown",
   "metadata": {
    "id": "b1t7b83SzIMm"
   },
   "source": [
    "**Варнинг:** в этом задании не обязательно ждать, пока код проскорит весь датасет - это долго. Напишите код, проверьте, что он корректно работает - проскорьте пару десятков строк датасета и принтаните их. Дальше вы можете взять уже проскоренный датасет. Возможно, кто-то проскорит все раньше остальных и захочет поделиться результатом. Вот его разрешается взять, как готовый результат выполнения задания. Главное - покажите, что ваш код тоже работает."
   ]
  },
  {
   "cell_type": "markdown",
   "metadata": {
    "id": "4cDtjMFaM_zm"
   },
   "source": [
    "Разберитесь как можно прогнать модель на корпусе комментариев и сделайте это. Да, с помощью pipeline можно запустить довольно сложные модели, обученные другими людьми в пару строчек. При объявлении модели не забудьте положить её на нужный `device` 🤗🤗🤗"
   ]
  },
  {
   "cell_type": "code",
   "execution_count": 71,
   "metadata": {
    "execution": {
     "iopub.execute_input": "2024-12-12T15:35:39.588953Z",
     "iopub.status.busy": "2024-12-12T15:35:39.588137Z",
     "iopub.status.idle": "2024-12-12T15:35:40.034006Z",
     "shell.execute_reply": "2024-12-12T15:35:40.032765Z",
     "shell.execute_reply.started": "2024-12-12T15:35:39.588917Z"
    },
    "id": "sEfhf12pM_zm"
   },
   "outputs": [
    {
     "name": "stdout",
     "output_type": "stream",
     "text": [
      "Comment:  ЧВК Вагнера?\n",
      "The predicted sentiment:  {'label': 'neutral', 'score': 0.9122462868690491}\n",
      "Comment:  [id4710641|Евгений], выздоравливай.\n",
      "The predicted sentiment:  {'label': 'neutral', 'score': 0.8793703317642212}\n",
      "Comment:  [id442655034|Андрей], искренне желаю этого всей фабрике.\n",
      "The predicted sentiment:  {'label': 'positive', 'score': 0.6762611865997314}\n",
      "Comment:  Опять про Украину новости?\n",
      "The predicted sentiment:  {'label': 'neutral', 'score': 0.9259392023086548}\n",
      "Comment:  Че такое ДНР?\n",
      "The predicted sentiment:  {'label': 'neutral', 'score': 0.866222620010376}\n",
      "Comment:  [id109937745|Илья], Донецкая Народная Республика !!!!\n",
      "The predicted sentiment:  {'label': 'neutral', 'score': 0.8428510427474976}\n",
      "Comment:  [id89551382|Юрий], это где?\n",
      "The predicted sentiment:  {'label': 'neutral', 'score': 0.924575924873352}\n",
      "Comment:  [id109937745|Илья], Донецкая Народная Республика.\n",
      "The predicted sentiment:  {'label': 'neutral', 'score': 0.9119594693183899}\n",
      "Comment:  [id483059794|Марк], Донецк российский отделился что ли в Ростовской области?\n",
      "The predicted sentiment:  {'label': 'neutral', 'score': 0.7873876094818115}\n",
      "Comment:  [id109937745|Илья], на планете Земля.\n",
      "The predicted sentiment:  {'label': 'neutral', 'score': 0.88370281457901}\n",
      "Comment:  [id109937745|Илья],\n",
      "The predicted sentiment:  {'label': 'neutral', 'score': 0.8923456072807312}\n",
      "Comment:  Он не выздоровеет, там родовая травма. По мордочке же видно ))\n",
      "The predicted sentiment:  {'label': 'neutral', 'score': 0.8507295250892639}\n",
      "Comment:  [id172258851|Олег], пригожин-то? ну, у него наших бюджетных денег много. Есть надежда.\n",
      "The predicted sentiment:  {'label': 'neutral', 'score': 0.8434335589408875}\n",
      "Comment:  [id483059794|Марк], это где алкаши сепары?\n",
      "The predicted sentiment:  {'label': 'neutral', 'score': 0.5309109687805176}\n",
      "Comment:  [id109937745|Илья], привет жителям Окраины! Как у вас там дела в Европе? Кофе пьёте в Венской опере? На Елисейские поля ездите в выходные отдыхать? Говорят у вас там теперь европейские зарплаты и газ, бензин и коммуналка в три раза дешевле стали, после победы Революции Гнидности? Мы тут вам все завидуем, что вы там такие все не рабы, как мы!\n",
      "The predicted sentiment:  {'label': 'negative', 'score': 0.7910668253898621}\n",
      "Comment:  [id503576|Андрей], ты спи спокойно! Вольдемар наш парень и шансов  тебе не оставит!)\n",
      "The predicted sentiment:  {'label': 'neutral', 'score': 0.7685768604278564}\n",
      "Comment:  [id4710641|Евгений], а с чего это бюджетные деньги твои?\n",
      "Ты что, пенсионер, инвалид, военный, учитель?\n",
      "The predicted sentiment:  {'label': 'negative', 'score': 0.5791842341423035}\n",
      "Comment:  [id98684712|Андрей], ну да, только особо ничего нового... Террористическое, фашистское государство продолжает устраивать свои подлые провокации... Порошенко, как воздух надо продолжать, хотя бы видимость войны на Донбассе. Как то же надо списывать ворованное...\n",
      "The predicted sentiment:  {'label': 'negative', 'score': 0.8996487855911255}\n",
      "Comment:  [id281789680|Едыге],\n",
      "The predicted sentiment:  {'label': 'neutral', 'score': 0.8236954808235168}\n",
      "Comment:  💩\n",
      "The predicted sentiment:  {'label': 'neutral', 'score': 0.4750783145427704}\n",
      "Comment:  [id281789680|Едыге],конечно ваш алкаш\n",
      "The predicted sentiment:  {'label': 'neutral', 'score': 0.5494648814201355}\n",
      "Comment:  [id89551382|Юрий], ты спи..Вольдемар сам все сделает!! Сибирь уже процветает под Китаем!))\n",
      "The predicted sentiment:  {'label': 'positive', 'score': 0.6592491865158081}\n",
      "Comment:  [id5325206|Александр], да пусть что хотят у себя в стране делают, на кой нам их проблемы?\n",
      "The predicted sentiment:  {'label': 'neutral', 'score': 0.7513027787208557}\n",
      "Comment:  [id281789680|Едыге], А ты в Сибири был?\n",
      "The predicted sentiment:  {'label': 'neutral', 'score': 0.909001350402832}\n",
      "Comment:  [id89551382|Юрий], его надо убрать и поставить  Яроша\n",
      "The predicted sentiment:  {'label': 'neutral', 'score': 0.9048395156860352}\n",
      "Comment:  [id89551382|Юрий], там китайцы..че мне там делать\n",
      "The predicted sentiment:  {'label': 'neutral', 'score': 0.9131532311439514}\n",
      "Comment:  [id281789680|Едыге], одного из раненых в очко\n",
      "The predicted sentiment:  {'label': 'negative', 'score': 0.48280635476112366}\n",
      "Comment:  [id281789680|Едыге], если ты там не был,то и врать не надо, что их их там много.\n",
      "The predicted sentiment:  {'label': 'neutral', 'score': 0.6389240026473999}\n",
      "Comment:  [id172258851|Олег], ты про налоги не слышал никогда? Ну и тебя вылечат. Надеюсь. Слабо.\n",
      "The predicted sentiment:  {'label': 'neutral', 'score': 0.6715476512908936}\n",
      "Comment:  [id4710641|Евгений], дык за налоги ты и имеешь дохрена чего.\n",
      "Школу, к примеру. В которой ты уроки прогуливал.\n",
      "Или коммуналку за треть её стоимости.\n",
      "Или полицию, которая тебе бережёт ))\n",
      "The predicted sentiment:  {'label': 'neutral', 'score': 0.8891493082046509}\n"
     ]
    }
   ],
   "source": [
    "from transformers import pipeline\n",
    "\n",
    "device_type = 0 if torch.cuda.is_available() else -1\n",
    "sentiment_pipeline = pipeline(\"sentiment-analysis\", model=\"seara/rubert-tiny2-russian-sentiment\", device=device_type)\n",
    "\n",
    "total_comments = 30\n",
    "comments_sample = df_comments['text'].head(total_comments).tolist()\n",
    "predictions = sentiment_pipeline(comments_sample)\n",
    "\n",
    "for comment, prediction in zip(comments_sample, predictions):\n",
    "    print(\"Comment: \", comment)\n",
    "    print(\"The predicted sentiment: \", prediction)"
   ]
  },
  {
   "cell_type": "markdown",
   "metadata": {
    "id": "5XmrUVvhM_zm"
   },
   "source": [
    "Цикл для сентимент-анализа комментариев может работать довольно долго. Я крайне рекомендую вам переодически сохранять к себе на компьютер промежуточные результаты. Итоговый результат я рекомендую записать отдельным столбиком в таблицу с комментариями, а затем сохранить полученные результаты. 🤗🤗🤗"
   ]
  },
  {
   "cell_type": "code",
   "execution_count": 75,
   "metadata": {
    "execution": {
     "iopub.execute_input": "2024-12-12T15:52:44.789930Z",
     "iopub.status.busy": "2024-12-12T15:52:44.789095Z",
     "iopub.status.idle": "2024-12-12T15:53:44.471872Z",
     "shell.execute_reply": "2024-12-12T15:53:44.470678Z",
     "shell.execute_reply.started": "2024-12-12T15:52:44.789891Z"
    }
   },
   "outputs": [],
   "source": [
    "df_vk['sentiment_verdict'] = None\n",
    "df_vk['sentiment_score'] = None\n",
    "\n",
    "chunk_size = 100\n",
    "for start_idx in range(0, len(df_vk), chunk_size):\n",
    "    end_idx = start_idx + chunk_size\n",
    "    text_batch = df_vk['snippet'].iloc[start_idx:end_idx].astype(str).tolist()\n",
    "\n",
    "    results = sentiment_pipeline(text_batch)\n",
    "\n",
    "    df_vk.loc[start_idx:end_idx - 1, 'sentiment_verdict'] = [res['label'] for res in results]\n",
    "    df_vk.loc[start_idx:end_idx - 1, 'sentiment_score'] = [res['score'] for res in results]\n",
    "\n",
    "output_file = 'processed_data_with_sentiment.csv'\n",
    "df_vk.to_csv(output_file, index=False)"
   ]
  },
  {
   "cell_type": "markdown",
   "metadata": {
    "id": "smRVE1hVM_zn"
   },
   "source": [
    "## Часть 4: аналитика (3 балла + 0.2 бонусных)\n",
    "\n",
    "Мы с вами огромные молодцы. Мы обучили модель для категоризации новостей, построили с её помощью прогнозы. Мы проскорили комментарии на их сентимент-окрас. Теперь давайте проанализируем новости. Описывайте полученные результаты таким образом, чтобы не получить уголовку на 5 лет за дискредитацию чего-нибудь или оскорбление чувств кого-нибудь 💜"
   ]
  },
  {
   "cell_type": "markdown",
   "metadata": {
    "id": "7z-jdjgeM_zn"
   },
   "source": [
    "__[0.6 балла] Задание 10:__ Какая доля комментариев позитивная? Какая доля комментариев негативная? Выведите 10 самых позитивных комментариев.\n",
    "\n",
    "Выведите 10 самых негативных комментариев, поугарайте с них. Удалите их вывод из тетрадки. Никто не должен их видеть, это должно остаться только между нами. Поззитивные не удаляйте. Они пусть останутся."
   ]
  },
  {
   "cell_type": "code",
   "execution_count": 86,
   "metadata": {
    "execution": {
     "iopub.execute_input": "2024-12-12T16:14:20.663200Z",
     "iopub.status.busy": "2024-12-12T16:14:20.662524Z",
     "iopub.status.idle": "2024-12-12T16:14:20.702437Z",
     "shell.execute_reply": "2024-12-12T16:14:20.701644Z",
     "shell.execute_reply.started": "2024-12-12T16:14:20.663165Z"
    }
   },
   "outputs": [
    {
     "name": "stdout",
     "output_type": "stream",
     "text": [
      "Percentage of positive comments:  1.2896427137695703\n",
      "Percentage of negative comments:  5.760738659173023\n",
      "Top 10 positive comments:\n",
      "                                                 snippet  sentiment_score\n",
      "14307  \"От всей души поздравляю вас с весенним праздн...         0.993537\n",
      "9809                     Ураааааааааа!!!!! 🇷🇺🇷🇺🇷🇺#ЧМ2018         0.988881\n",
      "19642  \"Я всегда относился и отношусь с сыновьей почт...         0.980146\n",
      "9233   \"Это был прекрасный чемпионат мира, все было з...         0.974214\n",
      "9966   \"Я бы очень хотел, чтобы России удалось стать ...         0.971396\n",
      "10538  \"Бал собрал более 200 пар, которые вышли на та...         0.963283\n",
      "10254  Министр спорта Павел Колобков эмоционально отр...         0.958085\n",
      "10267  Урааа! Сборная России выиграла у Египта со сче...         0.956072\n",
      "14807  Праздничные выходные — повод пересмотреть люби...         0.955024\n",
      "15294  \"Меня встретили здесь очень тепло, как дома, я...         0.950225\n",
      "Top 10 negative comments:\n",
      "                                                 snippet  sentiment_score\n",
      "15867  79 человек получили травмы различной степени т...         0.439597\n",
      "17916  В числе погибших 27 детей. Пострадали еще 128 ...         0.467460\n",
      "1631   Вечером 23 декабря девушка на своем автомобиле...         0.483135\n",
      "8949   В апреле хоккейная команда Райана Страшницки п...         0.483548\n",
      "8441   \"Мы встретились в Крыму с политиками, обществе...         0.486431\n",
      "16030  В результате авиаударов убиты шесть мирных жит...         0.488192\n",
      "16224  \"В тяжелом состоянии находятся учительница и у...         0.488939\n",
      "13270  Пользователи отмечают, что эта \"Газель\" стала ...         0.492682\n",
      "16082  Крики детей, горящий кабинет и школьник, разма...         0.492842\n",
      "16221  По словам мамы одного из спасшихся мальчиков, ...         0.492901\n"
     ]
    }
   ],
   "source": [
    "positive_percent = len(df_vk[df_vk['sentiment_verdict'] == 'positive']) / len(df_vk) * 100 \n",
    "negative_percent = len(df_vk[df_vk['sentiment_verdict'] == 'negative']) / len(df_vk) * 100\n",
    "\n",
    "print(\"Percentage of positive comments: \", positive_percent)\n",
    "print(\"Percentage of negative comments: \", negative_percent)\n",
    "\n",
    "df_vk['sentiment_score'] = df_vk['sentiment_score'].astype(float)\n",
    "neutral_comments = df_vk[df_vk['sentiment_verdict'] == 'neutral']\n",
    "positive_comments = df_vk[df_vk['sentiment_verdict'] == 'positive']\n",
    "negative_comments = df_vk[df_vk['sentiment_verdict'] == 'negative']\n",
    "\n",
    "top_10_positive_comments = positive_comments.nlargest(10, 'sentiment_score')[['snippet', 'sentiment_score']]\n",
    "print(\"Top 10 positive comments:\")\n",
    "print(top_10_positive_comments)\n",
    "top_10_negative_comments = negative_comments.nsmallest(10, 'sentiment_score')[['snippet', 'sentiment_score']]\n",
    "print(\"Top 10 negative comments:\")\n",
    "print(top_10_negative_comments)"
   ]
  },
  {
   "cell_type": "markdown",
   "metadata": {
    "id": "SGfBQto1M_zn"
   },
   "source": [
    "__[0.6 балла] Задание 11:__ Для каждой новости из датасета посчитайте количество негативных и позитивных комментариев под ней. Сохраните эти количества в виде новых колонок."
   ]
  },
  {
   "cell_type": "code",
   "execution_count": null,
   "metadata": {
    "execution": {
     "iopub.execute_input": "2024-12-12T16:37:35.832426Z",
     "iopub.status.busy": "2024-12-12T16:37:35.831706Z"
    },
    "id": "WNySt0w7M_zn"
   },
   "outputs": [
    {
     "name": "stderr",
     "output_type": "stream",
     "text": [
      "/tmp/ipykernel_23/2532795170.py:6: FutureWarning: A value is trying to be set on a copy of a DataFrame or Series through chained assignment using an inplace method.\n",
      "The behavior will change in pandas 3.0. This inplace method will never work because the intermediate object on which we are setting values always behaves as a copy.\n",
      "\n",
      "For example, when doing 'df[col].method(value, inplace=True)', try using 'df.method({col: value}, inplace=True)' or df[col] = df[col].method(value) instead, to perform the operation inplace on the original object.\n",
      "\n",
      "\n",
      "  df_comments_new['positive_comments'].fillna(0, inplace=True)\n",
      "/tmp/ipykernel_23/2532795170.py:7: FutureWarning: A value is trying to be set on a copy of a DataFrame or Series through chained assignment using an inplace method.\n",
      "The behavior will change in pandas 3.0. This inplace method will never work because the intermediate object on which we are setting values always behaves as a copy.\n",
      "\n",
      "For example, when doing 'df[col].method(value, inplace=True)', try using 'df.method({col: value}, inplace=True)' or df[col] = df[col].method(value) instead, to perform the operation inplace on the original object.\n",
      "\n",
      "\n",
      "  df_comments_new['negative_comments'].fillna(0, inplace=True)\n"
     ]
    },
    {
     "name": "stdout",
     "output_type": "stream",
     "text": [
      "         id_x     post_id             datetime  \\\n",
      "0  24006366.0  24006362.0  2019-02-01 23:14:14   \n",
      "1  24006370.0  24006362.0  2019-02-01 23:15:23   \n",
      "2  24006371.0  24006362.0  2019-02-01 23:16:21   \n",
      "3  24006374.0  24006362.0  2019-02-01 23:16:38   \n",
      "4  24006375.0  24006362.0  2019-02-01 23:16:40   \n",
      "\n",
      "                                                text  likes  \\\n",
      "0                                       ЧВК Вагнера?    5.0   \n",
      "1                [id4710641|Евгений], выздоравливай.    3.0   \n",
      "2  [id442655034|Андрей], искренне желаю этого все...    4.0   \n",
      "3                         Опять про Украину новости?    1.0   \n",
      "4                                      Че такое ДНР?    2.0   \n",
      "\n",
      "   positive_comments  negative_comments      id_y sentiment_verdict  \n",
      "0                  0                  0  24006362           neutral  \n",
      "1                  0                  0  24006362           neutral  \n",
      "2                  0                  0  24006362           neutral  \n",
      "3                  0                  0  24006362           neutral  \n",
      "4                  0                  0  24006362           neutral  \n"
     ]
    }
   ],
   "source": [
    "df_comments['positive_comments'] = 0\n",
    "df_comments['negative_comments'] = 0\n",
    "\n",
    "df_comments_new = df_comments.merge(df_vk[['id', 'sentiment_verdict']], left_on='post_id', right_on='id', how='left')\n",
    "\n",
    "df_comments_new['positive_comments'].fillna(0, inplace=True)\n",
    "df_comments_new['negative_comments'].fillna(0, inplace=True)\n",
    "\n",
    "df_comments_new['positive_comments'] = df_comments_new['positive_comments'].astype(int)\n",
    "df_comments_new['negative_comments'] = df_comments_new['negative_comments'].astype(int)\n",
    "\n",
    "print(df_comments_new.head())\n",
    "\n",
    "df_comments_new.to_csv('df_with_comments.csv', index=False)"
   ]
  },
  {
   "cell_type": "markdown",
   "metadata": {
    "id": "jBOzB5yBM_zn"
   },
   "source": [
    "__[0.6 балла] Задание 12:__ Правда ли, что новости с большим количеством лайков получают больше негативных комментариев? А позитивных? Правда ли, что чем больше лайков, тем под новостью больше комментариев?\n",
    "\n",
    "Постройте визуализацию, которая могла бы это проиллюстрировать."
   ]
  },
  {
   "cell_type": "code",
   "execution_count": null,
   "metadata": {
    "id": "UjI74lt5M_zn"
   },
   "outputs": [],
   "source": [
    "# your code here\n",
    "# ┌(ಠ_ಠ)┘"
   ]
  },
  {
   "cell_type": "markdown",
   "metadata": {
    "id": "3wN5AFrAM_zn"
   },
   "source": [
    "__[0.6 балла] Задание 13:__  Давайте построим по сентимент-окрасу комментариев топ позитивных новостей.\n",
    "\n",
    "- Если под новостью оставлено 100 комментариев, из которых 80 позитивные, мы можем быть уверены в том, что новость была хорошо воспринята людьми.\n",
    "- Если под новостью всего один комментарий и он оказался позитивным, то у нас 100% позитивных комментариев, но это вовсе не означает, что новость была воспринята хорошо.\n",
    "\n",
    "Получается, что сортировать по доле позитивных комментариев нельзя. Давайте поступим умнее. Доля позитивных комментариев под постом -- это случайная величина. Её довольно часто моделируют с помощью бета-распределения. Если это случайная величина, мы можем построить для неё предиктивный интервал. Пусть $u$ - число позитивных комментариев, а $d$ - нейтральных и негативных.  Пусть\n",
    "\n",
    "$$\n",
    "a = 1 + u \\qquad b = 1 + d.\n",
    "$$\n",
    "\n",
    "Тогда нижняя граница $95\\%$ предиктивного интервала для доли будет вычисляться по такой формуле:\n",
    "\n",
    "$$\n",
    "\\frac{a}{a + b} - 1.65 \\cdot \\sqrt{\\frac{a \\cdot b}{(a + b)^2 \\cdot (a + b + 1)}}\n",
    "$$\n",
    "\n",
    "Если под новостью был всего один комментарий, у такой случайной величины будет высокая дисперсия. Это означаeт, что штука, которую мы вычитаем из доли, окажется высокой. Левая граница интервала окажется маленькой и мы не поднимем комментарий в нашем топе наверх. Фактически мы делаем сортировку по квантилю уровня $0.05$ вместо среднего.\n",
    "\n",
    "От вас требуется вбить эту формулу, сделать сортировку и вывести на экран топ позитивных новостей. Подробнее про то, откуда берётся эта формула можно почитать [в этой книге.](https://disk.yandex.ru/i/Ctd08bTwC9eI3g) Ищите 4 главу, страницу 140."
   ]
  },
  {
   "cell_type": "code",
   "execution_count": null,
   "metadata": {
    "id": "ToygzCZwM_zn"
   },
   "outputs": [],
   "source": [
    "# your code here\n",
    "# ฅ^•ﻌ•^ฅ"
   ]
  },
  {
   "cell_type": "markdown",
   "metadata": {
    "id": "8CuDk6kbM_zn"
   },
   "source": [
    "Построили? Срочно пришлите свою любимую позитивную  новость в общий чат!!!\n",
    "\n",
    "Топ негативных новостей строить не будем. Вокруг итак слишком много негатива 😻😻😻"
   ]
  },
  {
   "cell_type": "markdown",
   "metadata": {
    "id": "Gg_wCzsBM_zn"
   },
   "source": [
    "__[0.6 балла] Задание 14:__ Какие категории новостей оказались самыми позитивными? Придумайте способ найти такие категории и опишите его тут.\n",
    "\n",
    "__Ответ:__"
   ]
  },
  {
   "cell_type": "code",
   "execution_count": null,
   "metadata": {
    "id": "SNEWqGVpM_zn"
   },
   "outputs": [],
   "source": [
    "# your code here\n",
    "# ٩(⁎❛ᴗ❛⁎)۶"
   ]
  },
  {
   "cell_type": "markdown",
   "metadata": {
    "id": "gDFw6uQeM_zn"
   },
   "source": []
  },
  {
   "cell_type": "code",
   "execution_count": null,
   "metadata": {
    "id": "usdYfPV0M_zn"
   },
   "outputs": [],
   "source": [
    "# your code here\n",
    "# ヾ(๑╹◡╹)ﾉ"
   ]
  }
 ],
 "metadata": {
  "accelerator": "GPU",
  "colab": {
   "gpuType": "T4",
   "provenance": []
  },
  "kaggle": {
   "accelerator": "nvidiaTeslaT4",
   "dataSources": [
    {
     "datasetId": 6274902,
     "sourceId": 10161738,
     "sourceType": "datasetVersion"
    }
   ],
   "dockerImageVersionId": 30804,
   "isGpuEnabled": true,
   "isInternetEnabled": true,
   "language": "python",
   "sourceType": "notebook"
  },
  "kernelspec": {
   "display_name": "Python 3",
   "language": "python",
   "name": "python3"
  },
  "language_info": {
   "codemirror_mode": {
    "name": "ipython",
    "version": 3
   },
   "file_extension": ".py",
   "mimetype": "text/x-python",
   "name": "python",
   "nbconvert_exporter": "python",
   "pygments_lexer": "ipython3",
   "version": "3.10.14"
  },
  "widgets": {
   "application/vnd.jupyter.widget-state+json": {
    "005eb96513e248449c51fb11ba8d980a": {
     "model_module": "@jupyter-widgets/controls",
     "model_module_version": "1.5.0",
     "model_name": "DescriptionStyleModel",
     "state": {
      "_model_module": "@jupyter-widgets/controls",
      "_model_module_version": "1.5.0",
      "_model_name": "DescriptionStyleModel",
      "_view_count": null,
      "_view_module": "@jupyter-widgets/base",
      "_view_module_version": "1.2.0",
      "_view_name": "StyleView",
      "description_width": ""
     }
    },
    "02ca561957a042a6979cb884575b8e2b": {
     "model_module": "@jupyter-widgets/controls",
     "model_module_version": "1.5.0",
     "model_name": "DescriptionStyleModel",
     "state": {
      "_model_module": "@jupyter-widgets/controls",
      "_model_module_version": "1.5.0",
      "_model_name": "DescriptionStyleModel",
      "_view_count": null,
      "_view_module": "@jupyter-widgets/base",
      "_view_module_version": "1.2.0",
      "_view_name": "StyleView",
      "description_width": ""
     }
    },
    "032c047603e24b4a8d64fdb1b051b840": {
     "model_module": "@jupyter-widgets/base",
     "model_module_version": "1.2.0",
     "model_name": "LayoutModel",
     "state": {
      "_model_module": "@jupyter-widgets/base",
      "_model_module_version": "1.2.0",
      "_model_name": "LayoutModel",
      "_view_count": null,
      "_view_module": "@jupyter-widgets/base",
      "_view_module_version": "1.2.0",
      "_view_name": "LayoutView",
      "align_content": null,
      "align_items": null,
      "align_self": null,
      "border": null,
      "bottom": null,
      "display": "inline-flex",
      "flex": null,
      "flex_flow": "row wrap",
      "grid_area": null,
      "grid_auto_columns": null,
      "grid_auto_flow": null,
      "grid_auto_rows": null,
      "grid_column": null,
      "grid_gap": null,
      "grid_row": null,
      "grid_template_areas": null,
      "grid_template_columns": null,
      "grid_template_rows": null,
      "height": null,
      "justify_content": null,
      "justify_items": null,
      "left": null,
      "margin": null,
      "max_height": null,
      "max_width": null,
      "min_height": null,
      "min_width": null,
      "object_fit": null,
      "object_position": null,
      "order": null,
      "overflow": null,
      "overflow_x": null,
      "overflow_y": null,
      "padding": null,
      "right": null,
      "top": null,
      "visibility": "hidden",
      "width": "100%"
     }
    },
    "067e8f2a052b4770b292f7929d439944": {
     "model_module": "@jupyter-widgets/controls",
     "model_module_version": "1.5.0",
     "model_name": "HTMLModel",
     "state": {
      "_dom_classes": [],
      "_model_module": "@jupyter-widgets/controls",
      "_model_module_version": "1.5.0",
      "_model_name": "HTMLModel",
      "_view_count": null,
      "_view_module": "@jupyter-widgets/controls",
      "_view_module_version": "1.5.0",
      "_view_name": "HTMLView",
      "description": "",
      "description_tooltip": null,
      "layout": "IPY_MODEL_84430f61b9b84f8ca1ed9acb19bb3780",
      "placeholder": "​",
      "style": "IPY_MODEL_6957571ce3e54bb6bbcaad11b01bfdc3",
      "value": " 2139/2139 [00:23&lt;00:00, 90.57it/s, v_num=49nd, train_loss=6.220, val_loss=10.70]"
     }
    },
    "077dcdde9d814c2b8fbb926296a78773": {
     "model_module": "@jupyter-widgets/controls",
     "model_module_version": "1.5.0",
     "model_name": "ProgressStyleModel",
     "state": {
      "_model_module": "@jupyter-widgets/controls",
      "_model_module_version": "1.5.0",
      "_model_name": "ProgressStyleModel",
      "_view_count": null,
      "_view_module": "@jupyter-widgets/base",
      "_view_module_version": "1.2.0",
      "_view_name": "StyleView",
      "bar_color": null,
      "description_width": ""
     }
    },
    "07d39640737f45c798e44324ff142bbd": {
     "model_module": "@jupyter-widgets/controls",
     "model_module_version": "1.5.0",
     "model_name": "HTMLModel",
     "state": {
      "_dom_classes": [],
      "_model_module": "@jupyter-widgets/controls",
      "_model_module_version": "1.5.0",
      "_model_name": "HTMLModel",
      "_view_count": null,
      "_view_module": "@jupyter-widgets/controls",
      "_view_module_version": "1.5.0",
      "_view_name": "HTMLView",
      "description": "",
      "description_tooltip": null,
      "layout": "IPY_MODEL_385132137dd8467b90f6116fd1d11f35",
      "placeholder": "​",
      "style": "IPY_MODEL_3832713ad33b4a00b2bafaa402295132",
      "value": "Validation DataLoader 0: 100%"
     }
    },
    "093808f609a64ab7a0ecd2b9b8eb5ea7": {
     "model_module": "@jupyter-widgets/base",
     "model_module_version": "1.2.0",
     "model_name": "LayoutModel",
     "state": {
      "_model_module": "@jupyter-widgets/base",
      "_model_module_version": "1.2.0",
      "_model_name": "LayoutModel",
      "_view_count": null,
      "_view_module": "@jupyter-widgets/base",
      "_view_module_version": "1.2.0",
      "_view_name": "LayoutView",
      "align_content": null,
      "align_items": null,
      "align_self": null,
      "border": null,
      "bottom": null,
      "display": "inline-flex",
      "flex": null,
      "flex_flow": "row wrap",
      "grid_area": null,
      "grid_auto_columns": null,
      "grid_auto_flow": null,
      "grid_auto_rows": null,
      "grid_column": null,
      "grid_gap": null,
      "grid_row": null,
      "grid_template_areas": null,
      "grid_template_columns": null,
      "grid_template_rows": null,
      "height": null,
      "justify_content": null,
      "justify_items": null,
      "left": null,
      "margin": null,
      "max_height": null,
      "max_width": null,
      "min_height": null,
      "min_width": null,
      "object_fit": null,
      "object_position": null,
      "order": null,
      "overflow": null,
      "overflow_x": null,
      "overflow_y": null,
      "padding": null,
      "right": null,
      "top": null,
      "visibility": "hidden",
      "width": "100%"
     }
    },
    "0948e22a98c94ea885817b11f37ba07f": {
     "model_module": "@jupyter-widgets/base",
     "model_module_version": "1.2.0",
     "model_name": "LayoutModel",
     "state": {
      "_model_module": "@jupyter-widgets/base",
      "_model_module_version": "1.2.0",
      "_model_name": "LayoutModel",
      "_view_count": null,
      "_view_module": "@jupyter-widgets/base",
      "_view_module_version": "1.2.0",
      "_view_name": "LayoutView",
      "align_content": null,
      "align_items": null,
      "align_self": null,
      "border": null,
      "bottom": null,
      "display": null,
      "flex": "2",
      "flex_flow": null,
      "grid_area": null,
      "grid_auto_columns": null,
      "grid_auto_flow": null,
      "grid_auto_rows": null,
      "grid_column": null,
      "grid_gap": null,
      "grid_row": null,
      "grid_template_areas": null,
      "grid_template_columns": null,
      "grid_template_rows": null,
      "height": null,
      "justify_content": null,
      "justify_items": null,
      "left": null,
      "margin": null,
      "max_height": null,
      "max_width": null,
      "min_height": null,
      "min_width": null,
      "object_fit": null,
      "object_position": null,
      "order": null,
      "overflow": null,
      "overflow_x": null,
      "overflow_y": null,
      "padding": null,
      "right": null,
      "top": null,
      "visibility": null,
      "width": null
     }
    },
    "0973209e337a4f7088c89ac2b75d0eba": {
     "model_module": "@jupyter-widgets/controls",
     "model_module_version": "1.5.0",
     "model_name": "HTMLModel",
     "state": {
      "_dom_classes": [],
      "_model_module": "@jupyter-widgets/controls",
      "_model_module_version": "1.5.0",
      "_model_name": "HTMLModel",
      "_view_count": null,
      "_view_module": "@jupyter-widgets/controls",
      "_view_module_version": "1.5.0",
      "_view_name": "HTMLView",
      "description": "",
      "description_tooltip": null,
      "layout": "IPY_MODEL_ec16b197bf324930a5b4360994dca1f9",
      "placeholder": "​",
      "style": "IPY_MODEL_5b528f6b98a044f1a6449457c7f73ebb",
      "value": "Sanity Checking DataLoader 0: 100%"
     }
    },
    "09c7f7a44d274b6581fc92ab3d8c9db4": {
     "model_module": "@jupyter-widgets/base",
     "model_module_version": "1.2.0",
     "model_name": "LayoutModel",
     "state": {
      "_model_module": "@jupyter-widgets/base",
      "_model_module_version": "1.2.0",
      "_model_name": "LayoutModel",
      "_view_count": null,
      "_view_module": "@jupyter-widgets/base",
      "_view_module_version": "1.2.0",
      "_view_name": "LayoutView",
      "align_content": null,
      "align_items": null,
      "align_self": null,
      "border": null,
      "bottom": null,
      "display": "inline-flex",
      "flex": null,
      "flex_flow": "row wrap",
      "grid_area": null,
      "grid_auto_columns": null,
      "grid_auto_flow": null,
      "grid_auto_rows": null,
      "grid_column": null,
      "grid_gap": null,
      "grid_row": null,
      "grid_template_areas": null,
      "grid_template_columns": null,
      "grid_template_rows": null,
      "height": null,
      "justify_content": null,
      "justify_items": null,
      "left": null,
      "margin": null,
      "max_height": null,
      "max_width": null,
      "min_height": null,
      "min_width": null,
      "object_fit": null,
      "object_position": null,
      "order": null,
      "overflow": null,
      "overflow_x": null,
      "overflow_y": null,
      "padding": null,
      "right": null,
      "top": null,
      "visibility": "hidden",
      "width": "100%"
     }
    },
    "0a226c5730d2418b92c8b8280cb72f65": {
     "model_module": "@jupyter-widgets/controls",
     "model_module_version": "1.5.0",
     "model_name": "DescriptionStyleModel",
     "state": {
      "_model_module": "@jupyter-widgets/controls",
      "_model_module_version": "1.5.0",
      "_model_name": "DescriptionStyleModel",
      "_view_count": null,
      "_view_module": "@jupyter-widgets/base",
      "_view_module_version": "1.2.0",
      "_view_name": "StyleView",
      "description_width": ""
     }
    },
    "0c5b04b41f624e32a34112d1b9448089": {
     "model_module": "@jupyter-widgets/base",
     "model_module_version": "1.2.0",
     "model_name": "LayoutModel",
     "state": {
      "_model_module": "@jupyter-widgets/base",
      "_model_module_version": "1.2.0",
      "_model_name": "LayoutModel",
      "_view_count": null,
      "_view_module": "@jupyter-widgets/base",
      "_view_module_version": "1.2.0",
      "_view_name": "LayoutView",
      "align_content": null,
      "align_items": null,
      "align_self": null,
      "border": null,
      "bottom": null,
      "display": null,
      "flex": null,
      "flex_flow": null,
      "grid_area": null,
      "grid_auto_columns": null,
      "grid_auto_flow": null,
      "grid_auto_rows": null,
      "grid_column": null,
      "grid_gap": null,
      "grid_row": null,
      "grid_template_areas": null,
      "grid_template_columns": null,
      "grid_template_rows": null,
      "height": null,
      "justify_content": null,
      "justify_items": null,
      "left": null,
      "margin": null,
      "max_height": null,
      "max_width": null,
      "min_height": null,
      "min_width": null,
      "object_fit": null,
      "object_position": null,
      "order": null,
      "overflow": null,
      "overflow_x": null,
      "overflow_y": null,
      "padding": null,
      "right": null,
      "top": null,
      "visibility": null,
      "width": null
     }
    },
    "0ca1b132e2764adc91586b478ea3ede2": {
     "model_module": "@jupyter-widgets/controls",
     "model_module_version": "1.5.0",
     "model_name": "HTMLModel",
     "state": {
      "_dom_classes": [],
      "_model_module": "@jupyter-widgets/controls",
      "_model_module_version": "1.5.0",
      "_model_name": "HTMLModel",
      "_view_count": null,
      "_view_module": "@jupyter-widgets/controls",
      "_view_module_version": "1.5.0",
      "_view_name": "HTMLView",
      "description": "",
      "description_tooltip": null,
      "layout": "IPY_MODEL_cb9af7bc5ddd4f6fb7706ae98e67baec",
      "placeholder": "​",
      "style": "IPY_MODEL_51a3bde8240b4ea48258efb94235d8e7",
      "value": " 11/11 [00:00&lt;00:00, 11.96it/s]"
     }
    },
    "0ccf456406bc47c68a9ed7881d58a864": {
     "model_module": "@jupyter-widgets/controls",
     "model_module_version": "1.5.0",
     "model_name": "DescriptionStyleModel",
     "state": {
      "_model_module": "@jupyter-widgets/controls",
      "_model_module_version": "1.5.0",
      "_model_name": "DescriptionStyleModel",
      "_view_count": null,
      "_view_module": "@jupyter-widgets/base",
      "_view_module_version": "1.2.0",
      "_view_name": "StyleView",
      "description_width": ""
     }
    },
    "0f756a02621b4a65a7721dbf1d78f79b": {
     "model_module": "@jupyter-widgets/base",
     "model_module_version": "1.2.0",
     "model_name": "LayoutModel",
     "state": {
      "_model_module": "@jupyter-widgets/base",
      "_model_module_version": "1.2.0",
      "_model_name": "LayoutModel",
      "_view_count": null,
      "_view_module": "@jupyter-widgets/base",
      "_view_module_version": "1.2.0",
      "_view_name": "LayoutView",
      "align_content": null,
      "align_items": null,
      "align_self": null,
      "border": null,
      "bottom": null,
      "display": null,
      "flex": null,
      "flex_flow": null,
      "grid_area": null,
      "grid_auto_columns": null,
      "grid_auto_flow": null,
      "grid_auto_rows": null,
      "grid_column": null,
      "grid_gap": null,
      "grid_row": null,
      "grid_template_areas": null,
      "grid_template_columns": null,
      "grid_template_rows": null,
      "height": null,
      "justify_content": null,
      "justify_items": null,
      "left": null,
      "margin": null,
      "max_height": null,
      "max_width": null,
      "min_height": null,
      "min_width": null,
      "object_fit": null,
      "object_position": null,
      "order": null,
      "overflow": null,
      "overflow_x": null,
      "overflow_y": null,
      "padding": null,
      "right": null,
      "top": null,
      "visibility": null,
      "width": null
     }
    },
    "107ba4c6923543959e19a638fabcd126": {
     "model_module": "@jupyter-widgets/controls",
     "model_module_version": "1.5.0",
     "model_name": "HTMLModel",
     "state": {
      "_dom_classes": [],
      "_model_module": "@jupyter-widgets/controls",
      "_model_module_version": "1.5.0",
      "_model_name": "HTMLModel",
      "_view_count": null,
      "_view_module": "@jupyter-widgets/controls",
      "_view_module_version": "1.5.0",
      "_view_name": "HTMLView",
      "description": "",
      "description_tooltip": null,
      "layout": "IPY_MODEL_5a77e4b396be4ee9a8880fac85312795",
      "placeholder": "​",
      "style": "IPY_MODEL_27c2aa806482414db7db2d83aa08604a",
      "value": "Validation DataLoader 0: 100%"
     }
    },
    "1080e82c8a664f2d927516d048aae265": {
     "model_module": "@jupyter-widgets/controls",
     "model_module_version": "1.5.0",
     "model_name": "HTMLModel",
     "state": {
      "_dom_classes": [],
      "_model_module": "@jupyter-widgets/controls",
      "_model_module_version": "1.5.0",
      "_model_name": "HTMLModel",
      "_view_count": null,
      "_view_module": "@jupyter-widgets/controls",
      "_view_module_version": "1.5.0",
      "_view_name": "HTMLView",
      "description": "",
      "description_tooltip": null,
      "layout": "IPY_MODEL_2b62bff5c20e4ea2aa8b6b47c7cc1fe3",
      "placeholder": "​",
      "style": "IPY_MODEL_819014dde5824384b5aadabdf1d9a3fc",
      "value": " 11/11 [00:01&lt;00:00,  7.49it/s]"
     }
    },
    "1290f72e5bd34bd794ff0e4c7a9f4a1b": {
     "model_module": "@jupyter-widgets/base",
     "model_module_version": "1.2.0",
     "model_name": "LayoutModel",
     "state": {
      "_model_module": "@jupyter-widgets/base",
      "_model_module_version": "1.2.0",
      "_model_name": "LayoutModel",
      "_view_count": null,
      "_view_module": "@jupyter-widgets/base",
      "_view_module_version": "1.2.0",
      "_view_name": "LayoutView",
      "align_content": null,
      "align_items": null,
      "align_self": null,
      "border": null,
      "bottom": null,
      "display": null,
      "flex": null,
      "flex_flow": null,
      "grid_area": null,
      "grid_auto_columns": null,
      "grid_auto_flow": null,
      "grid_auto_rows": null,
      "grid_column": null,
      "grid_gap": null,
      "grid_row": null,
      "grid_template_areas": null,
      "grid_template_columns": null,
      "grid_template_rows": null,
      "height": null,
      "justify_content": null,
      "justify_items": null,
      "left": null,
      "margin": null,
      "max_height": null,
      "max_width": null,
      "min_height": null,
      "min_width": null,
      "object_fit": null,
      "object_position": null,
      "order": null,
      "overflow": null,
      "overflow_x": null,
      "overflow_y": null,
      "padding": null,
      "right": null,
      "top": null,
      "visibility": null,
      "width": null
     }
    },
    "12a02f01ee1e4458b4c3ef932dd868aa": {
     "model_module": "@jupyter-widgets/base",
     "model_module_version": "1.2.0",
     "model_name": "LayoutModel",
     "state": {
      "_model_module": "@jupyter-widgets/base",
      "_model_module_version": "1.2.0",
      "_model_name": "LayoutModel",
      "_view_count": null,
      "_view_module": "@jupyter-widgets/base",
      "_view_module_version": "1.2.0",
      "_view_name": "LayoutView",
      "align_content": null,
      "align_items": null,
      "align_self": null,
      "border": null,
      "bottom": null,
      "display": "inline-flex",
      "flex": null,
      "flex_flow": "row wrap",
      "grid_area": null,
      "grid_auto_columns": null,
      "grid_auto_flow": null,
      "grid_auto_rows": null,
      "grid_column": null,
      "grid_gap": null,
      "grid_row": null,
      "grid_template_areas": null,
      "grid_template_columns": null,
      "grid_template_rows": null,
      "height": null,
      "justify_content": null,
      "justify_items": null,
      "left": null,
      "margin": null,
      "max_height": null,
      "max_width": null,
      "min_height": null,
      "min_width": null,
      "object_fit": null,
      "object_position": null,
      "order": null,
      "overflow": null,
      "overflow_x": null,
      "overflow_y": null,
      "padding": null,
      "right": null,
      "top": null,
      "visibility": "hidden",
      "width": "100%"
     }
    },
    "14788be403c64c2b83176a3ebb814185": {
     "model_module": "@jupyter-widgets/controls",
     "model_module_version": "1.5.0",
     "model_name": "HTMLModel",
     "state": {
      "_dom_classes": [],
      "_model_module": "@jupyter-widgets/controls",
      "_model_module_version": "1.5.0",
      "_model_name": "HTMLModel",
      "_view_count": null,
      "_view_module": "@jupyter-widgets/controls",
      "_view_module_version": "1.5.0",
      "_view_name": "HTMLView",
      "description": "",
      "description_tooltip": null,
      "layout": "IPY_MODEL_a9e268a649584fed97a469f9b5d8e9e4",
      "placeholder": "​",
      "style": "IPY_MODEL_162beecaec614d8aba9e7b40290c3950",
      "value": "Validation DataLoader 0: 100%"
     }
    },
    "153b48c8fcca48c0ab0345df5c1c541b": {
     "model_module": "@jupyter-widgets/controls",
     "model_module_version": "1.5.0",
     "model_name": "HBoxModel",
     "state": {
      "_dom_classes": [],
      "_model_module": "@jupyter-widgets/controls",
      "_model_module_version": "1.5.0",
      "_model_name": "HBoxModel",
      "_view_count": null,
      "_view_module": "@jupyter-widgets/controls",
      "_view_module_version": "1.5.0",
      "_view_name": "HBoxView",
      "box_style": "",
      "children": [
       "IPY_MODEL_4f0ec27e4df14a5fb44fce0dfed84fdf",
       "IPY_MODEL_18a7258afe5a408bb8426b53844470cb",
       "IPY_MODEL_1e3a693a4f9e4208a6094590c19ae5c7"
      ],
      "layout": "IPY_MODEL_41c6e408ee934a5ab94adac56d5933d1"
     }
    },
    "16050df033654530886c403d42fd8e65": {
     "model_module": "@jupyter-widgets/controls",
     "model_module_version": "1.5.0",
     "model_name": "HTMLModel",
     "state": {
      "_dom_classes": [],
      "_model_module": "@jupyter-widgets/controls",
      "_model_module_version": "1.5.0",
      "_model_name": "HTMLModel",
      "_view_count": null,
      "_view_module": "@jupyter-widgets/controls",
      "_view_module_version": "1.5.0",
      "_view_name": "HTMLView",
      "description": "",
      "description_tooltip": null,
      "layout": "IPY_MODEL_9e86c9db2cba4390a867cfd3a995f767",
      "placeholder": "​",
      "style": "IPY_MODEL_2403e62a2cf94299aca7cc8203f84aba",
      "value": " 11/11 [00:01&lt;00:00, 10.14it/s]"
     }
    },
    "162beecaec614d8aba9e7b40290c3950": {
     "model_module": "@jupyter-widgets/controls",
     "model_module_version": "1.5.0",
     "model_name": "DescriptionStyleModel",
     "state": {
      "_model_module": "@jupyter-widgets/controls",
      "_model_module_version": "1.5.0",
      "_model_name": "DescriptionStyleModel",
      "_view_count": null,
      "_view_module": "@jupyter-widgets/base",
      "_view_module_version": "1.2.0",
      "_view_name": "StyleView",
      "description_width": ""
     }
    },
    "177660f0155c422d9642b989c3aa5dfb": {
     "model_module": "@jupyter-widgets/base",
     "model_module_version": "1.2.0",
     "model_name": "LayoutModel",
     "state": {
      "_model_module": "@jupyter-widgets/base",
      "_model_module_version": "1.2.0",
      "_model_name": "LayoutModel",
      "_view_count": null,
      "_view_module": "@jupyter-widgets/base",
      "_view_module_version": "1.2.0",
      "_view_name": "LayoutView",
      "align_content": null,
      "align_items": null,
      "align_self": null,
      "border": null,
      "bottom": null,
      "display": null,
      "flex": null,
      "flex_flow": null,
      "grid_area": null,
      "grid_auto_columns": null,
      "grid_auto_flow": null,
      "grid_auto_rows": null,
      "grid_column": null,
      "grid_gap": null,
      "grid_row": null,
      "grid_template_areas": null,
      "grid_template_columns": null,
      "grid_template_rows": null,
      "height": null,
      "justify_content": null,
      "justify_items": null,
      "left": null,
      "margin": null,
      "max_height": null,
      "max_width": null,
      "min_height": null,
      "min_width": null,
      "object_fit": null,
      "object_position": null,
      "order": null,
      "overflow": null,
      "overflow_x": null,
      "overflow_y": null,
      "padding": null,
      "right": null,
      "top": null,
      "visibility": null,
      "width": null
     }
    },
    "1823b9fe9e604334a08102e75d34a220": {
     "model_module": "@jupyter-widgets/base",
     "model_module_version": "1.2.0",
     "model_name": "LayoutModel",
     "state": {
      "_model_module": "@jupyter-widgets/base",
      "_model_module_version": "1.2.0",
      "_model_name": "LayoutModel",
      "_view_count": null,
      "_view_module": "@jupyter-widgets/base",
      "_view_module_version": "1.2.0",
      "_view_name": "LayoutView",
      "align_content": null,
      "align_items": null,
      "align_self": null,
      "border": null,
      "bottom": null,
      "display": null,
      "flex": null,
      "flex_flow": null,
      "grid_area": null,
      "grid_auto_columns": null,
      "grid_auto_flow": null,
      "grid_auto_rows": null,
      "grid_column": null,
      "grid_gap": null,
      "grid_row": null,
      "grid_template_areas": null,
      "grid_template_columns": null,
      "grid_template_rows": null,
      "height": null,
      "justify_content": null,
      "justify_items": null,
      "left": null,
      "margin": null,
      "max_height": null,
      "max_width": null,
      "min_height": null,
      "min_width": null,
      "object_fit": null,
      "object_position": null,
      "order": null,
      "overflow": null,
      "overflow_x": null,
      "overflow_y": null,
      "padding": null,
      "right": null,
      "top": null,
      "visibility": null,
      "width": null
     }
    },
    "18a7258afe5a408bb8426b53844470cb": {
     "model_module": "@jupyter-widgets/controls",
     "model_module_version": "1.5.0",
     "model_name": "FloatProgressModel",
     "state": {
      "_dom_classes": [],
      "_model_module": "@jupyter-widgets/controls",
      "_model_module_version": "1.5.0",
      "_model_name": "FloatProgressModel",
      "_view_count": null,
      "_view_module": "@jupyter-widgets/controls",
      "_view_module_version": "1.5.0",
      "_view_name": "ProgressView",
      "bar_style": "",
      "description": "",
      "description_tooltip": null,
      "layout": "IPY_MODEL_ab7b3ec8c0714c0c9b3496bfd7ddf666",
      "max": 11,
      "min": 0,
      "orientation": "horizontal",
      "style": "IPY_MODEL_ea51b8b03b4c492ca96e383300ffe821",
      "value": 11
     }
    },
    "18ffec9b445e4195b71b6c54c73ce5ea": {
     "model_module": "@jupyter-widgets/base",
     "model_module_version": "1.2.0",
     "model_name": "LayoutModel",
     "state": {
      "_model_module": "@jupyter-widgets/base",
      "_model_module_version": "1.2.0",
      "_model_name": "LayoutModel",
      "_view_count": null,
      "_view_module": "@jupyter-widgets/base",
      "_view_module_version": "1.2.0",
      "_view_name": "LayoutView",
      "align_content": null,
      "align_items": null,
      "align_self": null,
      "border": null,
      "bottom": null,
      "display": null,
      "flex": "2",
      "flex_flow": null,
      "grid_area": null,
      "grid_auto_columns": null,
      "grid_auto_flow": null,
      "grid_auto_rows": null,
      "grid_column": null,
      "grid_gap": null,
      "grid_row": null,
      "grid_template_areas": null,
      "grid_template_columns": null,
      "grid_template_rows": null,
      "height": null,
      "justify_content": null,
      "justify_items": null,
      "left": null,
      "margin": null,
      "max_height": null,
      "max_width": null,
      "min_height": null,
      "min_width": null,
      "object_fit": null,
      "object_position": null,
      "order": null,
      "overflow": null,
      "overflow_x": null,
      "overflow_y": null,
      "padding": null,
      "right": null,
      "top": null,
      "visibility": null,
      "width": null
     }
    },
    "1945866564b04334917e944f81aefda3": {
     "model_module": "@jupyter-widgets/controls",
     "model_module_version": "1.5.0",
     "model_name": "FloatProgressModel",
     "state": {
      "_dom_classes": [],
      "_model_module": "@jupyter-widgets/controls",
      "_model_module_version": "1.5.0",
      "_model_name": "FloatProgressModel",
      "_view_count": null,
      "_view_module": "@jupyter-widgets/controls",
      "_view_module_version": "1.5.0",
      "_view_name": "ProgressView",
      "bar_style": "",
      "description": "",
      "description_tooltip": null,
      "layout": "IPY_MODEL_af03c81739a248fc960e24f6fab7025f",
      "max": 11,
      "min": 0,
      "orientation": "horizontal",
      "style": "IPY_MODEL_c32dc4390dca4c74a2f6e9b08c4996d8",
      "value": 11
     }
    },
    "19fc6ad9a8664d2eb27e6d93244e31a0": {
     "model_module": "@jupyter-widgets/controls",
     "model_module_version": "1.5.0",
     "model_name": "HTMLModel",
     "state": {
      "_dom_classes": [],
      "_model_module": "@jupyter-widgets/controls",
      "_model_module_version": "1.5.0",
      "_model_name": "HTMLModel",
      "_view_count": null,
      "_view_module": "@jupyter-widgets/controls",
      "_view_module_version": "1.5.0",
      "_view_name": "HTMLView",
      "description": "",
      "description_tooltip": null,
      "layout": "IPY_MODEL_8f300d5768ae45108deabd748f2570a2",
      "placeholder": "​",
      "style": "IPY_MODEL_51e6e5b5460e4328aa0702c498b02299",
      "value": "Validation DataLoader 0: 100%"
     }
    },
    "1ab50a3326d44dba8b307aab6eaf6bc5": {
     "model_module": "@jupyter-widgets/controls",
     "model_module_version": "1.5.0",
     "model_name": "HTMLModel",
     "state": {
      "_dom_classes": [],
      "_model_module": "@jupyter-widgets/controls",
      "_model_module_version": "1.5.0",
      "_model_name": "HTMLModel",
      "_view_count": null,
      "_view_module": "@jupyter-widgets/controls",
      "_view_module_version": "1.5.0",
      "_view_name": "HTMLView",
      "description": "",
      "description_tooltip": null,
      "layout": "IPY_MODEL_48c181a200864645b4a747d2b771b668",
      "placeholder": "​",
      "style": "IPY_MODEL_fe3c136be1144401bb413b1d828e795d",
      "value": " 11/11 [00:01&lt;00:00,  8.64it/s]"
     }
    },
    "1c12b149ca7244a2b1162f00ec4121c4": {
     "model_module": "@jupyter-widgets/controls",
     "model_module_version": "1.5.0",
     "model_name": "HTMLModel",
     "state": {
      "_dom_classes": [],
      "_model_module": "@jupyter-widgets/controls",
      "_model_module_version": "1.5.0",
      "_model_name": "HTMLModel",
      "_view_count": null,
      "_view_module": "@jupyter-widgets/controls",
      "_view_module_version": "1.5.0",
      "_view_name": "HTMLView",
      "description": "",
      "description_tooltip": null,
      "layout": "IPY_MODEL_caaaedd80fc0416ca472f0421a0cc270",
      "placeholder": "​",
      "style": "IPY_MODEL_52807f963d38438d856e2c0d7cf813c1",
      "value": " 2/2 [00:00&lt;00:00,  5.98it/s]"
     }
    },
    "1c6dfc25b65748499e098c0bc2a3f272": {
     "model_module": "@jupyter-widgets/controls",
     "model_module_version": "1.5.0",
     "model_name": "ProgressStyleModel",
     "state": {
      "_model_module": "@jupyter-widgets/controls",
      "_model_module_version": "1.5.0",
      "_model_name": "ProgressStyleModel",
      "_view_count": null,
      "_view_module": "@jupyter-widgets/base",
      "_view_module_version": "1.2.0",
      "_view_name": "StyleView",
      "bar_color": null,
      "description_width": ""
     }
    },
    "1dd90012e06949cabb36bb2c6e738be7": {
     "model_module": "@jupyter-widgets/base",
     "model_module_version": "1.2.0",
     "model_name": "LayoutModel",
     "state": {
      "_model_module": "@jupyter-widgets/base",
      "_model_module_version": "1.2.0",
      "_model_name": "LayoutModel",
      "_view_count": null,
      "_view_module": "@jupyter-widgets/base",
      "_view_module_version": "1.2.0",
      "_view_name": "LayoutView",
      "align_content": null,
      "align_items": null,
      "align_self": null,
      "border": null,
      "bottom": null,
      "display": null,
      "flex": "2",
      "flex_flow": null,
      "grid_area": null,
      "grid_auto_columns": null,
      "grid_auto_flow": null,
      "grid_auto_rows": null,
      "grid_column": null,
      "grid_gap": null,
      "grid_row": null,
      "grid_template_areas": null,
      "grid_template_columns": null,
      "grid_template_rows": null,
      "height": null,
      "justify_content": null,
      "justify_items": null,
      "left": null,
      "margin": null,
      "max_height": null,
      "max_width": null,
      "min_height": null,
      "min_width": null,
      "object_fit": null,
      "object_position": null,
      "order": null,
      "overflow": null,
      "overflow_x": null,
      "overflow_y": null,
      "padding": null,
      "right": null,
      "top": null,
      "visibility": null,
      "width": null
     }
    },
    "1e3a693a4f9e4208a6094590c19ae5c7": {
     "model_module": "@jupyter-widgets/controls",
     "model_module_version": "1.5.0",
     "model_name": "HTMLModel",
     "state": {
      "_dom_classes": [],
      "_model_module": "@jupyter-widgets/controls",
      "_model_module_version": "1.5.0",
      "_model_name": "HTMLModel",
      "_view_count": null,
      "_view_module": "@jupyter-widgets/controls",
      "_view_module_version": "1.5.0",
      "_view_name": "HTMLView",
      "description": "",
      "description_tooltip": null,
      "layout": "IPY_MODEL_2696e72706f444eca725763811d5bd8b",
      "placeholder": "​",
      "style": "IPY_MODEL_55ffd35f21d94d0eafbeee6a98c1fca5",
      "value": " 11/11 [00:00&lt;00:00, 17.61it/s]"
     }
    },
    "1fab4367bc9b4a5f970cc5f45ccb936d": {
     "model_module": "@jupyter-widgets/controls",
     "model_module_version": "1.5.0",
     "model_name": "HTMLModel",
     "state": {
      "_dom_classes": [],
      "_model_module": "@jupyter-widgets/controls",
      "_model_module_version": "1.5.0",
      "_model_name": "HTMLModel",
      "_view_count": null,
      "_view_module": "@jupyter-widgets/controls",
      "_view_module_version": "1.5.0",
      "_view_name": "HTMLView",
      "description": "",
      "description_tooltip": null,
      "layout": "IPY_MODEL_5e4e926fbcbe4b33bae959ae3d079e8e",
      "placeholder": "​",
      "style": "IPY_MODEL_ee087d12039c4e8f91ce39ebc2c4b527",
      "value": " 11/11 [00:01&lt;00:00,  6.29it/s]"
     }
    },
    "23f1f2d1b78445da9c6abdf5588954c1": {
     "model_module": "@jupyter-widgets/controls",
     "model_module_version": "1.5.0",
     "model_name": "DescriptionStyleModel",
     "state": {
      "_model_module": "@jupyter-widgets/controls",
      "_model_module_version": "1.5.0",
      "_model_name": "DescriptionStyleModel",
      "_view_count": null,
      "_view_module": "@jupyter-widgets/base",
      "_view_module_version": "1.2.0",
      "_view_name": "StyleView",
      "description_width": ""
     }
    },
    "23fad048e63140798ba2e393f74d09c3": {
     "model_module": "@jupyter-widgets/controls",
     "model_module_version": "1.5.0",
     "model_name": "FloatProgressModel",
     "state": {
      "_dom_classes": [],
      "_model_module": "@jupyter-widgets/controls",
      "_model_module_version": "1.5.0",
      "_model_name": "FloatProgressModel",
      "_view_count": null,
      "_view_module": "@jupyter-widgets/controls",
      "_view_module_version": "1.5.0",
      "_view_name": "ProgressView",
      "bar_style": "",
      "description": "",
      "description_tooltip": null,
      "layout": "IPY_MODEL_fce38fd2c3dc4db7bfb2e1f814003722",
      "max": 11,
      "min": 0,
      "orientation": "horizontal",
      "style": "IPY_MODEL_d4e3d7edb77340ff8fdf233ebf432850",
      "value": 11
     }
    },
    "2403e62a2cf94299aca7cc8203f84aba": {
     "model_module": "@jupyter-widgets/controls",
     "model_module_version": "1.5.0",
     "model_name": "DescriptionStyleModel",
     "state": {
      "_model_module": "@jupyter-widgets/controls",
      "_model_module_version": "1.5.0",
      "_model_name": "DescriptionStyleModel",
      "_view_count": null,
      "_view_module": "@jupyter-widgets/base",
      "_view_module_version": "1.2.0",
      "_view_name": "StyleView",
      "description_width": ""
     }
    },
    "241d72082e2a4632840db0ca81d2b249": {
     "model_module": "@jupyter-widgets/base",
     "model_module_version": "1.2.0",
     "model_name": "LayoutModel",
     "state": {
      "_model_module": "@jupyter-widgets/base",
      "_model_module_version": "1.2.0",
      "_model_name": "LayoutModel",
      "_view_count": null,
      "_view_module": "@jupyter-widgets/base",
      "_view_module_version": "1.2.0",
      "_view_name": "LayoutView",
      "align_content": null,
      "align_items": null,
      "align_self": null,
      "border": null,
      "bottom": null,
      "display": "inline-flex",
      "flex": null,
      "flex_flow": "row wrap",
      "grid_area": null,
      "grid_auto_columns": null,
      "grid_auto_flow": null,
      "grid_auto_rows": null,
      "grid_column": null,
      "grid_gap": null,
      "grid_row": null,
      "grid_template_areas": null,
      "grid_template_columns": null,
      "grid_template_rows": null,
      "height": null,
      "justify_content": null,
      "justify_items": null,
      "left": null,
      "margin": null,
      "max_height": null,
      "max_width": null,
      "min_height": null,
      "min_width": null,
      "object_fit": null,
      "object_position": null,
      "order": null,
      "overflow": null,
      "overflow_x": null,
      "overflow_y": null,
      "padding": null,
      "right": null,
      "top": null,
      "visibility": "hidden",
      "width": "100%"
     }
    },
    "2696e72706f444eca725763811d5bd8b": {
     "model_module": "@jupyter-widgets/base",
     "model_module_version": "1.2.0",
     "model_name": "LayoutModel",
     "state": {
      "_model_module": "@jupyter-widgets/base",
      "_model_module_version": "1.2.0",
      "_model_name": "LayoutModel",
      "_view_count": null,
      "_view_module": "@jupyter-widgets/base",
      "_view_module_version": "1.2.0",
      "_view_name": "LayoutView",
      "align_content": null,
      "align_items": null,
      "align_self": null,
      "border": null,
      "bottom": null,
      "display": null,
      "flex": null,
      "flex_flow": null,
      "grid_area": null,
      "grid_auto_columns": null,
      "grid_auto_flow": null,
      "grid_auto_rows": null,
      "grid_column": null,
      "grid_gap": null,
      "grid_row": null,
      "grid_template_areas": null,
      "grid_template_columns": null,
      "grid_template_rows": null,
      "height": null,
      "justify_content": null,
      "justify_items": null,
      "left": null,
      "margin": null,
      "max_height": null,
      "max_width": null,
      "min_height": null,
      "min_width": null,
      "object_fit": null,
      "object_position": null,
      "order": null,
      "overflow": null,
      "overflow_x": null,
      "overflow_y": null,
      "padding": null,
      "right": null,
      "top": null,
      "visibility": null,
      "width": null
     }
    },
    "26c52ad8f89541bc87c2f2cacd888691": {
     "model_module": "@jupyter-widgets/controls",
     "model_module_version": "1.5.0",
     "model_name": "ProgressStyleModel",
     "state": {
      "_model_module": "@jupyter-widgets/controls",
      "_model_module_version": "1.5.0",
      "_model_name": "ProgressStyleModel",
      "_view_count": null,
      "_view_module": "@jupyter-widgets/base",
      "_view_module_version": "1.2.0",
      "_view_name": "StyleView",
      "bar_color": null,
      "description_width": ""
     }
    },
    "27481c7608d747b198ae410d574bb0c8": {
     "model_module": "@jupyter-widgets/controls",
     "model_module_version": "1.5.0",
     "model_name": "HTMLModel",
     "state": {
      "_dom_classes": [],
      "_model_module": "@jupyter-widgets/controls",
      "_model_module_version": "1.5.0",
      "_model_name": "HTMLModel",
      "_view_count": null,
      "_view_module": "@jupyter-widgets/controls",
      "_view_module_version": "1.5.0",
      "_view_name": "HTMLView",
      "description": "",
      "description_tooltip": null,
      "layout": "IPY_MODEL_bb8321632151480dac9a1dbdf5fe2d42",
      "placeholder": "​",
      "style": "IPY_MODEL_2f3d9672fc7e432a9c72e29b50f3ddf6",
      "value": " 11/11 [00:00&lt;00:00, 12.96it/s]"
     }
    },
    "27c2aa806482414db7db2d83aa08604a": {
     "model_module": "@jupyter-widgets/controls",
     "model_module_version": "1.5.0",
     "model_name": "DescriptionStyleModel",
     "state": {
      "_model_module": "@jupyter-widgets/controls",
      "_model_module_version": "1.5.0",
      "_model_name": "DescriptionStyleModel",
      "_view_count": null,
      "_view_module": "@jupyter-widgets/base",
      "_view_module_version": "1.2.0",
      "_view_name": "StyleView",
      "description_width": ""
     }
    },
    "2ab8e7ba514044d282b2d595787161e4": {
     "model_module": "@jupyter-widgets/base",
     "model_module_version": "1.2.0",
     "model_name": "LayoutModel",
     "state": {
      "_model_module": "@jupyter-widgets/base",
      "_model_module_version": "1.2.0",
      "_model_name": "LayoutModel",
      "_view_count": null,
      "_view_module": "@jupyter-widgets/base",
      "_view_module_version": "1.2.0",
      "_view_name": "LayoutView",
      "align_content": null,
      "align_items": null,
      "align_self": null,
      "border": null,
      "bottom": null,
      "display": null,
      "flex": "2",
      "flex_flow": null,
      "grid_area": null,
      "grid_auto_columns": null,
      "grid_auto_flow": null,
      "grid_auto_rows": null,
      "grid_column": null,
      "grid_gap": null,
      "grid_row": null,
      "grid_template_areas": null,
      "grid_template_columns": null,
      "grid_template_rows": null,
      "height": null,
      "justify_content": null,
      "justify_items": null,
      "left": null,
      "margin": null,
      "max_height": null,
      "max_width": null,
      "min_height": null,
      "min_width": null,
      "object_fit": null,
      "object_position": null,
      "order": null,
      "overflow": null,
      "overflow_x": null,
      "overflow_y": null,
      "padding": null,
      "right": null,
      "top": null,
      "visibility": null,
      "width": null
     }
    },
    "2ace0307305c4e16b5d823a4f3f55593": {
     "model_module": "@jupyter-widgets/controls",
     "model_module_version": "1.5.0",
     "model_name": "ProgressStyleModel",
     "state": {
      "_model_module": "@jupyter-widgets/controls",
      "_model_module_version": "1.5.0",
      "_model_name": "ProgressStyleModel",
      "_view_count": null,
      "_view_module": "@jupyter-widgets/base",
      "_view_module_version": "1.2.0",
      "_view_name": "StyleView",
      "bar_color": null,
      "description_width": ""
     }
    },
    "2b62bff5c20e4ea2aa8b6b47c7cc1fe3": {
     "model_module": "@jupyter-widgets/base",
     "model_module_version": "1.2.0",
     "model_name": "LayoutModel",
     "state": {
      "_model_module": "@jupyter-widgets/base",
      "_model_module_version": "1.2.0",
      "_model_name": "LayoutModel",
      "_view_count": null,
      "_view_module": "@jupyter-widgets/base",
      "_view_module_version": "1.2.0",
      "_view_name": "LayoutView",
      "align_content": null,
      "align_items": null,
      "align_self": null,
      "border": null,
      "bottom": null,
      "display": null,
      "flex": null,
      "flex_flow": null,
      "grid_area": null,
      "grid_auto_columns": null,
      "grid_auto_flow": null,
      "grid_auto_rows": null,
      "grid_column": null,
      "grid_gap": null,
      "grid_row": null,
      "grid_template_areas": null,
      "grid_template_columns": null,
      "grid_template_rows": null,
      "height": null,
      "justify_content": null,
      "justify_items": null,
      "left": null,
      "margin": null,
      "max_height": null,
      "max_width": null,
      "min_height": null,
      "min_width": null,
      "object_fit": null,
      "object_position": null,
      "order": null,
      "overflow": null,
      "overflow_x": null,
      "overflow_y": null,
      "padding": null,
      "right": null,
      "top": null,
      "visibility": null,
      "width": null
     }
    },
    "2b8451f84f654563b63f492990b9708a": {
     "model_module": "@jupyter-widgets/base",
     "model_module_version": "1.2.0",
     "model_name": "LayoutModel",
     "state": {
      "_model_module": "@jupyter-widgets/base",
      "_model_module_version": "1.2.0",
      "_model_name": "LayoutModel",
      "_view_count": null,
      "_view_module": "@jupyter-widgets/base",
      "_view_module_version": "1.2.0",
      "_view_name": "LayoutView",
      "align_content": null,
      "align_items": null,
      "align_self": null,
      "border": null,
      "bottom": null,
      "display": null,
      "flex": null,
      "flex_flow": null,
      "grid_area": null,
      "grid_auto_columns": null,
      "grid_auto_flow": null,
      "grid_auto_rows": null,
      "grid_column": null,
      "grid_gap": null,
      "grid_row": null,
      "grid_template_areas": null,
      "grid_template_columns": null,
      "grid_template_rows": null,
      "height": null,
      "justify_content": null,
      "justify_items": null,
      "left": null,
      "margin": null,
      "max_height": null,
      "max_width": null,
      "min_height": null,
      "min_width": null,
      "object_fit": null,
      "object_position": null,
      "order": null,
      "overflow": null,
      "overflow_x": null,
      "overflow_y": null,
      "padding": null,
      "right": null,
      "top": null,
      "visibility": null,
      "width": null
     }
    },
    "2e15fc2e2d234485bde9dc887dbedf70": {
     "model_module": "@jupyter-widgets/base",
     "model_module_version": "1.2.0",
     "model_name": "LayoutModel",
     "state": {
      "_model_module": "@jupyter-widgets/base",
      "_model_module_version": "1.2.0",
      "_model_name": "LayoutModel",
      "_view_count": null,
      "_view_module": "@jupyter-widgets/base",
      "_view_module_version": "1.2.0",
      "_view_name": "LayoutView",
      "align_content": null,
      "align_items": null,
      "align_self": null,
      "border": null,
      "bottom": null,
      "display": null,
      "flex": null,
      "flex_flow": null,
      "grid_area": null,
      "grid_auto_columns": null,
      "grid_auto_flow": null,
      "grid_auto_rows": null,
      "grid_column": null,
      "grid_gap": null,
      "grid_row": null,
      "grid_template_areas": null,
      "grid_template_columns": null,
      "grid_template_rows": null,
      "height": null,
      "justify_content": null,
      "justify_items": null,
      "left": null,
      "margin": null,
      "max_height": null,
      "max_width": null,
      "min_height": null,
      "min_width": null,
      "object_fit": null,
      "object_position": null,
      "order": null,
      "overflow": null,
      "overflow_x": null,
      "overflow_y": null,
      "padding": null,
      "right": null,
      "top": null,
      "visibility": null,
      "width": null
     }
    },
    "2e409154e6ac4f6384ea35ae53bfd7f2": {
     "model_module": "@jupyter-widgets/controls",
     "model_module_version": "1.5.0",
     "model_name": "HTMLModel",
     "state": {
      "_dom_classes": [],
      "_model_module": "@jupyter-widgets/controls",
      "_model_module_version": "1.5.0",
      "_model_name": "HTMLModel",
      "_view_count": null,
      "_view_module": "@jupyter-widgets/controls",
      "_view_module_version": "1.5.0",
      "_view_name": "HTMLView",
      "description": "",
      "description_tooltip": null,
      "layout": "IPY_MODEL_37975fb1a50c4b18bb4b52a75531af11",
      "placeholder": "​",
      "style": "IPY_MODEL_0ccf456406bc47c68a9ed7881d58a864",
      "value": " 11/11 [00:00&lt;00:00, 11.66it/s]"
     }
    },
    "2ed1f8cb866d43ee8b101b631006a3d9": {
     "model_module": "@jupyter-widgets/controls",
     "model_module_version": "1.5.0",
     "model_name": "FloatProgressModel",
     "state": {
      "_dom_classes": [],
      "_model_module": "@jupyter-widgets/controls",
      "_model_module_version": "1.5.0",
      "_model_name": "FloatProgressModel",
      "_view_count": null,
      "_view_module": "@jupyter-widgets/controls",
      "_view_module_version": "1.5.0",
      "_view_name": "ProgressView",
      "bar_style": "",
      "description": "",
      "description_tooltip": null,
      "layout": "IPY_MODEL_47ab5ab51a6044eb94585438266d7198",
      "max": 11,
      "min": 0,
      "orientation": "horizontal",
      "style": "IPY_MODEL_912c0b2512cb4b799a6987810b52a49a",
      "value": 11
     }
    },
    "2f3d9672fc7e432a9c72e29b50f3ddf6": {
     "model_module": "@jupyter-widgets/controls",
     "model_module_version": "1.5.0",
     "model_name": "DescriptionStyleModel",
     "state": {
      "_model_module": "@jupyter-widgets/controls",
      "_model_module_version": "1.5.0",
      "_model_name": "DescriptionStyleModel",
      "_view_count": null,
      "_view_module": "@jupyter-widgets/base",
      "_view_module_version": "1.2.0",
      "_view_name": "StyleView",
      "description_width": ""
     }
    },
    "3156214399c94332b00caf95c6246124": {
     "model_module": "@jupyter-widgets/controls",
     "model_module_version": "1.5.0",
     "model_name": "ProgressStyleModel",
     "state": {
      "_model_module": "@jupyter-widgets/controls",
      "_model_module_version": "1.5.0",
      "_model_name": "ProgressStyleModel",
      "_view_count": null,
      "_view_module": "@jupyter-widgets/base",
      "_view_module_version": "1.2.0",
      "_view_name": "StyleView",
      "bar_color": null,
      "description_width": ""
     }
    },
    "3178985e0dfd426c9066e8b707556f6c": {
     "model_module": "@jupyter-widgets/controls",
     "model_module_version": "1.5.0",
     "model_name": "FloatProgressModel",
     "state": {
      "_dom_classes": [],
      "_model_module": "@jupyter-widgets/controls",
      "_model_module_version": "1.5.0",
      "_model_name": "FloatProgressModel",
      "_view_count": null,
      "_view_module": "@jupyter-widgets/controls",
      "_view_module_version": "1.5.0",
      "_view_name": "ProgressView",
      "bar_style": "success",
      "description": "",
      "description_tooltip": null,
      "layout": "IPY_MODEL_90080b96e3774c8d990d8ef37a15d9a2",
      "max": 2139,
      "min": 0,
      "orientation": "horizontal",
      "style": "IPY_MODEL_1c6dfc25b65748499e098c0bc2a3f272",
      "value": 2139
     }
    },
    "325d0d79740a47a5817c9e1b0468b712": {
     "model_module": "@jupyter-widgets/controls",
     "model_module_version": "1.5.0",
     "model_name": "HBoxModel",
     "state": {
      "_dom_classes": [],
      "_model_module": "@jupyter-widgets/controls",
      "_model_module_version": "1.5.0",
      "_model_name": "HBoxModel",
      "_view_count": null,
      "_view_module": "@jupyter-widgets/controls",
      "_view_module_version": "1.5.0",
      "_view_name": "HBoxView",
      "box_style": "",
      "children": [
       "IPY_MODEL_d0ef8e0e177a4e1690efadd10a423216",
       "IPY_MODEL_23fad048e63140798ba2e393f74d09c3",
       "IPY_MODEL_4fa530c8b5e942ed85ed6366fd4745f7"
      ],
      "layout": "IPY_MODEL_241d72082e2a4632840db0ca81d2b249"
     }
    },
    "37975fb1a50c4b18bb4b52a75531af11": {
     "model_module": "@jupyter-widgets/base",
     "model_module_version": "1.2.0",
     "model_name": "LayoutModel",
     "state": {
      "_model_module": "@jupyter-widgets/base",
      "_model_module_version": "1.2.0",
      "_model_name": "LayoutModel",
      "_view_count": null,
      "_view_module": "@jupyter-widgets/base",
      "_view_module_version": "1.2.0",
      "_view_name": "LayoutView",
      "align_content": null,
      "align_items": null,
      "align_self": null,
      "border": null,
      "bottom": null,
      "display": null,
      "flex": null,
      "flex_flow": null,
      "grid_area": null,
      "grid_auto_columns": null,
      "grid_auto_flow": null,
      "grid_auto_rows": null,
      "grid_column": null,
      "grid_gap": null,
      "grid_row": null,
      "grid_template_areas": null,
      "grid_template_columns": null,
      "grid_template_rows": null,
      "height": null,
      "justify_content": null,
      "justify_items": null,
      "left": null,
      "margin": null,
      "max_height": null,
      "max_width": null,
      "min_height": null,
      "min_width": null,
      "object_fit": null,
      "object_position": null,
      "order": null,
      "overflow": null,
      "overflow_x": null,
      "overflow_y": null,
      "padding": null,
      "right": null,
      "top": null,
      "visibility": null,
      "width": null
     }
    },
    "37cff6ab349d4b2ab968a70dce376dff": {
     "model_module": "@jupyter-widgets/controls",
     "model_module_version": "1.5.0",
     "model_name": "HBoxModel",
     "state": {
      "_dom_classes": [],
      "_model_module": "@jupyter-widgets/controls",
      "_model_module_version": "1.5.0",
      "_model_name": "HBoxModel",
      "_view_count": null,
      "_view_module": "@jupyter-widgets/controls",
      "_view_module_version": "1.5.0",
      "_view_name": "HBoxView",
      "box_style": "",
      "children": [
       "IPY_MODEL_107ba4c6923543959e19a638fabcd126",
       "IPY_MODEL_e416dd8a758a4719bbe844a5f6c8ec34",
       "IPY_MODEL_1fab4367bc9b4a5f970cc5f45ccb936d"
      ],
      "layout": "IPY_MODEL_70f8d7332aff40ccab2a642c11702a68"
     }
    },
    "3832713ad33b4a00b2bafaa402295132": {
     "model_module": "@jupyter-widgets/controls",
     "model_module_version": "1.5.0",
     "model_name": "DescriptionStyleModel",
     "state": {
      "_model_module": "@jupyter-widgets/controls",
      "_model_module_version": "1.5.0",
      "_model_name": "DescriptionStyleModel",
      "_view_count": null,
      "_view_module": "@jupyter-widgets/base",
      "_view_module_version": "1.2.0",
      "_view_name": "StyleView",
      "description_width": ""
     }
    },
    "385132137dd8467b90f6116fd1d11f35": {
     "model_module": "@jupyter-widgets/base",
     "model_module_version": "1.2.0",
     "model_name": "LayoutModel",
     "state": {
      "_model_module": "@jupyter-widgets/base",
      "_model_module_version": "1.2.0",
      "_model_name": "LayoutModel",
      "_view_count": null,
      "_view_module": "@jupyter-widgets/base",
      "_view_module_version": "1.2.0",
      "_view_name": "LayoutView",
      "align_content": null,
      "align_items": null,
      "align_self": null,
      "border": null,
      "bottom": null,
      "display": null,
      "flex": null,
      "flex_flow": null,
      "grid_area": null,
      "grid_auto_columns": null,
      "grid_auto_flow": null,
      "grid_auto_rows": null,
      "grid_column": null,
      "grid_gap": null,
      "grid_row": null,
      "grid_template_areas": null,
      "grid_template_columns": null,
      "grid_template_rows": null,
      "height": null,
      "justify_content": null,
      "justify_items": null,
      "left": null,
      "margin": null,
      "max_height": null,
      "max_width": null,
      "min_height": null,
      "min_width": null,
      "object_fit": null,
      "object_position": null,
      "order": null,
      "overflow": null,
      "overflow_x": null,
      "overflow_y": null,
      "padding": null,
      "right": null,
      "top": null,
      "visibility": null,
      "width": null
     }
    },
    "38d9dbd8dc9246a7a41331a72a1d2fe4": {
     "model_module": "@jupyter-widgets/controls",
     "model_module_version": "1.5.0",
     "model_name": "ProgressStyleModel",
     "state": {
      "_model_module": "@jupyter-widgets/controls",
      "_model_module_version": "1.5.0",
      "_model_name": "ProgressStyleModel",
      "_view_count": null,
      "_view_module": "@jupyter-widgets/base",
      "_view_module_version": "1.2.0",
      "_view_name": "StyleView",
      "bar_color": null,
      "description_width": ""
     }
    },
    "3d415904901f425e99b9ed047dc87789": {
     "model_module": "@jupyter-widgets/controls",
     "model_module_version": "1.5.0",
     "model_name": "DescriptionStyleModel",
     "state": {
      "_model_module": "@jupyter-widgets/controls",
      "_model_module_version": "1.5.0",
      "_model_name": "DescriptionStyleModel",
      "_view_count": null,
      "_view_module": "@jupyter-widgets/base",
      "_view_module_version": "1.2.0",
      "_view_name": "StyleView",
      "description_width": ""
     }
    },
    "3d5b1bc6585940a1a31bf6edc0a226f5": {
     "model_module": "@jupyter-widgets/controls",
     "model_module_version": "1.5.0",
     "model_name": "DescriptionStyleModel",
     "state": {
      "_model_module": "@jupyter-widgets/controls",
      "_model_module_version": "1.5.0",
      "_model_name": "DescriptionStyleModel",
      "_view_count": null,
      "_view_module": "@jupyter-widgets/base",
      "_view_module_version": "1.2.0",
      "_view_name": "StyleView",
      "description_width": ""
     }
    },
    "3ec295b6c4924e51ab955aeaa9210bc5": {
     "model_module": "@jupyter-widgets/base",
     "model_module_version": "1.2.0",
     "model_name": "LayoutModel",
     "state": {
      "_model_module": "@jupyter-widgets/base",
      "_model_module_version": "1.2.0",
      "_model_name": "LayoutModel",
      "_view_count": null,
      "_view_module": "@jupyter-widgets/base",
      "_view_module_version": "1.2.0",
      "_view_name": "LayoutView",
      "align_content": null,
      "align_items": null,
      "align_self": null,
      "border": null,
      "bottom": null,
      "display": null,
      "flex": null,
      "flex_flow": null,
      "grid_area": null,
      "grid_auto_columns": null,
      "grid_auto_flow": null,
      "grid_auto_rows": null,
      "grid_column": null,
      "grid_gap": null,
      "grid_row": null,
      "grid_template_areas": null,
      "grid_template_columns": null,
      "grid_template_rows": null,
      "height": null,
      "justify_content": null,
      "justify_items": null,
      "left": null,
      "margin": null,
      "max_height": null,
      "max_width": null,
      "min_height": null,
      "min_width": null,
      "object_fit": null,
      "object_position": null,
      "order": null,
      "overflow": null,
      "overflow_x": null,
      "overflow_y": null,
      "padding": null,
      "right": null,
      "top": null,
      "visibility": null,
      "width": null
     }
    },
    "41c6e408ee934a5ab94adac56d5933d1": {
     "model_module": "@jupyter-widgets/base",
     "model_module_version": "1.2.0",
     "model_name": "LayoutModel",
     "state": {
      "_model_module": "@jupyter-widgets/base",
      "_model_module_version": "1.2.0",
      "_model_name": "LayoutModel",
      "_view_count": null,
      "_view_module": "@jupyter-widgets/base",
      "_view_module_version": "1.2.0",
      "_view_name": "LayoutView",
      "align_content": null,
      "align_items": null,
      "align_self": null,
      "border": null,
      "bottom": null,
      "display": "inline-flex",
      "flex": null,
      "flex_flow": "row wrap",
      "grid_area": null,
      "grid_auto_columns": null,
      "grid_auto_flow": null,
      "grid_auto_rows": null,
      "grid_column": null,
      "grid_gap": null,
      "grid_row": null,
      "grid_template_areas": null,
      "grid_template_columns": null,
      "grid_template_rows": null,
      "height": null,
      "justify_content": null,
      "justify_items": null,
      "left": null,
      "margin": null,
      "max_height": null,
      "max_width": null,
      "min_height": null,
      "min_width": null,
      "object_fit": null,
      "object_position": null,
      "order": null,
      "overflow": null,
      "overflow_x": null,
      "overflow_y": null,
      "padding": null,
      "right": null,
      "top": null,
      "visibility": "hidden",
      "width": "100%"
     }
    },
    "42019450ef904f8db840c24a2c2521e0": {
     "model_module": "@jupyter-widgets/controls",
     "model_module_version": "1.5.0",
     "model_name": "HBoxModel",
     "state": {
      "_dom_classes": [],
      "_model_module": "@jupyter-widgets/controls",
      "_model_module_version": "1.5.0",
      "_model_name": "HBoxModel",
      "_view_count": null,
      "_view_module": "@jupyter-widgets/controls",
      "_view_module_version": "1.5.0",
      "_view_name": "HBoxView",
      "box_style": "",
      "children": [
       "IPY_MODEL_76b21706ccfb464c813081e809916f41",
       "IPY_MODEL_54634b7865764fd6a3a920f0f1b61e8f",
       "IPY_MODEL_8904b1808d004f4ca8fb4c684537cf90"
      ],
      "layout": "IPY_MODEL_b8e87ca7939348768cc0158867a53744"
     }
    },
    "448eb3b031fb48fda211732522f669b8": {
     "model_module": "@jupyter-widgets/controls",
     "model_module_version": "1.5.0",
     "model_name": "HBoxModel",
     "state": {
      "_dom_classes": [],
      "_model_module": "@jupyter-widgets/controls",
      "_model_module_version": "1.5.0",
      "_model_name": "HBoxModel",
      "_view_count": null,
      "_view_module": "@jupyter-widgets/controls",
      "_view_module_version": "1.5.0",
      "_view_name": "HBoxView",
      "box_style": "",
      "children": [
       "IPY_MODEL_e80f2d2f554e4130969e1c8e3ce649e6",
       "IPY_MODEL_949b7a8ed4194fb6b851dbe64bd77b33",
       "IPY_MODEL_1c12b149ca7244a2b1162f00ec4121c4"
      ],
      "layout": "IPY_MODEL_db1798d01367417c8e093d036a6ca4e4"
     }
    },
    "4578eb020b364be1834cf884fa9998c2": {
     "model_module": "@jupyter-widgets/controls",
     "model_module_version": "1.5.0",
     "model_name": "DescriptionStyleModel",
     "state": {
      "_model_module": "@jupyter-widgets/controls",
      "_model_module_version": "1.5.0",
      "_model_name": "DescriptionStyleModel",
      "_view_count": null,
      "_view_module": "@jupyter-widgets/base",
      "_view_module_version": "1.2.0",
      "_view_name": "StyleView",
      "description_width": ""
     }
    },
    "4739f7917b874ba294ab63c61d47c7a4": {
     "model_module": "@jupyter-widgets/controls",
     "model_module_version": "1.5.0",
     "model_name": "ProgressStyleModel",
     "state": {
      "_model_module": "@jupyter-widgets/controls",
      "_model_module_version": "1.5.0",
      "_model_name": "ProgressStyleModel",
      "_view_count": null,
      "_view_module": "@jupyter-widgets/base",
      "_view_module_version": "1.2.0",
      "_view_name": "StyleView",
      "bar_color": null,
      "description_width": ""
     }
    },
    "47ab5ab51a6044eb94585438266d7198": {
     "model_module": "@jupyter-widgets/base",
     "model_module_version": "1.2.0",
     "model_name": "LayoutModel",
     "state": {
      "_model_module": "@jupyter-widgets/base",
      "_model_module_version": "1.2.0",
      "_model_name": "LayoutModel",
      "_view_count": null,
      "_view_module": "@jupyter-widgets/base",
      "_view_module_version": "1.2.0",
      "_view_name": "LayoutView",
      "align_content": null,
      "align_items": null,
      "align_self": null,
      "border": null,
      "bottom": null,
      "display": null,
      "flex": "2",
      "flex_flow": null,
      "grid_area": null,
      "grid_auto_columns": null,
      "grid_auto_flow": null,
      "grid_auto_rows": null,
      "grid_column": null,
      "grid_gap": null,
      "grid_row": null,
      "grid_template_areas": null,
      "grid_template_columns": null,
      "grid_template_rows": null,
      "height": null,
      "justify_content": null,
      "justify_items": null,
      "left": null,
      "margin": null,
      "max_height": null,
      "max_width": null,
      "min_height": null,
      "min_width": null,
      "object_fit": null,
      "object_position": null,
      "order": null,
      "overflow": null,
      "overflow_x": null,
      "overflow_y": null,
      "padding": null,
      "right": null,
      "top": null,
      "visibility": null,
      "width": null
     }
    },
    "48c181a200864645b4a747d2b771b668": {
     "model_module": "@jupyter-widgets/base",
     "model_module_version": "1.2.0",
     "model_name": "LayoutModel",
     "state": {
      "_model_module": "@jupyter-widgets/base",
      "_model_module_version": "1.2.0",
      "_model_name": "LayoutModel",
      "_view_count": null,
      "_view_module": "@jupyter-widgets/base",
      "_view_module_version": "1.2.0",
      "_view_name": "LayoutView",
      "align_content": null,
      "align_items": null,
      "align_self": null,
      "border": null,
      "bottom": null,
      "display": null,
      "flex": null,
      "flex_flow": null,
      "grid_area": null,
      "grid_auto_columns": null,
      "grid_auto_flow": null,
      "grid_auto_rows": null,
      "grid_column": null,
      "grid_gap": null,
      "grid_row": null,
      "grid_template_areas": null,
      "grid_template_columns": null,
      "grid_template_rows": null,
      "height": null,
      "justify_content": null,
      "justify_items": null,
      "left": null,
      "margin": null,
      "max_height": null,
      "max_width": null,
      "min_height": null,
      "min_width": null,
      "object_fit": null,
      "object_position": null,
      "order": null,
      "overflow": null,
      "overflow_x": null,
      "overflow_y": null,
      "padding": null,
      "right": null,
      "top": null,
      "visibility": null,
      "width": null
     }
    },
    "4c0ad9d5c34a41979fd065243c630955": {
     "model_module": "@jupyter-widgets/base",
     "model_module_version": "1.2.0",
     "model_name": "LayoutModel",
     "state": {
      "_model_module": "@jupyter-widgets/base",
      "_model_module_version": "1.2.0",
      "_model_name": "LayoutModel",
      "_view_count": null,
      "_view_module": "@jupyter-widgets/base",
      "_view_module_version": "1.2.0",
      "_view_name": "LayoutView",
      "align_content": null,
      "align_items": null,
      "align_self": null,
      "border": null,
      "bottom": null,
      "display": null,
      "flex": "2",
      "flex_flow": null,
      "grid_area": null,
      "grid_auto_columns": null,
      "grid_auto_flow": null,
      "grid_auto_rows": null,
      "grid_column": null,
      "grid_gap": null,
      "grid_row": null,
      "grid_template_areas": null,
      "grid_template_columns": null,
      "grid_template_rows": null,
      "height": null,
      "justify_content": null,
      "justify_items": null,
      "left": null,
      "margin": null,
      "max_height": null,
      "max_width": null,
      "min_height": null,
      "min_width": null,
      "object_fit": null,
      "object_position": null,
      "order": null,
      "overflow": null,
      "overflow_x": null,
      "overflow_y": null,
      "padding": null,
      "right": null,
      "top": null,
      "visibility": null,
      "width": null
     }
    },
    "4c56da79646343a5a7ab6ff3f7f69aac": {
     "model_module": "@jupyter-widgets/controls",
     "model_module_version": "1.5.0",
     "model_name": "HBoxModel",
     "state": {
      "_dom_classes": [],
      "_model_module": "@jupyter-widgets/controls",
      "_model_module_version": "1.5.0",
      "_model_name": "HBoxModel",
      "_view_count": null,
      "_view_module": "@jupyter-widgets/controls",
      "_view_module_version": "1.5.0",
      "_view_name": "HBoxView",
      "box_style": "",
      "children": [
       "IPY_MODEL_14788be403c64c2b83176a3ebb814185",
       "IPY_MODEL_8861938704854ff4b776a511d4be0183",
       "IPY_MODEL_1ab50a3326d44dba8b307aab6eaf6bc5"
      ],
      "layout": "IPY_MODEL_b720063ca4e44aec813409ccea3d809a"
     }
    },
    "4d0295fb51f44797b3f736348ef524e1": {
     "model_module": "@jupyter-widgets/controls",
     "model_module_version": "1.5.0",
     "model_name": "DescriptionStyleModel",
     "state": {
      "_model_module": "@jupyter-widgets/controls",
      "_model_module_version": "1.5.0",
      "_model_name": "DescriptionStyleModel",
      "_view_count": null,
      "_view_module": "@jupyter-widgets/base",
      "_view_module_version": "1.2.0",
      "_view_name": "StyleView",
      "description_width": ""
     }
    },
    "4f0ec27e4df14a5fb44fce0dfed84fdf": {
     "model_module": "@jupyter-widgets/controls",
     "model_module_version": "1.5.0",
     "model_name": "HTMLModel",
     "state": {
      "_dom_classes": [],
      "_model_module": "@jupyter-widgets/controls",
      "_model_module_version": "1.5.0",
      "_model_name": "HTMLModel",
      "_view_count": null,
      "_view_module": "@jupyter-widgets/controls",
      "_view_module_version": "1.5.0",
      "_view_name": "HTMLView",
      "description": "",
      "description_tooltip": null,
      "layout": "IPY_MODEL_bdb0a12a8a0647d2a9b2ceb491db07c1",
      "placeholder": "​",
      "style": "IPY_MODEL_54ef373476104060a423967fb0430210",
      "value": "Validation DataLoader 0: 100%"
     }
    },
    "4f1502872ad14951ab5b15998b3e9e37": {
     "model_module": "@jupyter-widgets/base",
     "model_module_version": "1.2.0",
     "model_name": "LayoutModel",
     "state": {
      "_model_module": "@jupyter-widgets/base",
      "_model_module_version": "1.2.0",
      "_model_name": "LayoutModel",
      "_view_count": null,
      "_view_module": "@jupyter-widgets/base",
      "_view_module_version": "1.2.0",
      "_view_name": "LayoutView",
      "align_content": null,
      "align_items": null,
      "align_self": null,
      "border": null,
      "bottom": null,
      "display": null,
      "flex": null,
      "flex_flow": null,
      "grid_area": null,
      "grid_auto_columns": null,
      "grid_auto_flow": null,
      "grid_auto_rows": null,
      "grid_column": null,
      "grid_gap": null,
      "grid_row": null,
      "grid_template_areas": null,
      "grid_template_columns": null,
      "grid_template_rows": null,
      "height": null,
      "justify_content": null,
      "justify_items": null,
      "left": null,
      "margin": null,
      "max_height": null,
      "max_width": null,
      "min_height": null,
      "min_width": null,
      "object_fit": null,
      "object_position": null,
      "order": null,
      "overflow": null,
      "overflow_x": null,
      "overflow_y": null,
      "padding": null,
      "right": null,
      "top": null,
      "visibility": null,
      "width": null
     }
    },
    "4fa530c8b5e942ed85ed6366fd4745f7": {
     "model_module": "@jupyter-widgets/controls",
     "model_module_version": "1.5.0",
     "model_name": "HTMLModel",
     "state": {
      "_dom_classes": [],
      "_model_module": "@jupyter-widgets/controls",
      "_model_module_version": "1.5.0",
      "_model_name": "HTMLModel",
      "_view_count": null,
      "_view_module": "@jupyter-widgets/controls",
      "_view_module_version": "1.5.0",
      "_view_name": "HTMLView",
      "description": "",
      "description_tooltip": null,
      "layout": "IPY_MODEL_710a00b8cffa4f3fa74dbe65960b45ab",
      "placeholder": "​",
      "style": "IPY_MODEL_6c725404f5c846dc9e6fdf0288d63475",
      "value": " 11/11 [00:02&lt;00:00,  5.24it/s]"
     }
    },
    "4fd20e6f302648fdbf1a4fecd43f644d": {
     "model_module": "@jupyter-widgets/controls",
     "model_module_version": "1.5.0",
     "model_name": "HTMLModel",
     "state": {
      "_dom_classes": [],
      "_model_module": "@jupyter-widgets/controls",
      "_model_module_version": "1.5.0",
      "_model_name": "HTMLModel",
      "_view_count": null,
      "_view_module": "@jupyter-widgets/controls",
      "_view_module_version": "1.5.0",
      "_view_name": "HTMLView",
      "description": "",
      "description_tooltip": null,
      "layout": "IPY_MODEL_5ce68029328045369e1b06887106ce33",
      "placeholder": "​",
      "style": "IPY_MODEL_005eb96513e248449c51fb11ba8d980a",
      "value": "Validation DataLoader 0: 100%"
     }
    },
    "5122ba4d836e497fa18d1bca58124d6e": {
     "model_module": "@jupyter-widgets/controls",
     "model_module_version": "1.5.0",
     "model_name": "HBoxModel",
     "state": {
      "_dom_classes": [],
      "_model_module": "@jupyter-widgets/controls",
      "_model_module_version": "1.5.0",
      "_model_name": "HBoxModel",
      "_view_count": null,
      "_view_module": "@jupyter-widgets/controls",
      "_view_module_version": "1.5.0",
      "_view_name": "HBoxView",
      "box_style": "",
      "children": [
       "IPY_MODEL_cfbde66000c84911b1f4f480cc867214",
       "IPY_MODEL_56126100a6af4bddbcc8540ff8d9058c",
       "IPY_MODEL_6f3aaeada7ce491cb93a4b8df2a466ae"
      ],
      "layout": "IPY_MODEL_c2aa30f947f6420ba48bb31008a0b0c6"
     }
    },
    "51a3bde8240b4ea48258efb94235d8e7": {
     "model_module": "@jupyter-widgets/controls",
     "model_module_version": "1.5.0",
     "model_name": "DescriptionStyleModel",
     "state": {
      "_model_module": "@jupyter-widgets/controls",
      "_model_module_version": "1.5.0",
      "_model_name": "DescriptionStyleModel",
      "_view_count": null,
      "_view_module": "@jupyter-widgets/base",
      "_view_module_version": "1.2.0",
      "_view_name": "StyleView",
      "description_width": ""
     }
    },
    "51e6e5b5460e4328aa0702c498b02299": {
     "model_module": "@jupyter-widgets/controls",
     "model_module_version": "1.5.0",
     "model_name": "DescriptionStyleModel",
     "state": {
      "_model_module": "@jupyter-widgets/controls",
      "_model_module_version": "1.5.0",
      "_model_name": "DescriptionStyleModel",
      "_view_count": null,
      "_view_module": "@jupyter-widgets/base",
      "_view_module_version": "1.2.0",
      "_view_name": "StyleView",
      "description_width": ""
     }
    },
    "52807f963d38438d856e2c0d7cf813c1": {
     "model_module": "@jupyter-widgets/controls",
     "model_module_version": "1.5.0",
     "model_name": "DescriptionStyleModel",
     "state": {
      "_model_module": "@jupyter-widgets/controls",
      "_model_module_version": "1.5.0",
      "_model_name": "DescriptionStyleModel",
      "_view_count": null,
      "_view_module": "@jupyter-widgets/base",
      "_view_module_version": "1.2.0",
      "_view_name": "StyleView",
      "description_width": ""
     }
    },
    "53078e5103a2472e87884f8d09b0596a": {
     "model_module": "@jupyter-widgets/base",
     "model_module_version": "1.2.0",
     "model_name": "LayoutModel",
     "state": {
      "_model_module": "@jupyter-widgets/base",
      "_model_module_version": "1.2.0",
      "_model_name": "LayoutModel",
      "_view_count": null,
      "_view_module": "@jupyter-widgets/base",
      "_view_module_version": "1.2.0",
      "_view_name": "LayoutView",
      "align_content": null,
      "align_items": null,
      "align_self": null,
      "border": null,
      "bottom": null,
      "display": null,
      "flex": null,
      "flex_flow": null,
      "grid_area": null,
      "grid_auto_columns": null,
      "grid_auto_flow": null,
      "grid_auto_rows": null,
      "grid_column": null,
      "grid_gap": null,
      "grid_row": null,
      "grid_template_areas": null,
      "grid_template_columns": null,
      "grid_template_rows": null,
      "height": null,
      "justify_content": null,
      "justify_items": null,
      "left": null,
      "margin": null,
      "max_height": null,
      "max_width": null,
      "min_height": null,
      "min_width": null,
      "object_fit": null,
      "object_position": null,
      "order": null,
      "overflow": null,
      "overflow_x": null,
      "overflow_y": null,
      "padding": null,
      "right": null,
      "top": null,
      "visibility": null,
      "width": null
     }
    },
    "540f238b06914ae393e0c28a43a68049": {
     "model_module": "@jupyter-widgets/controls",
     "model_module_version": "1.5.0",
     "model_name": "HTMLModel",
     "state": {
      "_dom_classes": [],
      "_model_module": "@jupyter-widgets/controls",
      "_model_module_version": "1.5.0",
      "_model_name": "HTMLModel",
      "_view_count": null,
      "_view_module": "@jupyter-widgets/controls",
      "_view_module_version": "1.5.0",
      "_view_name": "HTMLView",
      "description": "",
      "description_tooltip": null,
      "layout": "IPY_MODEL_de90edcbd8d5457da6ac9afd9c89a137",
      "placeholder": "​",
      "style": "IPY_MODEL_3d415904901f425e99b9ed047dc87789",
      "value": " 11/11 [00:01&lt;00:00,  7.86it/s]"
     }
    },
    "54634b7865764fd6a3a920f0f1b61e8f": {
     "model_module": "@jupyter-widgets/controls",
     "model_module_version": "1.5.0",
     "model_name": "FloatProgressModel",
     "state": {
      "_dom_classes": [],
      "_model_module": "@jupyter-widgets/controls",
      "_model_module_version": "1.5.0",
      "_model_name": "FloatProgressModel",
      "_view_count": null,
      "_view_module": "@jupyter-widgets/controls",
      "_view_module_version": "1.5.0",
      "_view_name": "ProgressView",
      "bar_style": "success",
      "description": "",
      "description_tooltip": null,
      "layout": "IPY_MODEL_59f66fb345474b94bff7966b7f249f3a",
      "max": 2139,
      "min": 0,
      "orientation": "horizontal",
      "style": "IPY_MODEL_f6cde647a13d4f3a96c7817981aa7875",
      "value": 2139
     }
    },
    "5478440fba9e4edeb7e70f0cca250674": {
     "model_module": "@jupyter-widgets/base",
     "model_module_version": "1.2.0",
     "model_name": "LayoutModel",
     "state": {
      "_model_module": "@jupyter-widgets/base",
      "_model_module_version": "1.2.0",
      "_model_name": "LayoutModel",
      "_view_count": null,
      "_view_module": "@jupyter-widgets/base",
      "_view_module_version": "1.2.0",
      "_view_name": "LayoutView",
      "align_content": null,
      "align_items": null,
      "align_self": null,
      "border": null,
      "bottom": null,
      "display": null,
      "flex": null,
      "flex_flow": null,
      "grid_area": null,
      "grid_auto_columns": null,
      "grid_auto_flow": null,
      "grid_auto_rows": null,
      "grid_column": null,
      "grid_gap": null,
      "grid_row": null,
      "grid_template_areas": null,
      "grid_template_columns": null,
      "grid_template_rows": null,
      "height": null,
      "justify_content": null,
      "justify_items": null,
      "left": null,
      "margin": null,
      "max_height": null,
      "max_width": null,
      "min_height": null,
      "min_width": null,
      "object_fit": null,
      "object_position": null,
      "order": null,
      "overflow": null,
      "overflow_x": null,
      "overflow_y": null,
      "padding": null,
      "right": null,
      "top": null,
      "visibility": null,
      "width": null
     }
    },
    "5494c05b137e4fb596a3b4035773765a": {
     "model_module": "@jupyter-widgets/controls",
     "model_module_version": "1.5.0",
     "model_name": "HTMLModel",
     "state": {
      "_dom_classes": [],
      "_model_module": "@jupyter-widgets/controls",
      "_model_module_version": "1.5.0",
      "_model_name": "HTMLModel",
      "_view_count": null,
      "_view_module": "@jupyter-widgets/controls",
      "_view_module_version": "1.5.0",
      "_view_name": "HTMLView",
      "description": "",
      "description_tooltip": null,
      "layout": "IPY_MODEL_3ec295b6c4924e51ab955aeaa9210bc5",
      "placeholder": "​",
      "style": "IPY_MODEL_23f1f2d1b78445da9c6abdf5588954c1",
      "value": " 2/2 [00:01&lt;00:00,  1.02it/s]"
     }
    },
    "54ef373476104060a423967fb0430210": {
     "model_module": "@jupyter-widgets/controls",
     "model_module_version": "1.5.0",
     "model_name": "DescriptionStyleModel",
     "state": {
      "_model_module": "@jupyter-widgets/controls",
      "_model_module_version": "1.5.0",
      "_model_name": "DescriptionStyleModel",
      "_view_count": null,
      "_view_module": "@jupyter-widgets/base",
      "_view_module_version": "1.2.0",
      "_view_name": "StyleView",
      "description_width": ""
     }
    },
    "556bd7a366ea426980a9dffd44fc02f7": {
     "model_module": "@jupyter-widgets/controls",
     "model_module_version": "1.5.0",
     "model_name": "FloatProgressModel",
     "state": {
      "_dom_classes": [],
      "_model_module": "@jupyter-widgets/controls",
      "_model_module_version": "1.5.0",
      "_model_name": "FloatProgressModel",
      "_view_count": null,
      "_view_module": "@jupyter-widgets/controls",
      "_view_module_version": "1.5.0",
      "_view_name": "ProgressView",
      "bar_style": "",
      "description": "",
      "description_tooltip": null,
      "layout": "IPY_MODEL_4c0ad9d5c34a41979fd065243c630955",
      "max": 2,
      "min": 0,
      "orientation": "horizontal",
      "style": "IPY_MODEL_4739f7917b874ba294ab63c61d47c7a4",
      "value": 2
     }
    },
    "55c4c2b848264c2497fba68f6502d0ac": {
     "model_module": "@jupyter-widgets/base",
     "model_module_version": "1.2.0",
     "model_name": "LayoutModel",
     "state": {
      "_model_module": "@jupyter-widgets/base",
      "_model_module_version": "1.2.0",
      "_model_name": "LayoutModel",
      "_view_count": null,
      "_view_module": "@jupyter-widgets/base",
      "_view_module_version": "1.2.0",
      "_view_name": "LayoutView",
      "align_content": null,
      "align_items": null,
      "align_self": null,
      "border": null,
      "bottom": null,
      "display": null,
      "flex": "2",
      "flex_flow": null,
      "grid_area": null,
      "grid_auto_columns": null,
      "grid_auto_flow": null,
      "grid_auto_rows": null,
      "grid_column": null,
      "grid_gap": null,
      "grid_row": null,
      "grid_template_areas": null,
      "grid_template_columns": null,
      "grid_template_rows": null,
      "height": null,
      "justify_content": null,
      "justify_items": null,
      "left": null,
      "margin": null,
      "max_height": null,
      "max_width": null,
      "min_height": null,
      "min_width": null,
      "object_fit": null,
      "object_position": null,
      "order": null,
      "overflow": null,
      "overflow_x": null,
      "overflow_y": null,
      "padding": null,
      "right": null,
      "top": null,
      "visibility": null,
      "width": null
     }
    },
    "55ffd35f21d94d0eafbeee6a98c1fca5": {
     "model_module": "@jupyter-widgets/controls",
     "model_module_version": "1.5.0",
     "model_name": "DescriptionStyleModel",
     "state": {
      "_model_module": "@jupyter-widgets/controls",
      "_model_module_version": "1.5.0",
      "_model_name": "DescriptionStyleModel",
      "_view_count": null,
      "_view_module": "@jupyter-widgets/base",
      "_view_module_version": "1.2.0",
      "_view_name": "StyleView",
      "description_width": ""
     }
    },
    "56126100a6af4bddbcc8540ff8d9058c": {
     "model_module": "@jupyter-widgets/controls",
     "model_module_version": "1.5.0",
     "model_name": "FloatProgressModel",
     "state": {
      "_dom_classes": [],
      "_model_module": "@jupyter-widgets/controls",
      "_model_module_version": "1.5.0",
      "_model_name": "FloatProgressModel",
      "_view_count": null,
      "_view_module": "@jupyter-widgets/controls",
      "_view_module_version": "1.5.0",
      "_view_name": "ProgressView",
      "bar_style": "",
      "description": "",
      "description_tooltip": null,
      "layout": "IPY_MODEL_fbb49380fe934d49ab82b727209906f3",
      "max": 11,
      "min": 0,
      "orientation": "horizontal",
      "style": "IPY_MODEL_a093169baaef4de7a9961cf98445c701",
      "value": 11
     }
    },
    "581331db6398487cbf786f871c72fb2f": {
     "model_module": "@jupyter-widgets/controls",
     "model_module_version": "1.5.0",
     "model_name": "ProgressStyleModel",
     "state": {
      "_model_module": "@jupyter-widgets/controls",
      "_model_module_version": "1.5.0",
      "_model_name": "ProgressStyleModel",
      "_view_count": null,
      "_view_module": "@jupyter-widgets/base",
      "_view_module_version": "1.2.0",
      "_view_name": "StyleView",
      "bar_color": null,
      "description_width": ""
     }
    },
    "59f66fb345474b94bff7966b7f249f3a": {
     "model_module": "@jupyter-widgets/base",
     "model_module_version": "1.2.0",
     "model_name": "LayoutModel",
     "state": {
      "_model_module": "@jupyter-widgets/base",
      "_model_module_version": "1.2.0",
      "_model_name": "LayoutModel",
      "_view_count": null,
      "_view_module": "@jupyter-widgets/base",
      "_view_module_version": "1.2.0",
      "_view_name": "LayoutView",
      "align_content": null,
      "align_items": null,
      "align_self": null,
      "border": null,
      "bottom": null,
      "display": null,
      "flex": "2",
      "flex_flow": null,
      "grid_area": null,
      "grid_auto_columns": null,
      "grid_auto_flow": null,
      "grid_auto_rows": null,
      "grid_column": null,
      "grid_gap": null,
      "grid_row": null,
      "grid_template_areas": null,
      "grid_template_columns": null,
      "grid_template_rows": null,
      "height": null,
      "justify_content": null,
      "justify_items": null,
      "left": null,
      "margin": null,
      "max_height": null,
      "max_width": null,
      "min_height": null,
      "min_width": null,
      "object_fit": null,
      "object_position": null,
      "order": null,
      "overflow": null,
      "overflow_x": null,
      "overflow_y": null,
      "padding": null,
      "right": null,
      "top": null,
      "visibility": null,
      "width": null
     }
    },
    "59f82c4c318d45e18d171b7b26157af8": {
     "model_module": "@jupyter-widgets/controls",
     "model_module_version": "1.5.0",
     "model_name": "DescriptionStyleModel",
     "state": {
      "_model_module": "@jupyter-widgets/controls",
      "_model_module_version": "1.5.0",
      "_model_name": "DescriptionStyleModel",
      "_view_count": null,
      "_view_module": "@jupyter-widgets/base",
      "_view_module_version": "1.2.0",
      "_view_name": "StyleView",
      "description_width": ""
     }
    },
    "5a77e4b396be4ee9a8880fac85312795": {
     "model_module": "@jupyter-widgets/base",
     "model_module_version": "1.2.0",
     "model_name": "LayoutModel",
     "state": {
      "_model_module": "@jupyter-widgets/base",
      "_model_module_version": "1.2.0",
      "_model_name": "LayoutModel",
      "_view_count": null,
      "_view_module": "@jupyter-widgets/base",
      "_view_module_version": "1.2.0",
      "_view_name": "LayoutView",
      "align_content": null,
      "align_items": null,
      "align_self": null,
      "border": null,
      "bottom": null,
      "display": null,
      "flex": null,
      "flex_flow": null,
      "grid_area": null,
      "grid_auto_columns": null,
      "grid_auto_flow": null,
      "grid_auto_rows": null,
      "grid_column": null,
      "grid_gap": null,
      "grid_row": null,
      "grid_template_areas": null,
      "grid_template_columns": null,
      "grid_template_rows": null,
      "height": null,
      "justify_content": null,
      "justify_items": null,
      "left": null,
      "margin": null,
      "max_height": null,
      "max_width": null,
      "min_height": null,
      "min_width": null,
      "object_fit": null,
      "object_position": null,
      "order": null,
      "overflow": null,
      "overflow_x": null,
      "overflow_y": null,
      "padding": null,
      "right": null,
      "top": null,
      "visibility": null,
      "width": null
     }
    },
    "5b528f6b98a044f1a6449457c7f73ebb": {
     "model_module": "@jupyter-widgets/controls",
     "model_module_version": "1.5.0",
     "model_name": "DescriptionStyleModel",
     "state": {
      "_model_module": "@jupyter-widgets/controls",
      "_model_module_version": "1.5.0",
      "_model_name": "DescriptionStyleModel",
      "_view_count": null,
      "_view_module": "@jupyter-widgets/base",
      "_view_module_version": "1.2.0",
      "_view_name": "StyleView",
      "description_width": ""
     }
    },
    "5c2944142fd44560971b3ca585e5081d": {
     "model_module": "@jupyter-widgets/controls",
     "model_module_version": "1.5.0",
     "model_name": "HBoxModel",
     "state": {
      "_dom_classes": [],
      "_model_module": "@jupyter-widgets/controls",
      "_model_module_version": "1.5.0",
      "_model_name": "HBoxModel",
      "_view_count": null,
      "_view_module": "@jupyter-widgets/controls",
      "_view_module_version": "1.5.0",
      "_view_name": "HBoxView",
      "box_style": "",
      "children": [
       "IPY_MODEL_19fc6ad9a8664d2eb27e6d93244e31a0",
       "IPY_MODEL_c70b746050044fc6985702e203827386",
       "IPY_MODEL_2e409154e6ac4f6384ea35ae53bfd7f2"
      ],
      "layout": "IPY_MODEL_032c047603e24b4a8d64fdb1b051b840"
     }
    },
    "5cabebe1a04f48749177de8a96e2ec35": {
     "model_module": "@jupyter-widgets/controls",
     "model_module_version": "1.5.0",
     "model_name": "DescriptionStyleModel",
     "state": {
      "_model_module": "@jupyter-widgets/controls",
      "_model_module_version": "1.5.0",
      "_model_name": "DescriptionStyleModel",
      "_view_count": null,
      "_view_module": "@jupyter-widgets/base",
      "_view_module_version": "1.2.0",
      "_view_name": "StyleView",
      "description_width": ""
     }
    },
    "5ce68029328045369e1b06887106ce33": {
     "model_module": "@jupyter-widgets/base",
     "model_module_version": "1.2.0",
     "model_name": "LayoutModel",
     "state": {
      "_model_module": "@jupyter-widgets/base",
      "_model_module_version": "1.2.0",
      "_model_name": "LayoutModel",
      "_view_count": null,
      "_view_module": "@jupyter-widgets/base",
      "_view_module_version": "1.2.0",
      "_view_name": "LayoutView",
      "align_content": null,
      "align_items": null,
      "align_self": null,
      "border": null,
      "bottom": null,
      "display": null,
      "flex": null,
      "flex_flow": null,
      "grid_area": null,
      "grid_auto_columns": null,
      "grid_auto_flow": null,
      "grid_auto_rows": null,
      "grid_column": null,
      "grid_gap": null,
      "grid_row": null,
      "grid_template_areas": null,
      "grid_template_columns": null,
      "grid_template_rows": null,
      "height": null,
      "justify_content": null,
      "justify_items": null,
      "left": null,
      "margin": null,
      "max_height": null,
      "max_width": null,
      "min_height": null,
      "min_width": null,
      "object_fit": null,
      "object_position": null,
      "order": null,
      "overflow": null,
      "overflow_x": null,
      "overflow_y": null,
      "padding": null,
      "right": null,
      "top": null,
      "visibility": null,
      "width": null
     }
    },
    "5e4e926fbcbe4b33bae959ae3d079e8e": {
     "model_module": "@jupyter-widgets/base",
     "model_module_version": "1.2.0",
     "model_name": "LayoutModel",
     "state": {
      "_model_module": "@jupyter-widgets/base",
      "_model_module_version": "1.2.0",
      "_model_name": "LayoutModel",
      "_view_count": null,
      "_view_module": "@jupyter-widgets/base",
      "_view_module_version": "1.2.0",
      "_view_name": "LayoutView",
      "align_content": null,
      "align_items": null,
      "align_self": null,
      "border": null,
      "bottom": null,
      "display": null,
      "flex": null,
      "flex_flow": null,
      "grid_area": null,
      "grid_auto_columns": null,
      "grid_auto_flow": null,
      "grid_auto_rows": null,
      "grid_column": null,
      "grid_gap": null,
      "grid_row": null,
      "grid_template_areas": null,
      "grid_template_columns": null,
      "grid_template_rows": null,
      "height": null,
      "justify_content": null,
      "justify_items": null,
      "left": null,
      "margin": null,
      "max_height": null,
      "max_width": null,
      "min_height": null,
      "min_width": null,
      "object_fit": null,
      "object_position": null,
      "order": null,
      "overflow": null,
      "overflow_x": null,
      "overflow_y": null,
      "padding": null,
      "right": null,
      "top": null,
      "visibility": null,
      "width": null
     }
    },
    "60611bf1044447a5a4766a2990480439": {
     "model_module": "@jupyter-widgets/base",
     "model_module_version": "1.2.0",
     "model_name": "LayoutModel",
     "state": {
      "_model_module": "@jupyter-widgets/base",
      "_model_module_version": "1.2.0",
      "_model_name": "LayoutModel",
      "_view_count": null,
      "_view_module": "@jupyter-widgets/base",
      "_view_module_version": "1.2.0",
      "_view_name": "LayoutView",
      "align_content": null,
      "align_items": null,
      "align_self": null,
      "border": null,
      "bottom": null,
      "display": null,
      "flex": null,
      "flex_flow": null,
      "grid_area": null,
      "grid_auto_columns": null,
      "grid_auto_flow": null,
      "grid_auto_rows": null,
      "grid_column": null,
      "grid_gap": null,
      "grid_row": null,
      "grid_template_areas": null,
      "grid_template_columns": null,
      "grid_template_rows": null,
      "height": null,
      "justify_content": null,
      "justify_items": null,
      "left": null,
      "margin": null,
      "max_height": null,
      "max_width": null,
      "min_height": null,
      "min_width": null,
      "object_fit": null,
      "object_position": null,
      "order": null,
      "overflow": null,
      "overflow_x": null,
      "overflow_y": null,
      "padding": null,
      "right": null,
      "top": null,
      "visibility": null,
      "width": null
     }
    },
    "60abcc00c9a14b48910bc26097146352": {
     "model_module": "@jupyter-widgets/controls",
     "model_module_version": "1.5.0",
     "model_name": "DescriptionStyleModel",
     "state": {
      "_model_module": "@jupyter-widgets/controls",
      "_model_module_version": "1.5.0",
      "_model_name": "DescriptionStyleModel",
      "_view_count": null,
      "_view_module": "@jupyter-widgets/base",
      "_view_module_version": "1.2.0",
      "_view_name": "StyleView",
      "description_width": ""
     }
    },
    "63a3335f3af04e4b92903f974f772c06": {
     "model_module": "@jupyter-widgets/controls",
     "model_module_version": "1.5.0",
     "model_name": "ProgressStyleModel",
     "state": {
      "_model_module": "@jupyter-widgets/controls",
      "_model_module_version": "1.5.0",
      "_model_name": "ProgressStyleModel",
      "_view_count": null,
      "_view_module": "@jupyter-widgets/base",
      "_view_module_version": "1.2.0",
      "_view_name": "StyleView",
      "bar_color": null,
      "description_width": ""
     }
    },
    "6436ed9b087a43d996c1da71b62eb866": {
     "model_module": "@jupyter-widgets/controls",
     "model_module_version": "1.5.0",
     "model_name": "ProgressStyleModel",
     "state": {
      "_model_module": "@jupyter-widgets/controls",
      "_model_module_version": "1.5.0",
      "_model_name": "ProgressStyleModel",
      "_view_count": null,
      "_view_module": "@jupyter-widgets/base",
      "_view_module_version": "1.2.0",
      "_view_name": "StyleView",
      "bar_color": null,
      "description_width": ""
     }
    },
    "66f9d64aa96f4c71bf5463d10473e332": {
     "model_module": "@jupyter-widgets/controls",
     "model_module_version": "1.5.0",
     "model_name": "HTMLModel",
     "state": {
      "_dom_classes": [],
      "_model_module": "@jupyter-widgets/controls",
      "_model_module_version": "1.5.0",
      "_model_name": "HTMLModel",
      "_view_count": null,
      "_view_module": "@jupyter-widgets/controls",
      "_view_module_version": "1.5.0",
      "_view_name": "HTMLView",
      "description": "",
      "description_tooltip": null,
      "layout": "IPY_MODEL_1823b9fe9e604334a08102e75d34a220",
      "placeholder": "​",
      "style": "IPY_MODEL_692de535ff294ff985715b944bbe5950",
      "value": "Validation DataLoader 0: 100%"
     }
    },
    "692de535ff294ff985715b944bbe5950": {
     "model_module": "@jupyter-widgets/controls",
     "model_module_version": "1.5.0",
     "model_name": "DescriptionStyleModel",
     "state": {
      "_model_module": "@jupyter-widgets/controls",
      "_model_module_version": "1.5.0",
      "_model_name": "DescriptionStyleModel",
      "_view_count": null,
      "_view_module": "@jupyter-widgets/base",
      "_view_module_version": "1.2.0",
      "_view_name": "StyleView",
      "description_width": ""
     }
    },
    "6957571ce3e54bb6bbcaad11b01bfdc3": {
     "model_module": "@jupyter-widgets/controls",
     "model_module_version": "1.5.0",
     "model_name": "DescriptionStyleModel",
     "state": {
      "_model_module": "@jupyter-widgets/controls",
      "_model_module_version": "1.5.0",
      "_model_name": "DescriptionStyleModel",
      "_view_count": null,
      "_view_module": "@jupyter-widgets/base",
      "_view_module_version": "1.2.0",
      "_view_name": "StyleView",
      "description_width": ""
     }
    },
    "6c725404f5c846dc9e6fdf0288d63475": {
     "model_module": "@jupyter-widgets/controls",
     "model_module_version": "1.5.0",
     "model_name": "DescriptionStyleModel",
     "state": {
      "_model_module": "@jupyter-widgets/controls",
      "_model_module_version": "1.5.0",
      "_model_name": "DescriptionStyleModel",
      "_view_count": null,
      "_view_module": "@jupyter-widgets/base",
      "_view_module_version": "1.2.0",
      "_view_name": "StyleView",
      "description_width": ""
     }
    },
    "6ce7826060504328930de85c2ad44e04": {
     "model_module": "@jupyter-widgets/controls",
     "model_module_version": "1.5.0",
     "model_name": "FloatProgressModel",
     "state": {
      "_dom_classes": [],
      "_model_module": "@jupyter-widgets/controls",
      "_model_module_version": "1.5.0",
      "_model_name": "FloatProgressModel",
      "_view_count": null,
      "_view_module": "@jupyter-widgets/controls",
      "_view_module_version": "1.5.0",
      "_view_name": "ProgressView",
      "bar_style": "success",
      "description": "",
      "description_tooltip": null,
      "layout": "IPY_MODEL_93eabcc301fa4242820a0cf2e82d3fee",
      "max": 2139,
      "min": 0,
      "orientation": "horizontal",
      "style": "IPY_MODEL_a1ed8ceec6394bccb8cb31f0e86a9b15",
      "value": 2139
     }
    },
    "6f3aaeada7ce491cb93a4b8df2a466ae": {
     "model_module": "@jupyter-widgets/controls",
     "model_module_version": "1.5.0",
     "model_name": "HTMLModel",
     "state": {
      "_dom_classes": [],
      "_model_module": "@jupyter-widgets/controls",
      "_model_module_version": "1.5.0",
      "_model_name": "HTMLModel",
      "_view_count": null,
      "_view_module": "@jupyter-widgets/controls",
      "_view_module_version": "1.5.0",
      "_view_name": "HTMLView",
      "description": "",
      "description_tooltip": null,
      "layout": "IPY_MODEL_75adac4cd13343efa1ae6fca5a81a277",
      "placeholder": "​",
      "style": "IPY_MODEL_5cabebe1a04f48749177de8a96e2ec35",
      "value": " 11/11 [00:00&lt;00:00, 15.66it/s]"
     }
    },
    "6f9e6be3b326437b9f8ca6fb20e61b99": {
     "model_module": "@jupyter-widgets/base",
     "model_module_version": "1.2.0",
     "model_name": "LayoutModel",
     "state": {
      "_model_module": "@jupyter-widgets/base",
      "_model_module_version": "1.2.0",
      "_model_name": "LayoutModel",
      "_view_count": null,
      "_view_module": "@jupyter-widgets/base",
      "_view_module_version": "1.2.0",
      "_view_name": "LayoutView",
      "align_content": null,
      "align_items": null,
      "align_self": null,
      "border": null,
      "bottom": null,
      "display": null,
      "flex": null,
      "flex_flow": null,
      "grid_area": null,
      "grid_auto_columns": null,
      "grid_auto_flow": null,
      "grid_auto_rows": null,
      "grid_column": null,
      "grid_gap": null,
      "grid_row": null,
      "grid_template_areas": null,
      "grid_template_columns": null,
      "grid_template_rows": null,
      "height": null,
      "justify_content": null,
      "justify_items": null,
      "left": null,
      "margin": null,
      "max_height": null,
      "max_width": null,
      "min_height": null,
      "min_width": null,
      "object_fit": null,
      "object_position": null,
      "order": null,
      "overflow": null,
      "overflow_x": null,
      "overflow_y": null,
      "padding": null,
      "right": null,
      "top": null,
      "visibility": null,
      "width": null
     }
    },
    "70299e8321474fa196a363715e7c1a08": {
     "model_module": "@jupyter-widgets/base",
     "model_module_version": "1.2.0",
     "model_name": "LayoutModel",
     "state": {
      "_model_module": "@jupyter-widgets/base",
      "_model_module_version": "1.2.0",
      "_model_name": "LayoutModel",
      "_view_count": null,
      "_view_module": "@jupyter-widgets/base",
      "_view_module_version": "1.2.0",
      "_view_name": "LayoutView",
      "align_content": null,
      "align_items": null,
      "align_self": null,
      "border": null,
      "bottom": null,
      "display": "inline-flex",
      "flex": null,
      "flex_flow": "row wrap",
      "grid_area": null,
      "grid_auto_columns": null,
      "grid_auto_flow": null,
      "grid_auto_rows": null,
      "grid_column": null,
      "grid_gap": null,
      "grid_row": null,
      "grid_template_areas": null,
      "grid_template_columns": null,
      "grid_template_rows": null,
      "height": null,
      "justify_content": null,
      "justify_items": null,
      "left": null,
      "margin": null,
      "max_height": null,
      "max_width": null,
      "min_height": null,
      "min_width": null,
      "object_fit": null,
      "object_position": null,
      "order": null,
      "overflow": null,
      "overflow_x": null,
      "overflow_y": null,
      "padding": null,
      "right": null,
      "top": null,
      "visibility": "hidden",
      "width": "100%"
     }
    },
    "708045da1cdd456eab2de093b0191101": {
     "model_module": "@jupyter-widgets/base",
     "model_module_version": "1.2.0",
     "model_name": "LayoutModel",
     "state": {
      "_model_module": "@jupyter-widgets/base",
      "_model_module_version": "1.2.0",
      "_model_name": "LayoutModel",
      "_view_count": null,
      "_view_module": "@jupyter-widgets/base",
      "_view_module_version": "1.2.0",
      "_view_name": "LayoutView",
      "align_content": null,
      "align_items": null,
      "align_self": null,
      "border": null,
      "bottom": null,
      "display": null,
      "flex": "2",
      "flex_flow": null,
      "grid_area": null,
      "grid_auto_columns": null,
      "grid_auto_flow": null,
      "grid_auto_rows": null,
      "grid_column": null,
      "grid_gap": null,
      "grid_row": null,
      "grid_template_areas": null,
      "grid_template_columns": null,
      "grid_template_rows": null,
      "height": null,
      "justify_content": null,
      "justify_items": null,
      "left": null,
      "margin": null,
      "max_height": null,
      "max_width": null,
      "min_height": null,
      "min_width": null,
      "object_fit": null,
      "object_position": null,
      "order": null,
      "overflow": null,
      "overflow_x": null,
      "overflow_y": null,
      "padding": null,
      "right": null,
      "top": null,
      "visibility": null,
      "width": null
     }
    },
    "70f8d7332aff40ccab2a642c11702a68": {
     "model_module": "@jupyter-widgets/base",
     "model_module_version": "1.2.0",
     "model_name": "LayoutModel",
     "state": {
      "_model_module": "@jupyter-widgets/base",
      "_model_module_version": "1.2.0",
      "_model_name": "LayoutModel",
      "_view_count": null,
      "_view_module": "@jupyter-widgets/base",
      "_view_module_version": "1.2.0",
      "_view_name": "LayoutView",
      "align_content": null,
      "align_items": null,
      "align_self": null,
      "border": null,
      "bottom": null,
      "display": "inline-flex",
      "flex": null,
      "flex_flow": "row wrap",
      "grid_area": null,
      "grid_auto_columns": null,
      "grid_auto_flow": null,
      "grid_auto_rows": null,
      "grid_column": null,
      "grid_gap": null,
      "grid_row": null,
      "grid_template_areas": null,
      "grid_template_columns": null,
      "grid_template_rows": null,
      "height": null,
      "justify_content": null,
      "justify_items": null,
      "left": null,
      "margin": null,
      "max_height": null,
      "max_width": null,
      "min_height": null,
      "min_width": null,
      "object_fit": null,
      "object_position": null,
      "order": null,
      "overflow": null,
      "overflow_x": null,
      "overflow_y": null,
      "padding": null,
      "right": null,
      "top": null,
      "visibility": "hidden",
      "width": "100%"
     }
    },
    "710a00b8cffa4f3fa74dbe65960b45ab": {
     "model_module": "@jupyter-widgets/base",
     "model_module_version": "1.2.0",
     "model_name": "LayoutModel",
     "state": {
      "_model_module": "@jupyter-widgets/base",
      "_model_module_version": "1.2.0",
      "_model_name": "LayoutModel",
      "_view_count": null,
      "_view_module": "@jupyter-widgets/base",
      "_view_module_version": "1.2.0",
      "_view_name": "LayoutView",
      "align_content": null,
      "align_items": null,
      "align_self": null,
      "border": null,
      "bottom": null,
      "display": null,
      "flex": null,
      "flex_flow": null,
      "grid_area": null,
      "grid_auto_columns": null,
      "grid_auto_flow": null,
      "grid_auto_rows": null,
      "grid_column": null,
      "grid_gap": null,
      "grid_row": null,
      "grid_template_areas": null,
      "grid_template_columns": null,
      "grid_template_rows": null,
      "height": null,
      "justify_content": null,
      "justify_items": null,
      "left": null,
      "margin": null,
      "max_height": null,
      "max_width": null,
      "min_height": null,
      "min_width": null,
      "object_fit": null,
      "object_position": null,
      "order": null,
      "overflow": null,
      "overflow_x": null,
      "overflow_y": null,
      "padding": null,
      "right": null,
      "top": null,
      "visibility": null,
      "width": null
     }
    },
    "71c94a430e504d1a9b0d4eac86fc8fe6": {
     "model_module": "@jupyter-widgets/controls",
     "model_module_version": "1.5.0",
     "model_name": "HTMLModel",
     "state": {
      "_dom_classes": [],
      "_model_module": "@jupyter-widgets/controls",
      "_model_module_version": "1.5.0",
      "_model_name": "HTMLModel",
      "_view_count": null,
      "_view_module": "@jupyter-widgets/controls",
      "_view_module_version": "1.5.0",
      "_view_name": "HTMLView",
      "description": "",
      "description_tooltip": null,
      "layout": "IPY_MODEL_f9021d24692444df91d19d48f667bf2d",
      "placeholder": "​",
      "style": "IPY_MODEL_b8dfade8be2446efb82bba2771883957",
      "value": " 11/11 [00:02&lt;00:00,  4.95it/s]"
     }
    },
    "73b1bfbd31494433b8eafc9a017daeb3": {
     "model_module": "@jupyter-widgets/base",
     "model_module_version": "1.2.0",
     "model_name": "LayoutModel",
     "state": {
      "_model_module": "@jupyter-widgets/base",
      "_model_module_version": "1.2.0",
      "_model_name": "LayoutModel",
      "_view_count": null,
      "_view_module": "@jupyter-widgets/base",
      "_view_module_version": "1.2.0",
      "_view_name": "LayoutView",
      "align_content": null,
      "align_items": null,
      "align_self": null,
      "border": null,
      "bottom": null,
      "display": null,
      "flex": "2",
      "flex_flow": null,
      "grid_area": null,
      "grid_auto_columns": null,
      "grid_auto_flow": null,
      "grid_auto_rows": null,
      "grid_column": null,
      "grid_gap": null,
      "grid_row": null,
      "grid_template_areas": null,
      "grid_template_columns": null,
      "grid_template_rows": null,
      "height": null,
      "justify_content": null,
      "justify_items": null,
      "left": null,
      "margin": null,
      "max_height": null,
      "max_width": null,
      "min_height": null,
      "min_width": null,
      "object_fit": null,
      "object_position": null,
      "order": null,
      "overflow": null,
      "overflow_x": null,
      "overflow_y": null,
      "padding": null,
      "right": null,
      "top": null,
      "visibility": null,
      "width": null
     }
    },
    "73f746ec6f0141aaa6868c43579f7157": {
     "model_module": "@jupyter-widgets/controls",
     "model_module_version": "1.5.0",
     "model_name": "HTMLModel",
     "state": {
      "_dom_classes": [],
      "_model_module": "@jupyter-widgets/controls",
      "_model_module_version": "1.5.0",
      "_model_name": "HTMLModel",
      "_view_count": null,
      "_view_module": "@jupyter-widgets/controls",
      "_view_module_version": "1.5.0",
      "_view_name": "HTMLView",
      "description": "",
      "description_tooltip": null,
      "layout": "IPY_MODEL_bea4b5260a3b4eb7b638b7b3e9fb0339",
      "placeholder": "​",
      "style": "IPY_MODEL_4578eb020b364be1834cf884fa9998c2",
      "value": "Validation DataLoader 0: 100%"
     }
    },
    "75adac4cd13343efa1ae6fca5a81a277": {
     "model_module": "@jupyter-widgets/base",
     "model_module_version": "1.2.0",
     "model_name": "LayoutModel",
     "state": {
      "_model_module": "@jupyter-widgets/base",
      "_model_module_version": "1.2.0",
      "_model_name": "LayoutModel",
      "_view_count": null,
      "_view_module": "@jupyter-widgets/base",
      "_view_module_version": "1.2.0",
      "_view_name": "LayoutView",
      "align_content": null,
      "align_items": null,
      "align_self": null,
      "border": null,
      "bottom": null,
      "display": null,
      "flex": null,
      "flex_flow": null,
      "grid_area": null,
      "grid_auto_columns": null,
      "grid_auto_flow": null,
      "grid_auto_rows": null,
      "grid_column": null,
      "grid_gap": null,
      "grid_row": null,
      "grid_template_areas": null,
      "grid_template_columns": null,
      "grid_template_rows": null,
      "height": null,
      "justify_content": null,
      "justify_items": null,
      "left": null,
      "margin": null,
      "max_height": null,
      "max_width": null,
      "min_height": null,
      "min_width": null,
      "object_fit": null,
      "object_position": null,
      "order": null,
      "overflow": null,
      "overflow_x": null,
      "overflow_y": null,
      "padding": null,
      "right": null,
      "top": null,
      "visibility": null,
      "width": null
     }
    },
    "7610e08726a6475b9a2d9b83eb10f282": {
     "model_module": "@jupyter-widgets/controls",
     "model_module_version": "1.5.0",
     "model_name": "HBoxModel",
     "state": {
      "_dom_classes": [],
      "_model_module": "@jupyter-widgets/controls",
      "_model_module_version": "1.5.0",
      "_model_name": "HBoxModel",
      "_view_count": null,
      "_view_module": "@jupyter-widgets/controls",
      "_view_module_version": "1.5.0",
      "_view_name": "HBoxView",
      "box_style": "",
      "children": [
       "IPY_MODEL_891353bca5fd46519b2203ef4f73461b",
       "IPY_MODEL_6ce7826060504328930de85c2ad44e04",
       "IPY_MODEL_beca30efbed24ca2ba7702984259b224"
      ],
      "layout": "IPY_MODEL_b04c91abd2c746c69ccf4bb83efbcbdd"
     }
    },
    "76b21706ccfb464c813081e809916f41": {
     "model_module": "@jupyter-widgets/controls",
     "model_module_version": "1.5.0",
     "model_name": "HTMLModel",
     "state": {
      "_dom_classes": [],
      "_model_module": "@jupyter-widgets/controls",
      "_model_module_version": "1.5.0",
      "_model_name": "HTMLModel",
      "_view_count": null,
      "_view_module": "@jupyter-widgets/controls",
      "_view_module_version": "1.5.0",
      "_view_name": "HTMLView",
      "description": "",
      "description_tooltip": null,
      "layout": "IPY_MODEL_edd13473d92644ca8dd9b9a99c72535a",
      "placeholder": "​",
      "style": "IPY_MODEL_0a226c5730d2418b92c8b8280cb72f65",
      "value": "Epoch 4: 100%"
     }
    },
    "770dd211f30b43df90a8a4c48bf2bbae": {
     "model_module": "@jupyter-widgets/controls",
     "model_module_version": "1.5.0",
     "model_name": "FloatProgressModel",
     "state": {
      "_dom_classes": [],
      "_model_module": "@jupyter-widgets/controls",
      "_model_module_version": "1.5.0",
      "_model_name": "FloatProgressModel",
      "_view_count": null,
      "_view_module": "@jupyter-widgets/controls",
      "_view_module_version": "1.5.0",
      "_view_name": "ProgressView",
      "bar_style": "",
      "description": "",
      "description_tooltip": null,
      "layout": "IPY_MODEL_55c4c2b848264c2497fba68f6502d0ac",
      "max": 11,
      "min": 0,
      "orientation": "horizontal",
      "style": "IPY_MODEL_2ace0307305c4e16b5d823a4f3f55593",
      "value": 11
     }
    },
    "7b792bb7c3e44d079d050e48b0b88b30": {
     "model_module": "@jupyter-widgets/controls",
     "model_module_version": "1.5.0",
     "model_name": "HTMLModel",
     "state": {
      "_dom_classes": [],
      "_model_module": "@jupyter-widgets/controls",
      "_model_module_version": "1.5.0",
      "_model_name": "HTMLModel",
      "_view_count": null,
      "_view_module": "@jupyter-widgets/controls",
      "_view_module_version": "1.5.0",
      "_view_name": "HTMLView",
      "description": "",
      "description_tooltip": null,
      "layout": "IPY_MODEL_f6b8deefd9b645ce88042a98b2a18e50",
      "placeholder": "​",
      "style": "IPY_MODEL_96a1f2adaea34f8d802946b335d7f4a8",
      "value": " 11/11 [00:01&lt;00:00,  9.32it/s]"
     }
    },
    "7c7bfa732e4e4696acea0eca46b38ff9": {
     "model_module": "@jupyter-widgets/controls",
     "model_module_version": "1.5.0",
     "model_name": "HTMLModel",
     "state": {
      "_dom_classes": [],
      "_model_module": "@jupyter-widgets/controls",
      "_model_module_version": "1.5.0",
      "_model_name": "HTMLModel",
      "_view_count": null,
      "_view_module": "@jupyter-widgets/controls",
      "_view_module_version": "1.5.0",
      "_view_name": "HTMLView",
      "description": "",
      "description_tooltip": null,
      "layout": "IPY_MODEL_177660f0155c422d9642b989c3aa5dfb",
      "placeholder": "​",
      "style": "IPY_MODEL_60abcc00c9a14b48910bc26097146352",
      "value": "Validation DataLoader 0: 100%"
     }
    },
    "7d480b4b74a44510852da8d46ca3195b": {
     "model_module": "@jupyter-widgets/base",
     "model_module_version": "1.2.0",
     "model_name": "LayoutModel",
     "state": {
      "_model_module": "@jupyter-widgets/base",
      "_model_module_version": "1.2.0",
      "_model_name": "LayoutModel",
      "_view_count": null,
      "_view_module": "@jupyter-widgets/base",
      "_view_module_version": "1.2.0",
      "_view_name": "LayoutView",
      "align_content": null,
      "align_items": null,
      "align_self": null,
      "border": null,
      "bottom": null,
      "display": null,
      "flex": null,
      "flex_flow": null,
      "grid_area": null,
      "grid_auto_columns": null,
      "grid_auto_flow": null,
      "grid_auto_rows": null,
      "grid_column": null,
      "grid_gap": null,
      "grid_row": null,
      "grid_template_areas": null,
      "grid_template_columns": null,
      "grid_template_rows": null,
      "height": null,
      "justify_content": null,
      "justify_items": null,
      "left": null,
      "margin": null,
      "max_height": null,
      "max_width": null,
      "min_height": null,
      "min_width": null,
      "object_fit": null,
      "object_position": null,
      "order": null,
      "overflow": null,
      "overflow_x": null,
      "overflow_y": null,
      "padding": null,
      "right": null,
      "top": null,
      "visibility": null,
      "width": null
     }
    },
    "7f09abac50b84846b5f1904503978905": {
     "model_module": "@jupyter-widgets/controls",
     "model_module_version": "1.5.0",
     "model_name": "ProgressStyleModel",
     "state": {
      "_model_module": "@jupyter-widgets/controls",
      "_model_module_version": "1.5.0",
      "_model_name": "ProgressStyleModel",
      "_view_count": null,
      "_view_module": "@jupyter-widgets/base",
      "_view_module_version": "1.2.0",
      "_view_name": "StyleView",
      "bar_color": null,
      "description_width": ""
     }
    },
    "819014dde5824384b5aadabdf1d9a3fc": {
     "model_module": "@jupyter-widgets/controls",
     "model_module_version": "1.5.0",
     "model_name": "DescriptionStyleModel",
     "state": {
      "_model_module": "@jupyter-widgets/controls",
      "_model_module_version": "1.5.0",
      "_model_name": "DescriptionStyleModel",
      "_view_count": null,
      "_view_module": "@jupyter-widgets/base",
      "_view_module_version": "1.2.0",
      "_view_name": "StyleView",
      "description_width": ""
     }
    },
    "81a63ec1f357433b83011750c21b381a": {
     "model_module": "@jupyter-widgets/controls",
     "model_module_version": "1.5.0",
     "model_name": "HTMLModel",
     "state": {
      "_dom_classes": [],
      "_model_module": "@jupyter-widgets/controls",
      "_model_module_version": "1.5.0",
      "_model_name": "HTMLModel",
      "_view_count": null,
      "_view_module": "@jupyter-widgets/controls",
      "_view_module_version": "1.5.0",
      "_view_name": "HTMLView",
      "description": "",
      "description_tooltip": null,
      "layout": "IPY_MODEL_2b8451f84f654563b63f492990b9708a",
      "placeholder": "​",
      "style": "IPY_MODEL_c76418485610439cbc354d38396bb457",
      "value": "Validation DataLoader 0: 100%"
     }
    },
    "84430f61b9b84f8ca1ed9acb19bb3780": {
     "model_module": "@jupyter-widgets/base",
     "model_module_version": "1.2.0",
     "model_name": "LayoutModel",
     "state": {
      "_model_module": "@jupyter-widgets/base",
      "_model_module_version": "1.2.0",
      "_model_name": "LayoutModel",
      "_view_count": null,
      "_view_module": "@jupyter-widgets/base",
      "_view_module_version": "1.2.0",
      "_view_name": "LayoutView",
      "align_content": null,
      "align_items": null,
      "align_self": null,
      "border": null,
      "bottom": null,
      "display": null,
      "flex": null,
      "flex_flow": null,
      "grid_area": null,
      "grid_auto_columns": null,
      "grid_auto_flow": null,
      "grid_auto_rows": null,
      "grid_column": null,
      "grid_gap": null,
      "grid_row": null,
      "grid_template_areas": null,
      "grid_template_columns": null,
      "grid_template_rows": null,
      "height": null,
      "justify_content": null,
      "justify_items": null,
      "left": null,
      "margin": null,
      "max_height": null,
      "max_width": null,
      "min_height": null,
      "min_width": null,
      "object_fit": null,
      "object_position": null,
      "order": null,
      "overflow": null,
      "overflow_x": null,
      "overflow_y": null,
      "padding": null,
      "right": null,
      "top": null,
      "visibility": null,
      "width": null
     }
    },
    "8496aa96ca914cf0bde5c6211a38ebd2": {
     "model_module": "@jupyter-widgets/base",
     "model_module_version": "1.2.0",
     "model_name": "LayoutModel",
     "state": {
      "_model_module": "@jupyter-widgets/base",
      "_model_module_version": "1.2.0",
      "_model_name": "LayoutModel",
      "_view_count": null,
      "_view_module": "@jupyter-widgets/base",
      "_view_module_version": "1.2.0",
      "_view_name": "LayoutView",
      "align_content": null,
      "align_items": null,
      "align_self": null,
      "border": null,
      "bottom": null,
      "display": null,
      "flex": "2",
      "flex_flow": null,
      "grid_area": null,
      "grid_auto_columns": null,
      "grid_auto_flow": null,
      "grid_auto_rows": null,
      "grid_column": null,
      "grid_gap": null,
      "grid_row": null,
      "grid_template_areas": null,
      "grid_template_columns": null,
      "grid_template_rows": null,
      "height": null,
      "justify_content": null,
      "justify_items": null,
      "left": null,
      "margin": null,
      "max_height": null,
      "max_width": null,
      "min_height": null,
      "min_width": null,
      "object_fit": null,
      "object_position": null,
      "order": null,
      "overflow": null,
      "overflow_x": null,
      "overflow_y": null,
      "padding": null,
      "right": null,
      "top": null,
      "visibility": null,
      "width": null
     }
    },
    "86a67a270083434c8fc78113e7b3d282": {
     "model_module": "@jupyter-widgets/base",
     "model_module_version": "1.2.0",
     "model_name": "LayoutModel",
     "state": {
      "_model_module": "@jupyter-widgets/base",
      "_model_module_version": "1.2.0",
      "_model_name": "LayoutModel",
      "_view_count": null,
      "_view_module": "@jupyter-widgets/base",
      "_view_module_version": "1.2.0",
      "_view_name": "LayoutView",
      "align_content": null,
      "align_items": null,
      "align_self": null,
      "border": null,
      "bottom": null,
      "display": "inline-flex",
      "flex": null,
      "flex_flow": "row wrap",
      "grid_area": null,
      "grid_auto_columns": null,
      "grid_auto_flow": null,
      "grid_auto_rows": null,
      "grid_column": null,
      "grid_gap": null,
      "grid_row": null,
      "grid_template_areas": null,
      "grid_template_columns": null,
      "grid_template_rows": null,
      "height": null,
      "justify_content": null,
      "justify_items": null,
      "left": null,
      "margin": null,
      "max_height": null,
      "max_width": null,
      "min_height": null,
      "min_width": null,
      "object_fit": null,
      "object_position": null,
      "order": null,
      "overflow": null,
      "overflow_x": null,
      "overflow_y": null,
      "padding": null,
      "right": null,
      "top": null,
      "visibility": "hidden",
      "width": "100%"
     }
    },
    "86ad675b91604eee80f05d11694d5553": {
     "model_module": "@jupyter-widgets/base",
     "model_module_version": "1.2.0",
     "model_name": "LayoutModel",
     "state": {
      "_model_module": "@jupyter-widgets/base",
      "_model_module_version": "1.2.0",
      "_model_name": "LayoutModel",
      "_view_count": null,
      "_view_module": "@jupyter-widgets/base",
      "_view_module_version": "1.2.0",
      "_view_name": "LayoutView",
      "align_content": null,
      "align_items": null,
      "align_self": null,
      "border": null,
      "bottom": null,
      "display": null,
      "flex": "2",
      "flex_flow": null,
      "grid_area": null,
      "grid_auto_columns": null,
      "grid_auto_flow": null,
      "grid_auto_rows": null,
      "grid_column": null,
      "grid_gap": null,
      "grid_row": null,
      "grid_template_areas": null,
      "grid_template_columns": null,
      "grid_template_rows": null,
      "height": null,
      "justify_content": null,
      "justify_items": null,
      "left": null,
      "margin": null,
      "max_height": null,
      "max_width": null,
      "min_height": null,
      "min_width": null,
      "object_fit": null,
      "object_position": null,
      "order": null,
      "overflow": null,
      "overflow_x": null,
      "overflow_y": null,
      "padding": null,
      "right": null,
      "top": null,
      "visibility": null,
      "width": null
     }
    },
    "8861938704854ff4b776a511d4be0183": {
     "model_module": "@jupyter-widgets/controls",
     "model_module_version": "1.5.0",
     "model_name": "FloatProgressModel",
     "state": {
      "_dom_classes": [],
      "_model_module": "@jupyter-widgets/controls",
      "_model_module_version": "1.5.0",
      "_model_name": "FloatProgressModel",
      "_view_count": null,
      "_view_module": "@jupyter-widgets/controls",
      "_view_module_version": "1.5.0",
      "_view_name": "ProgressView",
      "bar_style": "",
      "description": "",
      "description_tooltip": null,
      "layout": "IPY_MODEL_0948e22a98c94ea885817b11f37ba07f",
      "max": 11,
      "min": 0,
      "orientation": "horizontal",
      "style": "IPY_MODEL_9c102e9bf6124c088d9deb892d24e121",
      "value": 11
     }
    },
    "8904b1808d004f4ca8fb4c684537cf90": {
     "model_module": "@jupyter-widgets/controls",
     "model_module_version": "1.5.0",
     "model_name": "HTMLModel",
     "state": {
      "_dom_classes": [],
      "_model_module": "@jupyter-widgets/controls",
      "_model_module_version": "1.5.0",
      "_model_name": "HTMLModel",
      "_view_count": null,
      "_view_module": "@jupyter-widgets/controls",
      "_view_module_version": "1.5.0",
      "_view_name": "HTMLView",
      "description": "",
      "description_tooltip": null,
      "layout": "IPY_MODEL_53078e5103a2472e87884f8d09b0596a",
      "placeholder": "​",
      "style": "IPY_MODEL_a72e5c5e237d4b3aba22c5d34910e587",
      "value": " 2139/2139 [00:22&lt;00:00, 96.88it/s, v_num=7, train_loss=7.410, val_loss=10.80]"
     }
    },
    "891353bca5fd46519b2203ef4f73461b": {
     "model_module": "@jupyter-widgets/controls",
     "model_module_version": "1.5.0",
     "model_name": "HTMLModel",
     "state": {
      "_dom_classes": [],
      "_model_module": "@jupyter-widgets/controls",
      "_model_module_version": "1.5.0",
      "_model_name": "HTMLModel",
      "_view_count": null,
      "_view_module": "@jupyter-widgets/controls",
      "_view_module_version": "1.5.0",
      "_view_name": "HTMLView",
      "description": "",
      "description_tooltip": null,
      "layout": "IPY_MODEL_9b041ad22a784805b17b419c55ca4b18",
      "placeholder": "​",
      "style": "IPY_MODEL_f7c671af8e7c4a9789f1455320749b6a",
      "value": "Epoch 4: 100%"
     }
    },
    "8ac7b93efc0047e1bb243fb5d908cf0d": {
     "model_module": "@jupyter-widgets/base",
     "model_module_version": "1.2.0",
     "model_name": "LayoutModel",
     "state": {
      "_model_module": "@jupyter-widgets/base",
      "_model_module_version": "1.2.0",
      "_model_name": "LayoutModel",
      "_view_count": null,
      "_view_module": "@jupyter-widgets/base",
      "_view_module_version": "1.2.0",
      "_view_name": "LayoutView",
      "align_content": null,
      "align_items": null,
      "align_self": null,
      "border": null,
      "bottom": null,
      "display": "inline-flex",
      "flex": null,
      "flex_flow": "row wrap",
      "grid_area": null,
      "grid_auto_columns": null,
      "grid_auto_flow": null,
      "grid_auto_rows": null,
      "grid_column": null,
      "grid_gap": null,
      "grid_row": null,
      "grid_template_areas": null,
      "grid_template_columns": null,
      "grid_template_rows": null,
      "height": null,
      "justify_content": null,
      "justify_items": null,
      "left": null,
      "margin": null,
      "max_height": null,
      "max_width": null,
      "min_height": null,
      "min_width": null,
      "object_fit": null,
      "object_position": null,
      "order": null,
      "overflow": null,
      "overflow_x": null,
      "overflow_y": null,
      "padding": null,
      "right": null,
      "top": null,
      "visibility": "hidden",
      "width": "100%"
     }
    },
    "8f300d5768ae45108deabd748f2570a2": {
     "model_module": "@jupyter-widgets/base",
     "model_module_version": "1.2.0",
     "model_name": "LayoutModel",
     "state": {
      "_model_module": "@jupyter-widgets/base",
      "_model_module_version": "1.2.0",
      "_model_name": "LayoutModel",
      "_view_count": null,
      "_view_module": "@jupyter-widgets/base",
      "_view_module_version": "1.2.0",
      "_view_name": "LayoutView",
      "align_content": null,
      "align_items": null,
      "align_self": null,
      "border": null,
      "bottom": null,
      "display": null,
      "flex": null,
      "flex_flow": null,
      "grid_area": null,
      "grid_auto_columns": null,
      "grid_auto_flow": null,
      "grid_auto_rows": null,
      "grid_column": null,
      "grid_gap": null,
      "grid_row": null,
      "grid_template_areas": null,
      "grid_template_columns": null,
      "grid_template_rows": null,
      "height": null,
      "justify_content": null,
      "justify_items": null,
      "left": null,
      "margin": null,
      "max_height": null,
      "max_width": null,
      "min_height": null,
      "min_width": null,
      "object_fit": null,
      "object_position": null,
      "order": null,
      "overflow": null,
      "overflow_x": null,
      "overflow_y": null,
      "padding": null,
      "right": null,
      "top": null,
      "visibility": null,
      "width": null
     }
    },
    "90080b96e3774c8d990d8ef37a15d9a2": {
     "model_module": "@jupyter-widgets/base",
     "model_module_version": "1.2.0",
     "model_name": "LayoutModel",
     "state": {
      "_model_module": "@jupyter-widgets/base",
      "_model_module_version": "1.2.0",
      "_model_name": "LayoutModel",
      "_view_count": null,
      "_view_module": "@jupyter-widgets/base",
      "_view_module_version": "1.2.0",
      "_view_name": "LayoutView",
      "align_content": null,
      "align_items": null,
      "align_self": null,
      "border": null,
      "bottom": null,
      "display": null,
      "flex": "2",
      "flex_flow": null,
      "grid_area": null,
      "grid_auto_columns": null,
      "grid_auto_flow": null,
      "grid_auto_rows": null,
      "grid_column": null,
      "grid_gap": null,
      "grid_row": null,
      "grid_template_areas": null,
      "grid_template_columns": null,
      "grid_template_rows": null,
      "height": null,
      "justify_content": null,
      "justify_items": null,
      "left": null,
      "margin": null,
      "max_height": null,
      "max_width": null,
      "min_height": null,
      "min_width": null,
      "object_fit": null,
      "object_position": null,
      "order": null,
      "overflow": null,
      "overflow_x": null,
      "overflow_y": null,
      "padding": null,
      "right": null,
      "top": null,
      "visibility": null,
      "width": null
     }
    },
    "912c0b2512cb4b799a6987810b52a49a": {
     "model_module": "@jupyter-widgets/controls",
     "model_module_version": "1.5.0",
     "model_name": "ProgressStyleModel",
     "state": {
      "_model_module": "@jupyter-widgets/controls",
      "_model_module_version": "1.5.0",
      "_model_name": "ProgressStyleModel",
      "_view_count": null,
      "_view_module": "@jupyter-widgets/base",
      "_view_module_version": "1.2.0",
      "_view_name": "StyleView",
      "bar_color": null,
      "description_width": ""
     }
    },
    "914c328059b74c7c965720529f9530f5": {
     "model_module": "@jupyter-widgets/controls",
     "model_module_version": "1.5.0",
     "model_name": "HBoxModel",
     "state": {
      "_dom_classes": [],
      "_model_module": "@jupyter-widgets/controls",
      "_model_module_version": "1.5.0",
      "_model_name": "HBoxModel",
      "_view_count": null,
      "_view_module": "@jupyter-widgets/controls",
      "_view_module_version": "1.5.0",
      "_view_name": "HBoxView",
      "box_style": "",
      "children": [
       "IPY_MODEL_c094c9bee127459bab6316a5a834b703",
       "IPY_MODEL_c6e300a889ef45ef876c16bca667598b",
       "IPY_MODEL_a4978ebd082b4d8393475549a63bf2aa"
      ],
      "layout": "IPY_MODEL_adddcdebb44d429b827cb007ab2cdf8f"
     }
    },
    "91ac6de87c10462499d965c4740409d4": {
     "model_module": "@jupyter-widgets/controls",
     "model_module_version": "1.5.0",
     "model_name": "FloatProgressModel",
     "state": {
      "_dom_classes": [],
      "_model_module": "@jupyter-widgets/controls",
      "_model_module_version": "1.5.0",
      "_model_name": "FloatProgressModel",
      "_view_count": null,
      "_view_module": "@jupyter-widgets/controls",
      "_view_module_version": "1.5.0",
      "_view_name": "ProgressView",
      "bar_style": "",
      "description": "",
      "description_tooltip": null,
      "layout": "IPY_MODEL_1dd90012e06949cabb36bb2c6e738be7",
      "max": 11,
      "min": 0,
      "orientation": "horizontal",
      "style": "IPY_MODEL_6436ed9b087a43d996c1da71b62eb866",
      "value": 11
     }
    },
    "91b98fed40824513b05f5744e5a2ea0e": {
     "model_module": "@jupyter-widgets/controls",
     "model_module_version": "1.5.0",
     "model_name": "FloatProgressModel",
     "state": {
      "_dom_classes": [],
      "_model_module": "@jupyter-widgets/controls",
      "_model_module_version": "1.5.0",
      "_model_name": "FloatProgressModel",
      "_view_count": null,
      "_view_module": "@jupyter-widgets/controls",
      "_view_module_version": "1.5.0",
      "_view_name": "ProgressView",
      "bar_style": "",
      "description": "",
      "description_tooltip": null,
      "layout": "IPY_MODEL_86ad675b91604eee80f05d11694d5553",
      "max": 11,
      "min": 0,
      "orientation": "horizontal",
      "style": "IPY_MODEL_c93d5c4a5e484fec8aefd2cd92017521",
      "value": 11
     }
    },
    "93eabcc301fa4242820a0cf2e82d3fee": {
     "model_module": "@jupyter-widgets/base",
     "model_module_version": "1.2.0",
     "model_name": "LayoutModel",
     "state": {
      "_model_module": "@jupyter-widgets/base",
      "_model_module_version": "1.2.0",
      "_model_name": "LayoutModel",
      "_view_count": null,
      "_view_module": "@jupyter-widgets/base",
      "_view_module_version": "1.2.0",
      "_view_name": "LayoutView",
      "align_content": null,
      "align_items": null,
      "align_self": null,
      "border": null,
      "bottom": null,
      "display": null,
      "flex": "2",
      "flex_flow": null,
      "grid_area": null,
      "grid_auto_columns": null,
      "grid_auto_flow": null,
      "grid_auto_rows": null,
      "grid_column": null,
      "grid_gap": null,
      "grid_row": null,
      "grid_template_areas": null,
      "grid_template_columns": null,
      "grid_template_rows": null,
      "height": null,
      "justify_content": null,
      "justify_items": null,
      "left": null,
      "margin": null,
      "max_height": null,
      "max_width": null,
      "min_height": null,
      "min_width": null,
      "object_fit": null,
      "object_position": null,
      "order": null,
      "overflow": null,
      "overflow_x": null,
      "overflow_y": null,
      "padding": null,
      "right": null,
      "top": null,
      "visibility": null,
      "width": null
     }
    },
    "949b7a8ed4194fb6b851dbe64bd77b33": {
     "model_module": "@jupyter-widgets/controls",
     "model_module_version": "1.5.0",
     "model_name": "FloatProgressModel",
     "state": {
      "_dom_classes": [],
      "_model_module": "@jupyter-widgets/controls",
      "_model_module_version": "1.5.0",
      "_model_name": "FloatProgressModel",
      "_view_count": null,
      "_view_module": "@jupyter-widgets/controls",
      "_view_module_version": "1.5.0",
      "_view_name": "ProgressView",
      "bar_style": "",
      "description": "",
      "description_tooltip": null,
      "layout": "IPY_MODEL_8496aa96ca914cf0bde5c6211a38ebd2",
      "max": 2,
      "min": 0,
      "orientation": "horizontal",
      "style": "IPY_MODEL_26c52ad8f89541bc87c2f2cacd888691",
      "value": 2
     }
    },
    "96a1f2adaea34f8d802946b335d7f4a8": {
     "model_module": "@jupyter-widgets/controls",
     "model_module_version": "1.5.0",
     "model_name": "DescriptionStyleModel",
     "state": {
      "_model_module": "@jupyter-widgets/controls",
      "_model_module_version": "1.5.0",
      "_model_name": "DescriptionStyleModel",
      "_view_count": null,
      "_view_module": "@jupyter-widgets/base",
      "_view_module_version": "1.2.0",
      "_view_name": "StyleView",
      "description_width": ""
     }
    },
    "99d24630954146889e7716427ca1aec6": {
     "model_module": "@jupyter-widgets/controls",
     "model_module_version": "1.5.0",
     "model_name": "ProgressStyleModel",
     "state": {
      "_model_module": "@jupyter-widgets/controls",
      "_model_module_version": "1.5.0",
      "_model_name": "ProgressStyleModel",
      "_view_count": null,
      "_view_module": "@jupyter-widgets/base",
      "_view_module_version": "1.2.0",
      "_view_name": "StyleView",
      "bar_color": null,
      "description_width": ""
     }
    },
    "9b041ad22a784805b17b419c55ca4b18": {
     "model_module": "@jupyter-widgets/base",
     "model_module_version": "1.2.0",
     "model_name": "LayoutModel",
     "state": {
      "_model_module": "@jupyter-widgets/base",
      "_model_module_version": "1.2.0",
      "_model_name": "LayoutModel",
      "_view_count": null,
      "_view_module": "@jupyter-widgets/base",
      "_view_module_version": "1.2.0",
      "_view_name": "LayoutView",
      "align_content": null,
      "align_items": null,
      "align_self": null,
      "border": null,
      "bottom": null,
      "display": null,
      "flex": null,
      "flex_flow": null,
      "grid_area": null,
      "grid_auto_columns": null,
      "grid_auto_flow": null,
      "grid_auto_rows": null,
      "grid_column": null,
      "grid_gap": null,
      "grid_row": null,
      "grid_template_areas": null,
      "grid_template_columns": null,
      "grid_template_rows": null,
      "height": null,
      "justify_content": null,
      "justify_items": null,
      "left": null,
      "margin": null,
      "max_height": null,
      "max_width": null,
      "min_height": null,
      "min_width": null,
      "object_fit": null,
      "object_position": null,
      "order": null,
      "overflow": null,
      "overflow_x": null,
      "overflow_y": null,
      "padding": null,
      "right": null,
      "top": null,
      "visibility": null,
      "width": null
     }
    },
    "9c102e9bf6124c088d9deb892d24e121": {
     "model_module": "@jupyter-widgets/controls",
     "model_module_version": "1.5.0",
     "model_name": "ProgressStyleModel",
     "state": {
      "_model_module": "@jupyter-widgets/controls",
      "_model_module_version": "1.5.0",
      "_model_name": "ProgressStyleModel",
      "_view_count": null,
      "_view_module": "@jupyter-widgets/base",
      "_view_module_version": "1.2.0",
      "_view_name": "StyleView",
      "bar_color": null,
      "description_width": ""
     }
    },
    "9d1eccf964014924aab8d03cd4a7ad69": {
     "model_module": "@jupyter-widgets/controls",
     "model_module_version": "1.5.0",
     "model_name": "FloatProgressModel",
     "state": {
      "_dom_classes": [],
      "_model_module": "@jupyter-widgets/controls",
      "_model_module_version": "1.5.0",
      "_model_name": "FloatProgressModel",
      "_view_count": null,
      "_view_module": "@jupyter-widgets/controls",
      "_view_module_version": "1.5.0",
      "_view_name": "ProgressView",
      "bar_style": "",
      "description": "",
      "description_tooltip": null,
      "layout": "IPY_MODEL_e9304aa595f14455809256ef37bfd74a",
      "max": 11,
      "min": 0,
      "orientation": "horizontal",
      "style": "IPY_MODEL_99d24630954146889e7716427ca1aec6",
      "value": 11
     }
    },
    "9d8a11ee7d434567bb9a1aeb4a5db468": {
     "model_module": "@jupyter-widgets/controls",
     "model_module_version": "1.5.0",
     "model_name": "DescriptionStyleModel",
     "state": {
      "_model_module": "@jupyter-widgets/controls",
      "_model_module_version": "1.5.0",
      "_model_name": "DescriptionStyleModel",
      "_view_count": null,
      "_view_module": "@jupyter-widgets/base",
      "_view_module_version": "1.2.0",
      "_view_name": "StyleView",
      "description_width": ""
     }
    },
    "9e2323de19234eb6a374b4791a5c780d": {
     "model_module": "@jupyter-widgets/base",
     "model_module_version": "1.2.0",
     "model_name": "LayoutModel",
     "state": {
      "_model_module": "@jupyter-widgets/base",
      "_model_module_version": "1.2.0",
      "_model_name": "LayoutModel",
      "_view_count": null,
      "_view_module": "@jupyter-widgets/base",
      "_view_module_version": "1.2.0",
      "_view_name": "LayoutView",
      "align_content": null,
      "align_items": null,
      "align_self": null,
      "border": null,
      "bottom": null,
      "display": "inline-flex",
      "flex": null,
      "flex_flow": "row wrap",
      "grid_area": null,
      "grid_auto_columns": null,
      "grid_auto_flow": null,
      "grid_auto_rows": null,
      "grid_column": null,
      "grid_gap": null,
      "grid_row": null,
      "grid_template_areas": null,
      "grid_template_columns": null,
      "grid_template_rows": null,
      "height": null,
      "justify_content": null,
      "justify_items": null,
      "left": null,
      "margin": null,
      "max_height": null,
      "max_width": null,
      "min_height": null,
      "min_width": null,
      "object_fit": null,
      "object_position": null,
      "order": null,
      "overflow": null,
      "overflow_x": null,
      "overflow_y": null,
      "padding": null,
      "right": null,
      "top": null,
      "visibility": "hidden",
      "width": "100%"
     }
    },
    "9e86c9db2cba4390a867cfd3a995f767": {
     "model_module": "@jupyter-widgets/base",
     "model_module_version": "1.2.0",
     "model_name": "LayoutModel",
     "state": {
      "_model_module": "@jupyter-widgets/base",
      "_model_module_version": "1.2.0",
      "_model_name": "LayoutModel",
      "_view_count": null,
      "_view_module": "@jupyter-widgets/base",
      "_view_module_version": "1.2.0",
      "_view_name": "LayoutView",
      "align_content": null,
      "align_items": null,
      "align_self": null,
      "border": null,
      "bottom": null,
      "display": null,
      "flex": null,
      "flex_flow": null,
      "grid_area": null,
      "grid_auto_columns": null,
      "grid_auto_flow": null,
      "grid_auto_rows": null,
      "grid_column": null,
      "grid_gap": null,
      "grid_row": null,
      "grid_template_areas": null,
      "grid_template_columns": null,
      "grid_template_rows": null,
      "height": null,
      "justify_content": null,
      "justify_items": null,
      "left": null,
      "margin": null,
      "max_height": null,
      "max_width": null,
      "min_height": null,
      "min_width": null,
      "object_fit": null,
      "object_position": null,
      "order": null,
      "overflow": null,
      "overflow_x": null,
      "overflow_y": null,
      "padding": null,
      "right": null,
      "top": null,
      "visibility": null,
      "width": null
     }
    },
    "9f880271ad39455983e1cf597142501a": {
     "model_module": "@jupyter-widgets/controls",
     "model_module_version": "1.5.0",
     "model_name": "HBoxModel",
     "state": {
      "_dom_classes": [],
      "_model_module": "@jupyter-widgets/controls",
      "_model_module_version": "1.5.0",
      "_model_name": "HBoxModel",
      "_view_count": null,
      "_view_module": "@jupyter-widgets/controls",
      "_view_module_version": "1.5.0",
      "_view_name": "HBoxView",
      "box_style": "",
      "children": [
       "IPY_MODEL_0973209e337a4f7088c89ac2b75d0eba",
       "IPY_MODEL_556bd7a366ea426980a9dffd44fc02f7",
       "IPY_MODEL_bc9795d056d9450d936143f65d013d48"
      ],
      "layout": "IPY_MODEL_9e2323de19234eb6a374b4791a5c780d"
     }
    },
    "a0360376084845d8a056a2d4b325ae31": {
     "model_module": "@jupyter-widgets/controls",
     "model_module_version": "1.5.0",
     "model_name": "HBoxModel",
     "state": {
      "_dom_classes": [],
      "_model_module": "@jupyter-widgets/controls",
      "_model_module_version": "1.5.0",
      "_model_name": "HBoxModel",
      "_view_count": null,
      "_view_module": "@jupyter-widgets/controls",
      "_view_module_version": "1.5.0",
      "_view_name": "HBoxView",
      "box_style": "",
      "children": [
       "IPY_MODEL_81a63ec1f357433b83011750c21b381a",
       "IPY_MODEL_1945866564b04334917e944f81aefda3",
       "IPY_MODEL_0ca1b132e2764adc91586b478ea3ede2"
      ],
      "layout": "IPY_MODEL_09c7f7a44d274b6581fc92ab3d8c9db4"
     }
    },
    "a093169baaef4de7a9961cf98445c701": {
     "model_module": "@jupyter-widgets/controls",
     "model_module_version": "1.5.0",
     "model_name": "ProgressStyleModel",
     "state": {
      "_model_module": "@jupyter-widgets/controls",
      "_model_module_version": "1.5.0",
      "_model_name": "ProgressStyleModel",
      "_view_count": null,
      "_view_module": "@jupyter-widgets/base",
      "_view_module_version": "1.2.0",
      "_view_name": "StyleView",
      "bar_color": null,
      "description_width": ""
     }
    },
    "a1ed8ceec6394bccb8cb31f0e86a9b15": {
     "model_module": "@jupyter-widgets/controls",
     "model_module_version": "1.5.0",
     "model_name": "ProgressStyleModel",
     "state": {
      "_model_module": "@jupyter-widgets/controls",
      "_model_module_version": "1.5.0",
      "_model_name": "ProgressStyleModel",
      "_view_count": null,
      "_view_module": "@jupyter-widgets/base",
      "_view_module_version": "1.2.0",
      "_view_name": "StyleView",
      "bar_color": null,
      "description_width": ""
     }
    },
    "a22a9b9e623e48f5a208b74299475f63": {
     "model_module": "@jupyter-widgets/base",
     "model_module_version": "1.2.0",
     "model_name": "LayoutModel",
     "state": {
      "_model_module": "@jupyter-widgets/base",
      "_model_module_version": "1.2.0",
      "_model_name": "LayoutModel",
      "_view_count": null,
      "_view_module": "@jupyter-widgets/base",
      "_view_module_version": "1.2.0",
      "_view_name": "LayoutView",
      "align_content": null,
      "align_items": null,
      "align_self": null,
      "border": null,
      "bottom": null,
      "display": null,
      "flex": "2",
      "flex_flow": null,
      "grid_area": null,
      "grid_auto_columns": null,
      "grid_auto_flow": null,
      "grid_auto_rows": null,
      "grid_column": null,
      "grid_gap": null,
      "grid_row": null,
      "grid_template_areas": null,
      "grid_template_columns": null,
      "grid_template_rows": null,
      "height": null,
      "justify_content": null,
      "justify_items": null,
      "left": null,
      "margin": null,
      "max_height": null,
      "max_width": null,
      "min_height": null,
      "min_width": null,
      "object_fit": null,
      "object_position": null,
      "order": null,
      "overflow": null,
      "overflow_x": null,
      "overflow_y": null,
      "padding": null,
      "right": null,
      "top": null,
      "visibility": null,
      "width": null
     }
    },
    "a3fe92d8066a48cd8f09bdbb2b68ef9e": {
     "model_module": "@jupyter-widgets/base",
     "model_module_version": "1.2.0",
     "model_name": "LayoutModel",
     "state": {
      "_model_module": "@jupyter-widgets/base",
      "_model_module_version": "1.2.0",
      "_model_name": "LayoutModel",
      "_view_count": null,
      "_view_module": "@jupyter-widgets/base",
      "_view_module_version": "1.2.0",
      "_view_name": "LayoutView",
      "align_content": null,
      "align_items": null,
      "align_self": null,
      "border": null,
      "bottom": null,
      "display": "inline-flex",
      "flex": null,
      "flex_flow": "row wrap",
      "grid_area": null,
      "grid_auto_columns": null,
      "grid_auto_flow": null,
      "grid_auto_rows": null,
      "grid_column": null,
      "grid_gap": null,
      "grid_row": null,
      "grid_template_areas": null,
      "grid_template_columns": null,
      "grid_template_rows": null,
      "height": null,
      "justify_content": null,
      "justify_items": null,
      "left": null,
      "margin": null,
      "max_height": null,
      "max_width": null,
      "min_height": null,
      "min_width": null,
      "object_fit": null,
      "object_position": null,
      "order": null,
      "overflow": null,
      "overflow_x": null,
      "overflow_y": null,
      "padding": null,
      "right": null,
      "top": null,
      "visibility": null,
      "width": "100%"
     }
    },
    "a40b8a470263479abc60e7af7667a974": {
     "model_module": "@jupyter-widgets/controls",
     "model_module_version": "1.5.0",
     "model_name": "HBoxModel",
     "state": {
      "_dom_classes": [],
      "_model_module": "@jupyter-widgets/controls",
      "_model_module_version": "1.5.0",
      "_model_name": "HBoxModel",
      "_view_count": null,
      "_view_module": "@jupyter-widgets/controls",
      "_view_module_version": "1.5.0",
      "_view_name": "HBoxView",
      "box_style": "",
      "children": [
       "IPY_MODEL_abfb7b6227f14c51bf2211f3041766fd",
       "IPY_MODEL_3178985e0dfd426c9066e8b707556f6c",
       "IPY_MODEL_067e8f2a052b4770b292f7929d439944"
      ],
      "layout": "IPY_MODEL_a3fe92d8066a48cd8f09bdbb2b68ef9e"
     }
    },
    "a4978ebd082b4d8393475549a63bf2aa": {
     "model_module": "@jupyter-widgets/controls",
     "model_module_version": "1.5.0",
     "model_name": "HTMLModel",
     "state": {
      "_dom_classes": [],
      "_model_module": "@jupyter-widgets/controls",
      "_model_module_version": "1.5.0",
      "_model_name": "HTMLModel",
      "_view_count": null,
      "_view_module": "@jupyter-widgets/controls",
      "_view_module_version": "1.5.0",
      "_view_name": "HTMLView",
      "description": "",
      "description_tooltip": null,
      "layout": "IPY_MODEL_0f756a02621b4a65a7721dbf1d78f79b",
      "placeholder": "​",
      "style": "IPY_MODEL_fb7f5d9c99e94f4db33e4a418d2c2c38",
      "value": " 11/11 [00:00&lt;00:00, 14.37it/s]"
     }
    },
    "a72e5c5e237d4b3aba22c5d34910e587": {
     "model_module": "@jupyter-widgets/controls",
     "model_module_version": "1.5.0",
     "model_name": "DescriptionStyleModel",
     "state": {
      "_model_module": "@jupyter-widgets/controls",
      "_model_module_version": "1.5.0",
      "_model_name": "DescriptionStyleModel",
      "_view_count": null,
      "_view_module": "@jupyter-widgets/base",
      "_view_module_version": "1.2.0",
      "_view_name": "StyleView",
      "description_width": ""
     }
    },
    "a776e3bc6247409481ba5da17650d296": {
     "model_module": "@jupyter-widgets/base",
     "model_module_version": "1.2.0",
     "model_name": "LayoutModel",
     "state": {
      "_model_module": "@jupyter-widgets/base",
      "_model_module_version": "1.2.0",
      "_model_name": "LayoutModel",
      "_view_count": null,
      "_view_module": "@jupyter-widgets/base",
      "_view_module_version": "1.2.0",
      "_view_name": "LayoutView",
      "align_content": null,
      "align_items": null,
      "align_self": null,
      "border": null,
      "bottom": null,
      "display": "inline-flex",
      "flex": null,
      "flex_flow": "row wrap",
      "grid_area": null,
      "grid_auto_columns": null,
      "grid_auto_flow": null,
      "grid_auto_rows": null,
      "grid_column": null,
      "grid_gap": null,
      "grid_row": null,
      "grid_template_areas": null,
      "grid_template_columns": null,
      "grid_template_rows": null,
      "height": null,
      "justify_content": null,
      "justify_items": null,
      "left": null,
      "margin": null,
      "max_height": null,
      "max_width": null,
      "min_height": null,
      "min_width": null,
      "object_fit": null,
      "object_position": null,
      "order": null,
      "overflow": null,
      "overflow_x": null,
      "overflow_y": null,
      "padding": null,
      "right": null,
      "top": null,
      "visibility": "hidden",
      "width": "100%"
     }
    },
    "a77850a351df4315ac75d269c879a480": {
     "model_module": "@jupyter-widgets/controls",
     "model_module_version": "1.5.0",
     "model_name": "HBoxModel",
     "state": {
      "_dom_classes": [],
      "_model_module": "@jupyter-widgets/controls",
      "_model_module_version": "1.5.0",
      "_model_name": "HBoxModel",
      "_view_count": null,
      "_view_module": "@jupyter-widgets/controls",
      "_view_module_version": "1.5.0",
      "_view_name": "HBoxView",
      "box_style": "",
      "children": [
       "IPY_MODEL_7c7bfa732e4e4696acea0eca46b38ff9",
       "IPY_MODEL_e28277fca3eb4d76a41b39f09b105426",
       "IPY_MODEL_7b792bb7c3e44d079d050e48b0b88b30"
      ],
      "layout": "IPY_MODEL_12a02f01ee1e4458b4c3ef932dd868aa"
     }
    },
    "a9c403114dea41eb81a3c07cef23ef6d": {
     "model_module": "@jupyter-widgets/controls",
     "model_module_version": "1.5.0",
     "model_name": "HTMLModel",
     "state": {
      "_dom_classes": [],
      "_model_module": "@jupyter-widgets/controls",
      "_model_module_version": "1.5.0",
      "_model_name": "HTMLModel",
      "_view_count": null,
      "_view_module": "@jupyter-widgets/controls",
      "_view_module_version": "1.5.0",
      "_view_name": "HTMLView",
      "description": "",
      "description_tooltip": null,
      "layout": "IPY_MODEL_2e15fc2e2d234485bde9dc887dbedf70",
      "placeholder": "​",
      "style": "IPY_MODEL_9d8a11ee7d434567bb9a1aeb4a5db468",
      "value": "Validation DataLoader 0: 100%"
     }
    },
    "a9e268a649584fed97a469f9b5d8e9e4": {
     "model_module": "@jupyter-widgets/base",
     "model_module_version": "1.2.0",
     "model_name": "LayoutModel",
     "state": {
      "_model_module": "@jupyter-widgets/base",
      "_model_module_version": "1.2.0",
      "_model_name": "LayoutModel",
      "_view_count": null,
      "_view_module": "@jupyter-widgets/base",
      "_view_module_version": "1.2.0",
      "_view_name": "LayoutView",
      "align_content": null,
      "align_items": null,
      "align_self": null,
      "border": null,
      "bottom": null,
      "display": null,
      "flex": null,
      "flex_flow": null,
      "grid_area": null,
      "grid_auto_columns": null,
      "grid_auto_flow": null,
      "grid_auto_rows": null,
      "grid_column": null,
      "grid_gap": null,
      "grid_row": null,
      "grid_template_areas": null,
      "grid_template_columns": null,
      "grid_template_rows": null,
      "height": null,
      "justify_content": null,
      "justify_items": null,
      "left": null,
      "margin": null,
      "max_height": null,
      "max_width": null,
      "min_height": null,
      "min_width": null,
      "object_fit": null,
      "object_position": null,
      "order": null,
      "overflow": null,
      "overflow_x": null,
      "overflow_y": null,
      "padding": null,
      "right": null,
      "top": null,
      "visibility": null,
      "width": null
     }
    },
    "ab2506dad400417ea684275a45895625": {
     "model_module": "@jupyter-widgets/base",
     "model_module_version": "1.2.0",
     "model_name": "LayoutModel",
     "state": {
      "_model_module": "@jupyter-widgets/base",
      "_model_module_version": "1.2.0",
      "_model_name": "LayoutModel",
      "_view_count": null,
      "_view_module": "@jupyter-widgets/base",
      "_view_module_version": "1.2.0",
      "_view_name": "LayoutView",
      "align_content": null,
      "align_items": null,
      "align_self": null,
      "border": null,
      "bottom": null,
      "display": null,
      "flex": null,
      "flex_flow": null,
      "grid_area": null,
      "grid_auto_columns": null,
      "grid_auto_flow": null,
      "grid_auto_rows": null,
      "grid_column": null,
      "grid_gap": null,
      "grid_row": null,
      "grid_template_areas": null,
      "grid_template_columns": null,
      "grid_template_rows": null,
      "height": null,
      "justify_content": null,
      "justify_items": null,
      "left": null,
      "margin": null,
      "max_height": null,
      "max_width": null,
      "min_height": null,
      "min_width": null,
      "object_fit": null,
      "object_position": null,
      "order": null,
      "overflow": null,
      "overflow_x": null,
      "overflow_y": null,
      "padding": null,
      "right": null,
      "top": null,
      "visibility": null,
      "width": null
     }
    },
    "ab7b3ec8c0714c0c9b3496bfd7ddf666": {
     "model_module": "@jupyter-widgets/base",
     "model_module_version": "1.2.0",
     "model_name": "LayoutModel",
     "state": {
      "_model_module": "@jupyter-widgets/base",
      "_model_module_version": "1.2.0",
      "_model_name": "LayoutModel",
      "_view_count": null,
      "_view_module": "@jupyter-widgets/base",
      "_view_module_version": "1.2.0",
      "_view_name": "LayoutView",
      "align_content": null,
      "align_items": null,
      "align_self": null,
      "border": null,
      "bottom": null,
      "display": null,
      "flex": "2",
      "flex_flow": null,
      "grid_area": null,
      "grid_auto_columns": null,
      "grid_auto_flow": null,
      "grid_auto_rows": null,
      "grid_column": null,
      "grid_gap": null,
      "grid_row": null,
      "grid_template_areas": null,
      "grid_template_columns": null,
      "grid_template_rows": null,
      "height": null,
      "justify_content": null,
      "justify_items": null,
      "left": null,
      "margin": null,
      "max_height": null,
      "max_width": null,
      "min_height": null,
      "min_width": null,
      "object_fit": null,
      "object_position": null,
      "order": null,
      "overflow": null,
      "overflow_x": null,
      "overflow_y": null,
      "padding": null,
      "right": null,
      "top": null,
      "visibility": null,
      "width": null
     }
    },
    "abfb7b6227f14c51bf2211f3041766fd": {
     "model_module": "@jupyter-widgets/controls",
     "model_module_version": "1.5.0",
     "model_name": "HTMLModel",
     "state": {
      "_dom_classes": [],
      "_model_module": "@jupyter-widgets/controls",
      "_model_module_version": "1.5.0",
      "_model_name": "HTMLModel",
      "_view_count": null,
      "_view_module": "@jupyter-widgets/controls",
      "_view_module_version": "1.5.0",
      "_view_name": "HTMLView",
      "description": "",
      "description_tooltip": null,
      "layout": "IPY_MODEL_0c5b04b41f624e32a34112d1b9448089",
      "placeholder": "​",
      "style": "IPY_MODEL_3d5b1bc6585940a1a31bf6edc0a226f5",
      "value": "Epoch 4: 100%"
     }
    },
    "acd4d0d86d60459eab088cd3079dea05": {
     "model_module": "@jupyter-widgets/controls",
     "model_module_version": "1.5.0",
     "model_name": "HBoxModel",
     "state": {
      "_dom_classes": [],
      "_model_module": "@jupyter-widgets/controls",
      "_model_module_version": "1.5.0",
      "_model_name": "HBoxModel",
      "_view_count": null,
      "_view_module": "@jupyter-widgets/controls",
      "_view_module_version": "1.5.0",
      "_view_name": "HBoxView",
      "box_style": "",
      "children": [
       "IPY_MODEL_a9c403114dea41eb81a3c07cef23ef6d",
       "IPY_MODEL_9d1eccf964014924aab8d03cd4a7ad69",
       "IPY_MODEL_71c94a430e504d1a9b0d4eac86fc8fe6"
      ],
      "layout": "IPY_MODEL_a776e3bc6247409481ba5da17650d296"
     }
    },
    "adddcdebb44d429b827cb007ab2cdf8f": {
     "model_module": "@jupyter-widgets/base",
     "model_module_version": "1.2.0",
     "model_name": "LayoutModel",
     "state": {
      "_model_module": "@jupyter-widgets/base",
      "_model_module_version": "1.2.0",
      "_model_name": "LayoutModel",
      "_view_count": null,
      "_view_module": "@jupyter-widgets/base",
      "_view_module_version": "1.2.0",
      "_view_name": "LayoutView",
      "align_content": null,
      "align_items": null,
      "align_self": null,
      "border": null,
      "bottom": null,
      "display": "inline-flex",
      "flex": null,
      "flex_flow": "row wrap",
      "grid_area": null,
      "grid_auto_columns": null,
      "grid_auto_flow": null,
      "grid_auto_rows": null,
      "grid_column": null,
      "grid_gap": null,
      "grid_row": null,
      "grid_template_areas": null,
      "grid_template_columns": null,
      "grid_template_rows": null,
      "height": null,
      "justify_content": null,
      "justify_items": null,
      "left": null,
      "margin": null,
      "max_height": null,
      "max_width": null,
      "min_height": null,
      "min_width": null,
      "object_fit": null,
      "object_position": null,
      "order": null,
      "overflow": null,
      "overflow_x": null,
      "overflow_y": null,
      "padding": null,
      "right": null,
      "top": null,
      "visibility": "hidden",
      "width": "100%"
     }
    },
    "aea7b991a8a14ae389bda571e1633a4e": {
     "model_module": "@jupyter-widgets/controls",
     "model_module_version": "1.5.0",
     "model_name": "HTMLModel",
     "state": {
      "_dom_classes": [],
      "_model_module": "@jupyter-widgets/controls",
      "_model_module_version": "1.5.0",
      "_model_name": "HTMLModel",
      "_view_count": null,
      "_view_module": "@jupyter-widgets/controls",
      "_view_module_version": "1.5.0",
      "_view_name": "HTMLView",
      "description": "",
      "description_tooltip": null,
      "layout": "IPY_MODEL_5478440fba9e4edeb7e70f0cca250674",
      "placeholder": "​",
      "style": "IPY_MODEL_fff44263c51e47a9b123f2ce94c65b85",
      "value": "Validation DataLoader 0: 100%"
     }
    },
    "af03c81739a248fc960e24f6fab7025f": {
     "model_module": "@jupyter-widgets/base",
     "model_module_version": "1.2.0",
     "model_name": "LayoutModel",
     "state": {
      "_model_module": "@jupyter-widgets/base",
      "_model_module_version": "1.2.0",
      "_model_name": "LayoutModel",
      "_view_count": null,
      "_view_module": "@jupyter-widgets/base",
      "_view_module_version": "1.2.0",
      "_view_name": "LayoutView",
      "align_content": null,
      "align_items": null,
      "align_self": null,
      "border": null,
      "bottom": null,
      "display": null,
      "flex": "2",
      "flex_flow": null,
      "grid_area": null,
      "grid_auto_columns": null,
      "grid_auto_flow": null,
      "grid_auto_rows": null,
      "grid_column": null,
      "grid_gap": null,
      "grid_row": null,
      "grid_template_areas": null,
      "grid_template_columns": null,
      "grid_template_rows": null,
      "height": null,
      "justify_content": null,
      "justify_items": null,
      "left": null,
      "margin": null,
      "max_height": null,
      "max_width": null,
      "min_height": null,
      "min_width": null,
      "object_fit": null,
      "object_position": null,
      "order": null,
      "overflow": null,
      "overflow_x": null,
      "overflow_y": null,
      "padding": null,
      "right": null,
      "top": null,
      "visibility": null,
      "width": null
     }
    },
    "b04c91abd2c746c69ccf4bb83efbcbdd": {
     "model_module": "@jupyter-widgets/base",
     "model_module_version": "1.2.0",
     "model_name": "LayoutModel",
     "state": {
      "_model_module": "@jupyter-widgets/base",
      "_model_module_version": "1.2.0",
      "_model_name": "LayoutModel",
      "_view_count": null,
      "_view_module": "@jupyter-widgets/base",
      "_view_module_version": "1.2.0",
      "_view_name": "LayoutView",
      "align_content": null,
      "align_items": null,
      "align_self": null,
      "border": null,
      "bottom": null,
      "display": "inline-flex",
      "flex": null,
      "flex_flow": "row wrap",
      "grid_area": null,
      "grid_auto_columns": null,
      "grid_auto_flow": null,
      "grid_auto_rows": null,
      "grid_column": null,
      "grid_gap": null,
      "grid_row": null,
      "grid_template_areas": null,
      "grid_template_columns": null,
      "grid_template_rows": null,
      "height": null,
      "justify_content": null,
      "justify_items": null,
      "left": null,
      "margin": null,
      "max_height": null,
      "max_width": null,
      "min_height": null,
      "min_width": null,
      "object_fit": null,
      "object_position": null,
      "order": null,
      "overflow": null,
      "overflow_x": null,
      "overflow_y": null,
      "padding": null,
      "right": null,
      "top": null,
      "visibility": null,
      "width": "100%"
     }
    },
    "b720063ca4e44aec813409ccea3d809a": {
     "model_module": "@jupyter-widgets/base",
     "model_module_version": "1.2.0",
     "model_name": "LayoutModel",
     "state": {
      "_model_module": "@jupyter-widgets/base",
      "_model_module_version": "1.2.0",
      "_model_name": "LayoutModel",
      "_view_count": null,
      "_view_module": "@jupyter-widgets/base",
      "_view_module_version": "1.2.0",
      "_view_name": "LayoutView",
      "align_content": null,
      "align_items": null,
      "align_self": null,
      "border": null,
      "bottom": null,
      "display": "inline-flex",
      "flex": null,
      "flex_flow": "row wrap",
      "grid_area": null,
      "grid_auto_columns": null,
      "grid_auto_flow": null,
      "grid_auto_rows": null,
      "grid_column": null,
      "grid_gap": null,
      "grid_row": null,
      "grid_template_areas": null,
      "grid_template_columns": null,
      "grid_template_rows": null,
      "height": null,
      "justify_content": null,
      "justify_items": null,
      "left": null,
      "margin": null,
      "max_height": null,
      "max_width": null,
      "min_height": null,
      "min_width": null,
      "object_fit": null,
      "object_position": null,
      "order": null,
      "overflow": null,
      "overflow_x": null,
      "overflow_y": null,
      "padding": null,
      "right": null,
      "top": null,
      "visibility": "hidden",
      "width": "100%"
     }
    },
    "b729c2b37b244d3e87bcef97be603946": {
     "model_module": "@jupyter-widgets/controls",
     "model_module_version": "1.5.0",
     "model_name": "DescriptionStyleModel",
     "state": {
      "_model_module": "@jupyter-widgets/controls",
      "_model_module_version": "1.5.0",
      "_model_name": "DescriptionStyleModel",
      "_view_count": null,
      "_view_module": "@jupyter-widgets/base",
      "_view_module_version": "1.2.0",
      "_view_name": "StyleView",
      "description_width": ""
     }
    },
    "b7639f74280c4e22976cbac65b6f3929": {
     "model_module": "@jupyter-widgets/base",
     "model_module_version": "1.2.0",
     "model_name": "LayoutModel",
     "state": {
      "_model_module": "@jupyter-widgets/base",
      "_model_module_version": "1.2.0",
      "_model_name": "LayoutModel",
      "_view_count": null,
      "_view_module": "@jupyter-widgets/base",
      "_view_module_version": "1.2.0",
      "_view_name": "LayoutView",
      "align_content": null,
      "align_items": null,
      "align_self": null,
      "border": null,
      "bottom": null,
      "display": "inline-flex",
      "flex": null,
      "flex_flow": "row wrap",
      "grid_area": null,
      "grid_auto_columns": null,
      "grid_auto_flow": null,
      "grid_auto_rows": null,
      "grid_column": null,
      "grid_gap": null,
      "grid_row": null,
      "grid_template_areas": null,
      "grid_template_columns": null,
      "grid_template_rows": null,
      "height": null,
      "justify_content": null,
      "justify_items": null,
      "left": null,
      "margin": null,
      "max_height": null,
      "max_width": null,
      "min_height": null,
      "min_width": null,
      "object_fit": null,
      "object_position": null,
      "order": null,
      "overflow": null,
      "overflow_x": null,
      "overflow_y": null,
      "padding": null,
      "right": null,
      "top": null,
      "visibility": "hidden",
      "width": "100%"
     }
    },
    "b8dfade8be2446efb82bba2771883957": {
     "model_module": "@jupyter-widgets/controls",
     "model_module_version": "1.5.0",
     "model_name": "DescriptionStyleModel",
     "state": {
      "_model_module": "@jupyter-widgets/controls",
      "_model_module_version": "1.5.0",
      "_model_name": "DescriptionStyleModel",
      "_view_count": null,
      "_view_module": "@jupyter-widgets/base",
      "_view_module_version": "1.2.0",
      "_view_name": "StyleView",
      "description_width": ""
     }
    },
    "b8e87ca7939348768cc0158867a53744": {
     "model_module": "@jupyter-widgets/base",
     "model_module_version": "1.2.0",
     "model_name": "LayoutModel",
     "state": {
      "_model_module": "@jupyter-widgets/base",
      "_model_module_version": "1.2.0",
      "_model_name": "LayoutModel",
      "_view_count": null,
      "_view_module": "@jupyter-widgets/base",
      "_view_module_version": "1.2.0",
      "_view_name": "LayoutView",
      "align_content": null,
      "align_items": null,
      "align_self": null,
      "border": null,
      "bottom": null,
      "display": "inline-flex",
      "flex": null,
      "flex_flow": "row wrap",
      "grid_area": null,
      "grid_auto_columns": null,
      "grid_auto_flow": null,
      "grid_auto_rows": null,
      "grid_column": null,
      "grid_gap": null,
      "grid_row": null,
      "grid_template_areas": null,
      "grid_template_columns": null,
      "grid_template_rows": null,
      "height": null,
      "justify_content": null,
      "justify_items": null,
      "left": null,
      "margin": null,
      "max_height": null,
      "max_width": null,
      "min_height": null,
      "min_width": null,
      "object_fit": null,
      "object_position": null,
      "order": null,
      "overflow": null,
      "overflow_x": null,
      "overflow_y": null,
      "padding": null,
      "right": null,
      "top": null,
      "visibility": null,
      "width": "100%"
     }
    },
    "bb8321632151480dac9a1dbdf5fe2d42": {
     "model_module": "@jupyter-widgets/base",
     "model_module_version": "1.2.0",
     "model_name": "LayoutModel",
     "state": {
      "_model_module": "@jupyter-widgets/base",
      "_model_module_version": "1.2.0",
      "_model_name": "LayoutModel",
      "_view_count": null,
      "_view_module": "@jupyter-widgets/base",
      "_view_module_version": "1.2.0",
      "_view_name": "LayoutView",
      "align_content": null,
      "align_items": null,
      "align_self": null,
      "border": null,
      "bottom": null,
      "display": null,
      "flex": null,
      "flex_flow": null,
      "grid_area": null,
      "grid_auto_columns": null,
      "grid_auto_flow": null,
      "grid_auto_rows": null,
      "grid_column": null,
      "grid_gap": null,
      "grid_row": null,
      "grid_template_areas": null,
      "grid_template_columns": null,
      "grid_template_rows": null,
      "height": null,
      "justify_content": null,
      "justify_items": null,
      "left": null,
      "margin": null,
      "max_height": null,
      "max_width": null,
      "min_height": null,
      "min_width": null,
      "object_fit": null,
      "object_position": null,
      "order": null,
      "overflow": null,
      "overflow_x": null,
      "overflow_y": null,
      "padding": null,
      "right": null,
      "top": null,
      "visibility": null,
      "width": null
     }
    },
    "bc8a2a4ad04b41d8aa964a4e482b92a7": {
     "model_module": "@jupyter-widgets/controls",
     "model_module_version": "1.5.0",
     "model_name": "HBoxModel",
     "state": {
      "_dom_classes": [],
      "_model_module": "@jupyter-widgets/controls",
      "_model_module_version": "1.5.0",
      "_model_name": "HBoxModel",
      "_view_count": null,
      "_view_module": "@jupyter-widgets/controls",
      "_view_module_version": "1.5.0",
      "_view_name": "HBoxView",
      "box_style": "",
      "children": [
       "IPY_MODEL_66f9d64aa96f4c71bf5463d10473e332",
       "IPY_MODEL_770dd211f30b43df90a8a4c48bf2bbae",
       "IPY_MODEL_1080e82c8a664f2d927516d048aae265"
      ],
      "layout": "IPY_MODEL_8ac7b93efc0047e1bb243fb5d908cf0d"
     }
    },
    "bc9795d056d9450d936143f65d013d48": {
     "model_module": "@jupyter-widgets/controls",
     "model_module_version": "1.5.0",
     "model_name": "HTMLModel",
     "state": {
      "_dom_classes": [],
      "_model_module": "@jupyter-widgets/controls",
      "_model_module_version": "1.5.0",
      "_model_name": "HTMLModel",
      "_view_count": null,
      "_view_module": "@jupyter-widgets/controls",
      "_view_module_version": "1.5.0",
      "_view_name": "HTMLView",
      "description": "",
      "description_tooltip": null,
      "layout": "IPY_MODEL_60611bf1044447a5a4766a2990480439",
      "placeholder": "​",
      "style": "IPY_MODEL_cc5aa53e6c7e4be9bc704570df715b3d",
      "value": " 2/2 [00:01&lt;00:00,  1.79it/s]"
     }
    },
    "bdb0a12a8a0647d2a9b2ceb491db07c1": {
     "model_module": "@jupyter-widgets/base",
     "model_module_version": "1.2.0",
     "model_name": "LayoutModel",
     "state": {
      "_model_module": "@jupyter-widgets/base",
      "_model_module_version": "1.2.0",
      "_model_name": "LayoutModel",
      "_view_count": null,
      "_view_module": "@jupyter-widgets/base",
      "_view_module_version": "1.2.0",
      "_view_name": "LayoutView",
      "align_content": null,
      "align_items": null,
      "align_self": null,
      "border": null,
      "bottom": null,
      "display": null,
      "flex": null,
      "flex_flow": null,
      "grid_area": null,
      "grid_auto_columns": null,
      "grid_auto_flow": null,
      "grid_auto_rows": null,
      "grid_column": null,
      "grid_gap": null,
      "grid_row": null,
      "grid_template_areas": null,
      "grid_template_columns": null,
      "grid_template_rows": null,
      "height": null,
      "justify_content": null,
      "justify_items": null,
      "left": null,
      "margin": null,
      "max_height": null,
      "max_width": null,
      "min_height": null,
      "min_width": null,
      "object_fit": null,
      "object_position": null,
      "order": null,
      "overflow": null,
      "overflow_x": null,
      "overflow_y": null,
      "padding": null,
      "right": null,
      "top": null,
      "visibility": null,
      "width": null
     }
    },
    "bddec686549a488cb43692df2fb0b93d": {
     "model_module": "@jupyter-widgets/base",
     "model_module_version": "1.2.0",
     "model_name": "LayoutModel",
     "state": {
      "_model_module": "@jupyter-widgets/base",
      "_model_module_version": "1.2.0",
      "_model_name": "LayoutModel",
      "_view_count": null,
      "_view_module": "@jupyter-widgets/base",
      "_view_module_version": "1.2.0",
      "_view_name": "LayoutView",
      "align_content": null,
      "align_items": null,
      "align_self": null,
      "border": null,
      "bottom": null,
      "display": "inline-flex",
      "flex": null,
      "flex_flow": "row wrap",
      "grid_area": null,
      "grid_auto_columns": null,
      "grid_auto_flow": null,
      "grid_auto_rows": null,
      "grid_column": null,
      "grid_gap": null,
      "grid_row": null,
      "grid_template_areas": null,
      "grid_template_columns": null,
      "grid_template_rows": null,
      "height": null,
      "justify_content": null,
      "justify_items": null,
      "left": null,
      "margin": null,
      "max_height": null,
      "max_width": null,
      "min_height": null,
      "min_width": null,
      "object_fit": null,
      "object_position": null,
      "order": null,
      "overflow": null,
      "overflow_x": null,
      "overflow_y": null,
      "padding": null,
      "right": null,
      "top": null,
      "visibility": "hidden",
      "width": "100%"
     }
    },
    "bea4b5260a3b4eb7b638b7b3e9fb0339": {
     "model_module": "@jupyter-widgets/base",
     "model_module_version": "1.2.0",
     "model_name": "LayoutModel",
     "state": {
      "_model_module": "@jupyter-widgets/base",
      "_model_module_version": "1.2.0",
      "_model_name": "LayoutModel",
      "_view_count": null,
      "_view_module": "@jupyter-widgets/base",
      "_view_module_version": "1.2.0",
      "_view_name": "LayoutView",
      "align_content": null,
      "align_items": null,
      "align_self": null,
      "border": null,
      "bottom": null,
      "display": null,
      "flex": null,
      "flex_flow": null,
      "grid_area": null,
      "grid_auto_columns": null,
      "grid_auto_flow": null,
      "grid_auto_rows": null,
      "grid_column": null,
      "grid_gap": null,
      "grid_row": null,
      "grid_template_areas": null,
      "grid_template_columns": null,
      "grid_template_rows": null,
      "height": null,
      "justify_content": null,
      "justify_items": null,
      "left": null,
      "margin": null,
      "max_height": null,
      "max_width": null,
      "min_height": null,
      "min_width": null,
      "object_fit": null,
      "object_position": null,
      "order": null,
      "overflow": null,
      "overflow_x": null,
      "overflow_y": null,
      "padding": null,
      "right": null,
      "top": null,
      "visibility": null,
      "width": null
     }
    },
    "beca30efbed24ca2ba7702984259b224": {
     "model_module": "@jupyter-widgets/controls",
     "model_module_version": "1.5.0",
     "model_name": "HTMLModel",
     "state": {
      "_dom_classes": [],
      "_model_module": "@jupyter-widgets/controls",
      "_model_module_version": "1.5.0",
      "_model_name": "HTMLModel",
      "_view_count": null,
      "_view_module": "@jupyter-widgets/controls",
      "_view_module_version": "1.5.0",
      "_view_name": "HTMLView",
      "description": "",
      "description_tooltip": null,
      "layout": "IPY_MODEL_6f9e6be3b326437b9f8ca6fb20e61b99",
      "placeholder": "​",
      "style": "IPY_MODEL_59f82c4c318d45e18d171b7b26157af8",
      "value": " 2139/2139 [00:26&lt;00:00, 80.28it/s, v_num=3]"
     }
    },
    "bff4bd71afa34bfdacf14f78f0ca67c8": {
     "model_module": "@jupyter-widgets/controls",
     "model_module_version": "1.5.0",
     "model_name": "DescriptionStyleModel",
     "state": {
      "_model_module": "@jupyter-widgets/controls",
      "_model_module_version": "1.5.0",
      "_model_name": "DescriptionStyleModel",
      "_view_count": null,
      "_view_module": "@jupyter-widgets/base",
      "_view_module_version": "1.2.0",
      "_view_name": "StyleView",
      "description_width": ""
     }
    },
    "c094c9bee127459bab6316a5a834b703": {
     "model_module": "@jupyter-widgets/controls",
     "model_module_version": "1.5.0",
     "model_name": "HTMLModel",
     "state": {
      "_dom_classes": [],
      "_model_module": "@jupyter-widgets/controls",
      "_model_module_version": "1.5.0",
      "_model_name": "HTMLModel",
      "_view_count": null,
      "_view_module": "@jupyter-widgets/controls",
      "_view_module_version": "1.5.0",
      "_view_name": "HTMLView",
      "description": "",
      "description_tooltip": null,
      "layout": "IPY_MODEL_fbc527f7f26e46ba8d4c6a323e475db9",
      "placeholder": "​",
      "style": "IPY_MODEL_02ca561957a042a6979cb884575b8e2b",
      "value": "Validation DataLoader 0: 100%"
     }
    },
    "c22c3ad5c52a47feb69f6a19ec9569ab": {
     "model_module": "@jupyter-widgets/controls",
     "model_module_version": "1.5.0",
     "model_name": "DescriptionStyleModel",
     "state": {
      "_model_module": "@jupyter-widgets/controls",
      "_model_module_version": "1.5.0",
      "_model_name": "DescriptionStyleModel",
      "_view_count": null,
      "_view_module": "@jupyter-widgets/base",
      "_view_module_version": "1.2.0",
      "_view_name": "StyleView",
      "description_width": ""
     }
    },
    "c2aa30f947f6420ba48bb31008a0b0c6": {
     "model_module": "@jupyter-widgets/base",
     "model_module_version": "1.2.0",
     "model_name": "LayoutModel",
     "state": {
      "_model_module": "@jupyter-widgets/base",
      "_model_module_version": "1.2.0",
      "_model_name": "LayoutModel",
      "_view_count": null,
      "_view_module": "@jupyter-widgets/base",
      "_view_module_version": "1.2.0",
      "_view_name": "LayoutView",
      "align_content": null,
      "align_items": null,
      "align_self": null,
      "border": null,
      "bottom": null,
      "display": "inline-flex",
      "flex": null,
      "flex_flow": "row wrap",
      "grid_area": null,
      "grid_auto_columns": null,
      "grid_auto_flow": null,
      "grid_auto_rows": null,
      "grid_column": null,
      "grid_gap": null,
      "grid_row": null,
      "grid_template_areas": null,
      "grid_template_columns": null,
      "grid_template_rows": null,
      "height": null,
      "justify_content": null,
      "justify_items": null,
      "left": null,
      "margin": null,
      "max_height": null,
      "max_width": null,
      "min_height": null,
      "min_width": null,
      "object_fit": null,
      "object_position": null,
      "order": null,
      "overflow": null,
      "overflow_x": null,
      "overflow_y": null,
      "padding": null,
      "right": null,
      "top": null,
      "visibility": "hidden",
      "width": "100%"
     }
    },
    "c32dc4390dca4c74a2f6e9b08c4996d8": {
     "model_module": "@jupyter-widgets/controls",
     "model_module_version": "1.5.0",
     "model_name": "ProgressStyleModel",
     "state": {
      "_model_module": "@jupyter-widgets/controls",
      "_model_module_version": "1.5.0",
      "_model_name": "ProgressStyleModel",
      "_view_count": null,
      "_view_module": "@jupyter-widgets/base",
      "_view_module_version": "1.2.0",
      "_view_name": "StyleView",
      "bar_color": null,
      "description_width": ""
     }
    },
    "c3ef361ef44b4c6cac60efb9e3bb4307": {
     "model_module": "@jupyter-widgets/controls",
     "model_module_version": "1.5.0",
     "model_name": "FloatProgressModel",
     "state": {
      "_dom_classes": [],
      "_model_module": "@jupyter-widgets/controls",
      "_model_module_version": "1.5.0",
      "_model_name": "FloatProgressModel",
      "_view_count": null,
      "_view_module": "@jupyter-widgets/controls",
      "_view_module_version": "1.5.0",
      "_view_name": "ProgressView",
      "bar_style": "",
      "description": "",
      "description_tooltip": null,
      "layout": "IPY_MODEL_18ffec9b445e4195b71b6c54c73ce5ea",
      "max": 11,
      "min": 0,
      "orientation": "horizontal",
      "style": "IPY_MODEL_077dcdde9d814c2b8fbb926296a78773",
      "value": 11
     }
    },
    "c69232aff3594ba7bade00888701e703": {
     "model_module": "@jupyter-widgets/controls",
     "model_module_version": "1.5.0",
     "model_name": "HBoxModel",
     "state": {
      "_dom_classes": [],
      "_model_module": "@jupyter-widgets/controls",
      "_model_module_version": "1.5.0",
      "_model_name": "HBoxModel",
      "_view_count": null,
      "_view_module": "@jupyter-widgets/controls",
      "_view_module_version": "1.5.0",
      "_view_name": "HBoxView",
      "box_style": "",
      "children": [
       "IPY_MODEL_ce50be405846479a8539ca3af032eaa9",
       "IPY_MODEL_f8f9bdd0a43b4341a05bd851f8520d7a",
       "IPY_MODEL_5494c05b137e4fb596a3b4035773765a"
      ],
      "layout": "IPY_MODEL_70299e8321474fa196a363715e7c1a08"
     }
    },
    "c6e300a889ef45ef876c16bca667598b": {
     "model_module": "@jupyter-widgets/controls",
     "model_module_version": "1.5.0",
     "model_name": "FloatProgressModel",
     "state": {
      "_dom_classes": [],
      "_model_module": "@jupyter-widgets/controls",
      "_model_module_version": "1.5.0",
      "_model_name": "FloatProgressModel",
      "_view_count": null,
      "_view_module": "@jupyter-widgets/controls",
      "_view_module_version": "1.5.0",
      "_view_name": "ProgressView",
      "bar_style": "",
      "description": "",
      "description_tooltip": null,
      "layout": "IPY_MODEL_feb6ff4f570740789be146d9f6b99e63",
      "max": 11,
      "min": 0,
      "orientation": "horizontal",
      "style": "IPY_MODEL_63a3335f3af04e4b92903f974f772c06",
      "value": 11
     }
    },
    "c70b746050044fc6985702e203827386": {
     "model_module": "@jupyter-widgets/controls",
     "model_module_version": "1.5.0",
     "model_name": "FloatProgressModel",
     "state": {
      "_dom_classes": [],
      "_model_module": "@jupyter-widgets/controls",
      "_model_module_version": "1.5.0",
      "_model_name": "FloatProgressModel",
      "_view_count": null,
      "_view_module": "@jupyter-widgets/controls",
      "_view_module_version": "1.5.0",
      "_view_name": "ProgressView",
      "bar_style": "",
      "description": "",
      "description_tooltip": null,
      "layout": "IPY_MODEL_708045da1cdd456eab2de093b0191101",
      "max": 11,
      "min": 0,
      "orientation": "horizontal",
      "style": "IPY_MODEL_3156214399c94332b00caf95c6246124",
      "value": 11
     }
    },
    "c76418485610439cbc354d38396bb457": {
     "model_module": "@jupyter-widgets/controls",
     "model_module_version": "1.5.0",
     "model_name": "DescriptionStyleModel",
     "state": {
      "_model_module": "@jupyter-widgets/controls",
      "_model_module_version": "1.5.0",
      "_model_name": "DescriptionStyleModel",
      "_view_count": null,
      "_view_module": "@jupyter-widgets/base",
      "_view_module_version": "1.2.0",
      "_view_name": "StyleView",
      "description_width": ""
     }
    },
    "c93d5c4a5e484fec8aefd2cd92017521": {
     "model_module": "@jupyter-widgets/controls",
     "model_module_version": "1.5.0",
     "model_name": "ProgressStyleModel",
     "state": {
      "_model_module": "@jupyter-widgets/controls",
      "_model_module_version": "1.5.0",
      "_model_name": "ProgressStyleModel",
      "_view_count": null,
      "_view_module": "@jupyter-widgets/base",
      "_view_module_version": "1.2.0",
      "_view_name": "StyleView",
      "bar_color": null,
      "description_width": ""
     }
    },
    "caaaedd80fc0416ca472f0421a0cc270": {
     "model_module": "@jupyter-widgets/base",
     "model_module_version": "1.2.0",
     "model_name": "LayoutModel",
     "state": {
      "_model_module": "@jupyter-widgets/base",
      "_model_module_version": "1.2.0",
      "_model_name": "LayoutModel",
      "_view_count": null,
      "_view_module": "@jupyter-widgets/base",
      "_view_module_version": "1.2.0",
      "_view_name": "LayoutView",
      "align_content": null,
      "align_items": null,
      "align_self": null,
      "border": null,
      "bottom": null,
      "display": null,
      "flex": null,
      "flex_flow": null,
      "grid_area": null,
      "grid_auto_columns": null,
      "grid_auto_flow": null,
      "grid_auto_rows": null,
      "grid_column": null,
      "grid_gap": null,
      "grid_row": null,
      "grid_template_areas": null,
      "grid_template_columns": null,
      "grid_template_rows": null,
      "height": null,
      "justify_content": null,
      "justify_items": null,
      "left": null,
      "margin": null,
      "max_height": null,
      "max_width": null,
      "min_height": null,
      "min_width": null,
      "object_fit": null,
      "object_position": null,
      "order": null,
      "overflow": null,
      "overflow_x": null,
      "overflow_y": null,
      "padding": null,
      "right": null,
      "top": null,
      "visibility": null,
      "width": null
     }
    },
    "cb9af7bc5ddd4f6fb7706ae98e67baec": {
     "model_module": "@jupyter-widgets/base",
     "model_module_version": "1.2.0",
     "model_name": "LayoutModel",
     "state": {
      "_model_module": "@jupyter-widgets/base",
      "_model_module_version": "1.2.0",
      "_model_name": "LayoutModel",
      "_view_count": null,
      "_view_module": "@jupyter-widgets/base",
      "_view_module_version": "1.2.0",
      "_view_name": "LayoutView",
      "align_content": null,
      "align_items": null,
      "align_self": null,
      "border": null,
      "bottom": null,
      "display": null,
      "flex": null,
      "flex_flow": null,
      "grid_area": null,
      "grid_auto_columns": null,
      "grid_auto_flow": null,
      "grid_auto_rows": null,
      "grid_column": null,
      "grid_gap": null,
      "grid_row": null,
      "grid_template_areas": null,
      "grid_template_columns": null,
      "grid_template_rows": null,
      "height": null,
      "justify_content": null,
      "justify_items": null,
      "left": null,
      "margin": null,
      "max_height": null,
      "max_width": null,
      "min_height": null,
      "min_width": null,
      "object_fit": null,
      "object_position": null,
      "order": null,
      "overflow": null,
      "overflow_x": null,
      "overflow_y": null,
      "padding": null,
      "right": null,
      "top": null,
      "visibility": null,
      "width": null
     }
    },
    "cc5aa53e6c7e4be9bc704570df715b3d": {
     "model_module": "@jupyter-widgets/controls",
     "model_module_version": "1.5.0",
     "model_name": "DescriptionStyleModel",
     "state": {
      "_model_module": "@jupyter-widgets/controls",
      "_model_module_version": "1.5.0",
      "_model_name": "DescriptionStyleModel",
      "_view_count": null,
      "_view_module": "@jupyter-widgets/base",
      "_view_module_version": "1.2.0",
      "_view_name": "StyleView",
      "description_width": ""
     }
    },
    "ce50be405846479a8539ca3af032eaa9": {
     "model_module": "@jupyter-widgets/controls",
     "model_module_version": "1.5.0",
     "model_name": "HTMLModel",
     "state": {
      "_dom_classes": [],
      "_model_module": "@jupyter-widgets/controls",
      "_model_module_version": "1.5.0",
      "_model_name": "HTMLModel",
      "_view_count": null,
      "_view_module": "@jupyter-widgets/controls",
      "_view_module_version": "1.5.0",
      "_view_name": "HTMLView",
      "description": "",
      "description_tooltip": null,
      "layout": "IPY_MODEL_7d480b4b74a44510852da8d46ca3195b",
      "placeholder": "​",
      "style": "IPY_MODEL_4d0295fb51f44797b3f736348ef524e1",
      "value": "Sanity Checking DataLoader 0: 100%"
     }
    },
    "cf1b291fed0d4100b3ecf92cb3a17557": {
     "model_module": "@jupyter-widgets/controls",
     "model_module_version": "1.5.0",
     "model_name": "HBoxModel",
     "state": {
      "_dom_classes": [],
      "_model_module": "@jupyter-widgets/controls",
      "_model_module_version": "1.5.0",
      "_model_name": "HBoxModel",
      "_view_count": null,
      "_view_module": "@jupyter-widgets/controls",
      "_view_module_version": "1.5.0",
      "_view_name": "HBoxView",
      "box_style": "",
      "children": [
       "IPY_MODEL_07d39640737f45c798e44324ff142bbd",
       "IPY_MODEL_2ed1f8cb866d43ee8b101b631006a3d9",
       "IPY_MODEL_16050df033654530886c403d42fd8e65"
      ],
      "layout": "IPY_MODEL_86a67a270083434c8fc78113e7b3d282"
     }
    },
    "cfa195d1bb5e4475932ce03526f4c4bc": {
     "model_module": "@jupyter-widgets/controls",
     "model_module_version": "1.5.0",
     "model_name": "HBoxModel",
     "state": {
      "_dom_classes": [],
      "_model_module": "@jupyter-widgets/controls",
      "_model_module_version": "1.5.0",
      "_model_name": "HBoxModel",
      "_view_count": null,
      "_view_module": "@jupyter-widgets/controls",
      "_view_module_version": "1.5.0",
      "_view_name": "HBoxView",
      "box_style": "",
      "children": [
       "IPY_MODEL_73f746ec6f0141aaa6868c43579f7157",
       "IPY_MODEL_c3ef361ef44b4c6cac60efb9e3bb4307",
       "IPY_MODEL_540f238b06914ae393e0c28a43a68049"
      ],
      "layout": "IPY_MODEL_093808f609a64ab7a0ecd2b9b8eb5ea7"
     }
    },
    "cfbde66000c84911b1f4f480cc867214": {
     "model_module": "@jupyter-widgets/controls",
     "model_module_version": "1.5.0",
     "model_name": "HTMLModel",
     "state": {
      "_dom_classes": [],
      "_model_module": "@jupyter-widgets/controls",
      "_model_module_version": "1.5.0",
      "_model_name": "HTMLModel",
      "_view_count": null,
      "_view_module": "@jupyter-widgets/controls",
      "_view_module_version": "1.5.0",
      "_view_name": "HTMLView",
      "description": "",
      "description_tooltip": null,
      "layout": "IPY_MODEL_ab2506dad400417ea684275a45895625",
      "placeholder": "​",
      "style": "IPY_MODEL_dfa5669b617f47e99b9fafa2b4f306ed",
      "value": "Validation DataLoader 0: 100%"
     }
    },
    "d0ef8e0e177a4e1690efadd10a423216": {
     "model_module": "@jupyter-widgets/controls",
     "model_module_version": "1.5.0",
     "model_name": "HTMLModel",
     "state": {
      "_dom_classes": [],
      "_model_module": "@jupyter-widgets/controls",
      "_model_module_version": "1.5.0",
      "_model_name": "HTMLModel",
      "_view_count": null,
      "_view_module": "@jupyter-widgets/controls",
      "_view_module_version": "1.5.0",
      "_view_name": "HTMLView",
      "description": "",
      "description_tooltip": null,
      "layout": "IPY_MODEL_4f1502872ad14951ab5b15998b3e9e37",
      "placeholder": "​",
      "style": "IPY_MODEL_c22c3ad5c52a47feb69f6a19ec9569ab",
      "value": "Validation DataLoader 0: 100%"
     }
    },
    "d4d6fadb85474c35ab183e239d81eb1a": {
     "model_module": "@jupyter-widgets/controls",
     "model_module_version": "1.5.0",
     "model_name": "HBoxModel",
     "state": {
      "_dom_classes": [],
      "_model_module": "@jupyter-widgets/controls",
      "_model_module_version": "1.5.0",
      "_model_name": "HBoxModel",
      "_view_count": null,
      "_view_module": "@jupyter-widgets/controls",
      "_view_module_version": "1.5.0",
      "_view_name": "HBoxView",
      "box_style": "",
      "children": [
       "IPY_MODEL_aea7b991a8a14ae389bda571e1633a4e",
       "IPY_MODEL_91b98fed40824513b05f5744e5a2ea0e",
       "IPY_MODEL_27481c7608d747b198ae410d574bb0c8"
      ],
      "layout": "IPY_MODEL_b7639f74280c4e22976cbac65b6f3929"
     }
    },
    "d4e3d7edb77340ff8fdf233ebf432850": {
     "model_module": "@jupyter-widgets/controls",
     "model_module_version": "1.5.0",
     "model_name": "ProgressStyleModel",
     "state": {
      "_model_module": "@jupyter-widgets/controls",
      "_model_module_version": "1.5.0",
      "_model_name": "ProgressStyleModel",
      "_view_count": null,
      "_view_module": "@jupyter-widgets/base",
      "_view_module_version": "1.2.0",
      "_view_name": "StyleView",
      "bar_color": null,
      "description_width": ""
     }
    },
    "d6e412318c9f45b0bfcfb6dca8ee3403": {
     "model_module": "@jupyter-widgets/base",
     "model_module_version": "1.2.0",
     "model_name": "LayoutModel",
     "state": {
      "_model_module": "@jupyter-widgets/base",
      "_model_module_version": "1.2.0",
      "_model_name": "LayoutModel",
      "_view_count": null,
      "_view_module": "@jupyter-widgets/base",
      "_view_module_version": "1.2.0",
      "_view_name": "LayoutView",
      "align_content": null,
      "align_items": null,
      "align_self": null,
      "border": null,
      "bottom": null,
      "display": null,
      "flex": null,
      "flex_flow": null,
      "grid_area": null,
      "grid_auto_columns": null,
      "grid_auto_flow": null,
      "grid_auto_rows": null,
      "grid_column": null,
      "grid_gap": null,
      "grid_row": null,
      "grid_template_areas": null,
      "grid_template_columns": null,
      "grid_template_rows": null,
      "height": null,
      "justify_content": null,
      "justify_items": null,
      "left": null,
      "margin": null,
      "max_height": null,
      "max_width": null,
      "min_height": null,
      "min_width": null,
      "object_fit": null,
      "object_position": null,
      "order": null,
      "overflow": null,
      "overflow_x": null,
      "overflow_y": null,
      "padding": null,
      "right": null,
      "top": null,
      "visibility": null,
      "width": null
     }
    },
    "d93bebd5298e464c929c00152cfda57f": {
     "model_module": "@jupyter-widgets/controls",
     "model_module_version": "1.5.0",
     "model_name": "HTMLModel",
     "state": {
      "_dom_classes": [],
      "_model_module": "@jupyter-widgets/controls",
      "_model_module_version": "1.5.0",
      "_model_name": "HTMLModel",
      "_view_count": null,
      "_view_module": "@jupyter-widgets/controls",
      "_view_module_version": "1.5.0",
      "_view_name": "HTMLView",
      "description": "",
      "description_tooltip": null,
      "layout": "IPY_MODEL_d6e412318c9f45b0bfcfb6dca8ee3403",
      "placeholder": "​",
      "style": "IPY_MODEL_b729c2b37b244d3e87bcef97be603946",
      "value": " 11/11 [00:02&lt;00:00,  4.80it/s]"
     }
    },
    "da2a71157044483d852b53a1998df9b6": {
     "model_module": "@jupyter-widgets/controls",
     "model_module_version": "1.5.0",
     "model_name": "HBoxModel",
     "state": {
      "_dom_classes": [],
      "_model_module": "@jupyter-widgets/controls",
      "_model_module_version": "1.5.0",
      "_model_name": "HBoxModel",
      "_view_count": null,
      "_view_module": "@jupyter-widgets/controls",
      "_view_module_version": "1.5.0",
      "_view_name": "HBoxView",
      "box_style": "",
      "children": [
       "IPY_MODEL_4fd20e6f302648fdbf1a4fecd43f644d",
       "IPY_MODEL_91ac6de87c10462499d965c4740409d4",
       "IPY_MODEL_d93bebd5298e464c929c00152cfda57f"
      ],
      "layout": "IPY_MODEL_bddec686549a488cb43692df2fb0b93d"
     }
    },
    "db1798d01367417c8e093d036a6ca4e4": {
     "model_module": "@jupyter-widgets/base",
     "model_module_version": "1.2.0",
     "model_name": "LayoutModel",
     "state": {
      "_model_module": "@jupyter-widgets/base",
      "_model_module_version": "1.2.0",
      "_model_name": "LayoutModel",
      "_view_count": null,
      "_view_module": "@jupyter-widgets/base",
      "_view_module_version": "1.2.0",
      "_view_name": "LayoutView",
      "align_content": null,
      "align_items": null,
      "align_self": null,
      "border": null,
      "bottom": null,
      "display": "inline-flex",
      "flex": null,
      "flex_flow": "row wrap",
      "grid_area": null,
      "grid_auto_columns": null,
      "grid_auto_flow": null,
      "grid_auto_rows": null,
      "grid_column": null,
      "grid_gap": null,
      "grid_row": null,
      "grid_template_areas": null,
      "grid_template_columns": null,
      "grid_template_rows": null,
      "height": null,
      "justify_content": null,
      "justify_items": null,
      "left": null,
      "margin": null,
      "max_height": null,
      "max_width": null,
      "min_height": null,
      "min_width": null,
      "object_fit": null,
      "object_position": null,
      "order": null,
      "overflow": null,
      "overflow_x": null,
      "overflow_y": null,
      "padding": null,
      "right": null,
      "top": null,
      "visibility": "hidden",
      "width": "100%"
     }
    },
    "de90edcbd8d5457da6ac9afd9c89a137": {
     "model_module": "@jupyter-widgets/base",
     "model_module_version": "1.2.0",
     "model_name": "LayoutModel",
     "state": {
      "_model_module": "@jupyter-widgets/base",
      "_model_module_version": "1.2.0",
      "_model_name": "LayoutModel",
      "_view_count": null,
      "_view_module": "@jupyter-widgets/base",
      "_view_module_version": "1.2.0",
      "_view_name": "LayoutView",
      "align_content": null,
      "align_items": null,
      "align_self": null,
      "border": null,
      "bottom": null,
      "display": null,
      "flex": null,
      "flex_flow": null,
      "grid_area": null,
      "grid_auto_columns": null,
      "grid_auto_flow": null,
      "grid_auto_rows": null,
      "grid_column": null,
      "grid_gap": null,
      "grid_row": null,
      "grid_template_areas": null,
      "grid_template_columns": null,
      "grid_template_rows": null,
      "height": null,
      "justify_content": null,
      "justify_items": null,
      "left": null,
      "margin": null,
      "max_height": null,
      "max_width": null,
      "min_height": null,
      "min_width": null,
      "object_fit": null,
      "object_position": null,
      "order": null,
      "overflow": null,
      "overflow_x": null,
      "overflow_y": null,
      "padding": null,
      "right": null,
      "top": null,
      "visibility": null,
      "width": null
     }
    },
    "dfa5669b617f47e99b9fafa2b4f306ed": {
     "model_module": "@jupyter-widgets/controls",
     "model_module_version": "1.5.0",
     "model_name": "DescriptionStyleModel",
     "state": {
      "_model_module": "@jupyter-widgets/controls",
      "_model_module_version": "1.5.0",
      "_model_name": "DescriptionStyleModel",
      "_view_count": null,
      "_view_module": "@jupyter-widgets/base",
      "_view_module_version": "1.2.0",
      "_view_name": "StyleView",
      "description_width": ""
     }
    },
    "e28277fca3eb4d76a41b39f09b105426": {
     "model_module": "@jupyter-widgets/controls",
     "model_module_version": "1.5.0",
     "model_name": "FloatProgressModel",
     "state": {
      "_dom_classes": [],
      "_model_module": "@jupyter-widgets/controls",
      "_model_module_version": "1.5.0",
      "_model_name": "FloatProgressModel",
      "_view_count": null,
      "_view_module": "@jupyter-widgets/controls",
      "_view_module_version": "1.5.0",
      "_view_name": "ProgressView",
      "bar_style": "",
      "description": "",
      "description_tooltip": null,
      "layout": "IPY_MODEL_a22a9b9e623e48f5a208b74299475f63",
      "max": 11,
      "min": 0,
      "orientation": "horizontal",
      "style": "IPY_MODEL_7f09abac50b84846b5f1904503978905",
      "value": 11
     }
    },
    "e416dd8a758a4719bbe844a5f6c8ec34": {
     "model_module": "@jupyter-widgets/controls",
     "model_module_version": "1.5.0",
     "model_name": "FloatProgressModel",
     "state": {
      "_dom_classes": [],
      "_model_module": "@jupyter-widgets/controls",
      "_model_module_version": "1.5.0",
      "_model_name": "FloatProgressModel",
      "_view_count": null,
      "_view_module": "@jupyter-widgets/controls",
      "_view_module_version": "1.5.0",
      "_view_name": "ProgressView",
      "bar_style": "",
      "description": "",
      "description_tooltip": null,
      "layout": "IPY_MODEL_2ab8e7ba514044d282b2d595787161e4",
      "max": 11,
      "min": 0,
      "orientation": "horizontal",
      "style": "IPY_MODEL_38d9dbd8dc9246a7a41331a72a1d2fe4",
      "value": 11
     }
    },
    "e80f2d2f554e4130969e1c8e3ce649e6": {
     "model_module": "@jupyter-widgets/controls",
     "model_module_version": "1.5.0",
     "model_name": "HTMLModel",
     "state": {
      "_dom_classes": [],
      "_model_module": "@jupyter-widgets/controls",
      "_model_module_version": "1.5.0",
      "_model_name": "HTMLModel",
      "_view_count": null,
      "_view_module": "@jupyter-widgets/controls",
      "_view_module_version": "1.5.0",
      "_view_name": "HTMLView",
      "description": "",
      "description_tooltip": null,
      "layout": "IPY_MODEL_1290f72e5bd34bd794ff0e4c7a9f4a1b",
      "placeholder": "​",
      "style": "IPY_MODEL_bff4bd71afa34bfdacf14f78f0ca67c8",
      "value": "Sanity Checking DataLoader 0: 100%"
     }
    },
    "e9304aa595f14455809256ef37bfd74a": {
     "model_module": "@jupyter-widgets/base",
     "model_module_version": "1.2.0",
     "model_name": "LayoutModel",
     "state": {
      "_model_module": "@jupyter-widgets/base",
      "_model_module_version": "1.2.0",
      "_model_name": "LayoutModel",
      "_view_count": null,
      "_view_module": "@jupyter-widgets/base",
      "_view_module_version": "1.2.0",
      "_view_name": "LayoutView",
      "align_content": null,
      "align_items": null,
      "align_self": null,
      "border": null,
      "bottom": null,
      "display": null,
      "flex": "2",
      "flex_flow": null,
      "grid_area": null,
      "grid_auto_columns": null,
      "grid_auto_flow": null,
      "grid_auto_rows": null,
      "grid_column": null,
      "grid_gap": null,
      "grid_row": null,
      "grid_template_areas": null,
      "grid_template_columns": null,
      "grid_template_rows": null,
      "height": null,
      "justify_content": null,
      "justify_items": null,
      "left": null,
      "margin": null,
      "max_height": null,
      "max_width": null,
      "min_height": null,
      "min_width": null,
      "object_fit": null,
      "object_position": null,
      "order": null,
      "overflow": null,
      "overflow_x": null,
      "overflow_y": null,
      "padding": null,
      "right": null,
      "top": null,
      "visibility": null,
      "width": null
     }
    },
    "ea51b8b03b4c492ca96e383300ffe821": {
     "model_module": "@jupyter-widgets/controls",
     "model_module_version": "1.5.0",
     "model_name": "ProgressStyleModel",
     "state": {
      "_model_module": "@jupyter-widgets/controls",
      "_model_module_version": "1.5.0",
      "_model_name": "ProgressStyleModel",
      "_view_count": null,
      "_view_module": "@jupyter-widgets/base",
      "_view_module_version": "1.2.0",
      "_view_name": "StyleView",
      "bar_color": null,
      "description_width": ""
     }
    },
    "ec16b197bf324930a5b4360994dca1f9": {
     "model_module": "@jupyter-widgets/base",
     "model_module_version": "1.2.0",
     "model_name": "LayoutModel",
     "state": {
      "_model_module": "@jupyter-widgets/base",
      "_model_module_version": "1.2.0",
      "_model_name": "LayoutModel",
      "_view_count": null,
      "_view_module": "@jupyter-widgets/base",
      "_view_module_version": "1.2.0",
      "_view_name": "LayoutView",
      "align_content": null,
      "align_items": null,
      "align_self": null,
      "border": null,
      "bottom": null,
      "display": null,
      "flex": null,
      "flex_flow": null,
      "grid_area": null,
      "grid_auto_columns": null,
      "grid_auto_flow": null,
      "grid_auto_rows": null,
      "grid_column": null,
      "grid_gap": null,
      "grid_row": null,
      "grid_template_areas": null,
      "grid_template_columns": null,
      "grid_template_rows": null,
      "height": null,
      "justify_content": null,
      "justify_items": null,
      "left": null,
      "margin": null,
      "max_height": null,
      "max_width": null,
      "min_height": null,
      "min_width": null,
      "object_fit": null,
      "object_position": null,
      "order": null,
      "overflow": null,
      "overflow_x": null,
      "overflow_y": null,
      "padding": null,
      "right": null,
      "top": null,
      "visibility": null,
      "width": null
     }
    },
    "edd13473d92644ca8dd9b9a99c72535a": {
     "model_module": "@jupyter-widgets/base",
     "model_module_version": "1.2.0",
     "model_name": "LayoutModel",
     "state": {
      "_model_module": "@jupyter-widgets/base",
      "_model_module_version": "1.2.0",
      "_model_name": "LayoutModel",
      "_view_count": null,
      "_view_module": "@jupyter-widgets/base",
      "_view_module_version": "1.2.0",
      "_view_name": "LayoutView",
      "align_content": null,
      "align_items": null,
      "align_self": null,
      "border": null,
      "bottom": null,
      "display": null,
      "flex": null,
      "flex_flow": null,
      "grid_area": null,
      "grid_auto_columns": null,
      "grid_auto_flow": null,
      "grid_auto_rows": null,
      "grid_column": null,
      "grid_gap": null,
      "grid_row": null,
      "grid_template_areas": null,
      "grid_template_columns": null,
      "grid_template_rows": null,
      "height": null,
      "justify_content": null,
      "justify_items": null,
      "left": null,
      "margin": null,
      "max_height": null,
      "max_width": null,
      "min_height": null,
      "min_width": null,
      "object_fit": null,
      "object_position": null,
      "order": null,
      "overflow": null,
      "overflow_x": null,
      "overflow_y": null,
      "padding": null,
      "right": null,
      "top": null,
      "visibility": null,
      "width": null
     }
    },
    "ee087d12039c4e8f91ce39ebc2c4b527": {
     "model_module": "@jupyter-widgets/controls",
     "model_module_version": "1.5.0",
     "model_name": "DescriptionStyleModel",
     "state": {
      "_model_module": "@jupyter-widgets/controls",
      "_model_module_version": "1.5.0",
      "_model_name": "DescriptionStyleModel",
      "_view_count": null,
      "_view_module": "@jupyter-widgets/base",
      "_view_module_version": "1.2.0",
      "_view_name": "StyleView",
      "description_width": ""
     }
    },
    "f6b8deefd9b645ce88042a98b2a18e50": {
     "model_module": "@jupyter-widgets/base",
     "model_module_version": "1.2.0",
     "model_name": "LayoutModel",
     "state": {
      "_model_module": "@jupyter-widgets/base",
      "_model_module_version": "1.2.0",
      "_model_name": "LayoutModel",
      "_view_count": null,
      "_view_module": "@jupyter-widgets/base",
      "_view_module_version": "1.2.0",
      "_view_name": "LayoutView",
      "align_content": null,
      "align_items": null,
      "align_self": null,
      "border": null,
      "bottom": null,
      "display": null,
      "flex": null,
      "flex_flow": null,
      "grid_area": null,
      "grid_auto_columns": null,
      "grid_auto_flow": null,
      "grid_auto_rows": null,
      "grid_column": null,
      "grid_gap": null,
      "grid_row": null,
      "grid_template_areas": null,
      "grid_template_columns": null,
      "grid_template_rows": null,
      "height": null,
      "justify_content": null,
      "justify_items": null,
      "left": null,
      "margin": null,
      "max_height": null,
      "max_width": null,
      "min_height": null,
      "min_width": null,
      "object_fit": null,
      "object_position": null,
      "order": null,
      "overflow": null,
      "overflow_x": null,
      "overflow_y": null,
      "padding": null,
      "right": null,
      "top": null,
      "visibility": null,
      "width": null
     }
    },
    "f6cde647a13d4f3a96c7817981aa7875": {
     "model_module": "@jupyter-widgets/controls",
     "model_module_version": "1.5.0",
     "model_name": "ProgressStyleModel",
     "state": {
      "_model_module": "@jupyter-widgets/controls",
      "_model_module_version": "1.5.0",
      "_model_name": "ProgressStyleModel",
      "_view_count": null,
      "_view_module": "@jupyter-widgets/base",
      "_view_module_version": "1.2.0",
      "_view_name": "StyleView",
      "bar_color": null,
      "description_width": ""
     }
    },
    "f7c671af8e7c4a9789f1455320749b6a": {
     "model_module": "@jupyter-widgets/controls",
     "model_module_version": "1.5.0",
     "model_name": "DescriptionStyleModel",
     "state": {
      "_model_module": "@jupyter-widgets/controls",
      "_model_module_version": "1.5.0",
      "_model_name": "DescriptionStyleModel",
      "_view_count": null,
      "_view_module": "@jupyter-widgets/base",
      "_view_module_version": "1.2.0",
      "_view_name": "StyleView",
      "description_width": ""
     }
    },
    "f8f9bdd0a43b4341a05bd851f8520d7a": {
     "model_module": "@jupyter-widgets/controls",
     "model_module_version": "1.5.0",
     "model_name": "FloatProgressModel",
     "state": {
      "_dom_classes": [],
      "_model_module": "@jupyter-widgets/controls",
      "_model_module_version": "1.5.0",
      "_model_name": "FloatProgressModel",
      "_view_count": null,
      "_view_module": "@jupyter-widgets/controls",
      "_view_module_version": "1.5.0",
      "_view_name": "ProgressView",
      "bar_style": "",
      "description": "",
      "description_tooltip": null,
      "layout": "IPY_MODEL_73b1bfbd31494433b8eafc9a017daeb3",
      "max": 2,
      "min": 0,
      "orientation": "horizontal",
      "style": "IPY_MODEL_581331db6398487cbf786f871c72fb2f",
      "value": 2
     }
    },
    "f9021d24692444df91d19d48f667bf2d": {
     "model_module": "@jupyter-widgets/base",
     "model_module_version": "1.2.0",
     "model_name": "LayoutModel",
     "state": {
      "_model_module": "@jupyter-widgets/base",
      "_model_module_version": "1.2.0",
      "_model_name": "LayoutModel",
      "_view_count": null,
      "_view_module": "@jupyter-widgets/base",
      "_view_module_version": "1.2.0",
      "_view_name": "LayoutView",
      "align_content": null,
      "align_items": null,
      "align_self": null,
      "border": null,
      "bottom": null,
      "display": null,
      "flex": null,
      "flex_flow": null,
      "grid_area": null,
      "grid_auto_columns": null,
      "grid_auto_flow": null,
      "grid_auto_rows": null,
      "grid_column": null,
      "grid_gap": null,
      "grid_row": null,
      "grid_template_areas": null,
      "grid_template_columns": null,
      "grid_template_rows": null,
      "height": null,
      "justify_content": null,
      "justify_items": null,
      "left": null,
      "margin": null,
      "max_height": null,
      "max_width": null,
      "min_height": null,
      "min_width": null,
      "object_fit": null,
      "object_position": null,
      "order": null,
      "overflow": null,
      "overflow_x": null,
      "overflow_y": null,
      "padding": null,
      "right": null,
      "top": null,
      "visibility": null,
      "width": null
     }
    },
    "fb7f5d9c99e94f4db33e4a418d2c2c38": {
     "model_module": "@jupyter-widgets/controls",
     "model_module_version": "1.5.0",
     "model_name": "DescriptionStyleModel",
     "state": {
      "_model_module": "@jupyter-widgets/controls",
      "_model_module_version": "1.5.0",
      "_model_name": "DescriptionStyleModel",
      "_view_count": null,
      "_view_module": "@jupyter-widgets/base",
      "_view_module_version": "1.2.0",
      "_view_name": "StyleView",
      "description_width": ""
     }
    },
    "fbb49380fe934d49ab82b727209906f3": {
     "model_module": "@jupyter-widgets/base",
     "model_module_version": "1.2.0",
     "model_name": "LayoutModel",
     "state": {
      "_model_module": "@jupyter-widgets/base",
      "_model_module_version": "1.2.0",
      "_model_name": "LayoutModel",
      "_view_count": null,
      "_view_module": "@jupyter-widgets/base",
      "_view_module_version": "1.2.0",
      "_view_name": "LayoutView",
      "align_content": null,
      "align_items": null,
      "align_self": null,
      "border": null,
      "bottom": null,
      "display": null,
      "flex": "2",
      "flex_flow": null,
      "grid_area": null,
      "grid_auto_columns": null,
      "grid_auto_flow": null,
      "grid_auto_rows": null,
      "grid_column": null,
      "grid_gap": null,
      "grid_row": null,
      "grid_template_areas": null,
      "grid_template_columns": null,
      "grid_template_rows": null,
      "height": null,
      "justify_content": null,
      "justify_items": null,
      "left": null,
      "margin": null,
      "max_height": null,
      "max_width": null,
      "min_height": null,
      "min_width": null,
      "object_fit": null,
      "object_position": null,
      "order": null,
      "overflow": null,
      "overflow_x": null,
      "overflow_y": null,
      "padding": null,
      "right": null,
      "top": null,
      "visibility": null,
      "width": null
     }
    },
    "fbc527f7f26e46ba8d4c6a323e475db9": {
     "model_module": "@jupyter-widgets/base",
     "model_module_version": "1.2.0",
     "model_name": "LayoutModel",
     "state": {
      "_model_module": "@jupyter-widgets/base",
      "_model_module_version": "1.2.0",
      "_model_name": "LayoutModel",
      "_view_count": null,
      "_view_module": "@jupyter-widgets/base",
      "_view_module_version": "1.2.0",
      "_view_name": "LayoutView",
      "align_content": null,
      "align_items": null,
      "align_self": null,
      "border": null,
      "bottom": null,
      "display": null,
      "flex": null,
      "flex_flow": null,
      "grid_area": null,
      "grid_auto_columns": null,
      "grid_auto_flow": null,
      "grid_auto_rows": null,
      "grid_column": null,
      "grid_gap": null,
      "grid_row": null,
      "grid_template_areas": null,
      "grid_template_columns": null,
      "grid_template_rows": null,
      "height": null,
      "justify_content": null,
      "justify_items": null,
      "left": null,
      "margin": null,
      "max_height": null,
      "max_width": null,
      "min_height": null,
      "min_width": null,
      "object_fit": null,
      "object_position": null,
      "order": null,
      "overflow": null,
      "overflow_x": null,
      "overflow_y": null,
      "padding": null,
      "right": null,
      "top": null,
      "visibility": null,
      "width": null
     }
    },
    "fce38fd2c3dc4db7bfb2e1f814003722": {
     "model_module": "@jupyter-widgets/base",
     "model_module_version": "1.2.0",
     "model_name": "LayoutModel",
     "state": {
      "_model_module": "@jupyter-widgets/base",
      "_model_module_version": "1.2.0",
      "_model_name": "LayoutModel",
      "_view_count": null,
      "_view_module": "@jupyter-widgets/base",
      "_view_module_version": "1.2.0",
      "_view_name": "LayoutView",
      "align_content": null,
      "align_items": null,
      "align_self": null,
      "border": null,
      "bottom": null,
      "display": null,
      "flex": "2",
      "flex_flow": null,
      "grid_area": null,
      "grid_auto_columns": null,
      "grid_auto_flow": null,
      "grid_auto_rows": null,
      "grid_column": null,
      "grid_gap": null,
      "grid_row": null,
      "grid_template_areas": null,
      "grid_template_columns": null,
      "grid_template_rows": null,
      "height": null,
      "justify_content": null,
      "justify_items": null,
      "left": null,
      "margin": null,
      "max_height": null,
      "max_width": null,
      "min_height": null,
      "min_width": null,
      "object_fit": null,
      "object_position": null,
      "order": null,
      "overflow": null,
      "overflow_x": null,
      "overflow_y": null,
      "padding": null,
      "right": null,
      "top": null,
      "visibility": null,
      "width": null
     }
    },
    "fe3c136be1144401bb413b1d828e795d": {
     "model_module": "@jupyter-widgets/controls",
     "model_module_version": "1.5.0",
     "model_name": "DescriptionStyleModel",
     "state": {
      "_model_module": "@jupyter-widgets/controls",
      "_model_module_version": "1.5.0",
      "_model_name": "DescriptionStyleModel",
      "_view_count": null,
      "_view_module": "@jupyter-widgets/base",
      "_view_module_version": "1.2.0",
      "_view_name": "StyleView",
      "description_width": ""
     }
    },
    "feb6ff4f570740789be146d9f6b99e63": {
     "model_module": "@jupyter-widgets/base",
     "model_module_version": "1.2.0",
     "model_name": "LayoutModel",
     "state": {
      "_model_module": "@jupyter-widgets/base",
      "_model_module_version": "1.2.0",
      "_model_name": "LayoutModel",
      "_view_count": null,
      "_view_module": "@jupyter-widgets/base",
      "_view_module_version": "1.2.0",
      "_view_name": "LayoutView",
      "align_content": null,
      "align_items": null,
      "align_self": null,
      "border": null,
      "bottom": null,
      "display": null,
      "flex": "2",
      "flex_flow": null,
      "grid_area": null,
      "grid_auto_columns": null,
      "grid_auto_flow": null,
      "grid_auto_rows": null,
      "grid_column": null,
      "grid_gap": null,
      "grid_row": null,
      "grid_template_areas": null,
      "grid_template_columns": null,
      "grid_template_rows": null,
      "height": null,
      "justify_content": null,
      "justify_items": null,
      "left": null,
      "margin": null,
      "max_height": null,
      "max_width": null,
      "min_height": null,
      "min_width": null,
      "object_fit": null,
      "object_position": null,
      "order": null,
      "overflow": null,
      "overflow_x": null,
      "overflow_y": null,
      "padding": null,
      "right": null,
      "top": null,
      "visibility": null,
      "width": null
     }
    },
    "fff44263c51e47a9b123f2ce94c65b85": {
     "model_module": "@jupyter-widgets/controls",
     "model_module_version": "1.5.0",
     "model_name": "DescriptionStyleModel",
     "state": {
      "_model_module": "@jupyter-widgets/controls",
      "_model_module_version": "1.5.0",
      "_model_name": "DescriptionStyleModel",
      "_view_count": null,
      "_view_module": "@jupyter-widgets/base",
      "_view_module_version": "1.2.0",
      "_view_name": "StyleView",
      "description_width": ""
     }
    }
   }
  }
 },
 "nbformat": 4,
 "nbformat_minor": 4
}
